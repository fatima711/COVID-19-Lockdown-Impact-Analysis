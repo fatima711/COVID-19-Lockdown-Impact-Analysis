{
  "nbformat": 4,
  "nbformat_minor": 0,
  "metadata": {
    "colab": {
      "name": "Lockdown Impact Analysis.ipynb",
      "provenance": [],
      "collapsed_sections": [],
      "toc_visible": true
    },
    "kernelspec": {
      "name": "python3",
      "display_name": "Python 3"
    }
  },
  "cells": [
    {
      "cell_type": "markdown",
      "metadata": {
        "id": "m0jS-BQ0Sagc",
        "colab_type": "text"
      },
      "source": [
        "# **Data Analysis of Covid-19 Lockdown impact on daily movement**"
      ]
    },
    {
      "cell_type": "markdown",
      "metadata": {
        "id": "SPEOOazMS557",
        "colab_type": "text"
      },
      "source": [
        "In this notebook, we will be analysing the impact of Covid-19 Lockdown on daily movement in our Country using Google Community Mobility data. We will be using Pandas and Plotly to perform the analysis."
      ]
    },
    {
      "cell_type": "markdown",
      "metadata": {
        "id": "G2wXEk5TV4F4",
        "colab_type": "text"
      },
      "source": [
        "The data shows how visitors to (or time spent in) categorized places change compared to our baseline days. A baseline day represents a normal value for that day of the week. The baseline day is the median value from the 5‑week period Jan 3 – Feb 6, 2020.\n",
        "\n",
        "For each region-category, the baseline isn’t a single value—it’s 7 individual values. The same number of visitors on 2 different days of the week, result in different percentage changes"
      ]
    },
    {
      "cell_type": "markdown",
      "metadata": {
        "id": "Ee3RL3UTWIKD",
        "colab_type": "text"
      },
      "source": [
        "**Place categories** <br>\n",
        "To make the reports useful, we use categories to group some of the places with similar characteristics for purposes of social distancing guidance. For example, we combine grocery and pharmacy as these tend to be considered essential trips."
      ]
    },
    {
      "cell_type": "markdown",
      "metadata": {
        "id": "e-5lGB8SWJo5",
        "colab_type": "text"
      },
      "source": [
        "lacEach high-level category contains many types of places—some might not be obvious. The following table shows just some of the wide range of places included in 2 example categories:\n",
        "\n",
        "**Parks**\n",
        "1. Public garden\t\n",
        "2. Castle\t\n",
        "3. National forest\t\n",
        "\n",
        "**Transit Stations**\n",
        "1. Subway station\n",
        "2. Sea Port\n",
        "3. Car Rental Agency\n",
        "4. Taxi stand"
      ]
    },
    {
      "cell_type": "code",
      "metadata": {
        "id": "gp8Y_q8QBIaN",
        "colab_type": "code",
        "colab": {}
      },
      "source": [
        "import pandas as pd\n",
        "pd.options.mode.chained_assignment = None  # default='warn'\n",
        "\n",
        "import plotly.express as px\n",
        "import plotly.graph_objects as go\n",
        "import seaborn as sns\n",
        "import matplotlib.pyplot as plt"
      ],
      "execution_count": 26,
      "outputs": []
    },
    {
      "cell_type": "markdown",
      "metadata": {
        "id": "PXFAvKJHTrDm",
        "colab_type": "text"
      },
      "source": [
        "## **Data Collection and Cleaning**"
      ]
    },
    {
      "cell_type": "code",
      "metadata": {
        "id": "E9COcNTXLpPk",
        "colab_type": "code",
        "colab": {
          "base_uri": "https://localhost:8080/",
          "height": 85
        },
        "outputId": "3ec054cf-5b68-4ca3-96ef-ba9270f0c854"
      },
      "source": [
        "df = pd.read_csv(\"/content/drive/My Drive/Colab Notebooks/Global_Mobility_Report.csv\")"
      ],
      "execution_count": 27,
      "outputs": [
        {
          "output_type": "stream",
          "text": [
            "/usr/local/lib/python3.6/dist-packages/IPython/core/interactiveshell.py:2718: DtypeWarning:\n",
            "\n",
            "Columns (3) have mixed types.Specify dtype option on import or set low_memory=False.\n",
            "\n"
          ],
          "name": "stderr"
        }
      ]
    },
    {
      "cell_type": "code",
      "metadata": {
        "id": "AD8vzNtqPWCp",
        "colab_type": "code",
        "colab": {
          "base_uri": "https://localhost:8080/",
          "height": 357
        },
        "outputId": "ba91cd92-8064-4b6e-8c74-4d5723a0e68e"
      },
      "source": [
        "df.info()"
      ],
      "execution_count": 28,
      "outputs": [
        {
          "output_type": "stream",
          "text": [
            "<class 'pandas.core.frame.DataFrame'>\n",
            "RangeIndex: 713528 entries, 0 to 713527\n",
            "Data columns (total 13 columns):\n",
            " #   Column                                              Non-Null Count   Dtype  \n",
            "---  ------                                              --------------   -----  \n",
            " 0   country_region_code                                 712300 non-null  object \n",
            " 1   country_region                                      713528 non-null  object \n",
            " 2   sub_region_1                                        692333 non-null  object \n",
            " 3   sub_region_2                                        411846 non-null  object \n",
            " 4   iso_3166_2_code                                     259388 non-null  object \n",
            " 5   census_fips_code                                    412004 non-null  float64\n",
            " 6   date                                                713528 non-null  object \n",
            " 7   retail_and_recreation_percent_change_from_baseline  541883 non-null  float64\n",
            " 8   grocery_and_pharmacy_percent_change_from_baseline   516582 non-null  float64\n",
            " 9   parks_percent_change_from_baseline                  321373 non-null  float64\n",
            " 10  transit_stations_percent_change_from_baseline       379178 non-null  float64\n",
            " 11  workplaces_percent_change_from_baseline             698191 non-null  float64\n",
            " 12  residential_percent_change_from_baseline            397356 non-null  float64\n",
            "dtypes: float64(7), object(6)\n",
            "memory usage: 70.8+ MB\n"
          ],
          "name": "stdout"
        }
      ]
    },
    {
      "cell_type": "code",
      "metadata": {
        "id": "zb_N0lWhPYOu",
        "colab_type": "code",
        "colab": {
          "base_uri": "https://localhost:8080/",
          "height": 309
        },
        "outputId": "ac05c3ba-c491-4a5f-c2a3-73d1097eaaec"
      },
      "source": [
        "df.head()"
      ],
      "execution_count": 29,
      "outputs": [
        {
          "output_type": "execute_result",
          "data": {
            "text/html": [
              "<div>\n",
              "<style scoped>\n",
              "    .dataframe tbody tr th:only-of-type {\n",
              "        vertical-align: middle;\n",
              "    }\n",
              "\n",
              "    .dataframe tbody tr th {\n",
              "        vertical-align: top;\n",
              "    }\n",
              "\n",
              "    .dataframe thead th {\n",
              "        text-align: right;\n",
              "    }\n",
              "</style>\n",
              "<table border=\"1\" class=\"dataframe\">\n",
              "  <thead>\n",
              "    <tr style=\"text-align: right;\">\n",
              "      <th></th>\n",
              "      <th>country_region_code</th>\n",
              "      <th>country_region</th>\n",
              "      <th>sub_region_1</th>\n",
              "      <th>sub_region_2</th>\n",
              "      <th>iso_3166_2_code</th>\n",
              "      <th>census_fips_code</th>\n",
              "      <th>date</th>\n",
              "      <th>retail_and_recreation_percent_change_from_baseline</th>\n",
              "      <th>grocery_and_pharmacy_percent_change_from_baseline</th>\n",
              "      <th>parks_percent_change_from_baseline</th>\n",
              "      <th>transit_stations_percent_change_from_baseline</th>\n",
              "      <th>workplaces_percent_change_from_baseline</th>\n",
              "      <th>residential_percent_change_from_baseline</th>\n",
              "    </tr>\n",
              "  </thead>\n",
              "  <tbody>\n",
              "    <tr>\n",
              "      <th>0</th>\n",
              "      <td>AE</td>\n",
              "      <td>United Arab Emirates</td>\n",
              "      <td>NaN</td>\n",
              "      <td>NaN</td>\n",
              "      <td>NaN</td>\n",
              "      <td>NaN</td>\n",
              "      <td>2020-02-15</td>\n",
              "      <td>0.0</td>\n",
              "      <td>4.0</td>\n",
              "      <td>5.0</td>\n",
              "      <td>0.0</td>\n",
              "      <td>2.0</td>\n",
              "      <td>1.0</td>\n",
              "    </tr>\n",
              "    <tr>\n",
              "      <th>1</th>\n",
              "      <td>AE</td>\n",
              "      <td>United Arab Emirates</td>\n",
              "      <td>NaN</td>\n",
              "      <td>NaN</td>\n",
              "      <td>NaN</td>\n",
              "      <td>NaN</td>\n",
              "      <td>2020-02-16</td>\n",
              "      <td>1.0</td>\n",
              "      <td>4.0</td>\n",
              "      <td>4.0</td>\n",
              "      <td>1.0</td>\n",
              "      <td>2.0</td>\n",
              "      <td>1.0</td>\n",
              "    </tr>\n",
              "    <tr>\n",
              "      <th>2</th>\n",
              "      <td>AE</td>\n",
              "      <td>United Arab Emirates</td>\n",
              "      <td>NaN</td>\n",
              "      <td>NaN</td>\n",
              "      <td>NaN</td>\n",
              "      <td>NaN</td>\n",
              "      <td>2020-02-17</td>\n",
              "      <td>-1.0</td>\n",
              "      <td>1.0</td>\n",
              "      <td>5.0</td>\n",
              "      <td>1.0</td>\n",
              "      <td>2.0</td>\n",
              "      <td>1.0</td>\n",
              "    </tr>\n",
              "    <tr>\n",
              "      <th>3</th>\n",
              "      <td>AE</td>\n",
              "      <td>United Arab Emirates</td>\n",
              "      <td>NaN</td>\n",
              "      <td>NaN</td>\n",
              "      <td>NaN</td>\n",
              "      <td>NaN</td>\n",
              "      <td>2020-02-18</td>\n",
              "      <td>-2.0</td>\n",
              "      <td>1.0</td>\n",
              "      <td>5.0</td>\n",
              "      <td>0.0</td>\n",
              "      <td>2.0</td>\n",
              "      <td>1.0</td>\n",
              "    </tr>\n",
              "    <tr>\n",
              "      <th>4</th>\n",
              "      <td>AE</td>\n",
              "      <td>United Arab Emirates</td>\n",
              "      <td>NaN</td>\n",
              "      <td>NaN</td>\n",
              "      <td>NaN</td>\n",
              "      <td>NaN</td>\n",
              "      <td>2020-02-19</td>\n",
              "      <td>-2.0</td>\n",
              "      <td>0.0</td>\n",
              "      <td>4.0</td>\n",
              "      <td>-1.0</td>\n",
              "      <td>2.0</td>\n",
              "      <td>1.0</td>\n",
              "    </tr>\n",
              "  </tbody>\n",
              "</table>\n",
              "</div>"
            ],
            "text/plain": [
              "  country_region_code  ... residential_percent_change_from_baseline\n",
              "0                  AE  ...                                      1.0\n",
              "1                  AE  ...                                      1.0\n",
              "2                  AE  ...                                      1.0\n",
              "3                  AE  ...                                      1.0\n",
              "4                  AE  ...                                      1.0\n",
              "\n",
              "[5 rows x 13 columns]"
            ]
          },
          "metadata": {
            "tags": []
          },
          "execution_count": 29
        }
      ]
    },
    {
      "cell_type": "markdown",
      "metadata": {
        "id": "gNHv8GYmVk59",
        "colab_type": "text"
      },
      "source": [
        "We can observe that there are stats from February 15th to July 21st for each country and each state in that country."
      ]
    },
    {
      "cell_type": "code",
      "metadata": {
        "id": "mOlKS5fzYCMw",
        "colab_type": "code",
        "colab": {}
      },
      "source": [
        "df= df.rename(columns={\"sub_region_1\":\"State\",\"retail_and_recreation_percent_change_from_baseline\":\"Recreation\",\"grocery_and_pharmacy_percent_change_from_baseline\":\"Grocery_and_Pharmacy\",\"parks_percent_change_from_baseline\":\"Parks\",\"transit_stations_percent_change_from_baseline\":\"Transit_stations\",\t\"workplaces_percent_change_from_baseline\":\"Workplaces\",\t\"residential_percent_change_from_baseline\":\"Residential\"})"
      ],
      "execution_count": 30,
      "outputs": []
    },
    {
      "cell_type": "code",
      "metadata": {
        "id": "ZR6gYMcXX6YE",
        "colab_type": "code",
        "colab": {}
      },
      "source": [
        "df=df[[\"country_region\",\"State\",\"date\",\"Recreation\",\"Grocery_and_Pharmacy\",\"Parks\",\"Transit_stations\",\"Workplaces\",\"Residential\"]]"
      ],
      "execution_count": 31,
      "outputs": []
    },
    {
      "cell_type": "code",
      "metadata": {
        "id": "A4s0NHoz6WLH",
        "colab_type": "code",
        "colab": {}
      },
      "source": [
        ""
      ],
      "execution_count": 31,
      "outputs": []
    },
    {
      "cell_type": "markdown",
      "metadata": {
        "id": "TZBNSXx4UqW1",
        "colab_type": "text"
      },
      "source": [
        "### **Extracting only our country's stats**"
      ]
    },
    {
      "cell_type": "markdown",
      "metadata": {
        "id": "9igMf0jUUxcr",
        "colab_type": "text"
      },
      "source": [
        "Let us create a separate dataframe which consists of only India's stats"
      ]
    },
    {
      "cell_type": "code",
      "metadata": {
        "id": "QT-pCLQCPldo",
        "colab_type": "code",
        "colab": {}
      },
      "source": [
        "df_india=df.loc[df[\"country_region\"]== \"India\"]"
      ],
      "execution_count": 32,
      "outputs": []
    },
    {
      "cell_type": "code",
      "metadata": {
        "id": "2aCXR6KdRr28",
        "colab_type": "code",
        "colab": {
          "base_uri": "https://localhost:8080/",
          "height": 289
        },
        "outputId": "06b97529-8c44-4ec1-c79a-efe28784edcf"
      },
      "source": [
        "df_india.info()"
      ],
      "execution_count": 33,
      "outputs": [
        {
          "output_type": "stream",
          "text": [
            "<class 'pandas.core.frame.DataFrame'>\n",
            "Int64Index: 5846 entries, 126402 to 132247\n",
            "Data columns (total 9 columns):\n",
            " #   Column                Non-Null Count  Dtype  \n",
            "---  ------                --------------  -----  \n",
            " 0   country_region        5846 non-null   object \n",
            " 1   State                 5688 non-null   object \n",
            " 2   date                  5846 non-null   object \n",
            " 3   Recreation            5688 non-null   float64\n",
            " 4   Grocery_and_Pharmacy  5555 non-null   float64\n",
            " 5   Parks                 5809 non-null   float64\n",
            " 6   Transit_stations      5669 non-null   float64\n",
            " 7   Workplaces            5846 non-null   float64\n",
            " 8   Residential           5651 non-null   float64\n",
            "dtypes: float64(6), object(3)\n",
            "memory usage: 456.7+ KB\n"
          ],
          "name": "stdout"
        }
      ]
    },
    {
      "cell_type": "code",
      "metadata": {
        "id": "GtQohn_DRyBY",
        "colab_type": "code",
        "colab": {
          "base_uri": "https://localhost:8080/",
          "height": 289
        },
        "outputId": "069b8ffa-9315-4bbe-ec7b-8384eee182f6"
      },
      "source": [
        "df_india.tail(5)"
      ],
      "execution_count": 34,
      "outputs": [
        {
          "output_type": "execute_result",
          "data": {
            "text/html": [
              "<div>\n",
              "<style scoped>\n",
              "    .dataframe tbody tr th:only-of-type {\n",
              "        vertical-align: middle;\n",
              "    }\n",
              "\n",
              "    .dataframe tbody tr th {\n",
              "        vertical-align: top;\n",
              "    }\n",
              "\n",
              "    .dataframe thead th {\n",
              "        text-align: right;\n",
              "    }\n",
              "</style>\n",
              "<table border=\"1\" class=\"dataframe\">\n",
              "  <thead>\n",
              "    <tr style=\"text-align: right;\">\n",
              "      <th></th>\n",
              "      <th>country_region</th>\n",
              "      <th>State</th>\n",
              "      <th>date</th>\n",
              "      <th>Recreation</th>\n",
              "      <th>Grocery_and_Pharmacy</th>\n",
              "      <th>Parks</th>\n",
              "      <th>Transit_stations</th>\n",
              "      <th>Workplaces</th>\n",
              "      <th>Residential</th>\n",
              "    </tr>\n",
              "  </thead>\n",
              "  <tbody>\n",
              "    <tr>\n",
              "      <th>132243</th>\n",
              "      <td>India</td>\n",
              "      <td>West Bengal</td>\n",
              "      <td>2020-07-17</td>\n",
              "      <td>-61.0</td>\n",
              "      <td>-7.0</td>\n",
              "      <td>-38.0</td>\n",
              "      <td>-43.0</td>\n",
              "      <td>-31.0</td>\n",
              "      <td>17.0</td>\n",
              "    </tr>\n",
              "    <tr>\n",
              "      <th>132244</th>\n",
              "      <td>India</td>\n",
              "      <td>West Bengal</td>\n",
              "      <td>2020-07-18</td>\n",
              "      <td>-63.0</td>\n",
              "      <td>-11.0</td>\n",
              "      <td>-42.0</td>\n",
              "      <td>-44.0</td>\n",
              "      <td>-25.0</td>\n",
              "      <td>16.0</td>\n",
              "    </tr>\n",
              "    <tr>\n",
              "      <th>132245</th>\n",
              "      <td>India</td>\n",
              "      <td>West Bengal</td>\n",
              "      <td>2020-07-19</td>\n",
              "      <td>-67.0</td>\n",
              "      <td>-15.0</td>\n",
              "      <td>-46.0</td>\n",
              "      <td>-45.0</td>\n",
              "      <td>-13.0</td>\n",
              "      <td>14.0</td>\n",
              "    </tr>\n",
              "    <tr>\n",
              "      <th>132246</th>\n",
              "      <td>India</td>\n",
              "      <td>West Bengal</td>\n",
              "      <td>2020-07-20</td>\n",
              "      <td>-63.0</td>\n",
              "      <td>-15.0</td>\n",
              "      <td>-40.0</td>\n",
              "      <td>-48.0</td>\n",
              "      <td>-34.0</td>\n",
              "      <td>18.0</td>\n",
              "    </tr>\n",
              "    <tr>\n",
              "      <th>132247</th>\n",
              "      <td>India</td>\n",
              "      <td>West Bengal</td>\n",
              "      <td>2020-07-21</td>\n",
              "      <td>-66.0</td>\n",
              "      <td>-22.0</td>\n",
              "      <td>-43.0</td>\n",
              "      <td>-51.0</td>\n",
              "      <td>-37.0</td>\n",
              "      <td>19.0</td>\n",
              "    </tr>\n",
              "  </tbody>\n",
              "</table>\n",
              "</div>"
            ],
            "text/plain": [
              "       country_region        State  ... Workplaces  Residential\n",
              "132243          India  West Bengal  ...      -31.0         17.0\n",
              "132244          India  West Bengal  ...      -25.0         16.0\n",
              "132245          India  West Bengal  ...      -13.0         14.0\n",
              "132246          India  West Bengal  ...      -34.0         18.0\n",
              "132247          India  West Bengal  ...      -37.0         19.0\n",
              "\n",
              "[5 rows x 9 columns]"
            ]
          },
          "metadata": {
            "tags": []
          },
          "execution_count": 34
        }
      ]
    },
    {
      "cell_type": "code",
      "metadata": {
        "id": "jq5-shntVdax",
        "colab_type": "code",
        "colab": {
          "base_uri": "https://localhost:8080/",
          "height": 646
        },
        "outputId": "93ab0f5d-a6e9-4131-e195-f4d4b439f29f"
      },
      "source": [
        "df_india.State.value_counts()"
      ],
      "execution_count": 35,
      "outputs": [
        {
          "output_type": "execute_result",
          "data": {
            "text/plain": [
              "Sikkim                         158\n",
              "Delhi                          158\n",
              "Andhra Pradesh                 158\n",
              "Tamil Nadu                     158\n",
              "Tripura                        158\n",
              "Kerala                         158\n",
              "Madhya Pradesh                 158\n",
              "Haryana                        158\n",
              "Jharkhand                      158\n",
              "Uttarakhand                    158\n",
              "Arunachal Pradesh              158\n",
              "Himachal Pradesh               158\n",
              "Jammu and Kashmir              158\n",
              "Chhattisgarh                   158\n",
              "Gujarat                        158\n",
              "Telangana                      158\n",
              "Dadra and Nagar Haveli         158\n",
              "Rajasthan                      158\n",
              "Andaman and Nicobar Islands    158\n",
              "Mizoram                        158\n",
              "Manipur                        158\n",
              "West Bengal                    158\n",
              "Karnataka                      158\n",
              "Goa                            158\n",
              "Assam                          158\n",
              "Uttar Pradesh                  158\n",
              "Meghalaya                      158\n",
              "Lakshadweep                    158\n",
              "Punjab                         158\n",
              "Odisha                         158\n",
              "Chandigarh                     158\n",
              "Daman and Diu                  158\n",
              "Bihar                          158\n",
              "Nagaland                       158\n",
              "Maharashtra                    158\n",
              "Puducherry                     158\n",
              "Name: State, dtype: int64"
            ]
          },
          "metadata": {
            "tags": []
          },
          "execution_count": 35
        }
      ]
    },
    {
      "cell_type": "markdown",
      "metadata": {
        "id": "glq0dyJlXA2n",
        "colab_type": "text"
      },
      "source": [
        "We can see all states have 158 which implies the mobility data is being tracked for 158 days for all states."
      ]
    },
    {
      "cell_type": "markdown",
      "metadata": {
        "id": "Tx89FNUup7fO",
        "colab_type": "text"
      },
      "source": [
        "### **Inserting Lockdown Indicators**"
      ]
    },
    {
      "cell_type": "markdown",
      "metadata": {
        "id": "UMiI7t-VqBOb",
        "colab_type": "text"
      },
      "source": [
        "In India The lockdown started on March 22nd 2020. So we can divide dates before to Pre-Lockdown and the dates after March 22nd to Post-Lockdown. We will create a column which indicates pre or post lockdown."
      ]
    },
    {
      "cell_type": "markdown",
      "metadata": {
        "id": "NT2X14sgqqzm",
        "colab_type": "text"
      },
      "source": [
        "Firstly, let us write a function which takes date as input and classifies whether it is pre or post lockdown"
      ]
    },
    {
      "cell_type": "code",
      "metadata": {
        "id": "ffkIfQCHqlCd",
        "colab_type": "code",
        "colab": {}
      },
      "source": [
        "def dateconv(date):\n",
        "  q =\"2020-03-22\"\n",
        "  if date < q:\n",
        "    return \"Pre-Lockdown\"\n",
        "  else:\n",
        "    return \"During-Lockdown\"\n",
        "  "
      ],
      "execution_count": 36,
      "outputs": []
    },
    {
      "cell_type": "code",
      "metadata": {
        "id": "tb5Cuo6Br3Yx",
        "colab_type": "code",
        "colab": {}
      },
      "source": [
        "df_india[\"Lockdown\"] = df_india[\"date\"].apply(dateconv)"
      ],
      "execution_count": 37,
      "outputs": []
    },
    {
      "cell_type": "code",
      "metadata": {
        "id": "ySvb__27r9yw",
        "colab_type": "code",
        "colab": {
          "base_uri": "https://localhost:8080/",
          "height": 309
        },
        "outputId": "b360686d-1069-46af-8b5c-51fef398d492"
      },
      "source": [
        "df_india.head()"
      ],
      "execution_count": 38,
      "outputs": [
        {
          "output_type": "execute_result",
          "data": {
            "text/html": [
              "<div>\n",
              "<style scoped>\n",
              "    .dataframe tbody tr th:only-of-type {\n",
              "        vertical-align: middle;\n",
              "    }\n",
              "\n",
              "    .dataframe tbody tr th {\n",
              "        vertical-align: top;\n",
              "    }\n",
              "\n",
              "    .dataframe thead th {\n",
              "        text-align: right;\n",
              "    }\n",
              "</style>\n",
              "<table border=\"1\" class=\"dataframe\">\n",
              "  <thead>\n",
              "    <tr style=\"text-align: right;\">\n",
              "      <th></th>\n",
              "      <th>country_region</th>\n",
              "      <th>State</th>\n",
              "      <th>date</th>\n",
              "      <th>Recreation</th>\n",
              "      <th>Grocery_and_Pharmacy</th>\n",
              "      <th>Parks</th>\n",
              "      <th>Transit_stations</th>\n",
              "      <th>Workplaces</th>\n",
              "      <th>Residential</th>\n",
              "      <th>Lockdown</th>\n",
              "    </tr>\n",
              "  </thead>\n",
              "  <tbody>\n",
              "    <tr>\n",
              "      <th>126402</th>\n",
              "      <td>India</td>\n",
              "      <td>NaN</td>\n",
              "      <td>2020-02-15</td>\n",
              "      <td>1.0</td>\n",
              "      <td>2.0</td>\n",
              "      <td>3.0</td>\n",
              "      <td>3.0</td>\n",
              "      <td>5.0</td>\n",
              "      <td>0.0</td>\n",
              "      <td>Pre-Lockdown</td>\n",
              "    </tr>\n",
              "    <tr>\n",
              "      <th>126403</th>\n",
              "      <td>India</td>\n",
              "      <td>NaN</td>\n",
              "      <td>2020-02-16</td>\n",
              "      <td>2.0</td>\n",
              "      <td>2.0</td>\n",
              "      <td>3.0</td>\n",
              "      <td>2.0</td>\n",
              "      <td>0.0</td>\n",
              "      <td>0.0</td>\n",
              "      <td>Pre-Lockdown</td>\n",
              "    </tr>\n",
              "    <tr>\n",
              "      <th>126404</th>\n",
              "      <td>India</td>\n",
              "      <td>NaN</td>\n",
              "      <td>2020-02-17</td>\n",
              "      <td>-1.0</td>\n",
              "      <td>1.0</td>\n",
              "      <td>3.0</td>\n",
              "      <td>1.0</td>\n",
              "      <td>4.0</td>\n",
              "      <td>0.0</td>\n",
              "      <td>Pre-Lockdown</td>\n",
              "    </tr>\n",
              "    <tr>\n",
              "      <th>126405</th>\n",
              "      <td>India</td>\n",
              "      <td>NaN</td>\n",
              "      <td>2020-02-18</td>\n",
              "      <td>0.0</td>\n",
              "      <td>2.0</td>\n",
              "      <td>4.0</td>\n",
              "      <td>2.0</td>\n",
              "      <td>3.0</td>\n",
              "      <td>0.0</td>\n",
              "      <td>Pre-Lockdown</td>\n",
              "    </tr>\n",
              "    <tr>\n",
              "      <th>126406</th>\n",
              "      <td>India</td>\n",
              "      <td>NaN</td>\n",
              "      <td>2020-02-19</td>\n",
              "      <td>0.0</td>\n",
              "      <td>2.0</td>\n",
              "      <td>1.0</td>\n",
              "      <td>1.0</td>\n",
              "      <td>4.0</td>\n",
              "      <td>1.0</td>\n",
              "      <td>Pre-Lockdown</td>\n",
              "    </tr>\n",
              "  </tbody>\n",
              "</table>\n",
              "</div>"
            ],
            "text/plain": [
              "       country_region State        date  ...  Workplaces  Residential      Lockdown\n",
              "126402          India   NaN  2020-02-15  ...         5.0          0.0  Pre-Lockdown\n",
              "126403          India   NaN  2020-02-16  ...         0.0          0.0  Pre-Lockdown\n",
              "126404          India   NaN  2020-02-17  ...         4.0          0.0  Pre-Lockdown\n",
              "126405          India   NaN  2020-02-18  ...         3.0          0.0  Pre-Lockdown\n",
              "126406          India   NaN  2020-02-19  ...         4.0          1.0  Pre-Lockdown\n",
              "\n",
              "[5 rows x 10 columns]"
            ]
          },
          "metadata": {
            "tags": []
          },
          "execution_count": 38
        }
      ]
    },
    {
      "cell_type": "markdown",
      "metadata": {
        "id": "97X21XTqqS4e",
        "colab_type": "text"
      },
      "source": [
        "The lockdown was also implemented in 4 phases. The unlockdown was implemented in 2 phases. We will create another column to indicate the phase"
      ]
    },
    {
      "cell_type": "code",
      "metadata": {
        "id": "E8J5Dvxvqkco",
        "colab_type": "code",
        "colab": {}
      },
      "source": [
        "def datephase(date):\n",
        "  if date < \"2020-03-22\":\n",
        "    return \"Pre Lockdown\" \n",
        "  elif date < \"2020-04-15\":\n",
        "    return \"Lockdown Phase 1\"\n",
        "  elif date < \"2020-05-04\":\n",
        "    return \"Lockdown Phase 2\"\n",
        "  elif date < \"2020-05-18\":\n",
        "    return \"Lockdown Phase 3\"\n",
        "  elif date < \"2020-06-01\":\n",
        "    return \"Lockdown Phase 4\"\n",
        "  elif date < \"2020-07-01\":\n",
        "    return \"Unlock Phase 1\"\n",
        "  else:\n",
        "    return \"Unlock Phase 2\""
      ],
      "execution_count": 39,
      "outputs": []
    },
    {
      "cell_type": "code",
      "metadata": {
        "id": "5hbh-mkzG_j2",
        "colab_type": "code",
        "colab": {}
      },
      "source": [
        "df_india[\"LockdownPhase\"] = df_india[\"date\"].apply(datephase)"
      ],
      "execution_count": 40,
      "outputs": []
    },
    {
      "cell_type": "code",
      "metadata": {
        "id": "5AvZof4Mh871",
        "colab_type": "code",
        "colab": {
          "base_uri": "https://localhost:8080/",
          "height": 309
        },
        "outputId": "f8217126-32dc-4747-f794-a035237a9aad"
      },
      "source": [
        "df_india.tail()"
      ],
      "execution_count": 41,
      "outputs": [
        {
          "output_type": "execute_result",
          "data": {
            "text/html": [
              "<div>\n",
              "<style scoped>\n",
              "    .dataframe tbody tr th:only-of-type {\n",
              "        vertical-align: middle;\n",
              "    }\n",
              "\n",
              "    .dataframe tbody tr th {\n",
              "        vertical-align: top;\n",
              "    }\n",
              "\n",
              "    .dataframe thead th {\n",
              "        text-align: right;\n",
              "    }\n",
              "</style>\n",
              "<table border=\"1\" class=\"dataframe\">\n",
              "  <thead>\n",
              "    <tr style=\"text-align: right;\">\n",
              "      <th></th>\n",
              "      <th>country_region</th>\n",
              "      <th>State</th>\n",
              "      <th>date</th>\n",
              "      <th>Recreation</th>\n",
              "      <th>Grocery_and_Pharmacy</th>\n",
              "      <th>Parks</th>\n",
              "      <th>Transit_stations</th>\n",
              "      <th>Workplaces</th>\n",
              "      <th>Residential</th>\n",
              "      <th>Lockdown</th>\n",
              "      <th>LockdownPhase</th>\n",
              "    </tr>\n",
              "  </thead>\n",
              "  <tbody>\n",
              "    <tr>\n",
              "      <th>132243</th>\n",
              "      <td>India</td>\n",
              "      <td>West Bengal</td>\n",
              "      <td>2020-07-17</td>\n",
              "      <td>-61.0</td>\n",
              "      <td>-7.0</td>\n",
              "      <td>-38.0</td>\n",
              "      <td>-43.0</td>\n",
              "      <td>-31.0</td>\n",
              "      <td>17.0</td>\n",
              "      <td>During-Lockdown</td>\n",
              "      <td>Unlock Phase 2</td>\n",
              "    </tr>\n",
              "    <tr>\n",
              "      <th>132244</th>\n",
              "      <td>India</td>\n",
              "      <td>West Bengal</td>\n",
              "      <td>2020-07-18</td>\n",
              "      <td>-63.0</td>\n",
              "      <td>-11.0</td>\n",
              "      <td>-42.0</td>\n",
              "      <td>-44.0</td>\n",
              "      <td>-25.0</td>\n",
              "      <td>16.0</td>\n",
              "      <td>During-Lockdown</td>\n",
              "      <td>Unlock Phase 2</td>\n",
              "    </tr>\n",
              "    <tr>\n",
              "      <th>132245</th>\n",
              "      <td>India</td>\n",
              "      <td>West Bengal</td>\n",
              "      <td>2020-07-19</td>\n",
              "      <td>-67.0</td>\n",
              "      <td>-15.0</td>\n",
              "      <td>-46.0</td>\n",
              "      <td>-45.0</td>\n",
              "      <td>-13.0</td>\n",
              "      <td>14.0</td>\n",
              "      <td>During-Lockdown</td>\n",
              "      <td>Unlock Phase 2</td>\n",
              "    </tr>\n",
              "    <tr>\n",
              "      <th>132246</th>\n",
              "      <td>India</td>\n",
              "      <td>West Bengal</td>\n",
              "      <td>2020-07-20</td>\n",
              "      <td>-63.0</td>\n",
              "      <td>-15.0</td>\n",
              "      <td>-40.0</td>\n",
              "      <td>-48.0</td>\n",
              "      <td>-34.0</td>\n",
              "      <td>18.0</td>\n",
              "      <td>During-Lockdown</td>\n",
              "      <td>Unlock Phase 2</td>\n",
              "    </tr>\n",
              "    <tr>\n",
              "      <th>132247</th>\n",
              "      <td>India</td>\n",
              "      <td>West Bengal</td>\n",
              "      <td>2020-07-21</td>\n",
              "      <td>-66.0</td>\n",
              "      <td>-22.0</td>\n",
              "      <td>-43.0</td>\n",
              "      <td>-51.0</td>\n",
              "      <td>-37.0</td>\n",
              "      <td>19.0</td>\n",
              "      <td>During-Lockdown</td>\n",
              "      <td>Unlock Phase 2</td>\n",
              "    </tr>\n",
              "  </tbody>\n",
              "</table>\n",
              "</div>"
            ],
            "text/plain": [
              "       country_region        State  ...         Lockdown   LockdownPhase\n",
              "132243          India  West Bengal  ...  During-Lockdown  Unlock Phase 2\n",
              "132244          India  West Bengal  ...  During-Lockdown  Unlock Phase 2\n",
              "132245          India  West Bengal  ...  During-Lockdown  Unlock Phase 2\n",
              "132246          India  West Bengal  ...  During-Lockdown  Unlock Phase 2\n",
              "132247          India  West Bengal  ...  During-Lockdown  Unlock Phase 2\n",
              "\n",
              "[5 rows x 11 columns]"
            ]
          },
          "metadata": {
            "tags": []
          },
          "execution_count": 41
        }
      ]
    },
    {
      "cell_type": "markdown",
      "metadata": {
        "id": "mdaPvLkeXLGj",
        "colab_type": "text"
      },
      "source": [
        "### **Extracting State's data**"
      ]
    },
    {
      "cell_type": "code",
      "metadata": {
        "id": "1BYZ37nbXJjq",
        "colab_type": "code",
        "colab": {}
      },
      "source": [
        "df_india_Telangana_and_AP = df_india[(df_india[\"State\"] == \"Telangana\") | (df_india[\"State\"] == \"Andhra Pradesh\")]"
      ],
      "execution_count": 42,
      "outputs": []
    },
    {
      "cell_type": "code",
      "metadata": {
        "id": "qqnCgKN4VaGS",
        "colab_type": "code",
        "colab": {
          "base_uri": "https://localhost:8080/",
          "height": 309
        },
        "outputId": "6788694f-0288-44a1-9508-99487178c3cc"
      },
      "source": [
        "df_india_Telangana_and_AP.head()"
      ],
      "execution_count": 43,
      "outputs": [
        {
          "output_type": "execute_result",
          "data": {
            "text/html": [
              "<div>\n",
              "<style scoped>\n",
              "    .dataframe tbody tr th:only-of-type {\n",
              "        vertical-align: middle;\n",
              "    }\n",
              "\n",
              "    .dataframe tbody tr th {\n",
              "        vertical-align: top;\n",
              "    }\n",
              "\n",
              "    .dataframe thead th {\n",
              "        text-align: right;\n",
              "    }\n",
              "</style>\n",
              "<table border=\"1\" class=\"dataframe\">\n",
              "  <thead>\n",
              "    <tr style=\"text-align: right;\">\n",
              "      <th></th>\n",
              "      <th>country_region</th>\n",
              "      <th>State</th>\n",
              "      <th>date</th>\n",
              "      <th>Recreation</th>\n",
              "      <th>Grocery_and_Pharmacy</th>\n",
              "      <th>Parks</th>\n",
              "      <th>Transit_stations</th>\n",
              "      <th>Workplaces</th>\n",
              "      <th>Residential</th>\n",
              "      <th>Lockdown</th>\n",
              "      <th>LockdownPhase</th>\n",
              "    </tr>\n",
              "  </thead>\n",
              "  <tbody>\n",
              "    <tr>\n",
              "      <th>126718</th>\n",
              "      <td>India</td>\n",
              "      <td>Andhra Pradesh</td>\n",
              "      <td>2020-02-15</td>\n",
              "      <td>-1.0</td>\n",
              "      <td>-1.0</td>\n",
              "      <td>5.0</td>\n",
              "      <td>5.0</td>\n",
              "      <td>4.0</td>\n",
              "      <td>0.0</td>\n",
              "      <td>Pre-Lockdown</td>\n",
              "      <td>Pre Lockdown</td>\n",
              "    </tr>\n",
              "    <tr>\n",
              "      <th>126719</th>\n",
              "      <td>India</td>\n",
              "      <td>Andhra Pradesh</td>\n",
              "      <td>2020-02-16</td>\n",
              "      <td>-1.0</td>\n",
              "      <td>1.0</td>\n",
              "      <td>4.0</td>\n",
              "      <td>4.0</td>\n",
              "      <td>-1.0</td>\n",
              "      <td>1.0</td>\n",
              "      <td>Pre-Lockdown</td>\n",
              "      <td>Pre Lockdown</td>\n",
              "    </tr>\n",
              "    <tr>\n",
              "      <th>126720</th>\n",
              "      <td>India</td>\n",
              "      <td>Andhra Pradesh</td>\n",
              "      <td>2020-02-17</td>\n",
              "      <td>-1.0</td>\n",
              "      <td>-1.0</td>\n",
              "      <td>4.0</td>\n",
              "      <td>3.0</td>\n",
              "      <td>6.0</td>\n",
              "      <td>0.0</td>\n",
              "      <td>Pre-Lockdown</td>\n",
              "      <td>Pre Lockdown</td>\n",
              "    </tr>\n",
              "    <tr>\n",
              "      <th>126721</th>\n",
              "      <td>India</td>\n",
              "      <td>Andhra Pradesh</td>\n",
              "      <td>2020-02-18</td>\n",
              "      <td>-1.0</td>\n",
              "      <td>1.0</td>\n",
              "      <td>4.0</td>\n",
              "      <td>2.0</td>\n",
              "      <td>5.0</td>\n",
              "      <td>0.0</td>\n",
              "      <td>Pre-Lockdown</td>\n",
              "      <td>Pre Lockdown</td>\n",
              "    </tr>\n",
              "    <tr>\n",
              "      <th>126722</th>\n",
              "      <td>India</td>\n",
              "      <td>Andhra Pradesh</td>\n",
              "      <td>2020-02-19</td>\n",
              "      <td>-2.0</td>\n",
              "      <td>0.0</td>\n",
              "      <td>4.0</td>\n",
              "      <td>0.0</td>\n",
              "      <td>4.0</td>\n",
              "      <td>0.0</td>\n",
              "      <td>Pre-Lockdown</td>\n",
              "      <td>Pre Lockdown</td>\n",
              "    </tr>\n",
              "  </tbody>\n",
              "</table>\n",
              "</div>"
            ],
            "text/plain": [
              "       country_region           State  ...      Lockdown  LockdownPhase\n",
              "126718          India  Andhra Pradesh  ...  Pre-Lockdown   Pre Lockdown\n",
              "126719          India  Andhra Pradesh  ...  Pre-Lockdown   Pre Lockdown\n",
              "126720          India  Andhra Pradesh  ...  Pre-Lockdown   Pre Lockdown\n",
              "126721          India  Andhra Pradesh  ...  Pre-Lockdown   Pre Lockdown\n",
              "126722          India  Andhra Pradesh  ...  Pre-Lockdown   Pre Lockdown\n",
              "\n",
              "[5 rows x 11 columns]"
            ]
          },
          "metadata": {
            "tags": []
          },
          "execution_count": 43
        }
      ]
    },
    {
      "cell_type": "code",
      "metadata": {
        "id": "dYk6ilemRuA1",
        "colab_type": "code",
        "colab": {
          "base_uri": "https://localhost:8080/",
          "height": 309
        },
        "outputId": "9f2217c8-f30b-44af-f943-332daa0f7a28"
      },
      "source": [
        "df_india_Telangana_and_AP.tail()"
      ],
      "execution_count": 44,
      "outputs": [
        {
          "output_type": "execute_result",
          "data": {
            "text/html": [
              "<div>\n",
              "<style scoped>\n",
              "    .dataframe tbody tr th:only-of-type {\n",
              "        vertical-align: middle;\n",
              "    }\n",
              "\n",
              "    .dataframe tbody tr th {\n",
              "        vertical-align: top;\n",
              "    }\n",
              "\n",
              "    .dataframe thead th {\n",
              "        text-align: right;\n",
              "    }\n",
              "</style>\n",
              "<table border=\"1\" class=\"dataframe\">\n",
              "  <thead>\n",
              "    <tr style=\"text-align: right;\">\n",
              "      <th></th>\n",
              "      <th>country_region</th>\n",
              "      <th>State</th>\n",
              "      <th>date</th>\n",
              "      <th>Recreation</th>\n",
              "      <th>Grocery_and_Pharmacy</th>\n",
              "      <th>Parks</th>\n",
              "      <th>Transit_stations</th>\n",
              "      <th>Workplaces</th>\n",
              "      <th>Residential</th>\n",
              "      <th>Lockdown</th>\n",
              "      <th>LockdownPhase</th>\n",
              "    </tr>\n",
              "  </thead>\n",
              "  <tbody>\n",
              "    <tr>\n",
              "      <th>131611</th>\n",
              "      <td>India</td>\n",
              "      <td>Telangana</td>\n",
              "      <td>2020-07-17</td>\n",
              "      <td>-61.0</td>\n",
              "      <td>-7.0</td>\n",
              "      <td>-58.0</td>\n",
              "      <td>-39.0</td>\n",
              "      <td>-42.0</td>\n",
              "      <td>20.0</td>\n",
              "      <td>During-Lockdown</td>\n",
              "      <td>Unlock Phase 2</td>\n",
              "    </tr>\n",
              "    <tr>\n",
              "      <th>131612</th>\n",
              "      <td>India</td>\n",
              "      <td>Telangana</td>\n",
              "      <td>2020-07-18</td>\n",
              "      <td>-61.0</td>\n",
              "      <td>-11.0</td>\n",
              "      <td>-63.0</td>\n",
              "      <td>-39.0</td>\n",
              "      <td>-31.0</td>\n",
              "      <td>17.0</td>\n",
              "      <td>During-Lockdown</td>\n",
              "      <td>Unlock Phase 2</td>\n",
              "    </tr>\n",
              "    <tr>\n",
              "      <th>131613</th>\n",
              "      <td>India</td>\n",
              "      <td>Telangana</td>\n",
              "      <td>2020-07-19</td>\n",
              "      <td>-67.0</td>\n",
              "      <td>-18.0</td>\n",
              "      <td>-62.0</td>\n",
              "      <td>-42.0</td>\n",
              "      <td>-18.0</td>\n",
              "      <td>13.0</td>\n",
              "      <td>During-Lockdown</td>\n",
              "      <td>Unlock Phase 2</td>\n",
              "    </tr>\n",
              "    <tr>\n",
              "      <th>131614</th>\n",
              "      <td>India</td>\n",
              "      <td>Telangana</td>\n",
              "      <td>2020-07-20</td>\n",
              "      <td>-62.0</td>\n",
              "      <td>-15.0</td>\n",
              "      <td>-60.0</td>\n",
              "      <td>-45.0</td>\n",
              "      <td>-46.0</td>\n",
              "      <td>22.0</td>\n",
              "      <td>During-Lockdown</td>\n",
              "      <td>Unlock Phase 2</td>\n",
              "    </tr>\n",
              "    <tr>\n",
              "      <th>131615</th>\n",
              "      <td>India</td>\n",
              "      <td>Telangana</td>\n",
              "      <td>2020-07-21</td>\n",
              "      <td>-60.0</td>\n",
              "      <td>-11.0</td>\n",
              "      <td>-58.0</td>\n",
              "      <td>-40.0</td>\n",
              "      <td>-44.0</td>\n",
              "      <td>19.0</td>\n",
              "      <td>During-Lockdown</td>\n",
              "      <td>Unlock Phase 2</td>\n",
              "    </tr>\n",
              "  </tbody>\n",
              "</table>\n",
              "</div>"
            ],
            "text/plain": [
              "       country_region      State  ...         Lockdown   LockdownPhase\n",
              "131611          India  Telangana  ...  During-Lockdown  Unlock Phase 2\n",
              "131612          India  Telangana  ...  During-Lockdown  Unlock Phase 2\n",
              "131613          India  Telangana  ...  During-Lockdown  Unlock Phase 2\n",
              "131614          India  Telangana  ...  During-Lockdown  Unlock Phase 2\n",
              "131615          India  Telangana  ...  During-Lockdown  Unlock Phase 2\n",
              "\n",
              "[5 rows x 11 columns]"
            ]
          },
          "metadata": {
            "tags": []
          },
          "execution_count": 44
        }
      ]
    },
    {
      "cell_type": "markdown",
      "metadata": {
        "id": "dZzLcwtYvt1y",
        "colab_type": "text"
      },
      "source": [
        "## **Comparing Mobility**"
      ]
    },
    {
      "cell_type": "markdown",
      "metadata": {
        "id": "_yHNbSSqv4YE",
        "colab_type": "text"
      },
      "source": [
        "### **Aggregate Statistics**"
      ]
    },
    {
      "cell_type": "code",
      "metadata": {
        "id": "cLH7pxZWIlGV",
        "colab_type": "code",
        "colab": {
          "base_uri": "https://localhost:8080/",
          "height": 1000
        },
        "outputId": "48dfa129-3d35-4c5b-b879-978f5b6d431a"
      },
      "source": [
        "sns.set_style(\"whitegrid\")\n",
        "columns = [\"Recreation\",\t\"Grocery_and_Pharmacy\",\t\"Parks\",\t\"Transit_stations\",\t \"Workplaces\", \t\"Residential\"]\n",
        "for i in columns:\n",
        "  ax = sns.violinplot(x=\"Lockdown\", y=i, hue=\"State\", data=df_india_Telangana_and_AP, palette=\"muted\")\n",
        "  ax.set_title(i)\n",
        "  plt.figure()"
      ],
      "execution_count": 45,
      "outputs": [
        {
          "output_type": "display_data",
          "data": {
            "image/png": "[encoded data removed]",
            "text/plain": [
              "<Figure size 432x288 with 1 Axes>"
            ]
          },
          "metadata": {
            "tags": []
          }
        },
        {
          "output_type": "display_data",
          "data": {
            "image/png": "[encoded data removed]",
            "text/plain": [
              "<Figure size 432x288 with 1 Axes>"
            ]
          },
          "metadata": {
            "tags": []
          }
        },
        {
          "output_type": "display_data",
          "data": {
            "image/png": "[encoded data removed]",
            "text/plain": [
              "<Figure size 432x288 with 1 Axes>"
            ]
          },
          "metadata": {
            "tags": []
          }
        },
        {
          "output_type": "display_data",
          "data": {
            "image/png": "[encoded data removed]",
            "text/plain": [
              "<Figure size 432x288 with 1 Axes>"
            ]
          },
          "metadata": {
            "tags": []
          }
        },
        {
          "output_type": "display_data",
          "data": {
            "image/png": "[encoded data removed]",
            "text/plain": [
              "<Figure size 432x288 with 1 Axes>"
            ]
          },
          "metadata": {
            "tags": []
          }
        },
        {
          "output_type": "display_data",
          "data": {
            "image/png": "[encoded data removed]",
            "text/plain": [
              "<Figure size 432x288 with 1 Axes>"
            ]
          },
          "metadata": {
            "tags": []
          }
        },
        {
          "output_type": "display_data",
          "data": {
            "text/plain": [
              "<Figure size 432x288 with 0 Axes>"
            ]
          },
          "metadata": {
            "tags": []
          }
        }
      ]
    },
    {
      "cell_type": "code",
      "metadata": {
        "id": "jgp4hZpqNH_R",
        "colab_type": "code",
        "colab": {
          "base_uri": "https://localhost:8080/",
          "height": 1000
        },
        "outputId": "6b0fc6a4-2381-48d1-8626-e3af0c9a8b4c"
      },
      "source": [
        "columns = [\"Recreation\",\t\"Grocery_and_Pharmacy\",\t\"Parks\",\t\"Transit_stations\",\t \"Workplaces\", \t\"Residential\"]\n",
        "for i in columns:\n",
        "  fig = px.box(df_india_Telangana_and_AP, x=\"Lockdown\", y=i, color=\"State\",width=600,height=400,title=i,template=\"plotly_dark\")# or \"inclusive\", or \"linear\" by default\n",
        "\n",
        "  fig.show()"
      ],
      "execution_count": 72,
      "outputs": [
        {
          "output_type": "display_data",
          "data": {
            "text/html": [
              "<html>\n",
              "<head><meta charset=\"utf-8\" /></head>\n",
              "<body>\n",
              "    <div>\n",
              "            <script src=\"https://cdnjs.cloudflare.com/ajax/libs/mathjax/2.7.5/MathJax.js?config=TeX-AMS-MML_SVG\"></script><script type=\"text/javascript\">if (window.MathJax) {MathJax.Hub.Config({SVG: {font: \"STIX-Web\"}});}</script>\n",
              "                <script type=\"text/javascript\">window.PlotlyConfig = {MathJaxConfig: 'local'};</script>\n",
              "        <script src=\"https://cdn.plot.ly/plotly-latest.min.js\"></script>    \n",
              "            <div id=\"0b5b7eec-73af-43ce-aa41-463e39bff74f\" class=\"plotly-graph-div\" style=\"height:400px; width:600px;\"></div>\n",
              "            <script type=\"text/javascript\">\n",
              "                \n",
              "                    window.PLOTLYENV=window.PLOTLYENV || {};\n",
              "                    \n",
              "                if (document.getElementById(\"0b5b7eec-73af-43ce-aa41-463e39bff74f\")) {\n",
              "                    Plotly.newPlot(\n",
              "                        '0b5b7eec-73af-43ce-aa41-463e39bff74f',\n",
              "                        [{\"alignmentgroup\": \"True\", \"hoverlabel\": {\"namelength\": 0}, \"hovertemplate\": \"State=Andhra Pradesh<br>Lockdown=%{x}<br>Recreation=%{y}\", \"legendgroup\": \"State=Andhra Pradesh\", \"marker\": {\"color\": \"#636efa\"}, \"name\": \"State=Andhra Pradesh\", \"notched\": false, \"offsetgroup\": \"State=Andhra Pradesh\", \"orientation\": \"v\", \"showlegend\": true, \"type\": \"box\", \"x\": [\"Pre-Lockdown\", \"Pre-Lockdown\", \"Pre-Lockdown\", \"Pre-Lockdown\", \"Pre-Lockdown\", \"Pre-Lockdown\", \"Pre-Lockdown\", \"Pre-Lockdown\", \"Pre-Lockdown\", \"Pre-Lockdown\", \"Pre-Lockdown\", \"Pre-Lockdown\", \"Pre-Lockdown\", \"Pre-Lockdown\", \"Pre-Lockdown\", \"Pre-Lockdown\", \"Pre-Lockdown\", \"Pre-Lockdown\", \"Pre-Lockdown\", \"Pre-Lockdown\", \"Pre-Lockdown\", \"Pre-Lockdown\", \"Pre-Lockdown\", \"Pre-Lockdown\", \"Pre-Lockdown\", \"Pre-Lockdown\", \"Pre-Lockdown\", \"Pre-Lockdown\", \"Pre-Lockdown\", \"Pre-Lockdown\", \"Pre-Lockdown\", \"Pre-Lockdown\", \"Pre-Lockdown\", \"Pre-Lockdown\", \"Pre-Lockdown\", \"Pre-Lockdown\", \"During-Lockdown\", \"During-Lockdown\", \"During-Lockdown\", \"During-Lockdown\", \"During-Lockdown\", \"During-Lockdown\", \"During-Lockdown\", \"During-Lockdown\", \"During-Lockdown\", \"During-Lockdown\", \"During-Lockdown\", \"During-Lockdown\", \"During-Lockdown\", \"During-Lockdown\", \"During-Lockdown\", \"During-Lockdown\", \"During-Lockdown\", \"During-Lockdown\", \"During-Lockdown\", \"During-Lockdown\", \"During-Lockdown\", \"During-Lockdown\", \"During-Lockdown\", \"During-Lockdown\", \"During-Lockdown\", \"During-Lockdown\", \"During-Lockdown\", \"During-Lockdown\", \"During-Lockdown\", \"During-Lockdown\", \"During-Lockdown\", \"During-Lockdown\", \"During-Lockdown\", \"During-Lockdown\", \"During-Lockdown\", \"During-Lockdown\", \"During-Lockdown\", \"During-Lockdown\", \"During-Lockdown\", \"During-Lockdown\", \"During-Lockdown\", \"During-Lockdown\", \"During-Lockdown\", \"During-Lockdown\", \"During-Lockdown\", \"During-Lockdown\", \"During-Lockdown\", \"During-Lockdown\", \"During-Lockdown\", \"During-Lockdown\", \"During-Lockdown\", \"During-Lockdown\", \"During-Lockdown\", \"During-Lockdown\", \"During-Lockdown\", \"During-Lockdown\", \"During-Lockdown\", \"During-Lockdown\", \"During-Lockdown\", \"During-Lockdown\", \"During-Lockdown\", \"During-Lockdown\", \"During-Lockdown\", \"During-Lockdown\", \"During-Lockdown\", \"During-Lockdown\", \"During-Lockdown\", \"During-Lockdown\", \"During-Lockdown\", \"During-Lockdown\", \"During-Lockdown\", \"During-Lockdown\", \"During-Lockdown\", \"During-Lockdown\", \"During-Lockdown\", \"During-Lockdown\", \"During-Lockdown\", \"During-Lockdown\", \"During-Lockdown\", \"During-Lockdown\", \"During-Lockdown\", \"During-Lockdown\", \"During-Lockdown\", \"During-Lockdown\", \"During-Lockdown\", \"During-Lockdown\", \"During-Lockdown\", \"During-Lockdown\", \"During-Lockdown\", \"During-Lockdown\", \"During-Lockdown\", \"During-Lockdown\", \"During-Lockdown\", \"During-Lockdown\", \"During-Lockdown\", \"During-Lockdown\", \"During-Lockdown\", \"During-Lockdown\", \"During-Lockdown\", \"During-Lockdown\", \"During-Lockdown\", \"During-Lockdown\", \"During-Lockdown\", \"During-Lockdown\", \"During-Lockdown\", \"During-Lockdown\", \"During-Lockdown\", \"During-Lockdown\", \"During-Lockdown\", \"During-Lockdown\", \"During-Lockdown\", \"During-Lockdown\", \"During-Lockdown\", \"During-Lockdown\", \"During-Lockdown\", \"During-Lockdown\", \"During-Lockdown\", \"During-Lockdown\", \"During-Lockdown\", \"During-Lockdown\", \"During-Lockdown\", \"During-Lockdown\"], \"x0\": \" \", \"xaxis\": \"x\", \"y\": [-1.0, -1.0, -1.0, -1.0, -2.0, 0.0, -3.0, -3.0, -2.0, 0.0, 1.0, 0.0, 1.0, 0.0, -1.0, 1.0, 0.0, 0.0, 0.0, 0.0, 0.0, -1.0, 1.0, 1.0, 0.0, -2.0, -1.0, -4.0, -5.0, -6.0, -4.0, -4.0, -4.0, -4.0, -11.0, -16.0, -76.0, -51.0, -68.0, -76.0, -74.0, -74.0, -75.0, -71.0, -73.0, -72.0, -74.0, -75.0, -74.0, -74.0, -71.0, -74.0, -77.0, -77.0, -78.0, -78.0, -79.0, -78.0, -77.0, -78.0, -77.0, -84.0, -85.0, -86.0, -85.0, -86.0, -85.0, -86.0, -85.0, -85.0, -86.0, -85.0, -86.0, -85.0, -85.0, -85.0, -85.0, -85.0, -84.0, -81.0, -80.0, -79.0, -79.0, -79.0, -80.0, -79.0, -79.0, -78.0, -78.0, -77.0, -77.0, -78.0, -78.0, -76.0, -75.0, -74.0, -73.0, -73.0, -72.0, -71.0, -71.0, -69.0, -67.0, -67.0, -67.0, -65.0, -67.0, -62.0, -62.0, -60.0, -60.0, -58.0, -59.0, -63.0, -55.0, -57.0, -56.0, -54.0, -54.0, -53.0, -58.0, -52.0, -52.0, -53.0, -53.0, -54.0, -55.0, -68.0, -54.0, -55.0, -54.0, -55.0, -56.0, -57.0, -62.0, -56.0, -54.0, -54.0, -55.0, -55.0, -56.0, -61.0, -55.0, -55.0, -55.0, -56.0, -56.0, -57.0, -62.0, -57.0, -59.0, -62.0, -58.0, -59.0, -61.0, -68.0, -62.0, -61.0], \"y0\": \" \", \"yaxis\": \"y\"}, {\"alignmentgroup\": \"True\", \"hoverlabel\": {\"namelength\": 0}, \"hovertemplate\": \"State=Telangana<br>Lockdown=%{x}<br>Recreation=%{y}\", \"legendgroup\": \"State=Telangana\", \"marker\": {\"color\": \"#EF553B\"}, \"name\": \"State=Telangana\", \"notched\": false, \"offsetgroup\": \"State=Telangana\", \"orientation\": \"v\", \"showlegend\": true, \"type\": \"box\", \"x\": [\"Pre-Lockdown\", \"Pre-Lockdown\", \"Pre-Lockdown\", \"Pre-Lockdown\", \"Pre-Lockdown\", \"Pre-Lockdown\", \"Pre-Lockdown\", \"Pre-Lockdown\", \"Pre-Lockdown\", \"Pre-Lockdown\", \"Pre-Lockdown\", \"Pre-Lockdown\", \"Pre-Lockdown\", \"Pre-Lockdown\", \"Pre-Lockdown\", \"Pre-Lockdown\", \"Pre-Lockdown\", \"Pre-Lockdown\", \"Pre-Lockdown\", \"Pre-Lockdown\", \"Pre-Lockdown\", \"Pre-Lockdown\", \"Pre-Lockdown\", \"Pre-Lockdown\", \"Pre-Lockdown\", \"Pre-Lockdown\", \"Pre-Lockdown\", \"Pre-Lockdown\", \"Pre-Lockdown\", \"Pre-Lockdown\", \"Pre-Lockdown\", \"Pre-Lockdown\", \"Pre-Lockdown\", \"Pre-Lockdown\", \"Pre-Lockdown\", \"Pre-Lockdown\", \"During-Lockdown\", \"During-Lockdown\", \"During-Lockdown\", \"During-Lockdown\", \"During-Lockdown\", \"During-Lockdown\", \"During-Lockdown\", \"During-Lockdown\", \"During-Lockdown\", \"During-Lockdown\", \"During-Lockdown\", \"During-Lockdown\", \"During-Lockdown\", \"During-Lockdown\", \"During-Lockdown\", \"During-Lockdown\", \"During-Lockdown\", \"During-Lockdown\", \"During-Lockdown\", \"During-Lockdown\", \"During-Lockdown\", \"During-Lockdown\", \"During-Lockdown\", \"During-Lockdown\", \"During-Lockdown\", \"During-Lockdown\", \"During-Lockdown\", \"During-Lockdown\", \"During-Lockdown\", \"During-Lockdown\", \"During-Lockdown\", \"During-Lockdown\", \"During-Lockdown\", \"During-Lockdown\", \"During-Lockdown\", \"During-Lockdown\", \"During-Lockdown\", \"During-Lockdown\", \"During-Lockdown\", \"During-Lockdown\", \"During-Lockdown\", \"During-Lockdown\", \"During-Lockdown\", \"During-Lockdown\", \"During-Lockdown\", \"During-Lockdown\", \"During-Lockdown\", \"During-Lockdown\", \"During-Lockdown\", \"During-Lockdown\", \"During-Lockdown\", \"During-Lockdown\", \"During-Lockdown\", \"During-Lockdown\", \"During-Lockdown\", \"During-Lockdown\", \"During-Lockdown\", \"During-Lockdown\", \"During-Lockdown\", \"During-Lockdown\", \"During-Lockdown\", \"During-Lockdown\", \"During-Lockdown\", \"During-Lockdown\", \"During-Lockdown\", \"During-Lockdown\", \"During-Lockdown\", \"During-Lockdown\", \"During-Lockdown\", \"During-Lockdown\", \"During-Lockdown\", \"During-Lockdown\", \"During-Lockdown\", \"During-Lockdown\", \"During-Lockdown\", \"During-Lockdown\", \"During-Lockdown\", \"During-Lockdown\", \"During-Lockdown\", \"During-Lockdown\", \"During-Lockdown\", \"During-Lockdown\", \"During-Lockdown\", \"During-Lockdown\", \"During-Lockdown\", \"During-Lockdown\", \"During-Lockdown\", \"During-Lockdown\", \"During-Lockdown\", \"During-Lockdown\", \"During-Lockdown\", \"During-Lockdown\", \"During-Lockdown\", \"During-Lockdown\", \"During-Lockdown\", \"During-Lockdown\", \"During-Lockdown\", \"During-Lockdown\", \"During-Lockdown\", \"During-Lockdown\", \"During-Lockdown\", \"During-Lockdown\", \"During-Lockdown\", \"During-Lockdown\", \"During-Lockdown\", \"During-Lockdown\", \"During-Lockdown\", \"During-Lockdown\", \"During-Lockdown\", \"During-Lockdown\", \"During-Lockdown\", \"During-Lockdown\", \"During-Lockdown\", \"During-Lockdown\", \"During-Lockdown\", \"During-Lockdown\", \"During-Lockdown\", \"During-Lockdown\", \"During-Lockdown\", \"During-Lockdown\", \"During-Lockdown\", \"During-Lockdown\"], \"x0\": \" \", \"xaxis\": \"x\", \"y\": [2.0, 1.0, 0.0, 1.0, 0.0, 2.0, -7.0, -2.0, -2.0, 2.0, 2.0, 3.0, 2.0, 4.0, 3.0, 3.0, 1.0, 1.0, 1.0, -2.0, -1.0, 0.0, -2.0, -9.0, -1.0, 0.0, -1.0, -2.0, -4.0, -10.0, -8.0, -10.0, -10.0, -18.0, -20.0, -25.0, -84.0, -68.0, -79.0, -82.0, -82.0, -83.0, -84.0, -82.0, -82.0, -81.0, -81.0, -82.0, -82.0, -82.0, -81.0, -81.0, -84.0, -84.0, -84.0, -85.0, -86.0, -84.0, -84.0, -84.0, -84.0, -89.0, -89.0, -90.0, -89.0, -90.0, -90.0, -90.0, -90.0, -90.0, -91.0, -89.0, -90.0, -89.0, -89.0, -89.0, -89.0, -89.0, -88.0, -88.0, -87.0, -84.0, -84.0, -83.0, -85.0, -84.0, -83.0, -83.0, -83.0, -82.0, -82.0, -83.0, -83.0, -81.0, -78.0, -75.0, -75.0, -76.0, -75.0, -76.0, -76.0, -74.0, -72.0, -72.0, -72.0, -72.0, -75.0, -67.0, -66.0, -66.0, -66.0, -64.0, -63.0, -66.0, -59.0, -60.0, -61.0, -57.0, -59.0, -59.0, -62.0, -58.0, -60.0, -58.0, -60.0, -59.0, -60.0, -71.0, -56.0, -57.0, -58.0, -59.0, -60.0, -63.0, -66.0, -59.0, -57.0, -60.0, -60.0, -62.0, -62.0, -66.0, -60.0, -60.0, -61.0, -61.0, -62.0, -62.0, -65.0, -61.0, -62.0, -65.0, -59.0, -61.0, -61.0, -67.0, -62.0, -60.0], \"y0\": \" \", \"yaxis\": \"y\"}],\n",
              "                        {\"boxmode\": \"group\", \"height\": 400, \"legend\": {\"tracegroupgap\": 0}, \"template\": {\"data\": {\"bar\": [{\"error_x\": {\"color\": \"#f2f5fa\"}, \"error_y\": {\"color\": \"#f2f5fa\"}, \"marker\": {\"line\": {\"color\": \"rgb(17,17,17)\", \"width\": 0.5}}, \"type\": \"bar\"}], \"barpolar\": [{\"marker\": {\"line\": {\"color\": \"rgb(17,17,17)\", \"width\": 0.5}}, \"type\": \"barpolar\"}], \"carpet\": [{\"aaxis\": {\"endlinecolor\": \"#A2B1C6\", \"gridcolor\": \"#506784\", \"linecolor\": \"#506784\", \"minorgridcolor\": \"#506784\", \"startlinecolor\": \"#A2B1C6\"}, \"baxis\": {\"endlinecolor\": \"#A2B1C6\", \"gridcolor\": \"#506784\", \"linecolor\": \"#506784\", \"minorgridcolor\": \"#506784\", \"startlinecolor\": \"#A2B1C6\"}, \"type\": \"carpet\"}], \"choropleth\": [{\"colorbar\": {\"outlinewidth\": 0, \"ticks\": \"\"}, \"type\": \"choropleth\"}], \"contour\": [{\"colorbar\": {\"outlinewidth\": 0, \"ticks\": \"\"}, \"colorscale\": [[0.0, \"#0d0887\"], [0.1111111111111111, \"#46039f\"], [0.2222222222222222, \"#7201a8\"], [0.3333333333333333, \"#9c179e\"], [0.4444444444444444, \"#bd3786\"], [0.5555555555555556, \"#d8576b\"], [0.6666666666666666, \"#ed7953\"], [0.7777777777777778, \"#fb9f3a\"], [0.8888888888888888, \"#fdca26\"], [1.0, \"#f0f921\"]], \"type\": \"contour\"}], \"contourcarpet\": [{\"colorbar\": {\"outlinewidth\": 0, \"ticks\": \"\"}, \"type\": \"contourcarpet\"}], \"heatmap\": [{\"colorbar\": {\"outlinewidth\": 0, \"ticks\": \"\"}, \"colorscale\": [[0.0, \"#0d0887\"], [0.1111111111111111, \"#46039f\"], [0.2222222222222222, \"#7201a8\"], [0.3333333333333333, \"#9c179e\"], [0.4444444444444444, \"#bd3786\"], [0.5555555555555556, \"#d8576b\"], [0.6666666666666666, \"#ed7953\"], [0.7777777777777778, \"#fb9f3a\"], [0.8888888888888888, \"#fdca26\"], [1.0, \"#f0f921\"]], \"type\": \"heatmap\"}], \"heatmapgl\": [{\"colorbar\": {\"outlinewidth\": 0, \"ticks\": \"\"}, \"colorscale\": [[0.0, \"#0d0887\"], [0.1111111111111111, \"#46039f\"], [0.2222222222222222, \"#7201a8\"], [0.3333333333333333, \"#9c179e\"], [0.4444444444444444, \"#bd3786\"], [0.5555555555555556, \"#d8576b\"], [0.6666666666666666, \"#ed7953\"], [0.7777777777777778, \"#fb9f3a\"], [0.8888888888888888, \"#fdca26\"], [1.0, \"#f0f921\"]], \"type\": \"heatmapgl\"}], \"histogram\": [{\"marker\": {\"colorbar\": {\"outlinewidth\": 0, \"ticks\": \"\"}}, \"type\": \"histogram\"}], \"histogram2d\": [{\"colorbar\": {\"outlinewidth\": 0, \"ticks\": \"\"}, \"colorscale\": [[0.0, \"#0d0887\"], [0.1111111111111111, \"#46039f\"], [0.2222222222222222, \"#7201a8\"], [0.3333333333333333, \"#9c179e\"], [0.4444444444444444, \"#bd3786\"], [0.5555555555555556, \"#d8576b\"], [0.6666666666666666, \"#ed7953\"], [0.7777777777777778, \"#fb9f3a\"], [0.8888888888888888, \"#fdca26\"], [1.0, \"#f0f921\"]], \"type\": \"histogram2d\"}], \"histogram2dcontour\": [{\"colorbar\": {\"outlinewidth\": 0, \"ticks\": \"\"}, \"colorscale\": [[0.0, \"#0d0887\"], [0.1111111111111111, \"#46039f\"], [0.2222222222222222, \"#7201a8\"], [0.3333333333333333, \"#9c179e\"], [0.4444444444444444, \"#bd3786\"], [0.5555555555555556, \"#d8576b\"], [0.6666666666666666, \"#ed7953\"], [0.7777777777777778, \"#fb9f3a\"], [0.8888888888888888, \"#fdca26\"], [1.0, \"#f0f921\"]], \"type\": \"histogram2dcontour\"}], \"mesh3d\": [{\"colorbar\": {\"outlinewidth\": 0, \"ticks\": \"\"}, \"type\": \"mesh3d\"}], \"parcoords\": [{\"line\": {\"colorbar\": {\"outlinewidth\": 0, \"ticks\": \"\"}}, \"type\": \"parcoords\"}], \"pie\": [{\"automargin\": true, \"type\": \"pie\"}], \"scatter\": [{\"marker\": {\"line\": {\"color\": \"#283442\"}}, \"type\": \"scatter\"}], \"scatter3d\": [{\"line\": {\"colorbar\": {\"outlinewidth\": 0, \"ticks\": \"\"}}, \"marker\": {\"colorbar\": {\"outlinewidth\": 0, \"ticks\": \"\"}}, \"type\": \"scatter3d\"}], \"scattercarpet\": [{\"marker\": {\"colorbar\": {\"outlinewidth\": 0, \"ticks\": \"\"}}, \"type\": \"scattercarpet\"}], \"scattergeo\": [{\"marker\": {\"colorbar\": {\"outlinewidth\": 0, \"ticks\": \"\"}}, \"type\": \"scattergeo\"}], \"scattergl\": [{\"marker\": {\"line\": {\"color\": \"#283442\"}}, \"type\": \"scattergl\"}], \"scattermapbox\": [{\"marker\": {\"colorbar\": {\"outlinewidth\": 0, \"ticks\": \"\"}}, \"type\": \"scattermapbox\"}], \"scatterpolar\": [{\"marker\": {\"colorbar\": {\"outlinewidth\": 0, \"ticks\": \"\"}}, \"type\": \"scatterpolar\"}], \"scatterpolargl\": [{\"marker\": {\"colorbar\": {\"outlinewidth\": 0, \"ticks\": \"\"}}, \"type\": \"scatterpolargl\"}], \"scatterternary\": [{\"marker\": {\"colorbar\": {\"outlinewidth\": 0, \"ticks\": \"\"}}, \"type\": \"scatterternary\"}], \"surface\": [{\"colorbar\": {\"outlinewidth\": 0, \"ticks\": \"\"}, \"colorscale\": [[0.0, \"#0d0887\"], [0.1111111111111111, \"#46039f\"], [0.2222222222222222, \"#7201a8\"], [0.3333333333333333, \"#9c179e\"], [0.4444444444444444, \"#bd3786\"], [0.5555555555555556, \"#d8576b\"], [0.6666666666666666, \"#ed7953\"], [0.7777777777777778, \"#fb9f3a\"], [0.8888888888888888, \"#fdca26\"], [1.0, \"#f0f921\"]], \"type\": \"surface\"}], \"table\": [{\"cells\": {\"fill\": {\"color\": \"#506784\"}, \"line\": {\"color\": \"rgb(17,17,17)\"}}, \"header\": {\"fill\": {\"color\": \"#2a3f5f\"}, \"line\": {\"color\": \"rgb(17,17,17)\"}}, \"type\": \"table\"}]}, \"layout\": {\"annotationdefaults\": {\"arrowcolor\": \"#f2f5fa\", \"arrowhead\": 0, \"arrowwidth\": 1}, \"coloraxis\": {\"colorbar\": {\"outlinewidth\": 0, \"ticks\": \"\"}}, \"colorscale\": {\"diverging\": [[0, \"#8e0152\"], [0.1, \"#c51b7d\"], [0.2, \"#de77ae\"], [0.3, \"#f1b6da\"], [0.4, \"#fde0ef\"], [0.5, \"#f7f7f7\"], [0.6, \"#e6f5d0\"], [0.7, \"#b8e186\"], [0.8, \"#7fbc41\"], [0.9, \"#4d9221\"], [1, \"#276419\"]], \"sequential\": [[0.0, \"#0d0887\"], [0.1111111111111111, \"#46039f\"], [0.2222222222222222, \"#7201a8\"], [0.3333333333333333, \"#9c179e\"], [0.4444444444444444, \"#bd3786\"], [0.5555555555555556, \"#d8576b\"], [0.6666666666666666, \"#ed7953\"], [0.7777777777777778, \"#fb9f3a\"], [0.8888888888888888, \"#fdca26\"], [1.0, \"#f0f921\"]], \"sequentialminus\": [[0.0, \"#0d0887\"], [0.1111111111111111, \"#46039f\"], [0.2222222222222222, \"#7201a8\"], [0.3333333333333333, \"#9c179e\"], [0.4444444444444444, \"#bd3786\"], [0.5555555555555556, \"#d8576b\"], [0.6666666666666666, \"#ed7953\"], [0.7777777777777778, \"#fb9f3a\"], [0.8888888888888888, \"#fdca26\"], [1.0, \"#f0f921\"]]}, \"colorway\": [\"#636efa\", \"#EF553B\", \"#00cc96\", \"#ab63fa\", \"#FFA15A\", \"#19d3f3\", \"#FF6692\", \"#B6E880\", \"#FF97FF\", \"#FECB52\"], \"font\": {\"color\": \"#f2f5fa\"}, \"geo\": {\"bgcolor\": \"rgb(17,17,17)\", \"lakecolor\": \"rgb(17,17,17)\", \"landcolor\": \"rgb(17,17,17)\", \"showlakes\": true, \"showland\": true, \"subunitcolor\": \"#506784\"}, \"hoverlabel\": {\"align\": \"left\"}, \"hovermode\": \"closest\", \"mapbox\": {\"style\": \"dark\"}, \"paper_bgcolor\": \"rgb(17,17,17)\", \"plot_bgcolor\": \"rgb(17,17,17)\", \"polar\": {\"angularaxis\": {\"gridcolor\": \"#506784\", \"linecolor\": \"#506784\", \"ticks\": \"\"}, \"bgcolor\": \"rgb(17,17,17)\", \"radialaxis\": {\"gridcolor\": \"#506784\", \"linecolor\": \"#506784\", \"ticks\": \"\"}}, \"scene\": {\"xaxis\": {\"backgroundcolor\": \"rgb(17,17,17)\", \"gridcolor\": \"#506784\", \"gridwidth\": 2, \"linecolor\": \"#506784\", \"showbackground\": true, \"ticks\": \"\", \"zerolinecolor\": \"#C8D4E3\"}, \"yaxis\": {\"backgroundcolor\": \"rgb(17,17,17)\", \"gridcolor\": \"#506784\", \"gridwidth\": 2, \"linecolor\": \"#506784\", \"showbackground\": true, \"ticks\": \"\", \"zerolinecolor\": \"#C8D4E3\"}, \"zaxis\": {\"backgroundcolor\": \"rgb(17,17,17)\", \"gridcolor\": \"#506784\", \"gridwidth\": 2, \"linecolor\": \"#506784\", \"showbackground\": true, \"ticks\": \"\", \"zerolinecolor\": \"#C8D4E3\"}}, \"shapedefaults\": {\"line\": {\"color\": \"#f2f5fa\"}}, \"sliderdefaults\": {\"bgcolor\": \"#C8D4E3\", \"bordercolor\": \"rgb(17,17,17)\", \"borderwidth\": 1, \"tickwidth\": 0}, \"ternary\": {\"aaxis\": {\"gridcolor\": \"#506784\", \"linecolor\": \"#506784\", \"ticks\": \"\"}, \"baxis\": {\"gridcolor\": \"#506784\", \"linecolor\": \"#506784\", \"ticks\": \"\"}, \"bgcolor\": \"rgb(17,17,17)\", \"caxis\": {\"gridcolor\": \"#506784\", \"linecolor\": \"#506784\", \"ticks\": \"\"}}, \"title\": {\"x\": 0.05}, \"updatemenudefaults\": {\"bgcolor\": \"#506784\", \"borderwidth\": 0}, \"xaxis\": {\"automargin\": true, \"gridcolor\": \"#283442\", \"linecolor\": \"#506784\", \"ticks\": \"\", \"title\": {\"standoff\": 15}, \"zerolinecolor\": \"#283442\", \"zerolinewidth\": 2}, \"yaxis\": {\"automargin\": true, \"gridcolor\": \"#283442\", \"linecolor\": \"#506784\", \"ticks\": \"\", \"title\": {\"standoff\": 15}, \"zerolinecolor\": \"#283442\", \"zerolinewidth\": 2}}}, \"title\": {\"text\": \"Recreation\"}, \"width\": 600, \"xaxis\": {\"anchor\": \"y\", \"domain\": [0.0, 1.0], \"title\": {\"text\": \"Lockdown\"}}, \"yaxis\": {\"anchor\": \"x\", \"domain\": [0.0, 1.0], \"title\": {\"text\": \"Recreation\"}}},\n",
              "                        {\"responsive\": true}\n",
              "                    ).then(function(){\n",
              "                            \n",
              "var gd = document.getElementById('0b5b7eec-73af-43ce-aa41-463e39bff74f');\n",
              "var x = new MutationObserver(function (mutations, observer) {{\n",
              "        var display = window.getComputedStyle(gd).display;\n",
              "        if (!display || display === 'none') {{\n",
              "            console.log([gd, 'removed!']);\n",
              "            Plotly.purge(gd);\n",
              "            observer.disconnect();\n",
              "        }}\n",
              "}});\n",
              "\n",
              "// Listen for the removal of the full notebook cells\n",
              "var notebookContainer = gd.closest('#notebook-container');\n",
              "if (notebookContainer) {{\n",
              "    x.observe(notebookContainer, {childList: true});\n",
              "}}\n",
              "\n",
              "// Listen for the clearing of the current output cell\n",
              "var outputEl = gd.closest('.output');\n",
              "if (outputEl) {{\n",
              "    x.observe(outputEl, {childList: true});\n",
              "}}\n",
              "\n",
              "                        })\n",
              "                };\n",
              "                \n",
              "            </script>\n",
              "        </div>\n",
              "</body>\n",
              "</html>"
            ]
          },
          "metadata": {
            "tags": []
          }
        },
        {
          "output_type": "display_data",
          "data": {
            "text/html": [
              "<html>\n",
              "<head><meta charset=\"utf-8\" /></head>\n",
              "<body>\n",
              "    <div>\n",
              "            <script src=\"https://cdnjs.cloudflare.com/ajax/libs/mathjax/2.7.5/MathJax.js?config=TeX-AMS-MML_SVG\"></script><script type=\"text/javascript\">if (window.MathJax) {MathJax.Hub.Config({SVG: {font: \"STIX-Web\"}});}</script>\n",
              "                <script type=\"text/javascript\">window.PlotlyConfig = {MathJaxConfig: 'local'};</script>\n",
              "        <script src=\"https://cdn.plot.ly/plotly-latest.min.js\"></script>    \n",
              "            <div id=\"65038819-5e65-48f6-96eb-85923f3c4692\" class=\"plotly-graph-div\" style=\"height:400px; width:600px;\"></div>\n",
              "            <script type=\"text/javascript\">\n",
              "                \n",
              "                    window.PLOTLYENV=window.PLOTLYENV || {};\n",
              "                    \n",
              "                if (document.getElementById(\"65038819-5e65-48f6-96eb-85923f3c4692\")) {\n",
              "                    Plotly.newPlot(\n",
              "                        '65038819-5e65-48f6-96eb-85923f3c4692',\n",
              "                        [{\"alignmentgroup\": \"True\", \"hoverlabel\": {\"namelength\": 0}, \"hovertemplate\": \"State=Andhra Pradesh<br>Lockdown=%{x}<br>Grocery_and_Pharmacy=%{y}\", \"legendgroup\": \"State=Andhra Pradesh\", \"marker\": {\"color\": \"#636efa\"}, \"name\": \"State=Andhra Pradesh\", \"notched\": false, \"offsetgroup\": \"State=Andhra Pradesh\", \"orientation\": \"v\", \"showlegend\": true, \"type\": \"box\", \"x\": [\"Pre-Lockdown\", \"Pre-Lockdown\", \"Pre-Lockdown\", \"Pre-Lockdown\", \"Pre-Lockdown\", \"Pre-Lockdown\", \"Pre-Lockdown\", \"Pre-Lockdown\", \"Pre-Lockdown\", \"Pre-Lockdown\", \"Pre-Lockdown\", \"Pre-Lockdown\", \"Pre-Lockdown\", \"Pre-Lockdown\", \"Pre-Lockdown\", \"Pre-Lockdown\", \"Pre-Lockdown\", \"Pre-Lockdown\", \"Pre-Lockdown\", \"Pre-Lockdown\", \"Pre-Lockdown\", \"Pre-Lockdown\", \"Pre-Lockdown\", \"Pre-Lockdown\", \"Pre-Lockdown\", \"Pre-Lockdown\", \"Pre-Lockdown\", \"Pre-Lockdown\", \"Pre-Lockdown\", \"Pre-Lockdown\", \"Pre-Lockdown\", \"Pre-Lockdown\", \"Pre-Lockdown\", \"Pre-Lockdown\", \"Pre-Lockdown\", \"Pre-Lockdown\", \"During-Lockdown\", \"During-Lockdown\", \"During-Lockdown\", \"During-Lockdown\", \"During-Lockdown\", \"During-Lockdown\", \"During-Lockdown\", \"During-Lockdown\", \"During-Lockdown\", \"During-Lockdown\", \"During-Lockdown\", \"During-Lockdown\", \"During-Lockdown\", \"During-Lockdown\", \"During-Lockdown\", \"During-Lockdown\", \"During-Lockdown\", \"During-Lockdown\", \"During-Lockdown\", \"During-Lockdown\", \"During-Lockdown\", \"During-Lockdown\", \"During-Lockdown\", \"During-Lockdown\", \"During-Lockdown\", \"During-Lockdown\", \"During-Lockdown\", \"During-Lockdown\", \"During-Lockdown\", \"During-Lockdown\", \"During-Lockdown\", \"During-Lockdown\", \"During-Lockdown\", \"During-Lockdown\", \"During-Lockdown\", \"During-Lockdown\", \"During-Lockdown\", \"During-Lockdown\", \"During-Lockdown\", \"During-Lockdown\", \"During-Lockdown\", \"During-Lockdown\", \"During-Lockdown\", \"During-Lockdown\", \"During-Lockdown\", \"During-Lockdown\", \"During-Lockdown\", \"During-Lockdown\", \"During-Lockdown\", \"During-Lockdown\", \"During-Lockdown\", \"During-Lockdown\", \"During-Lockdown\", \"During-Lockdown\", \"During-Lockdown\", \"During-Lockdown\", \"During-Lockdown\", \"During-Lockdown\", \"During-Lockdown\", \"During-Lockdown\", \"During-Lockdown\", \"During-Lockdown\", \"During-Lockdown\", \"During-Lockdown\", \"During-Lockdown\", \"During-Lockdown\", \"During-Lockdown\", \"During-Lockdown\", \"During-Lockdown\", \"During-Lockdown\", \"During-Lockdown\", \"During-Lockdown\", \"During-Lockdown\", \"During-Lockdown\", \"During-Lockdown\", \"During-Lockdown\", \"During-Lockdown\", \"During-Lockdown\", \"During-Lockdown\", \"During-Lockdown\", \"During-Lockdown\", \"During-Lockdown\", \"During-Lockdown\", \"During-Lockdown\", \"During-Lockdown\", \"During-Lockdown\", \"During-Lockdown\", \"During-Lockdown\", \"During-Lockdown\", \"During-Lockdown\", \"During-Lockdown\", \"During-Lockdown\", \"During-Lockdown\", \"During-Lockdown\", \"During-Lockdown\", \"During-Lockdown\", \"During-Lockdown\", \"During-Lockdown\", \"During-Lockdown\", \"During-Lockdown\", \"During-Lockdown\", \"During-Lockdown\", \"During-Lockdown\", \"During-Lockdown\", \"During-Lockdown\", \"During-Lockdown\", \"During-Lockdown\", \"During-Lockdown\", \"During-Lockdown\", \"During-Lockdown\", \"During-Lockdown\", \"During-Lockdown\", \"During-Lockdown\", \"During-Lockdown\", \"During-Lockdown\", \"During-Lockdown\", \"During-Lockdown\", \"During-Lockdown\", \"During-Lockdown\", \"During-Lockdown\", \"During-Lockdown\", \"During-Lockdown\"], \"x0\": \" \", \"xaxis\": \"x\", \"y\": [-1.0, 1.0, -1.0, 1.0, 0.0, 5.0, -6.0, -5.0, -3.0, -1.0, 0.0, -2.0, 0.0, -2.0, -1.0, 3.0, 1.0, 2.0, 5.0, 5.0, 4.0, 3.0, 4.0, 3.0, 4.0, 1.0, 1.0, -1.0, 0.0, -1.0, 1.0, 1.0, 2.0, 7.0, 13.0, 21.0, -76.0, -13.0, -45.0, -60.0, -56.0, -56.0, -57.0, -54.0, -59.0, -56.0, -58.0, -61.0, -60.0, -61.0, -57.0, -60.0, -48.0, -48.0, -50.0, -50.0, -51.0, -53.0, -51.0, -50.0, -46.0, -39.0, -40.0, -45.0, -46.0, -47.0, -44.0, -45.0, -44.0, -43.0, -46.0, -46.0, -48.0, -44.0, -43.0, -42.0, -42.0, -42.0, -42.0, -35.0, -32.0, -28.0, -28.0, -27.0, -29.0, -31.0, -29.0, -27.0, -27.0, -26.0, -25.0, -25.0, -28.0, -23.0, -22.0, -19.0, -19.0, -18.0, -15.0, -16.0, -16.0, -12.0, -8.0, -7.0, -7.0, -3.0, -9.0, -1.0, 2.0, 7.0, 7.0, 6.0, 4.0, -3.0, 7.0, 5.0, 7.0, 7.0, 7.0, 10.0, 0.0, 8.0, 8.0, 9.0, 5.0, 3.0, 3.0, -25.0, 3.0, 1.0, 4.0, 2.0, 0.0, -3.0, -12.0, -3.0, -2.0, -1.0, -1.0, 0.0, -3.0, -12.0, -4.0, -1.0, -1.0, -3.0, -2.0, -4.0, -13.0, -8.0, -10.0, -16.0, -9.0, -10.0, -13.0, -27.0, -16.0, -13.0], \"y0\": \" \", \"yaxis\": \"y\"}, {\"alignmentgroup\": \"True\", \"hoverlabel\": {\"namelength\": 0}, \"hovertemplate\": \"State=Telangana<br>Lockdown=%{x}<br>Grocery_and_Pharmacy=%{y}\", \"legendgroup\": \"State=Telangana\", \"marker\": {\"color\": \"#EF553B\"}, \"name\": \"State=Telangana\", \"notched\": false, \"offsetgroup\": \"State=Telangana\", \"orientation\": \"v\", \"showlegend\": true, \"type\": \"box\", \"x\": [\"Pre-Lockdown\", \"Pre-Lockdown\", \"Pre-Lockdown\", \"Pre-Lockdown\", \"Pre-Lockdown\", \"Pre-Lockdown\", \"Pre-Lockdown\", \"Pre-Lockdown\", \"Pre-Lockdown\", \"Pre-Lockdown\", \"Pre-Lockdown\", \"Pre-Lockdown\", \"Pre-Lockdown\", \"Pre-Lockdown\", \"Pre-Lockdown\", \"Pre-Lockdown\", \"Pre-Lockdown\", \"Pre-Lockdown\", \"Pre-Lockdown\", \"Pre-Lockdown\", \"Pre-Lockdown\", \"Pre-Lockdown\", \"Pre-Lockdown\", \"Pre-Lockdown\", \"Pre-Lockdown\", \"Pre-Lockdown\", \"Pre-Lockdown\", \"Pre-Lockdown\", \"Pre-Lockdown\", \"Pre-Lockdown\", \"Pre-Lockdown\", \"Pre-Lockdown\", \"Pre-Lockdown\", \"Pre-Lockdown\", \"Pre-Lockdown\", \"Pre-Lockdown\", \"During-Lockdown\", \"During-Lockdown\", \"During-Lockdown\", \"During-Lockdown\", \"During-Lockdown\", \"During-Lockdown\", \"During-Lockdown\", \"During-Lockdown\", \"During-Lockdown\", \"During-Lockdown\", \"During-Lockdown\", \"During-Lockdown\", \"During-Lockdown\", \"During-Lockdown\", \"During-Lockdown\", \"During-Lockdown\", \"During-Lockdown\", \"During-Lockdown\", \"During-Lockdown\", \"During-Lockdown\", \"During-Lockdown\", \"During-Lockdown\", \"During-Lockdown\", \"During-Lockdown\", \"During-Lockdown\", \"During-Lockdown\", \"During-Lockdown\", \"During-Lockdown\", \"During-Lockdown\", \"During-Lockdown\", \"During-Lockdown\", \"During-Lockdown\", \"During-Lockdown\", \"During-Lockdown\", \"During-Lockdown\", \"During-Lockdown\", \"During-Lockdown\", \"During-Lockdown\", \"During-Lockdown\", \"During-Lockdown\", \"During-Lockdown\", \"During-Lockdown\", \"During-Lockdown\", \"During-Lockdown\", \"During-Lockdown\", \"During-Lockdown\", \"During-Lockdown\", \"During-Lockdown\", \"During-Lockdown\", \"During-Lockdown\", \"During-Lockdown\", \"During-Lockdown\", \"During-Lockdown\", \"During-Lockdown\", \"During-Lockdown\", \"During-Lockdown\", \"During-Lockdown\", \"During-Lockdown\", \"During-Lockdown\", \"During-Lockdown\", \"During-Lockdown\", \"During-Lockdown\", \"During-Lockdown\", \"During-Lockdown\", \"During-Lockdown\", \"During-Lockdown\", \"During-Lockdown\", \"During-Lockdown\", \"During-Lockdown\", \"During-Lockdown\", \"During-Lockdown\", \"During-Lockdown\", \"During-Lockdown\", \"During-Lockdown\", \"During-Lockdown\", \"During-Lockdown\", \"During-Lockdown\", \"During-Lockdown\", \"During-Lockdown\", \"During-Lockdown\", \"During-Lockdown\", \"During-Lockdown\", \"During-Lockdown\", \"During-Lockdown\", \"During-Lockdown\", \"During-Lockdown\", \"During-Lockdown\", \"During-Lockdown\", \"During-Lockdown\", \"During-Lockdown\", \"During-Lockdown\", \"During-Lockdown\", \"During-Lockdown\", \"During-Lockdown\", \"During-Lockdown\", \"During-Lockdown\", \"During-Lockdown\", \"During-Lockdown\", \"During-Lockdown\", \"During-Lockdown\", \"During-Lockdown\", \"During-Lockdown\", \"During-Lockdown\", \"During-Lockdown\", \"During-Lockdown\", \"During-Lockdown\", \"During-Lockdown\", \"During-Lockdown\", \"During-Lockdown\", \"During-Lockdown\", \"During-Lockdown\", \"During-Lockdown\", \"During-Lockdown\", \"During-Lockdown\", \"During-Lockdown\", \"During-Lockdown\", \"During-Lockdown\", \"During-Lockdown\", \"During-Lockdown\", \"During-Lockdown\", \"During-Lockdown\", \"During-Lockdown\"], \"x0\": \" \", \"xaxis\": \"x\", \"y\": [0.0, 4.0, 3.0, 3.0, 4.0, 9.0, 6.0, -6.0, 0.0, 2.0, 2.0, 1.0, 2.0, 2.0, 2.0, 7.0, 4.0, 5.0, 12.0, 7.0, 8.0, 5.0, 6.0, -1.0, 3.0, 4.0, 2.0, 3.0, 5.0, 5.0, 4.0, 3.0, 5.0, 1.0, 8.0, 19.0, -83.0, -23.0, -45.0, -57.0, -59.0, -59.0, -61.0, -59.0, -61.0, -60.0, -61.0, -63.0, -60.0, -61.0, -59.0, -62.0, -52.0, -52.0, -52.0, -52.0, -56.0, -52.0, -54.0, -54.0, -52.0, -47.0, -48.0, -54.0, -50.0, -53.0, -53.0, -55.0, -53.0, -50.0, -53.0, -49.0, -52.0, -51.0, -49.0, -49.0, -48.0, -48.0, -45.0, -46.0, -44.0, -33.0, -34.0, -30.0, -36.0, -31.0, -33.0, -32.0, -31.0, -31.0, -29.0, -32.0, -31.0, -30.0, -24.0, -19.0, -20.0, -20.0, -19.0, -18.0, -24.0, -20.0, -15.0, -15.0, -13.0, -14.0, -20.0, -4.0, -3.0, -1.0, -3.0, -2.0, -4.0, -7.0, -1.0, -3.0, -8.0, 1.0, 0.0, -1.0, -4.0, -3.0, -8.0, -2.0, -11.0, -1.0, -7.0, -30.0, -1.0, -4.0, -5.0, -6.0, -4.0, -14.0, -14.0, -5.0, -2.0, -8.0, -8.0, -8.0, -11.0, -18.0, -10.0, -9.0, -12.0, -11.0, -10.0, -13.0, -16.0, -13.0, -15.0, -22.0, -7.0, -7.0, -11.0, -18.0, -15.0, -11.0], \"y0\": \" \", \"yaxis\": \"y\"}],\n",
              "                        {\"boxmode\": \"group\", \"height\": 400, \"legend\": {\"tracegroupgap\": 0}, \"template\": {\"data\": {\"bar\": [{\"error_x\": {\"color\": \"#f2f5fa\"}, \"error_y\": {\"color\": \"#f2f5fa\"}, \"marker\": {\"line\": {\"color\": \"rgb(17,17,17)\", \"width\": 0.5}}, \"type\": \"bar\"}], \"barpolar\": [{\"marker\": {\"line\": {\"color\": \"rgb(17,17,17)\", \"width\": 0.5}}, \"type\": \"barpolar\"}], \"carpet\": [{\"aaxis\": {\"endlinecolor\": \"#A2B1C6\", \"gridcolor\": \"#506784\", \"linecolor\": \"#506784\", \"minorgridcolor\": \"#506784\", \"startlinecolor\": \"#A2B1C6\"}, \"baxis\": {\"endlinecolor\": \"#A2B1C6\", \"gridcolor\": \"#506784\", \"linecolor\": \"#506784\", \"minorgridcolor\": \"#506784\", \"startlinecolor\": \"#A2B1C6\"}, \"type\": \"carpet\"}], \"choropleth\": [{\"colorbar\": {\"outlinewidth\": 0, \"ticks\": \"\"}, \"type\": \"choropleth\"}], \"contour\": [{\"colorbar\": {\"outlinewidth\": 0, \"ticks\": \"\"}, \"colorscale\": [[0.0, \"#0d0887\"], [0.1111111111111111, \"#46039f\"], [0.2222222222222222, \"#7201a8\"], [0.3333333333333333, \"#9c179e\"], [0.4444444444444444, \"#bd3786\"], [0.5555555555555556, \"#d8576b\"], [0.6666666666666666, \"#ed7953\"], [0.7777777777777778, \"#fb9f3a\"], [0.8888888888888888, \"#fdca26\"], [1.0, \"#f0f921\"]], \"type\": \"contour\"}], \"contourcarpet\": [{\"colorbar\": {\"outlinewidth\": 0, \"ticks\": \"\"}, \"type\": \"contourcarpet\"}], \"heatmap\": [{\"colorbar\": {\"outlinewidth\": 0, \"ticks\": \"\"}, \"colorscale\": [[0.0, \"#0d0887\"], [0.1111111111111111, \"#46039f\"], [0.2222222222222222, \"#7201a8\"], [0.3333333333333333, \"#9c179e\"], [0.4444444444444444, \"#bd3786\"], [0.5555555555555556, \"#d8576b\"], [0.6666666666666666, \"#ed7953\"], [0.7777777777777778, \"#fb9f3a\"], [0.8888888888888888, \"#fdca26\"], [1.0, \"#f0f921\"]], \"type\": \"heatmap\"}], \"heatmapgl\": [{\"colorbar\": {\"outlinewidth\": 0, \"ticks\": \"\"}, \"colorscale\": [[0.0, \"#0d0887\"], [0.1111111111111111, \"#46039f\"], [0.2222222222222222, \"#7201a8\"], [0.3333333333333333, \"#9c179e\"], [0.4444444444444444, \"#bd3786\"], [0.5555555555555556, \"#d8576b\"], [0.6666666666666666, \"#ed7953\"], [0.7777777777777778, \"#fb9f3a\"], [0.8888888888888888, \"#fdca26\"], [1.0, \"#f0f921\"]], \"type\": \"heatmapgl\"}], \"histogram\": [{\"marker\": {\"colorbar\": {\"outlinewidth\": 0, \"ticks\": \"\"}}, \"type\": \"histogram\"}], \"histogram2d\": [{\"colorbar\": {\"outlinewidth\": 0, \"ticks\": \"\"}, \"colorscale\": [[0.0, \"#0d0887\"], [0.1111111111111111, \"#46039f\"], [0.2222222222222222, \"#7201a8\"], [0.3333333333333333, \"#9c179e\"], [0.4444444444444444, \"#bd3786\"], [0.5555555555555556, \"#d8576b\"], [0.6666666666666666, \"#ed7953\"], [0.7777777777777778, \"#fb9f3a\"], [0.8888888888888888, \"#fdca26\"], [1.0, \"#f0f921\"]], \"type\": \"histogram2d\"}], \"histogram2dcontour\": [{\"colorbar\": {\"outlinewidth\": 0, \"ticks\": \"\"}, \"colorscale\": [[0.0, \"#0d0887\"], [0.1111111111111111, \"#46039f\"], [0.2222222222222222, \"#7201a8\"], [0.3333333333333333, \"#9c179e\"], [0.4444444444444444, \"#bd3786\"], [0.5555555555555556, \"#d8576b\"], [0.6666666666666666, \"#ed7953\"], [0.7777777777777778, \"#fb9f3a\"], [0.8888888888888888, \"#fdca26\"], [1.0, \"#f0f921\"]], \"type\": \"histogram2dcontour\"}], \"mesh3d\": [{\"colorbar\": {\"outlinewidth\": 0, \"ticks\": \"\"}, \"type\": \"mesh3d\"}], \"parcoords\": [{\"line\": {\"colorbar\": {\"outlinewidth\": 0, \"ticks\": \"\"}}, \"type\": \"parcoords\"}], \"pie\": [{\"automargin\": true, \"type\": \"pie\"}], \"scatter\": [{\"marker\": {\"line\": {\"color\": \"#283442\"}}, \"type\": \"scatter\"}], \"scatter3d\": [{\"line\": {\"colorbar\": {\"outlinewidth\": 0, \"ticks\": \"\"}}, \"marker\": {\"colorbar\": {\"outlinewidth\": 0, \"ticks\": \"\"}}, \"type\": \"scatter3d\"}], \"scattercarpet\": [{\"marker\": {\"colorbar\": {\"outlinewidth\": 0, \"ticks\": \"\"}}, \"type\": \"scattercarpet\"}], \"scattergeo\": [{\"marker\": {\"colorbar\": {\"outlinewidth\": 0, \"ticks\": \"\"}}, \"type\": \"scattergeo\"}], \"scattergl\": [{\"marker\": {\"line\": {\"color\": \"#283442\"}}, \"type\": \"scattergl\"}], \"scattermapbox\": [{\"marker\": {\"colorbar\": {\"outlinewidth\": 0, \"ticks\": \"\"}}, \"type\": \"scattermapbox\"}], \"scatterpolar\": [{\"marker\": {\"colorbar\": {\"outlinewidth\": 0, \"ticks\": \"\"}}, \"type\": \"scatterpolar\"}], \"scatterpolargl\": [{\"marker\": {\"colorbar\": {\"outlinewidth\": 0, \"ticks\": \"\"}}, \"type\": \"scatterpolargl\"}], \"scatterternary\": [{\"marker\": {\"colorbar\": {\"outlinewidth\": 0, \"ticks\": \"\"}}, \"type\": \"scatterternary\"}], \"surface\": [{\"colorbar\": {\"outlinewidth\": 0, \"ticks\": \"\"}, \"colorscale\": [[0.0, \"#0d0887\"], [0.1111111111111111, \"#46039f\"], [0.2222222222222222, \"#7201a8\"], [0.3333333333333333, \"#9c179e\"], [0.4444444444444444, \"#bd3786\"], [0.5555555555555556, \"#d8576b\"], [0.6666666666666666, \"#ed7953\"], [0.7777777777777778, \"#fb9f3a\"], [0.8888888888888888, \"#fdca26\"], [1.0, \"#f0f921\"]], \"type\": \"surface\"}], \"table\": [{\"cells\": {\"fill\": {\"color\": \"#506784\"}, \"line\": {\"color\": \"rgb(17,17,17)\"}}, \"header\": {\"fill\": {\"color\": \"#2a3f5f\"}, \"line\": {\"color\": \"rgb(17,17,17)\"}}, \"type\": \"table\"}]}, \"layout\": {\"annotationdefaults\": {\"arrowcolor\": \"#f2f5fa\", \"arrowhead\": 0, \"arrowwidth\": 1}, \"coloraxis\": {\"colorbar\": {\"outlinewidth\": 0, \"ticks\": \"\"}}, \"colorscale\": {\"diverging\": [[0, \"#8e0152\"], [0.1, \"#c51b7d\"], [0.2, \"#de77ae\"], [0.3, \"#f1b6da\"], [0.4, \"#fde0ef\"], [0.5, \"#f7f7f7\"], [0.6, \"#e6f5d0\"], [0.7, \"#b8e186\"], [0.8, \"#7fbc41\"], [0.9, \"#4d9221\"], [1, \"#276419\"]], \"sequential\": [[0.0, \"#0d0887\"], [0.1111111111111111, \"#46039f\"], [0.2222222222222222, \"#7201a8\"], [0.3333333333333333, \"#9c179e\"], [0.4444444444444444, \"#bd3786\"], [0.5555555555555556, \"#d8576b\"], [0.6666666666666666, \"#ed7953\"], [0.7777777777777778, \"#fb9f3a\"], [0.8888888888888888, \"#fdca26\"], [1.0, \"#f0f921\"]], \"sequentialminus\": [[0.0, \"#0d0887\"], [0.1111111111111111, \"#46039f\"], [0.2222222222222222, \"#7201a8\"], [0.3333333333333333, \"#9c179e\"], [0.4444444444444444, \"#bd3786\"], [0.5555555555555556, \"#d8576b\"], [0.6666666666666666, \"#ed7953\"], [0.7777777777777778, \"#fb9f3a\"], [0.8888888888888888, \"#fdca26\"], [1.0, \"#f0f921\"]]}, \"colorway\": [\"#636efa\", \"#EF553B\", \"#00cc96\", \"#ab63fa\", \"#FFA15A\", \"#19d3f3\", \"#FF6692\", \"#B6E880\", \"#FF97FF\", \"#FECB52\"], \"font\": {\"color\": \"#f2f5fa\"}, \"geo\": {\"bgcolor\": \"rgb(17,17,17)\", \"lakecolor\": \"rgb(17,17,17)\", \"landcolor\": \"rgb(17,17,17)\", \"showlakes\": true, \"showland\": true, \"subunitcolor\": \"#506784\"}, \"hoverlabel\": {\"align\": \"left\"}, \"hovermode\": \"closest\", \"mapbox\": {\"style\": \"dark\"}, \"paper_bgcolor\": \"rgb(17,17,17)\", \"plot_bgcolor\": \"rgb(17,17,17)\", \"polar\": {\"angularaxis\": {\"gridcolor\": \"#506784\", \"linecolor\": \"#506784\", \"ticks\": \"\"}, \"bgcolor\": \"rgb(17,17,17)\", \"radialaxis\": {\"gridcolor\": \"#506784\", \"linecolor\": \"#506784\", \"ticks\": \"\"}}, \"scene\": {\"xaxis\": {\"backgroundcolor\": \"rgb(17,17,17)\", \"gridcolor\": \"#506784\", \"gridwidth\": 2, \"linecolor\": \"#506784\", \"showbackground\": true, \"ticks\": \"\", \"zerolinecolor\": \"#C8D4E3\"}, \"yaxis\": {\"backgroundcolor\": \"rgb(17,17,17)\", \"gridcolor\": \"#506784\", \"gridwidth\": 2, \"linecolor\": \"#506784\", \"showbackground\": true, \"ticks\": \"\", \"zerolinecolor\": \"#C8D4E3\"}, \"zaxis\": {\"backgroundcolor\": \"rgb(17,17,17)\", \"gridcolor\": \"#506784\", \"gridwidth\": 2, \"linecolor\": \"#506784\", \"showbackground\": true, \"ticks\": \"\", \"zerolinecolor\": \"#C8D4E3\"}}, \"shapedefaults\": {\"line\": {\"color\": \"#f2f5fa\"}}, \"sliderdefaults\": {\"bgcolor\": \"#C8D4E3\", \"bordercolor\": \"rgb(17,17,17)\", \"borderwidth\": 1, \"tickwidth\": 0}, \"ternary\": {\"aaxis\": {\"gridcolor\": \"#506784\", \"linecolor\": \"#506784\", \"ticks\": \"\"}, \"baxis\": {\"gridcolor\": \"#506784\", \"linecolor\": \"#506784\", \"ticks\": \"\"}, \"bgcolor\": \"rgb(17,17,17)\", \"caxis\": {\"gridcolor\": \"#506784\", \"linecolor\": \"#506784\", \"ticks\": \"\"}}, \"title\": {\"x\": 0.05}, \"updatemenudefaults\": {\"bgcolor\": \"#506784\", \"borderwidth\": 0}, \"xaxis\": {\"automargin\": true, \"gridcolor\": \"#283442\", \"linecolor\": \"#506784\", \"ticks\": \"\", \"title\": {\"standoff\": 15}, \"zerolinecolor\": \"#283442\", \"zerolinewidth\": 2}, \"yaxis\": {\"automargin\": true, \"gridcolor\": \"#283442\", \"linecolor\": \"#506784\", \"ticks\": \"\", \"title\": {\"standoff\": 15}, \"zerolinecolor\": \"#283442\", \"zerolinewidth\": 2}}}, \"title\": {\"text\": \"Grocery_and_Pharmacy\"}, \"width\": 600, \"xaxis\": {\"anchor\": \"y\", \"domain\": [0.0, 1.0], \"title\": {\"text\": \"Lockdown\"}}, \"yaxis\": {\"anchor\": \"x\", \"domain\": [0.0, 1.0], \"title\": {\"text\": \"Grocery_and_Pharmacy\"}}},\n",
              "                        {\"responsive\": true}\n",
              "                    ).then(function(){\n",
              "                            \n",
              "var gd = document.getElementById('65038819-5e65-48f6-96eb-85923f3c4692');\n",
              "var x = new MutationObserver(function (mutations, observer) {{\n",
              "        var display = window.getComputedStyle(gd).display;\n",
              "        if (!display || display === 'none') {{\n",
              "            console.log([gd, 'removed!']);\n",
              "            Plotly.purge(gd);\n",
              "            observer.disconnect();\n",
              "        }}\n",
              "}});\n",
              "\n",
              "// Listen for the removal of the full notebook cells\n",
              "var notebookContainer = gd.closest('#notebook-container');\n",
              "if (notebookContainer) {{\n",
              "    x.observe(notebookContainer, {childList: true});\n",
              "}}\n",
              "\n",
              "// Listen for the clearing of the current output cell\n",
              "var outputEl = gd.closest('.output');\n",
              "if (outputEl) {{\n",
              "    x.observe(outputEl, {childList: true});\n",
              "}}\n",
              "\n",
              "                        })\n",
              "                };\n",
              "                \n",
              "            </script>\n",
              "        </div>\n",
              "</body>\n",
              "</html>"
            ]
          },
          "metadata": {
            "tags": []
          }
        },
        {
          "output_type": "display_data",
          "data": {
            "text/html": [
              "<html>\n",
              "<head><meta charset=\"utf-8\" /></head>\n",
              "<body>\n",
              "    <div>\n",
              "            <script src=\"https://cdnjs.cloudflare.com/ajax/libs/mathjax/2.7.5/MathJax.js?config=TeX-AMS-MML_SVG\"></script><script type=\"text/javascript\">if (window.MathJax) {MathJax.Hub.Config({SVG: {font: \"STIX-Web\"}});}</script>\n",
              "                <script type=\"text/javascript\">window.PlotlyConfig = {MathJaxConfig: 'local'};</script>\n",
              "        <script src=\"https://cdn.plot.ly/plotly-latest.min.js\"></script>    \n",
              "            <div id=\"6ee4b408-e2ac-463f-abd6-10a76828f64b\" class=\"plotly-graph-div\" style=\"height:400px; width:600px;\"></div>\n",
              "            <script type=\"text/javascript\">\n",
              "                \n",
              "                    window.PLOTLYENV=window.PLOTLYENV || {};\n",
              "                    \n",
              "                if (document.getElementById(\"6ee4b408-e2ac-463f-abd6-10a76828f64b\")) {\n",
              "                    Plotly.newPlot(\n",
              "                        '6ee4b408-e2ac-463f-abd6-10a76828f64b',\n",
              "                        [{\"alignmentgroup\": \"True\", \"hoverlabel\": {\"namelength\": 0}, \"hovertemplate\": \"State=Andhra Pradesh<br>Lockdown=%{x}<br>Parks=%{y}\", \"legendgroup\": \"State=Andhra Pradesh\", \"marker\": {\"color\": \"#636efa\"}, \"name\": \"State=Andhra Pradesh\", \"notched\": false, \"offsetgroup\": \"State=Andhra Pradesh\", \"orientation\": \"v\", \"showlegend\": true, \"type\": \"box\", \"x\": [\"Pre-Lockdown\", \"Pre-Lockdown\", \"Pre-Lockdown\", \"Pre-Lockdown\", \"Pre-Lockdown\", \"Pre-Lockdown\", \"Pre-Lockdown\", \"Pre-Lockdown\", \"Pre-Lockdown\", \"Pre-Lockdown\", \"Pre-Lockdown\", \"Pre-Lockdown\", \"Pre-Lockdown\", \"Pre-Lockdown\", \"Pre-Lockdown\", \"Pre-Lockdown\", \"Pre-Lockdown\", \"Pre-Lockdown\", \"Pre-Lockdown\", \"Pre-Lockdown\", \"Pre-Lockdown\", \"Pre-Lockdown\", \"Pre-Lockdown\", \"Pre-Lockdown\", \"Pre-Lockdown\", \"Pre-Lockdown\", \"Pre-Lockdown\", \"Pre-Lockdown\", \"Pre-Lockdown\", \"Pre-Lockdown\", \"Pre-Lockdown\", \"Pre-Lockdown\", \"Pre-Lockdown\", \"Pre-Lockdown\", \"Pre-Lockdown\", \"Pre-Lockdown\", \"During-Lockdown\", \"During-Lockdown\", \"During-Lockdown\", \"During-Lockdown\", \"During-Lockdown\", \"During-Lockdown\", \"During-Lockdown\", \"During-Lockdown\", \"During-Lockdown\", \"During-Lockdown\", \"During-Lockdown\", \"During-Lockdown\", \"During-Lockdown\", \"During-Lockdown\", \"During-Lockdown\", \"During-Lockdown\", \"During-Lockdown\", \"During-Lockdown\", \"During-Lockdown\", \"During-Lockdown\", \"During-Lockdown\", \"During-Lockdown\", \"During-Lockdown\", \"During-Lockdown\", \"During-Lockdown\", \"During-Lockdown\", \"During-Lockdown\", \"During-Lockdown\", \"During-Lockdown\", \"During-Lockdown\", \"During-Lockdown\", \"During-Lockdown\", \"During-Lockdown\", \"During-Lockdown\", \"During-Lockdown\", \"During-Lockdown\", \"During-Lockdown\", \"During-Lockdown\", \"During-Lockdown\", \"During-Lockdown\", \"During-Lockdown\", \"During-Lockdown\", \"During-Lockdown\", \"During-Lockdown\", \"During-Lockdown\", \"During-Lockdown\", \"During-Lockdown\", \"During-Lockdown\", \"During-Lockdown\", \"During-Lockdown\", \"During-Lockdown\", \"During-Lockdown\", \"During-Lockdown\", \"During-Lockdown\", \"During-Lockdown\", \"During-Lockdown\", \"During-Lockdown\", \"During-Lockdown\", \"During-Lockdown\", \"During-Lockdown\", \"During-Lockdown\", \"During-Lockdown\", \"During-Lockdown\", \"During-Lockdown\", \"During-Lockdown\", \"During-Lockdown\", \"During-Lockdown\", \"During-Lockdown\", \"During-Lockdown\", \"During-Lockdown\", \"During-Lockdown\", \"During-Lockdown\", \"During-Lockdown\", \"During-Lockdown\", \"During-Lockdown\", \"During-Lockdown\", \"During-Lockdown\", \"During-Lockdown\", \"During-Lockdown\", \"During-Lockdown\", \"During-Lockdown\", \"During-Lockdown\", \"During-Lockdown\", \"During-Lockdown\", \"During-Lockdown\", \"During-Lockdown\", \"During-Lockdown\", \"During-Lockdown\", \"During-Lockdown\", \"During-Lockdown\", \"During-Lockdown\", \"During-Lockdown\", \"During-Lockdown\", \"During-Lockdown\", \"During-Lockdown\", \"During-Lockdown\", \"During-Lockdown\", \"During-Lockdown\", \"During-Lockdown\", \"During-Lockdown\", \"During-Lockdown\", \"During-Lockdown\", \"During-Lockdown\", \"During-Lockdown\", \"During-Lockdown\", \"During-Lockdown\", \"During-Lockdown\", \"During-Lockdown\", \"During-Lockdown\", \"During-Lockdown\", \"During-Lockdown\", \"During-Lockdown\", \"During-Lockdown\", \"During-Lockdown\", \"During-Lockdown\", \"During-Lockdown\", \"During-Lockdown\", \"During-Lockdown\", \"During-Lockdown\", \"During-Lockdown\", \"During-Lockdown\", \"During-Lockdown\"], \"x0\": \" \", \"xaxis\": \"x\", \"y\": [5.0, 4.0, 4.0, 4.0, 4.0, 5.0, 18.0, 12.0, 2.0, 4.0, 5.0, 6.0, 4.0, 4.0, 4.0, 3.0, 4.0, 5.0, 6.0, 4.0, 5.0, 6.0, 5.0, 9.0, 9.0, 5.0, 4.0, 3.0, 3.0, -1.0, 2.0, 4.0, 5.0, 2.0, -4.0, -9.0, -55.0, -26.0, -39.0, -47.0, -46.0, -46.0, -49.0, -49.0, -45.0, -43.0, -44.0, -47.0, -45.0, -46.0, -48.0, -43.0, -42.0, -43.0, -44.0, -44.0, -47.0, -50.0, -44.0, -43.0, -42.0, -58.0, -58.0, -63.0, -64.0, -60.0, -59.0, -60.0, -61.0, -61.0, -64.0, -65.0, -62.0, -60.0, -60.0, -60.0, -61.0, -63.0, -65.0, -59.0, -58.0, -58.0, -58.0, -58.0, -61.0, -62.0, -58.0, -57.0, -57.0, -58.0, -58.0, -59.0, -61.0, -57.0, -56.0, -53.0, -54.0, -55.0, -56.0, -56.0, -53.0, -52.0, -51.0, -52.0, -53.0, -54.0, -56.0, -51.0, -51.0, -50.0, -51.0, -48.0, -51.0, -52.0, -48.0, -48.0, -46.0, -48.0, -47.0, -49.0, -49.0, -46.0, -45.0, -46.0, -47.0, -48.0, -50.0, -57.0, -47.0, -47.0, -47.0, -48.0, -48.0, -50.0, -53.0, -49.0, -48.0, -46.0, -48.0, -48.0, -51.0, -53.0, -48.0, -47.0, -48.0, -49.0, -48.0, -50.0, -53.0, -49.0, -48.0, -51.0, -50.0, -50.0, -52.0, -56.0, -51.0, -49.0], \"y0\": \" \", \"yaxis\": \"y\"}, {\"alignmentgroup\": \"True\", \"hoverlabel\": {\"namelength\": 0}, \"hovertemplate\": \"State=Telangana<br>Lockdown=%{x}<br>Parks=%{y}\", \"legendgroup\": \"State=Telangana\", \"marker\": {\"color\": \"#EF553B\"}, \"name\": \"State=Telangana\", \"notched\": false, \"offsetgroup\": \"State=Telangana\", \"orientation\": \"v\", \"showlegend\": true, \"type\": \"box\", \"x\": [\"Pre-Lockdown\", \"Pre-Lockdown\", \"Pre-Lockdown\", \"Pre-Lockdown\", \"Pre-Lockdown\", \"Pre-Lockdown\", \"Pre-Lockdown\", \"Pre-Lockdown\", \"Pre-Lockdown\", \"Pre-Lockdown\", \"Pre-Lockdown\", \"Pre-Lockdown\", \"Pre-Lockdown\", \"Pre-Lockdown\", \"Pre-Lockdown\", \"Pre-Lockdown\", \"Pre-Lockdown\", \"Pre-Lockdown\", \"Pre-Lockdown\", \"Pre-Lockdown\", \"Pre-Lockdown\", \"Pre-Lockdown\", \"Pre-Lockdown\", \"Pre-Lockdown\", \"Pre-Lockdown\", \"Pre-Lockdown\", \"Pre-Lockdown\", \"Pre-Lockdown\", \"Pre-Lockdown\", \"Pre-Lockdown\", \"Pre-Lockdown\", \"Pre-Lockdown\", \"Pre-Lockdown\", \"Pre-Lockdown\", \"Pre-Lockdown\", \"Pre-Lockdown\", \"During-Lockdown\", \"During-Lockdown\", \"During-Lockdown\", \"During-Lockdown\", \"During-Lockdown\", \"During-Lockdown\", \"During-Lockdown\", \"During-Lockdown\", \"During-Lockdown\", \"During-Lockdown\", \"During-Lockdown\", \"During-Lockdown\", \"During-Lockdown\", \"During-Lockdown\", \"During-Lockdown\", \"During-Lockdown\", \"During-Lockdown\", \"During-Lockdown\", \"During-Lockdown\", \"During-Lockdown\", \"During-Lockdown\", \"During-Lockdown\", \"During-Lockdown\", \"During-Lockdown\", \"During-Lockdown\", \"During-Lockdown\", \"During-Lockdown\", \"During-Lockdown\", \"During-Lockdown\", \"During-Lockdown\", \"During-Lockdown\", \"During-Lockdown\", \"During-Lockdown\", \"During-Lockdown\", \"During-Lockdown\", \"During-Lockdown\", \"During-Lockdown\", \"During-Lockdown\", \"During-Lockdown\", \"During-Lockdown\", \"During-Lockdown\", \"During-Lockdown\", \"During-Lockdown\", \"During-Lockdown\", \"During-Lockdown\", \"During-Lockdown\", \"During-Lockdown\", \"During-Lockdown\", \"During-Lockdown\", \"During-Lockdown\", \"During-Lockdown\", \"During-Lockdown\", \"During-Lockdown\", \"During-Lockdown\", \"During-Lockdown\", \"During-Lockdown\", \"During-Lockdown\", \"During-Lockdown\", \"During-Lockdown\", \"During-Lockdown\", \"During-Lockdown\", \"During-Lockdown\", \"During-Lockdown\", \"During-Lockdown\", \"During-Lockdown\", \"During-Lockdown\", \"During-Lockdown\", \"During-Lockdown\", \"During-Lockdown\", \"During-Lockdown\", \"During-Lockdown\", \"During-Lockdown\", \"During-Lockdown\", \"During-Lockdown\", \"During-Lockdown\", \"During-Lockdown\", \"During-Lockdown\", \"During-Lockdown\", \"During-Lockdown\", \"During-Lockdown\", \"During-Lockdown\", \"During-Lockdown\", \"During-Lockdown\", \"During-Lockdown\", \"During-Lockdown\", \"During-Lockdown\", \"During-Lockdown\", \"During-Lockdown\", \"During-Lockdown\", \"During-Lockdown\", \"During-Lockdown\", \"During-Lockdown\", \"During-Lockdown\", \"During-Lockdown\", \"During-Lockdown\", \"During-Lockdown\", \"During-Lockdown\", \"During-Lockdown\", \"During-Lockdown\", \"During-Lockdown\", \"During-Lockdown\", \"During-Lockdown\", \"During-Lockdown\", \"During-Lockdown\", \"During-Lockdown\", \"During-Lockdown\", \"During-Lockdown\", \"During-Lockdown\", \"During-Lockdown\", \"During-Lockdown\", \"During-Lockdown\", \"During-Lockdown\", \"During-Lockdown\", \"During-Lockdown\", \"During-Lockdown\", \"During-Lockdown\", \"During-Lockdown\", \"During-Lockdown\", \"During-Lockdown\", \"During-Lockdown\", \"During-Lockdown\", \"During-Lockdown\"], \"x0\": \" \", \"xaxis\": \"x\", \"y\": [1.0, 7.0, 5.0, 5.0, 5.0, 5.0, 8.0, -1.0, 5.0, 6.0, 7.0, 10.0, 6.0, 10.0, 2.0, 9.0, 5.0, 4.0, 4.0, 1.0, 5.0, -1.0, 4.0, 1.0, 5.0, 5.0, 4.0, 7.0, -1.0, 2.0, 0.0, -1.0, -2.0, -9.0, -7.0, -17.0, -62.0, -38.0, -50.0, -57.0, -56.0, -56.0, -62.0, -59.0, -56.0, -55.0, -55.0, -57.0, -54.0, -59.0, -58.0, -54.0, -52.0, -53.0, -54.0, -53.0, -58.0, -57.0, -53.0, -53.0, -52.0, -67.0, -66.0, -72.0, -71.0, -68.0, -68.0, -68.0, -69.0, -68.0, -72.0, -72.0, -69.0, -68.0, -67.0, -67.0, -68.0, -72.0, -71.0, -67.0, -66.0, -65.0, -65.0, -65.0, -70.0, -68.0, -65.0, -65.0, -65.0, -65.0, -64.0, -69.0, -68.0, -65.0, -64.0, -63.0, -64.0, -64.0, -68.0, -66.0, -63.0, -64.0, -63.0, -64.0, -63.0, -68.0, -67.0, -63.0, -63.0, -62.0, -63.0, -60.0, -64.0, -63.0, -60.0, -60.0, -59.0, -57.0, -57.0, -62.0, -59.0, -57.0, -58.0, -58.0, -59.0, -57.0, -63.0, -65.0, -57.0, -57.0, -58.0, -59.0, -57.0, -63.0, -62.0, -59.0, -58.0, -59.0, -58.0, -58.0, -63.0, -62.0, -58.0, -58.0, -59.0, -60.0, -58.0, -63.0, -61.0, -59.0, -59.0, -61.0, -59.0, -58.0, -63.0, -62.0, -60.0, -58.0], \"y0\": \" \", \"yaxis\": \"y\"}],\n",
              "                        {\"boxmode\": \"group\", \"height\": 400, \"legend\": {\"tracegroupgap\": 0}, \"template\": {\"data\": {\"bar\": [{\"error_x\": {\"color\": \"#f2f5fa\"}, \"error_y\": {\"color\": \"#f2f5fa\"}, \"marker\": {\"line\": {\"color\": \"rgb(17,17,17)\", \"width\": 0.5}}, \"type\": \"bar\"}], \"barpolar\": [{\"marker\": {\"line\": {\"color\": \"rgb(17,17,17)\", \"width\": 0.5}}, \"type\": \"barpolar\"}], \"carpet\": [{\"aaxis\": {\"endlinecolor\": \"#A2B1C6\", \"gridcolor\": \"#506784\", \"linecolor\": \"#506784\", \"minorgridcolor\": \"#506784\", \"startlinecolor\": \"#A2B1C6\"}, \"baxis\": {\"endlinecolor\": \"#A2B1C6\", \"gridcolor\": \"#506784\", \"linecolor\": \"#506784\", \"minorgridcolor\": \"#506784\", \"startlinecolor\": \"#A2B1C6\"}, \"type\": \"carpet\"}], \"choropleth\": [{\"colorbar\": {\"outlinewidth\": 0, \"ticks\": \"\"}, \"type\": \"choropleth\"}], \"contour\": [{\"colorbar\": {\"outlinewidth\": 0, \"ticks\": \"\"}, \"colorscale\": [[0.0, \"#0d0887\"], [0.1111111111111111, \"#46039f\"], [0.2222222222222222, \"#7201a8\"], [0.3333333333333333, \"#9c179e\"], [0.4444444444444444, \"#bd3786\"], [0.5555555555555556, \"#d8576b\"], [0.6666666666666666, \"#ed7953\"], [0.7777777777777778, \"#fb9f3a\"], [0.8888888888888888, \"#fdca26\"], [1.0, \"#f0f921\"]], \"type\": \"contour\"}], \"contourcarpet\": [{\"colorbar\": {\"outlinewidth\": 0, \"ticks\": \"\"}, \"type\": \"contourcarpet\"}], \"heatmap\": [{\"colorbar\": {\"outlinewidth\": 0, \"ticks\": \"\"}, \"colorscale\": [[0.0, \"#0d0887\"], [0.1111111111111111, \"#46039f\"], [0.2222222222222222, \"#7201a8\"], [0.3333333333333333, \"#9c179e\"], [0.4444444444444444, \"#bd3786\"], [0.5555555555555556, \"#d8576b\"], [0.6666666666666666, \"#ed7953\"], [0.7777777777777778, \"#fb9f3a\"], [0.8888888888888888, \"#fdca26\"], [1.0, \"#f0f921\"]], \"type\": \"heatmap\"}], \"heatmapgl\": [{\"colorbar\": {\"outlinewidth\": 0, \"ticks\": \"\"}, \"colorscale\": [[0.0, \"#0d0887\"], [0.1111111111111111, \"#46039f\"], [0.2222222222222222, \"#7201a8\"], [0.3333333333333333, \"#9c179e\"], [0.4444444444444444, \"#bd3786\"], [0.5555555555555556, \"#d8576b\"], [0.6666666666666666, \"#ed7953\"], [0.7777777777777778, \"#fb9f3a\"], [0.8888888888888888, \"#fdca26\"], [1.0, \"#f0f921\"]], \"type\": \"heatmapgl\"}], \"histogram\": [{\"marker\": {\"colorbar\": {\"outlinewidth\": 0, \"ticks\": \"\"}}, \"type\": \"histogram\"}], \"histogram2d\": [{\"colorbar\": {\"outlinewidth\": 0, \"ticks\": \"\"}, \"colorscale\": [[0.0, \"#0d0887\"], [0.1111111111111111, \"#46039f\"], [0.2222222222222222, \"#7201a8\"], [0.3333333333333333, \"#9c179e\"], [0.4444444444444444, \"#bd3786\"], [0.5555555555555556, \"#d8576b\"], [0.6666666666666666, \"#ed7953\"], [0.7777777777777778, \"#fb9f3a\"], [0.8888888888888888, \"#fdca26\"], [1.0, \"#f0f921\"]], \"type\": \"histogram2d\"}], \"histogram2dcontour\": [{\"colorbar\": {\"outlinewidth\": 0, \"ticks\": \"\"}, \"colorscale\": [[0.0, \"#0d0887\"], [0.1111111111111111, \"#46039f\"], [0.2222222222222222, \"#7201a8\"], [0.3333333333333333, \"#9c179e\"], [0.4444444444444444, \"#bd3786\"], [0.5555555555555556, \"#d8576b\"], [0.6666666666666666, \"#ed7953\"], [0.7777777777777778, \"#fb9f3a\"], [0.8888888888888888, \"#fdca26\"], [1.0, \"#f0f921\"]], \"type\": \"histogram2dcontour\"}], \"mesh3d\": [{\"colorbar\": {\"outlinewidth\": 0, \"ticks\": \"\"}, \"type\": \"mesh3d\"}], \"parcoords\": [{\"line\": {\"colorbar\": {\"outlinewidth\": 0, \"ticks\": \"\"}}, \"type\": \"parcoords\"}], \"pie\": [{\"automargin\": true, \"type\": \"pie\"}], \"scatter\": [{\"marker\": {\"line\": {\"color\": \"#283442\"}}, \"type\": \"scatter\"}], \"scatter3d\": [{\"line\": {\"colorbar\": {\"outlinewidth\": 0, \"ticks\": \"\"}}, \"marker\": {\"colorbar\": {\"outlinewidth\": 0, \"ticks\": \"\"}}, \"type\": \"scatter3d\"}], \"scattercarpet\": [{\"marker\": {\"colorbar\": {\"outlinewidth\": 0, \"ticks\": \"\"}}, \"type\": \"scattercarpet\"}], \"scattergeo\": [{\"marker\": {\"colorbar\": {\"outlinewidth\": 0, \"ticks\": \"\"}}, \"type\": \"scattergeo\"}], \"scattergl\": [{\"marker\": {\"line\": {\"color\": \"#283442\"}}, \"type\": \"scattergl\"}], \"scattermapbox\": [{\"marker\": {\"colorbar\": {\"outlinewidth\": 0, \"ticks\": \"\"}}, \"type\": \"scattermapbox\"}], \"scatterpolar\": [{\"marker\": {\"colorbar\": {\"outlinewidth\": 0, \"ticks\": \"\"}}, \"type\": \"scatterpolar\"}], \"scatterpolargl\": [{\"marker\": {\"colorbar\": {\"outlinewidth\": 0, \"ticks\": \"\"}}, \"type\": \"scatterpolargl\"}], \"scatterternary\": [{\"marker\": {\"colorbar\": {\"outlinewidth\": 0, \"ticks\": \"\"}}, \"type\": \"scatterternary\"}], \"surface\": [{\"colorbar\": {\"outlinewidth\": 0, \"ticks\": \"\"}, \"colorscale\": [[0.0, \"#0d0887\"], [0.1111111111111111, \"#46039f\"], [0.2222222222222222, \"#7201a8\"], [0.3333333333333333, \"#9c179e\"], [0.4444444444444444, \"#bd3786\"], [0.5555555555555556, \"#d8576b\"], [0.6666666666666666, \"#ed7953\"], [0.7777777777777778, \"#fb9f3a\"], [0.8888888888888888, \"#fdca26\"], [1.0, \"#f0f921\"]], \"type\": \"surface\"}], \"table\": [{\"cells\": {\"fill\": {\"color\": \"#506784\"}, \"line\": {\"color\": \"rgb(17,17,17)\"}}, \"header\": {\"fill\": {\"color\": \"#2a3f5f\"}, \"line\": {\"color\": \"rgb(17,17,17)\"}}, \"type\": \"table\"}]}, \"layout\": {\"annotationdefaults\": {\"arrowcolor\": \"#f2f5fa\", \"arrowhead\": 0, \"arrowwidth\": 1}, \"coloraxis\": {\"colorbar\": {\"outlinewidth\": 0, \"ticks\": \"\"}}, \"colorscale\": {\"diverging\": [[0, \"#8e0152\"], [0.1, \"#c51b7d\"], [0.2, \"#de77ae\"], [0.3, \"#f1b6da\"], [0.4, \"#fde0ef\"], [0.5, \"#f7f7f7\"], [0.6, \"#e6f5d0\"], [0.7, \"#b8e186\"], [0.8, \"#7fbc41\"], [0.9, \"#4d9221\"], [1, \"#276419\"]], \"sequential\": [[0.0, \"#0d0887\"], [0.1111111111111111, \"#46039f\"], [0.2222222222222222, \"#7201a8\"], [0.3333333333333333, \"#9c179e\"], [0.4444444444444444, \"#bd3786\"], [0.5555555555555556, \"#d8576b\"], [0.6666666666666666, \"#ed7953\"], [0.7777777777777778, \"#fb9f3a\"], [0.8888888888888888, \"#fdca26\"], [1.0, \"#f0f921\"]], \"sequentialminus\": [[0.0, \"#0d0887\"], [0.1111111111111111, \"#46039f\"], [0.2222222222222222, \"#7201a8\"], [0.3333333333333333, \"#9c179e\"], [0.4444444444444444, \"#bd3786\"], [0.5555555555555556, \"#d8576b\"], [0.6666666666666666, \"#ed7953\"], [0.7777777777777778, \"#fb9f3a\"], [0.8888888888888888, \"#fdca26\"], [1.0, \"#f0f921\"]]}, \"colorway\": [\"#636efa\", \"#EF553B\", \"#00cc96\", \"#ab63fa\", \"#FFA15A\", \"#19d3f3\", \"#FF6692\", \"#B6E880\", \"#FF97FF\", \"#FECB52\"], \"font\": {\"color\": \"#f2f5fa\"}, \"geo\": {\"bgcolor\": \"rgb(17,17,17)\", \"lakecolor\": \"rgb(17,17,17)\", \"landcolor\": \"rgb(17,17,17)\", \"showlakes\": true, \"showland\": true, \"subunitcolor\": \"#506784\"}, \"hoverlabel\": {\"align\": \"left\"}, \"hovermode\": \"closest\", \"mapbox\": {\"style\": \"dark\"}, \"paper_bgcolor\": \"rgb(17,17,17)\", \"plot_bgcolor\": \"rgb(17,17,17)\", \"polar\": {\"angularaxis\": {\"gridcolor\": \"#506784\", \"linecolor\": \"#506784\", \"ticks\": \"\"}, \"bgcolor\": \"rgb(17,17,17)\", \"radialaxis\": {\"gridcolor\": \"#506784\", \"linecolor\": \"#506784\", \"ticks\": \"\"}}, \"scene\": {\"xaxis\": {\"backgroundcolor\": \"rgb(17,17,17)\", \"gridcolor\": \"#506784\", \"gridwidth\": 2, \"linecolor\": \"#506784\", \"showbackground\": true, \"ticks\": \"\", \"zerolinecolor\": \"#C8D4E3\"}, \"yaxis\": {\"backgroundcolor\": \"rgb(17,17,17)\", \"gridcolor\": \"#506784\", \"gridwidth\": 2, \"linecolor\": \"#506784\", \"showbackground\": true, \"ticks\": \"\", \"zerolinecolor\": \"#C8D4E3\"}, \"zaxis\": {\"backgroundcolor\": \"rgb(17,17,17)\", \"gridcolor\": \"#506784\", \"gridwidth\": 2, \"linecolor\": \"#506784\", \"showbackground\": true, \"ticks\": \"\", \"zerolinecolor\": \"#C8D4E3\"}}, \"shapedefaults\": {\"line\": {\"color\": \"#f2f5fa\"}}, \"sliderdefaults\": {\"bgcolor\": \"#C8D4E3\", \"bordercolor\": \"rgb(17,17,17)\", \"borderwidth\": 1, \"tickwidth\": 0}, \"ternary\": {\"aaxis\": {\"gridcolor\": \"#506784\", \"linecolor\": \"#506784\", \"ticks\": \"\"}, \"baxis\": {\"gridcolor\": \"#506784\", \"linecolor\": \"#506784\", \"ticks\": \"\"}, \"bgcolor\": \"rgb(17,17,17)\", \"caxis\": {\"gridcolor\": \"#506784\", \"linecolor\": \"#506784\", \"ticks\": \"\"}}, \"title\": {\"x\": 0.05}, \"updatemenudefaults\": {\"bgcolor\": \"#506784\", \"borderwidth\": 0}, \"xaxis\": {\"automargin\": true, \"gridcolor\": \"#283442\", \"linecolor\": \"#506784\", \"ticks\": \"\", \"title\": {\"standoff\": 15}, \"zerolinecolor\": \"#283442\", \"zerolinewidth\": 2}, \"yaxis\": {\"automargin\": true, \"gridcolor\": \"#283442\", \"linecolor\": \"#506784\", \"ticks\": \"\", \"title\": {\"standoff\": 15}, \"zerolinecolor\": \"#283442\", \"zerolinewidth\": 2}}}, \"title\": {\"text\": \"Parks\"}, \"width\": 600, \"xaxis\": {\"anchor\": \"y\", \"domain\": [0.0, 1.0], \"title\": {\"text\": \"Lockdown\"}}, \"yaxis\": {\"anchor\": \"x\", \"domain\": [0.0, 1.0], \"title\": {\"text\": \"Parks\"}}},\n",
              "                        {\"responsive\": true}\n",
              "                    ).then(function(){\n",
              "                            \n",
              "var gd = document.getElementById('6ee4b408-e2ac-463f-abd6-10a76828f64b');\n",
              "var x = new MutationObserver(function (mutations, observer) {{\n",
              "        var display = window.getComputedStyle(gd).display;\n",
              "        if (!display || display === 'none') {{\n",
              "            console.log([gd, 'removed!']);\n",
              "            Plotly.purge(gd);\n",
              "            observer.disconnect();\n",
              "        }}\n",
              "}});\n",
              "\n",
              "// Listen for the removal of the full notebook cells\n",
              "var notebookContainer = gd.closest('#notebook-container');\n",
              "if (notebookContainer) {{\n",
              "    x.observe(notebookContainer, {childList: true});\n",
              "}}\n",
              "\n",
              "// Listen for the clearing of the current output cell\n",
              "var outputEl = gd.closest('.output');\n",
              "if (outputEl) {{\n",
              "    x.observe(outputEl, {childList: true});\n",
              "}}\n",
              "\n",
              "                        })\n",
              "                };\n",
              "                \n",
              "            </script>\n",
              "        </div>\n",
              "</body>\n",
              "</html>"
            ]
          },
          "metadata": {
            "tags": []
          }
        },
        {
          "output_type": "display_data",
          "data": {
            "text/html": [
              "<html>\n",
              "<head><meta charset=\"utf-8\" /></head>\n",
              "<body>\n",
              "    <div>\n",
              "            <script src=\"https://cdnjs.cloudflare.com/ajax/libs/mathjax/2.7.5/MathJax.js?config=TeX-AMS-MML_SVG\"></script><script type=\"text/javascript\">if (window.MathJax) {MathJax.Hub.Config({SVG: {font: \"STIX-Web\"}});}</script>\n",
              "                <script type=\"text/javascript\">window.PlotlyConfig = {MathJaxConfig: 'local'};</script>\n",
              "        <script src=\"https://cdn.plot.ly/plotly-latest.min.js\"></script>    \n",
              "            <div id=\"43381acc-0f37-411e-b261-f7b361274ee7\" class=\"plotly-graph-div\" style=\"height:400px; width:600px;\"></div>\n",
              "            <script type=\"text/javascript\">\n",
              "                \n",
              "                    window.PLOTLYENV=window.PLOTLYENV || {};\n",
              "                    \n",
              "                if (document.getElementById(\"43381acc-0f37-411e-b261-f7b361274ee7\")) {\n",
              "                    Plotly.newPlot(\n",
              "                        '43381acc-0f37-411e-b261-f7b361274ee7',\n",
              "                        [{\"alignmentgroup\": \"True\", \"hoverlabel\": {\"namelength\": 0}, \"hovertemplate\": \"State=Andhra Pradesh<br>Lockdown=%{x}<br>Transit_stations=%{y}\", \"legendgroup\": \"State=Andhra Pradesh\", \"marker\": {\"color\": \"#636efa\"}, \"name\": \"State=Andhra Pradesh\", \"notched\": false, \"offsetgroup\": \"State=Andhra Pradesh\", \"orientation\": \"v\", \"showlegend\": true, \"type\": \"box\", \"x\": [\"Pre-Lockdown\", \"Pre-Lockdown\", \"Pre-Lockdown\", \"Pre-Lockdown\", \"Pre-Lockdown\", \"Pre-Lockdown\", \"Pre-Lockdown\", \"Pre-Lockdown\", \"Pre-Lockdown\", \"Pre-Lockdown\", \"Pre-Lockdown\", \"Pre-Lockdown\", \"Pre-Lockdown\", \"Pre-Lockdown\", \"Pre-Lockdown\", \"Pre-Lockdown\", \"Pre-Lockdown\", \"Pre-Lockdown\", \"Pre-Lockdown\", \"Pre-Lockdown\", \"Pre-Lockdown\", \"Pre-Lockdown\", \"Pre-Lockdown\", \"Pre-Lockdown\", \"Pre-Lockdown\", \"Pre-Lockdown\", \"Pre-Lockdown\", \"Pre-Lockdown\", \"Pre-Lockdown\", \"Pre-Lockdown\", \"Pre-Lockdown\", \"Pre-Lockdown\", \"Pre-Lockdown\", \"Pre-Lockdown\", \"Pre-Lockdown\", \"Pre-Lockdown\", \"During-Lockdown\", \"During-Lockdown\", \"During-Lockdown\", \"During-Lockdown\", \"During-Lockdown\", \"During-Lockdown\", \"During-Lockdown\", \"During-Lockdown\", \"During-Lockdown\", \"During-Lockdown\", \"During-Lockdown\", \"During-Lockdown\", \"During-Lockdown\", \"During-Lockdown\", \"During-Lockdown\", \"During-Lockdown\", \"During-Lockdown\", \"During-Lockdown\", \"During-Lockdown\", \"During-Lockdown\", \"During-Lockdown\", \"During-Lockdown\", \"During-Lockdown\", \"During-Lockdown\", \"During-Lockdown\", \"During-Lockdown\", \"During-Lockdown\", \"During-Lockdown\", \"During-Lockdown\", \"During-Lockdown\", \"During-Lockdown\", \"During-Lockdown\", \"During-Lockdown\", \"During-Lockdown\", \"During-Lockdown\", \"During-Lockdown\", \"During-Lockdown\", \"During-Lockdown\", \"During-Lockdown\", \"During-Lockdown\", \"During-Lockdown\", \"During-Lockdown\", \"During-Lockdown\", \"During-Lockdown\", \"During-Lockdown\", \"During-Lockdown\", \"During-Lockdown\", \"During-Lockdown\", \"During-Lockdown\", \"During-Lockdown\", \"During-Lockdown\", \"During-Lockdown\", \"During-Lockdown\", \"During-Lockdown\", \"During-Lockdown\", \"During-Lockdown\", \"During-Lockdown\", \"During-Lockdown\", \"During-Lockdown\", \"During-Lockdown\", \"During-Lockdown\", \"During-Lockdown\", \"During-Lockdown\", \"During-Lockdown\", \"During-Lockdown\", \"During-Lockdown\", \"During-Lockdown\", \"During-Lockdown\", \"During-Lockdown\", \"During-Lockdown\", \"During-Lockdown\", \"During-Lockdown\", \"During-Lockdown\", \"During-Lockdown\", \"During-Lockdown\", \"During-Lockdown\", \"During-Lockdown\", \"During-Lockdown\", \"During-Lockdown\", \"During-Lockdown\", \"During-Lockdown\", \"During-Lockdown\", \"During-Lockdown\", \"During-Lockdown\", \"During-Lockdown\", \"During-Lockdown\", \"During-Lockdown\", \"During-Lockdown\", \"During-Lockdown\", \"During-Lockdown\", \"During-Lockdown\", \"During-Lockdown\", \"During-Lockdown\", \"During-Lockdown\", \"During-Lockdown\", \"During-Lockdown\", \"During-Lockdown\", \"During-Lockdown\", \"During-Lockdown\", \"During-Lockdown\", \"During-Lockdown\", \"During-Lockdown\", \"During-Lockdown\", \"During-Lockdown\", \"During-Lockdown\", \"During-Lockdown\", \"During-Lockdown\", \"During-Lockdown\", \"During-Lockdown\", \"During-Lockdown\", \"During-Lockdown\", \"During-Lockdown\", \"During-Lockdown\", \"During-Lockdown\", \"During-Lockdown\", \"During-Lockdown\", \"During-Lockdown\", \"During-Lockdown\", \"During-Lockdown\", \"During-Lockdown\", \"During-Lockdown\", \"During-Lockdown\"], \"x0\": \" \", \"xaxis\": \"x\", \"y\": [5.0, 4.0, 3.0, 2.0, 0.0, 6.0, 0.0, 0.0, 1.0, 4.0, 2.0, 2.0, 2.0, 1.0, 1.0, 3.0, 1.0, 0.0, 0.0, 0.0, 0.0, 3.0, 3.0, 1.0, 0.0, -1.0, -2.0, -2.0, -3.0, -2.0, -2.0, -4.0, -3.0, 2.0, -6.0, -10.0, -63.0, -46.0, -59.0, -68.0, -66.0, -66.0, -67.0, -63.0, -66.0, -64.0, -65.0, -67.0, -66.0, -66.0, -62.0, -65.0, -58.0, -59.0, -60.0, -60.0, -61.0, -60.0, -61.0, -60.0, -58.0, -57.0, -57.0, -59.0, -58.0, -60.0, -58.0, -60.0, -59.0, -59.0, -60.0, -58.0, -61.0, -58.0, -58.0, -58.0, -58.0, -58.0, -56.0, -54.0, -52.0, -50.0, -50.0, -49.0, -51.0, -49.0, -50.0, -48.0, -48.0, -48.0, -47.0, -47.0, -47.0, -46.0, -45.0, -44.0, -43.0, -43.0, -41.0, -39.0, -42.0, -38.0, -36.0, -36.0, -36.0, -34.0, -35.0, -32.0, -30.0, -29.0, -29.0, -30.0, -30.0, -32.0, -28.0, -29.0, -26.0, -29.0, -28.0, -29.0, -30.0, -27.0, -27.0, -27.0, -30.0, -31.0, -31.0, -45.0, -32.0, -31.0, -31.0, -32.0, -32.0, -34.0, -37.0, -34.0, -33.0, -33.0, -34.0, -33.0, -35.0, -39.0, -35.0, -33.0, -35.0, -36.0, -35.0, -37.0, -39.0, -37.0, -37.0, -41.0, -38.0, -38.0, -39.0, -45.0, -42.0, -39.0], \"y0\": \" \", \"yaxis\": \"y\"}, {\"alignmentgroup\": \"True\", \"hoverlabel\": {\"namelength\": 0}, \"hovertemplate\": \"State=Telangana<br>Lockdown=%{x}<br>Transit_stations=%{y}\", \"legendgroup\": \"State=Telangana\", \"marker\": {\"color\": \"#EF553B\"}, \"name\": \"State=Telangana\", \"notched\": false, \"offsetgroup\": \"State=Telangana\", \"orientation\": \"v\", \"showlegend\": true, \"type\": \"box\", \"x\": [\"Pre-Lockdown\", \"Pre-Lockdown\", \"Pre-Lockdown\", \"Pre-Lockdown\", \"Pre-Lockdown\", \"Pre-Lockdown\", \"Pre-Lockdown\", \"Pre-Lockdown\", \"Pre-Lockdown\", \"Pre-Lockdown\", \"Pre-Lockdown\", \"Pre-Lockdown\", \"Pre-Lockdown\", \"Pre-Lockdown\", \"Pre-Lockdown\", \"Pre-Lockdown\", \"Pre-Lockdown\", \"Pre-Lockdown\", \"Pre-Lockdown\", \"Pre-Lockdown\", \"Pre-Lockdown\", \"Pre-Lockdown\", \"Pre-Lockdown\", \"Pre-Lockdown\", \"Pre-Lockdown\", \"Pre-Lockdown\", \"Pre-Lockdown\", \"Pre-Lockdown\", \"Pre-Lockdown\", \"Pre-Lockdown\", \"Pre-Lockdown\", \"Pre-Lockdown\", \"Pre-Lockdown\", \"Pre-Lockdown\", \"Pre-Lockdown\", \"Pre-Lockdown\", \"During-Lockdown\", \"During-Lockdown\", \"During-Lockdown\", \"During-Lockdown\", \"During-Lockdown\", \"During-Lockdown\", \"During-Lockdown\", \"During-Lockdown\", \"During-Lockdown\", \"During-Lockdown\", \"During-Lockdown\", \"During-Lockdown\", \"During-Lockdown\", \"During-Lockdown\", \"During-Lockdown\", \"During-Lockdown\", \"During-Lockdown\", \"During-Lockdown\", \"During-Lockdown\", \"During-Lockdown\", \"During-Lockdown\", \"During-Lockdown\", \"During-Lockdown\", \"During-Lockdown\", \"During-Lockdown\", \"During-Lockdown\", \"During-Lockdown\", \"During-Lockdown\", \"During-Lockdown\", \"During-Lockdown\", \"During-Lockdown\", \"During-Lockdown\", \"During-Lockdown\", \"During-Lockdown\", \"During-Lockdown\", \"During-Lockdown\", \"During-Lockdown\", \"During-Lockdown\", \"During-Lockdown\", \"During-Lockdown\", \"During-Lockdown\", \"During-Lockdown\", \"During-Lockdown\", \"During-Lockdown\", \"During-Lockdown\", \"During-Lockdown\", \"During-Lockdown\", \"During-Lockdown\", \"During-Lockdown\", \"During-Lockdown\", \"During-Lockdown\", \"During-Lockdown\", \"During-Lockdown\", \"During-Lockdown\", \"During-Lockdown\", \"During-Lockdown\", \"During-Lockdown\", \"During-Lockdown\", \"During-Lockdown\", \"During-Lockdown\", \"During-Lockdown\", \"During-Lockdown\", \"During-Lockdown\", \"During-Lockdown\", \"During-Lockdown\", \"During-Lockdown\", \"During-Lockdown\", \"During-Lockdown\", \"During-Lockdown\", \"During-Lockdown\", \"During-Lockdown\", \"During-Lockdown\", \"During-Lockdown\", \"During-Lockdown\", \"During-Lockdown\", \"During-Lockdown\", \"During-Lockdown\", \"During-Lockdown\", \"During-Lockdown\", \"During-Lockdown\", \"During-Lockdown\", \"During-Lockdown\", \"During-Lockdown\", \"During-Lockdown\", \"During-Lockdown\", \"During-Lockdown\", \"During-Lockdown\", \"During-Lockdown\", \"During-Lockdown\", \"During-Lockdown\", \"During-Lockdown\", \"During-Lockdown\", \"During-Lockdown\", \"During-Lockdown\", \"During-Lockdown\", \"During-Lockdown\", \"During-Lockdown\", \"During-Lockdown\", \"During-Lockdown\", \"During-Lockdown\", \"During-Lockdown\", \"During-Lockdown\", \"During-Lockdown\", \"During-Lockdown\", \"During-Lockdown\", \"During-Lockdown\", \"During-Lockdown\", \"During-Lockdown\", \"During-Lockdown\", \"During-Lockdown\", \"During-Lockdown\", \"During-Lockdown\", \"During-Lockdown\", \"During-Lockdown\", \"During-Lockdown\", \"During-Lockdown\", \"During-Lockdown\", \"During-Lockdown\", \"During-Lockdown\", \"During-Lockdown\", \"During-Lockdown\", \"During-Lockdown\"], \"x0\": \" \", \"xaxis\": \"x\", \"y\": [4.0, 2.0, 2.0, 3.0, 5.0, 7.0, -5.0, -6.0, -1.0, 4.0, 6.0, 7.0, 5.0, 9.0, 4.0, 5.0, 4.0, 3.0, 5.0, 1.0, 6.0, 3.0, -1.0, -15.0, -1.0, 5.0, 1.0, 4.0, -2.0, 1.0, -2.0, -6.0, -4.0, -12.0, -12.0, -15.0, -74.0, -58.0, -70.0, -75.0, -76.0, -76.0, -76.0, -73.0, -76.0, -75.0, -75.0, -76.0, -74.0, -74.0, -72.0, -75.0, -70.0, -69.0, -70.0, -70.0, -71.0, -67.0, -71.0, -70.0, -68.0, -68.0, -68.0, -70.0, -67.0, -71.0, -70.0, -71.0, -71.0, -70.0, -71.0, -68.0, -71.0, -69.0, -68.0, -69.0, -69.0, -68.0, -65.0, -67.0, -65.0, -57.0, -58.0, -55.0, -58.0, -54.0, -57.0, -56.0, -55.0, -56.0, -54.0, -55.0, -54.0, -55.0, -50.0, -47.0, -48.0, -48.0, -46.0, -44.0, -52.0, -47.0, -43.0, -44.0, -43.0, -43.0, -44.0, -39.0, -38.0, -35.0, -37.0, -36.0, -36.0, -36.0, -36.0, -35.0, -34.0, -34.0, -33.0, -34.0, -32.0, -35.0, -37.0, -34.0, -39.0, -34.0, -37.0, -48.0, -36.0, -35.0, -35.0, -37.0, -35.0, -39.0, -40.0, -39.0, -37.0, -39.0, -40.0, -39.0, -40.0, -42.0, -41.0, -39.0, -40.0, -41.0, -39.0, -41.0, -40.0, -42.0, -43.0, -44.0, -40.0, -39.0, -39.0, -42.0, -45.0, -40.0], \"y0\": \" \", \"yaxis\": \"y\"}],\n",
              "                        {\"boxmode\": \"group\", \"height\": 400, \"legend\": {\"tracegroupgap\": 0}, \"template\": {\"data\": {\"bar\": [{\"error_x\": {\"color\": \"#f2f5fa\"}, \"error_y\": {\"color\": \"#f2f5fa\"}, \"marker\": {\"line\": {\"color\": \"rgb(17,17,17)\", \"width\": 0.5}}, \"type\": \"bar\"}], \"barpolar\": [{\"marker\": {\"line\": {\"color\": \"rgb(17,17,17)\", \"width\": 0.5}}, \"type\": \"barpolar\"}], \"carpet\": [{\"aaxis\": {\"endlinecolor\": \"#A2B1C6\", \"gridcolor\": \"#506784\", \"linecolor\": \"#506784\", \"minorgridcolor\": \"#506784\", \"startlinecolor\": \"#A2B1C6\"}, \"baxis\": {\"endlinecolor\": \"#A2B1C6\", \"gridcolor\": \"#506784\", \"linecolor\": \"#506784\", \"minorgridcolor\": \"#506784\", \"startlinecolor\": \"#A2B1C6\"}, \"type\": \"carpet\"}], \"choropleth\": [{\"colorbar\": {\"outlinewidth\": 0, \"ticks\": \"\"}, \"type\": \"choropleth\"}], \"contour\": [{\"colorbar\": {\"outlinewidth\": 0, \"ticks\": \"\"}, \"colorscale\": [[0.0, \"#0d0887\"], [0.1111111111111111, \"#46039f\"], [0.2222222222222222, \"#7201a8\"], [0.3333333333333333, \"#9c179e\"], [0.4444444444444444, \"#bd3786\"], [0.5555555555555556, \"#d8576b\"], [0.6666666666666666, \"#ed7953\"], [0.7777777777777778, \"#fb9f3a\"], [0.8888888888888888, \"#fdca26\"], [1.0, \"#f0f921\"]], \"type\": \"contour\"}], \"contourcarpet\": [{\"colorbar\": {\"outlinewidth\": 0, \"ticks\": \"\"}, \"type\": \"contourcarpet\"}], \"heatmap\": [{\"colorbar\": {\"outlinewidth\": 0, \"ticks\": \"\"}, \"colorscale\": [[0.0, \"#0d0887\"], [0.1111111111111111, \"#46039f\"], [0.2222222222222222, \"#7201a8\"], [0.3333333333333333, \"#9c179e\"], [0.4444444444444444, \"#bd3786\"], [0.5555555555555556, \"#d8576b\"], [0.6666666666666666, \"#ed7953\"], [0.7777777777777778, \"#fb9f3a\"], [0.8888888888888888, \"#fdca26\"], [1.0, \"#f0f921\"]], \"type\": \"heatmap\"}], \"heatmapgl\": [{\"colorbar\": {\"outlinewidth\": 0, \"ticks\": \"\"}, \"colorscale\": [[0.0, \"#0d0887\"], [0.1111111111111111, \"#46039f\"], [0.2222222222222222, \"#7201a8\"], [0.3333333333333333, \"#9c179e\"], [0.4444444444444444, \"#bd3786\"], [0.5555555555555556, \"#d8576b\"], [0.6666666666666666, \"#ed7953\"], [0.7777777777777778, \"#fb9f3a\"], [0.8888888888888888, \"#fdca26\"], [1.0, \"#f0f921\"]], \"type\": \"heatmapgl\"}], \"histogram\": [{\"marker\": {\"colorbar\": {\"outlinewidth\": 0, \"ticks\": \"\"}}, \"type\": \"histogram\"}], \"histogram2d\": [{\"colorbar\": {\"outlinewidth\": 0, \"ticks\": \"\"}, \"colorscale\": [[0.0, \"#0d0887\"], [0.1111111111111111, \"#46039f\"], [0.2222222222222222, \"#7201a8\"], [0.3333333333333333, \"#9c179e\"], [0.4444444444444444, \"#bd3786\"], [0.5555555555555556, \"#d8576b\"], [0.6666666666666666, \"#ed7953\"], [0.7777777777777778, \"#fb9f3a\"], [0.8888888888888888, \"#fdca26\"], [1.0, \"#f0f921\"]], \"type\": \"histogram2d\"}], \"histogram2dcontour\": [{\"colorbar\": {\"outlinewidth\": 0, \"ticks\": \"\"}, \"colorscale\": [[0.0, \"#0d0887\"], [0.1111111111111111, \"#46039f\"], [0.2222222222222222, \"#7201a8\"], [0.3333333333333333, \"#9c179e\"], [0.4444444444444444, \"#bd3786\"], [0.5555555555555556, \"#d8576b\"], [0.6666666666666666, \"#ed7953\"], [0.7777777777777778, \"#fb9f3a\"], [0.8888888888888888, \"#fdca26\"], [1.0, \"#f0f921\"]], \"type\": \"histogram2dcontour\"}], \"mesh3d\": [{\"colorbar\": {\"outlinewidth\": 0, \"ticks\": \"\"}, \"type\": \"mesh3d\"}], \"parcoords\": [{\"line\": {\"colorbar\": {\"outlinewidth\": 0, \"ticks\": \"\"}}, \"type\": \"parcoords\"}], \"pie\": [{\"automargin\": true, \"type\": \"pie\"}], \"scatter\": [{\"marker\": {\"line\": {\"color\": \"#283442\"}}, \"type\": \"scatter\"}], \"scatter3d\": [{\"line\": {\"colorbar\": {\"outlinewidth\": 0, \"ticks\": \"\"}}, \"marker\": {\"colorbar\": {\"outlinewidth\": 0, \"ticks\": \"\"}}, \"type\": \"scatter3d\"}], \"scattercarpet\": [{\"marker\": {\"colorbar\": {\"outlinewidth\": 0, \"ticks\": \"\"}}, \"type\": \"scattercarpet\"}], \"scattergeo\": [{\"marker\": {\"colorbar\": {\"outlinewidth\": 0, \"ticks\": \"\"}}, \"type\": \"scattergeo\"}], \"scattergl\": [{\"marker\": {\"line\": {\"color\": \"#283442\"}}, \"type\": \"scattergl\"}], \"scattermapbox\": [{\"marker\": {\"colorbar\": {\"outlinewidth\": 0, \"ticks\": \"\"}}, \"type\": \"scattermapbox\"}], \"scatterpolar\": [{\"marker\": {\"colorbar\": {\"outlinewidth\": 0, \"ticks\": \"\"}}, \"type\": \"scatterpolar\"}], \"scatterpolargl\": [{\"marker\": {\"colorbar\": {\"outlinewidth\": 0, \"ticks\": \"\"}}, \"type\": \"scatterpolargl\"}], \"scatterternary\": [{\"marker\": {\"colorbar\": {\"outlinewidth\": 0, \"ticks\": \"\"}}, \"type\": \"scatterternary\"}], \"surface\": [{\"colorbar\": {\"outlinewidth\": 0, \"ticks\": \"\"}, \"colorscale\": [[0.0, \"#0d0887\"], [0.1111111111111111, \"#46039f\"], [0.2222222222222222, \"#7201a8\"], [0.3333333333333333, \"#9c179e\"], [0.4444444444444444, \"#bd3786\"], [0.5555555555555556, \"#d8576b\"], [0.6666666666666666, \"#ed7953\"], [0.7777777777777778, \"#fb9f3a\"], [0.8888888888888888, \"#fdca26\"], [1.0, \"#f0f921\"]], \"type\": \"surface\"}], \"table\": [{\"cells\": {\"fill\": {\"color\": \"#506784\"}, \"line\": {\"color\": \"rgb(17,17,17)\"}}, \"header\": {\"fill\": {\"color\": \"#2a3f5f\"}, \"line\": {\"color\": \"rgb(17,17,17)\"}}, \"type\": \"table\"}]}, \"layout\": {\"annotationdefaults\": {\"arrowcolor\": \"#f2f5fa\", \"arrowhead\": 0, \"arrowwidth\": 1}, \"coloraxis\": {\"colorbar\": {\"outlinewidth\": 0, \"ticks\": \"\"}}, \"colorscale\": {\"diverging\": [[0, \"#8e0152\"], [0.1, \"#c51b7d\"], [0.2, \"#de77ae\"], [0.3, \"#f1b6da\"], [0.4, \"#fde0ef\"], [0.5, \"#f7f7f7\"], [0.6, \"#e6f5d0\"], [0.7, \"#b8e186\"], [0.8, \"#7fbc41\"], [0.9, \"#4d9221\"], [1, \"#276419\"]], \"sequential\": [[0.0, \"#0d0887\"], [0.1111111111111111, \"#46039f\"], [0.2222222222222222, \"#7201a8\"], [0.3333333333333333, \"#9c179e\"], [0.4444444444444444, \"#bd3786\"], [0.5555555555555556, \"#d8576b\"], [0.6666666666666666, \"#ed7953\"], [0.7777777777777778, \"#fb9f3a\"], [0.8888888888888888, \"#fdca26\"], [1.0, \"#f0f921\"]], \"sequentialminus\": [[0.0, \"#0d0887\"], [0.1111111111111111, \"#46039f\"], [0.2222222222222222, \"#7201a8\"], [0.3333333333333333, \"#9c179e\"], [0.4444444444444444, \"#bd3786\"], [0.5555555555555556, \"#d8576b\"], [0.6666666666666666, \"#ed7953\"], [0.7777777777777778, \"#fb9f3a\"], [0.8888888888888888, \"#fdca26\"], [1.0, \"#f0f921\"]]}, \"colorway\": [\"#636efa\", \"#EF553B\", \"#00cc96\", \"#ab63fa\", \"#FFA15A\", \"#19d3f3\", \"#FF6692\", \"#B6E880\", \"#FF97FF\", \"#FECB52\"], \"font\": {\"color\": \"#f2f5fa\"}, \"geo\": {\"bgcolor\": \"rgb(17,17,17)\", \"lakecolor\": \"rgb(17,17,17)\", \"landcolor\": \"rgb(17,17,17)\", \"showlakes\": true, \"showland\": true, \"subunitcolor\": \"#506784\"}, \"hoverlabel\": {\"align\": \"left\"}, \"hovermode\": \"closest\", \"mapbox\": {\"style\": \"dark\"}, \"paper_bgcolor\": \"rgb(17,17,17)\", \"plot_bgcolor\": \"rgb(17,17,17)\", \"polar\": {\"angularaxis\": {\"gridcolor\": \"#506784\", \"linecolor\": \"#506784\", \"ticks\": \"\"}, \"bgcolor\": \"rgb(17,17,17)\", \"radialaxis\": {\"gridcolor\": \"#506784\", \"linecolor\": \"#506784\", \"ticks\": \"\"}}, \"scene\": {\"xaxis\": {\"backgroundcolor\": \"rgb(17,17,17)\", \"gridcolor\": \"#506784\", \"gridwidth\": 2, \"linecolor\": \"#506784\", \"showbackground\": true, \"ticks\": \"\", \"zerolinecolor\": \"#C8D4E3\"}, \"yaxis\": {\"backgroundcolor\": \"rgb(17,17,17)\", \"gridcolor\": \"#506784\", \"gridwidth\": 2, \"linecolor\": \"#506784\", \"showbackground\": true, \"ticks\": \"\", \"zerolinecolor\": \"#C8D4E3\"}, \"zaxis\": {\"backgroundcolor\": \"rgb(17,17,17)\", \"gridcolor\": \"#506784\", \"gridwidth\": 2, \"linecolor\": \"#506784\", \"showbackground\": true, \"ticks\": \"\", \"zerolinecolor\": \"#C8D4E3\"}}, \"shapedefaults\": {\"line\": {\"color\": \"#f2f5fa\"}}, \"sliderdefaults\": {\"bgcolor\": \"#C8D4E3\", \"bordercolor\": \"rgb(17,17,17)\", \"borderwidth\": 1, \"tickwidth\": 0}, \"ternary\": {\"aaxis\": {\"gridcolor\": \"#506784\", \"linecolor\": \"#506784\", \"ticks\": \"\"}, \"baxis\": {\"gridcolor\": \"#506784\", \"linecolor\": \"#506784\", \"ticks\": \"\"}, \"bgcolor\": \"rgb(17,17,17)\", \"caxis\": {\"gridcolor\": \"#506784\", \"linecolor\": \"#506784\", \"ticks\": \"\"}}, \"title\": {\"x\": 0.05}, \"updatemenudefaults\": {\"bgcolor\": \"#506784\", \"borderwidth\": 0}, \"xaxis\": {\"automargin\": true, \"gridcolor\": \"#283442\", \"linecolor\": \"#506784\", \"ticks\": \"\", \"title\": {\"standoff\": 15}, \"zerolinecolor\": \"#283442\", \"zerolinewidth\": 2}, \"yaxis\": {\"automargin\": true, \"gridcolor\": \"#283442\", \"linecolor\": \"#506784\", \"ticks\": \"\", \"title\": {\"standoff\": 15}, \"zerolinecolor\": \"#283442\", \"zerolinewidth\": 2}}}, \"title\": {\"text\": \"Transit_stations\"}, \"width\": 600, \"xaxis\": {\"anchor\": \"y\", \"domain\": [0.0, 1.0], \"title\": {\"text\": \"Lockdown\"}}, \"yaxis\": {\"anchor\": \"x\", \"domain\": [0.0, 1.0], \"title\": {\"text\": \"Transit_stations\"}}},\n",
              "                        {\"responsive\": true}\n",
              "                    ).then(function(){\n",
              "                            \n",
              "var gd = document.getElementById('43381acc-0f37-411e-b261-f7b361274ee7');\n",
              "var x = new MutationObserver(function (mutations, observer) {{\n",
              "        var display = window.getComputedStyle(gd).display;\n",
              "        if (!display || display === 'none') {{\n",
              "            console.log([gd, 'removed!']);\n",
              "            Plotly.purge(gd);\n",
              "            observer.disconnect();\n",
              "        }}\n",
              "}});\n",
              "\n",
              "// Listen for the removal of the full notebook cells\n",
              "var notebookContainer = gd.closest('#notebook-container');\n",
              "if (notebookContainer) {{\n",
              "    x.observe(notebookContainer, {childList: true});\n",
              "}}\n",
              "\n",
              "// Listen for the clearing of the current output cell\n",
              "var outputEl = gd.closest('.output');\n",
              "if (outputEl) {{\n",
              "    x.observe(outputEl, {childList: true});\n",
              "}}\n",
              "\n",
              "                        })\n",
              "                };\n",
              "                \n",
              "            </script>\n",
              "        </div>\n",
              "</body>\n",
              "</html>"
            ]
          },
          "metadata": {
            "tags": []
          }
        },
        {
          "output_type": "display_data",
          "data": {
            "text/html": [
              "<html>\n",
              "<head><meta charset=\"utf-8\" /></head>\n",
              "<body>\n",
              "    <div>\n",
              "            <script src=\"https://cdnjs.cloudflare.com/ajax/libs/mathjax/2.7.5/MathJax.js?config=TeX-AMS-MML_SVG\"></script><script type=\"text/javascript\">if (window.MathJax) {MathJax.Hub.Config({SVG: {font: \"STIX-Web\"}});}</script>\n",
              "                <script type=\"text/javascript\">window.PlotlyConfig = {MathJaxConfig: 'local'};</script>\n",
              "        <script src=\"https://cdn.plot.ly/plotly-latest.min.js\"></script>    \n",
              "            <div id=\"491ec344-a2cd-4cea-999f-ba702a2635f1\" class=\"plotly-graph-div\" style=\"height:400px; width:600px;\"></div>\n",
              "            <script type=\"text/javascript\">\n",
              "                \n",
              "                    window.PLOTLYENV=window.PLOTLYENV || {};\n",
              "                    \n",
              "                if (document.getElementById(\"491ec344-a2cd-4cea-999f-ba702a2635f1\")) {\n",
              "                    Plotly.newPlot(\n",
              "                        '491ec344-a2cd-4cea-999f-ba702a2635f1',\n",
              "                        [{\"alignmentgroup\": \"True\", \"hoverlabel\": {\"namelength\": 0}, \"hovertemplate\": \"State=Andhra Pradesh<br>Lockdown=%{x}<br>Workplaces=%{y}\", \"legendgroup\": \"State=Andhra Pradesh\", \"marker\": {\"color\": \"#636efa\"}, \"name\": \"State=Andhra Pradesh\", \"notched\": false, \"offsetgroup\": \"State=Andhra Pradesh\", \"orientation\": \"v\", \"showlegend\": true, \"type\": \"box\", \"x\": [\"Pre-Lockdown\", \"Pre-Lockdown\", \"Pre-Lockdown\", \"Pre-Lockdown\", \"Pre-Lockdown\", \"Pre-Lockdown\", \"Pre-Lockdown\", \"Pre-Lockdown\", \"Pre-Lockdown\", \"Pre-Lockdown\", \"Pre-Lockdown\", \"Pre-Lockdown\", \"Pre-Lockdown\", \"Pre-Lockdown\", \"Pre-Lockdown\", \"Pre-Lockdown\", \"Pre-Lockdown\", \"Pre-Lockdown\", \"Pre-Lockdown\", \"Pre-Lockdown\", \"Pre-Lockdown\", \"Pre-Lockdown\", \"Pre-Lockdown\", \"Pre-Lockdown\", \"Pre-Lockdown\", \"Pre-Lockdown\", \"Pre-Lockdown\", \"Pre-Lockdown\", \"Pre-Lockdown\", \"Pre-Lockdown\", \"Pre-Lockdown\", \"Pre-Lockdown\", \"Pre-Lockdown\", \"Pre-Lockdown\", \"Pre-Lockdown\", \"Pre-Lockdown\", \"During-Lockdown\", \"During-Lockdown\", \"During-Lockdown\", \"During-Lockdown\", \"During-Lockdown\", \"During-Lockdown\", \"During-Lockdown\", \"During-Lockdown\", \"During-Lockdown\", \"During-Lockdown\", \"During-Lockdown\", \"During-Lockdown\", \"During-Lockdown\", \"During-Lockdown\", \"During-Lockdown\", \"During-Lockdown\", \"During-Lockdown\", \"During-Lockdown\", \"During-Lockdown\", \"During-Lockdown\", \"During-Lockdown\", \"During-Lockdown\", \"During-Lockdown\", \"During-Lockdown\", \"During-Lockdown\", \"During-Lockdown\", \"During-Lockdown\", \"During-Lockdown\", \"During-Lockdown\", \"During-Lockdown\", \"During-Lockdown\", \"During-Lockdown\", \"During-Lockdown\", \"During-Lockdown\", \"During-Lockdown\", \"During-Lockdown\", \"During-Lockdown\", \"During-Lockdown\", \"During-Lockdown\", \"During-Lockdown\", \"During-Lockdown\", \"During-Lockdown\", \"During-Lockdown\", \"During-Lockdown\", \"During-Lockdown\", \"During-Lockdown\", \"During-Lockdown\", \"During-Lockdown\", \"During-Lockdown\", \"During-Lockdown\", \"During-Lockdown\", \"During-Lockdown\", \"During-Lockdown\", \"During-Lockdown\", \"During-Lockdown\", \"During-Lockdown\", \"During-Lockdown\", \"During-Lockdown\", \"During-Lockdown\", \"During-Lockdown\", \"During-Lockdown\", \"During-Lockdown\", \"During-Lockdown\", \"During-Lockdown\", \"During-Lockdown\", \"During-Lockdown\", \"During-Lockdown\", \"During-Lockdown\", \"During-Lockdown\", \"During-Lockdown\", \"During-Lockdown\", \"During-Lockdown\", \"During-Lockdown\", \"During-Lockdown\", \"During-Lockdown\", \"During-Lockdown\", \"During-Lockdown\", \"During-Lockdown\", \"During-Lockdown\", \"During-Lockdown\", \"During-Lockdown\", \"During-Lockdown\", \"During-Lockdown\", \"During-Lockdown\", \"During-Lockdown\", \"During-Lockdown\", \"During-Lockdown\", \"During-Lockdown\", \"During-Lockdown\", \"During-Lockdown\", \"During-Lockdown\", \"During-Lockdown\", \"During-Lockdown\", \"During-Lockdown\", \"During-Lockdown\", \"During-Lockdown\", \"During-Lockdown\", \"During-Lockdown\", \"During-Lockdown\", \"During-Lockdown\", \"During-Lockdown\", \"During-Lockdown\", \"During-Lockdown\", \"During-Lockdown\", \"During-Lockdown\", \"During-Lockdown\", \"During-Lockdown\", \"During-Lockdown\", \"During-Lockdown\", \"During-Lockdown\", \"During-Lockdown\", \"During-Lockdown\", \"During-Lockdown\", \"During-Lockdown\", \"During-Lockdown\", \"During-Lockdown\", \"During-Lockdown\", \"During-Lockdown\", \"During-Lockdown\", \"During-Lockdown\", \"During-Lockdown\", \"During-Lockdown\"], \"x0\": \" \", \"xaxis\": \"x\", \"y\": [4.0, -1.0, 6.0, 5.0, 4.0, 4.0, -31.0, -9.0, 0.0, 6.0, 5.0, 2.0, 4.0, 5.0, 9.0, 4.0, 9.0, 7.0, 6.0, 5.0, 7.0, 7.0, 2.0, 4.0, -1.0, 2.0, 2.0, 3.0, -11.0, 0.0, 5.0, 2.0, 0.0, -8.0, -12.0, -14.0, -45.0, -36.0, -54.0, -67.0, -60.0, -59.0, -58.0, -37.0, -56.0, -55.0, -57.0, -60.0, -56.0, -52.0, -32.0, -54.0, -56.0, -55.0, -56.0, -60.0, -57.0, -36.0, -53.0, -58.0, -52.0, -54.0, -53.0, -51.0, -33.0, -51.0, -52.0, -53.0, -53.0, -52.0, -52.0, -32.0, -51.0, -51.0, -51.0, -50.0, -54.0, -47.0, -28.0, -44.0, -45.0, -43.0, -43.0, -42.0, -44.0, -21.0, -39.0, -40.0, -39.0, -39.0, -38.0, -35.0, -17.0, -34.0, -35.0, -34.0, -33.0, -31.0, -31.0, -11.0, -42.0, -29.0, -28.0, -27.0, -26.0, -20.0, -2.0, -21.0, -22.0, -22.0, -21.0, -20.0, -17.0, -1.0, -18.0, -20.0, -22.0, -23.0, -21.0, -25.0, -1.0, -20.0, -21.0, -22.0, -22.0, -21.0, -17.0, -8.0, -20.0, -22.0, -21.0, -21.0, -20.0, -20.0, -4.0, -19.0, -21.0, -21.0, -22.0, -21.0, -18.0, -5.0, -21.0, -22.0, -22.0, -23.0, -22.0, -28.0, -7.0, -22.0, -25.0, -28.0, -25.0, -25.0, -23.0, -13.0, -26.0, -28.0], \"y0\": \" \", \"yaxis\": \"y\"}, {\"alignmentgroup\": \"True\", \"hoverlabel\": {\"namelength\": 0}, \"hovertemplate\": \"State=Telangana<br>Lockdown=%{x}<br>Workplaces=%{y}\", \"legendgroup\": \"State=Telangana\", \"marker\": {\"color\": \"#EF553B\"}, \"name\": \"State=Telangana\", \"notched\": false, \"offsetgroup\": \"State=Telangana\", \"orientation\": \"v\", \"showlegend\": true, \"type\": \"box\", \"x\": [\"Pre-Lockdown\", \"Pre-Lockdown\", \"Pre-Lockdown\", \"Pre-Lockdown\", \"Pre-Lockdown\", \"Pre-Lockdown\", \"Pre-Lockdown\", \"Pre-Lockdown\", \"Pre-Lockdown\", \"Pre-Lockdown\", \"Pre-Lockdown\", \"Pre-Lockdown\", \"Pre-Lockdown\", \"Pre-Lockdown\", \"Pre-Lockdown\", \"Pre-Lockdown\", \"Pre-Lockdown\", \"Pre-Lockdown\", \"Pre-Lockdown\", \"Pre-Lockdown\", \"Pre-Lockdown\", \"Pre-Lockdown\", \"Pre-Lockdown\", \"Pre-Lockdown\", \"Pre-Lockdown\", \"Pre-Lockdown\", \"Pre-Lockdown\", \"Pre-Lockdown\", \"Pre-Lockdown\", \"Pre-Lockdown\", \"Pre-Lockdown\", \"Pre-Lockdown\", \"Pre-Lockdown\", \"Pre-Lockdown\", \"Pre-Lockdown\", \"Pre-Lockdown\", \"During-Lockdown\", \"During-Lockdown\", \"During-Lockdown\", \"During-Lockdown\", \"During-Lockdown\", \"During-Lockdown\", \"During-Lockdown\", \"During-Lockdown\", \"During-Lockdown\", \"During-Lockdown\", \"During-Lockdown\", \"During-Lockdown\", \"During-Lockdown\", \"During-Lockdown\", \"During-Lockdown\", \"During-Lockdown\", \"During-Lockdown\", \"During-Lockdown\", \"During-Lockdown\", \"During-Lockdown\", \"During-Lockdown\", \"During-Lockdown\", \"During-Lockdown\", \"During-Lockdown\", \"During-Lockdown\", \"During-Lockdown\", \"During-Lockdown\", \"During-Lockdown\", \"During-Lockdown\", \"During-Lockdown\", \"During-Lockdown\", \"During-Lockdown\", \"During-Lockdown\", \"During-Lockdown\", \"During-Lockdown\", \"During-Lockdown\", \"During-Lockdown\", \"During-Lockdown\", \"During-Lockdown\", \"During-Lockdown\", \"During-Lockdown\", \"During-Lockdown\", \"During-Lockdown\", \"During-Lockdown\", \"During-Lockdown\", \"During-Lockdown\", \"During-Lockdown\", \"During-Lockdown\", \"During-Lockdown\", \"During-Lockdown\", \"During-Lockdown\", \"During-Lockdown\", \"During-Lockdown\", \"During-Lockdown\", \"During-Lockdown\", \"During-Lockdown\", \"During-Lockdown\", \"During-Lockdown\", \"During-Lockdown\", \"During-Lockdown\", \"During-Lockdown\", \"During-Lockdown\", \"During-Lockdown\", \"During-Lockdown\", \"During-Lockdown\", \"During-Lockdown\", \"During-Lockdown\", \"During-Lockdown\", \"During-Lockdown\", \"During-Lockdown\", \"During-Lockdown\", \"During-Lockdown\", \"During-Lockdown\", \"During-Lockdown\", \"During-Lockdown\", \"During-Lockdown\", \"During-Lockdown\", \"During-Lockdown\", \"During-Lockdown\", \"During-Lockdown\", \"During-Lockdown\", \"During-Lockdown\", \"During-Lockdown\", \"During-Lockdown\", \"During-Lockdown\", \"During-Lockdown\", \"During-Lockdown\", \"During-Lockdown\", \"During-Lockdown\", \"During-Lockdown\", \"During-Lockdown\", \"During-Lockdown\", \"During-Lockdown\", \"During-Lockdown\", \"During-Lockdown\", \"During-Lockdown\", \"During-Lockdown\", \"During-Lockdown\", \"During-Lockdown\", \"During-Lockdown\", \"During-Lockdown\", \"During-Lockdown\", \"During-Lockdown\", \"During-Lockdown\", \"During-Lockdown\", \"During-Lockdown\", \"During-Lockdown\", \"During-Lockdown\", \"During-Lockdown\", \"During-Lockdown\", \"During-Lockdown\", \"During-Lockdown\", \"During-Lockdown\", \"During-Lockdown\", \"During-Lockdown\", \"During-Lockdown\", \"During-Lockdown\", \"During-Lockdown\", \"During-Lockdown\", \"During-Lockdown\", \"During-Lockdown\", \"During-Lockdown\"], \"x0\": \" \", \"xaxis\": \"x\", \"y\": [1.0, 0.0, 4.0, 4.0, 6.0, 4.0, -26.0, -13.0, 1.0, 5.0, 4.0, 3.0, 2.0, 3.0, 6.0, 2.0, 5.0, 5.0, 7.0, 2.0, 4.0, 6.0, 5.0, -26.0, -13.0, 2.0, 0.0, 0.0, -5.0, -1.0, -8.0, -12.0, -12.0, -19.0, -21.0, -17.0, -55.0, -60.0, -72.0, -79.0, -75.0, -74.0, -70.0, -51.0, -72.0, -72.0, -72.0, -75.0, -71.0, -65.0, -46.0, -71.0, -71.0, -71.0, -71.0, -73.0, -67.0, -47.0, -70.0, -73.0, -69.0, -70.0, -70.0, -63.0, -46.0, -69.0, -70.0, -70.0, -71.0, -70.0, -65.0, -46.0, -69.0, -70.0, -68.0, -68.0, -71.0, -60.0, -42.0, -65.0, -65.0, -62.0, -61.0, -59.0, -55.0, -35.0, -57.0, -58.0, -56.0, -57.0, -56.0, -47.0, -32.0, -53.0, -52.0, -49.0, -50.0, -48.0, -40.0, -25.0, -60.0, -50.0, -46.0, -46.0, -44.0, -31.0, -16.0, -41.0, -42.0, -39.0, -41.0, -39.0, -27.0, -13.0, -38.0, -39.0, -40.0, -41.0, -41.0, -32.0, -13.0, -40.0, -41.0, -40.0, -41.0, -40.0, -27.0, -20.0, -40.0, -41.0, -39.0, -41.0, -40.0, -32.0, -15.0, -41.0, -42.0, -42.0, -43.0, -42.0, -30.0, -16.0, -42.0, -43.0, -42.0, -43.0, -42.0, -35.0, -17.0, -43.0, -44.0, -43.0, -44.0, -42.0, -31.0, -18.0, -46.0, -44.0], \"y0\": \" \", \"yaxis\": \"y\"}],\n",
              "                        {\"boxmode\": \"group\", \"height\": 400, \"legend\": {\"tracegroupgap\": 0}, \"template\": {\"data\": {\"bar\": [{\"error_x\": {\"color\": \"#f2f5fa\"}, \"error_y\": {\"color\": \"#f2f5fa\"}, \"marker\": {\"line\": {\"color\": \"rgb(17,17,17)\", \"width\": 0.5}}, \"type\": \"bar\"}], \"barpolar\": [{\"marker\": {\"line\": {\"color\": \"rgb(17,17,17)\", \"width\": 0.5}}, \"type\": \"barpolar\"}], \"carpet\": [{\"aaxis\": {\"endlinecolor\": \"#A2B1C6\", \"gridcolor\": \"#506784\", \"linecolor\": \"#506784\", \"minorgridcolor\": \"#506784\", \"startlinecolor\": \"#A2B1C6\"}, \"baxis\": {\"endlinecolor\": \"#A2B1C6\", \"gridcolor\": \"#506784\", \"linecolor\": \"#506784\", \"minorgridcolor\": \"#506784\", \"startlinecolor\": \"#A2B1C6\"}, \"type\": \"carpet\"}], \"choropleth\": [{\"colorbar\": {\"outlinewidth\": 0, \"ticks\": \"\"}, \"type\": \"choropleth\"}], \"contour\": [{\"colorbar\": {\"outlinewidth\": 0, \"ticks\": \"\"}, \"colorscale\": [[0.0, \"#0d0887\"], [0.1111111111111111, \"#46039f\"], [0.2222222222222222, \"#7201a8\"], [0.3333333333333333, \"#9c179e\"], [0.4444444444444444, \"#bd3786\"], [0.5555555555555556, \"#d8576b\"], [0.6666666666666666, \"#ed7953\"], [0.7777777777777778, \"#fb9f3a\"], [0.8888888888888888, \"#fdca26\"], [1.0, \"#f0f921\"]], \"type\": \"contour\"}], \"contourcarpet\": [{\"colorbar\": {\"outlinewidth\": 0, \"ticks\": \"\"}, \"type\": \"contourcarpet\"}], \"heatmap\": [{\"colorbar\": {\"outlinewidth\": 0, \"ticks\": \"\"}, \"colorscale\": [[0.0, \"#0d0887\"], [0.1111111111111111, \"#46039f\"], [0.2222222222222222, \"#7201a8\"], [0.3333333333333333, \"#9c179e\"], [0.4444444444444444, \"#bd3786\"], [0.5555555555555556, \"#d8576b\"], [0.6666666666666666, \"#ed7953\"], [0.7777777777777778, \"#fb9f3a\"], [0.8888888888888888, \"#fdca26\"], [1.0, \"#f0f921\"]], \"type\": \"heatmap\"}], \"heatmapgl\": [{\"colorbar\": {\"outlinewidth\": 0, \"ticks\": \"\"}, \"colorscale\": [[0.0, \"#0d0887\"], [0.1111111111111111, \"#46039f\"], [0.2222222222222222, \"#7201a8\"], [0.3333333333333333, \"#9c179e\"], [0.4444444444444444, \"#bd3786\"], [0.5555555555555556, \"#d8576b\"], [0.6666666666666666, \"#ed7953\"], [0.7777777777777778, \"#fb9f3a\"], [0.8888888888888888, \"#fdca26\"], [1.0, \"#f0f921\"]], \"type\": \"heatmapgl\"}], \"histogram\": [{\"marker\": {\"colorbar\": {\"outlinewidth\": 0, \"ticks\": \"\"}}, \"type\": \"histogram\"}], \"histogram2d\": [{\"colorbar\": {\"outlinewidth\": 0, \"ticks\": \"\"}, \"colorscale\": [[0.0, \"#0d0887\"], [0.1111111111111111, \"#46039f\"], [0.2222222222222222, \"#7201a8\"], [0.3333333333333333, \"#9c179e\"], [0.4444444444444444, \"#bd3786\"], [0.5555555555555556, \"#d8576b\"], [0.6666666666666666, \"#ed7953\"], [0.7777777777777778, \"#fb9f3a\"], [0.8888888888888888, \"#fdca26\"], [1.0, \"#f0f921\"]], \"type\": \"histogram2d\"}], \"histogram2dcontour\": [{\"colorbar\": {\"outlinewidth\": 0, \"ticks\": \"\"}, \"colorscale\": [[0.0, \"#0d0887\"], [0.1111111111111111, \"#46039f\"], [0.2222222222222222, \"#7201a8\"], [0.3333333333333333, \"#9c179e\"], [0.4444444444444444, \"#bd3786\"], [0.5555555555555556, \"#d8576b\"], [0.6666666666666666, \"#ed7953\"], [0.7777777777777778, \"#fb9f3a\"], [0.8888888888888888, \"#fdca26\"], [1.0, \"#f0f921\"]], \"type\": \"histogram2dcontour\"}], \"mesh3d\": [{\"colorbar\": {\"outlinewidth\": 0, \"ticks\": \"\"}, \"type\": \"mesh3d\"}], \"parcoords\": [{\"line\": {\"colorbar\": {\"outlinewidth\": 0, \"ticks\": \"\"}}, \"type\": \"parcoords\"}], \"pie\": [{\"automargin\": true, \"type\": \"pie\"}], \"scatter\": [{\"marker\": {\"line\": {\"color\": \"#283442\"}}, \"type\": \"scatter\"}], \"scatter3d\": [{\"line\": {\"colorbar\": {\"outlinewidth\": 0, \"ticks\": \"\"}}, \"marker\": {\"colorbar\": {\"outlinewidth\": 0, \"ticks\": \"\"}}, \"type\": \"scatter3d\"}], \"scattercarpet\": [{\"marker\": {\"colorbar\": {\"outlinewidth\": 0, \"ticks\": \"\"}}, \"type\": \"scattercarpet\"}], \"scattergeo\": [{\"marker\": {\"colorbar\": {\"outlinewidth\": 0, \"ticks\": \"\"}}, \"type\": \"scattergeo\"}], \"scattergl\": [{\"marker\": {\"line\": {\"color\": \"#283442\"}}, \"type\": \"scattergl\"}], \"scattermapbox\": [{\"marker\": {\"colorbar\": {\"outlinewidth\": 0, \"ticks\": \"\"}}, \"type\": \"scattermapbox\"}], \"scatterpolar\": [{\"marker\": {\"colorbar\": {\"outlinewidth\": 0, \"ticks\": \"\"}}, \"type\": \"scatterpolar\"}], \"scatterpolargl\": [{\"marker\": {\"colorbar\": {\"outlinewidth\": 0, \"ticks\": \"\"}}, \"type\": \"scatterpolargl\"}], \"scatterternary\": [{\"marker\": {\"colorbar\": {\"outlinewidth\": 0, \"ticks\": \"\"}}, \"type\": \"scatterternary\"}], \"surface\": [{\"colorbar\": {\"outlinewidth\": 0, \"ticks\": \"\"}, \"colorscale\": [[0.0, \"#0d0887\"], [0.1111111111111111, \"#46039f\"], [0.2222222222222222, \"#7201a8\"], [0.3333333333333333, \"#9c179e\"], [0.4444444444444444, \"#bd3786\"], [0.5555555555555556, \"#d8576b\"], [0.6666666666666666, \"#ed7953\"], [0.7777777777777778, \"#fb9f3a\"], [0.8888888888888888, \"#fdca26\"], [1.0, \"#f0f921\"]], \"type\": \"surface\"}], \"table\": [{\"cells\": {\"fill\": {\"color\": \"#506784\"}, \"line\": {\"color\": \"rgb(17,17,17)\"}}, \"header\": {\"fill\": {\"color\": \"#2a3f5f\"}, \"line\": {\"color\": \"rgb(17,17,17)\"}}, \"type\": \"table\"}]}, \"layout\": {\"annotationdefaults\": {\"arrowcolor\": \"#f2f5fa\", \"arrowhead\": 0, \"arrowwidth\": 1}, \"coloraxis\": {\"colorbar\": {\"outlinewidth\": 0, \"ticks\": \"\"}}, \"colorscale\": {\"diverging\": [[0, \"#8e0152\"], [0.1, \"#c51b7d\"], [0.2, \"#de77ae\"], [0.3, \"#f1b6da\"], [0.4, \"#fde0ef\"], [0.5, \"#f7f7f7\"], [0.6, \"#e6f5d0\"], [0.7, \"#b8e186\"], [0.8, \"#7fbc41\"], [0.9, \"#4d9221\"], [1, \"#276419\"]], \"sequential\": [[0.0, \"#0d0887\"], [0.1111111111111111, \"#46039f\"], [0.2222222222222222, \"#7201a8\"], [0.3333333333333333, \"#9c179e\"], [0.4444444444444444, \"#bd3786\"], [0.5555555555555556, \"#d8576b\"], [0.6666666666666666, \"#ed7953\"], [0.7777777777777778, \"#fb9f3a\"], [0.8888888888888888, \"#fdca26\"], [1.0, \"#f0f921\"]], \"sequentialminus\": [[0.0, \"#0d0887\"], [0.1111111111111111, \"#46039f\"], [0.2222222222222222, \"#7201a8\"], [0.3333333333333333, \"#9c179e\"], [0.4444444444444444, \"#bd3786\"], [0.5555555555555556, \"#d8576b\"], [0.6666666666666666, \"#ed7953\"], [0.7777777777777778, \"#fb9f3a\"], [0.8888888888888888, \"#fdca26\"], [1.0, \"#f0f921\"]]}, \"colorway\": [\"#636efa\", \"#EF553B\", \"#00cc96\", \"#ab63fa\", \"#FFA15A\", \"#19d3f3\", \"#FF6692\", \"#B6E880\", \"#FF97FF\", \"#FECB52\"], \"font\": {\"color\": \"#f2f5fa\"}, \"geo\": {\"bgcolor\": \"rgb(17,17,17)\", \"lakecolor\": \"rgb(17,17,17)\", \"landcolor\": \"rgb(17,17,17)\", \"showlakes\": true, \"showland\": true, \"subunitcolor\": \"#506784\"}, \"hoverlabel\": {\"align\": \"left\"}, \"hovermode\": \"closest\", \"mapbox\": {\"style\": \"dark\"}, \"paper_bgcolor\": \"rgb(17,17,17)\", \"plot_bgcolor\": \"rgb(17,17,17)\", \"polar\": {\"angularaxis\": {\"gridcolor\": \"#506784\", \"linecolor\": \"#506784\", \"ticks\": \"\"}, \"bgcolor\": \"rgb(17,17,17)\", \"radialaxis\": {\"gridcolor\": \"#506784\", \"linecolor\": \"#506784\", \"ticks\": \"\"}}, \"scene\": {\"xaxis\": {\"backgroundcolor\": \"rgb(17,17,17)\", \"gridcolor\": \"#506784\", \"gridwidth\": 2, \"linecolor\": \"#506784\", \"showbackground\": true, \"ticks\": \"\", \"zerolinecolor\": \"#C8D4E3\"}, \"yaxis\": {\"backgroundcolor\": \"rgb(17,17,17)\", \"gridcolor\": \"#506784\", \"gridwidth\": 2, \"linecolor\": \"#506784\", \"showbackground\": true, \"ticks\": \"\", \"zerolinecolor\": \"#C8D4E3\"}, \"zaxis\": {\"backgroundcolor\": \"rgb(17,17,17)\", \"gridcolor\": \"#506784\", \"gridwidth\": 2, \"linecolor\": \"#506784\", \"showbackground\": true, \"ticks\": \"\", \"zerolinecolor\": \"#C8D4E3\"}}, \"shapedefaults\": {\"line\": {\"color\": \"#f2f5fa\"}}, \"sliderdefaults\": {\"bgcolor\": \"#C8D4E3\", \"bordercolor\": \"rgb(17,17,17)\", \"borderwidth\": 1, \"tickwidth\": 0}, \"ternary\": {\"aaxis\": {\"gridcolor\": \"#506784\", \"linecolor\": \"#506784\", \"ticks\": \"\"}, \"baxis\": {\"gridcolor\": \"#506784\", \"linecolor\": \"#506784\", \"ticks\": \"\"}, \"bgcolor\": \"rgb(17,17,17)\", \"caxis\": {\"gridcolor\": \"#506784\", \"linecolor\": \"#506784\", \"ticks\": \"\"}}, \"title\": {\"x\": 0.05}, \"updatemenudefaults\": {\"bgcolor\": \"#506784\", \"borderwidth\": 0}, \"xaxis\": {\"automargin\": true, \"gridcolor\": \"#283442\", \"linecolor\": \"#506784\", \"ticks\": \"\", \"title\": {\"standoff\": 15}, \"zerolinecolor\": \"#283442\", \"zerolinewidth\": 2}, \"yaxis\": {\"automargin\": true, \"gridcolor\": \"#283442\", \"linecolor\": \"#506784\", \"ticks\": \"\", \"title\": {\"standoff\": 15}, \"zerolinecolor\": \"#283442\", \"zerolinewidth\": 2}}}, \"title\": {\"text\": \"Workplaces\"}, \"width\": 600, \"xaxis\": {\"anchor\": \"y\", \"domain\": [0.0, 1.0], \"title\": {\"text\": \"Lockdown\"}}, \"yaxis\": {\"anchor\": \"x\", \"domain\": [0.0, 1.0], \"title\": {\"text\": \"Workplaces\"}}},\n",
              "                        {\"responsive\": true}\n",
              "                    ).then(function(){\n",
              "                            \n",
              "var gd = document.getElementById('491ec344-a2cd-4cea-999f-ba702a2635f1');\n",
              "var x = new MutationObserver(function (mutations, observer) {{\n",
              "        var display = window.getComputedStyle(gd).display;\n",
              "        if (!display || display === 'none') {{\n",
              "            console.log([gd, 'removed!']);\n",
              "            Plotly.purge(gd);\n",
              "            observer.disconnect();\n",
              "        }}\n",
              "}});\n",
              "\n",
              "// Listen for the removal of the full notebook cells\n",
              "var notebookContainer = gd.closest('#notebook-container');\n",
              "if (notebookContainer) {{\n",
              "    x.observe(notebookContainer, {childList: true});\n",
              "}}\n",
              "\n",
              "// Listen for the clearing of the current output cell\n",
              "var outputEl = gd.closest('.output');\n",
              "if (outputEl) {{\n",
              "    x.observe(outputEl, {childList: true});\n",
              "}}\n",
              "\n",
              "                        })\n",
              "                };\n",
              "                \n",
              "            </script>\n",
              "        </div>\n",
              "</body>\n",
              "</html>"
            ]
          },
          "metadata": {
            "tags": []
          }
        },
        {
          "output_type": "display_data",
          "data": {
            "text/html": [
              "<html>\n",
              "<head><meta charset=\"utf-8\" /></head>\n",
              "<body>\n",
              "    <div>\n",
              "            <script src=\"https://cdnjs.cloudflare.com/ajax/libs/mathjax/2.7.5/MathJax.js?config=TeX-AMS-MML_SVG\"></script><script type=\"text/javascript\">if (window.MathJax) {MathJax.Hub.Config({SVG: {font: \"STIX-Web\"}});}</script>\n",
              "                <script type=\"text/javascript\">window.PlotlyConfig = {MathJaxConfig: 'local'};</script>\n",
              "        <script src=\"https://cdn.plot.ly/plotly-latest.min.js\"></script>    \n",
              "            <div id=\"f4b08df5-093e-4783-b80b-b21ddb110263\" class=\"plotly-graph-div\" style=\"height:400px; width:600px;\"></div>\n",
              "            <script type=\"text/javascript\">\n",
              "                \n",
              "                    window.PLOTLYENV=window.PLOTLYENV || {};\n",
              "                    \n",
              "                if (document.getElementById(\"f4b08df5-093e-4783-b80b-b21ddb110263\")) {\n",
              "                    Plotly.newPlot(\n",
              "                        'f4b08df5-093e-4783-b80b-b21ddb110263',\n",
              "                        [{\"alignmentgroup\": \"True\", \"hoverlabel\": {\"namelength\": 0}, \"hovertemplate\": \"State=Andhra Pradesh<br>Lockdown=%{x}<br>Residential=%{y}\", \"legendgroup\": \"State=Andhra Pradesh\", \"marker\": {\"color\": \"#636efa\"}, \"name\": \"State=Andhra Pradesh\", \"notched\": false, \"offsetgroup\": \"State=Andhra Pradesh\", \"orientation\": \"v\", \"showlegend\": true, \"type\": \"box\", \"x\": [\"Pre-Lockdown\", \"Pre-Lockdown\", \"Pre-Lockdown\", \"Pre-Lockdown\", \"Pre-Lockdown\", \"Pre-Lockdown\", \"Pre-Lockdown\", \"Pre-Lockdown\", \"Pre-Lockdown\", \"Pre-Lockdown\", \"Pre-Lockdown\", \"Pre-Lockdown\", \"Pre-Lockdown\", \"Pre-Lockdown\", \"Pre-Lockdown\", \"Pre-Lockdown\", \"Pre-Lockdown\", \"Pre-Lockdown\", \"Pre-Lockdown\", \"Pre-Lockdown\", \"Pre-Lockdown\", \"Pre-Lockdown\", \"Pre-Lockdown\", \"Pre-Lockdown\", \"Pre-Lockdown\", \"Pre-Lockdown\", \"Pre-Lockdown\", \"Pre-Lockdown\", \"Pre-Lockdown\", \"Pre-Lockdown\", \"Pre-Lockdown\", \"Pre-Lockdown\", \"Pre-Lockdown\", \"Pre-Lockdown\", \"Pre-Lockdown\", \"Pre-Lockdown\", \"During-Lockdown\", \"During-Lockdown\", \"During-Lockdown\", \"During-Lockdown\", \"During-Lockdown\", \"During-Lockdown\", \"During-Lockdown\", \"During-Lockdown\", \"During-Lockdown\", \"During-Lockdown\", \"During-Lockdown\", \"During-Lockdown\", \"During-Lockdown\", \"During-Lockdown\", \"During-Lockdown\", \"During-Lockdown\", \"During-Lockdown\", \"During-Lockdown\", \"During-Lockdown\", \"During-Lockdown\", \"During-Lockdown\", \"During-Lockdown\", \"During-Lockdown\", \"During-Lockdown\", \"During-Lockdown\", \"During-Lockdown\", \"During-Lockdown\", \"During-Lockdown\", \"During-Lockdown\", \"During-Lockdown\", \"During-Lockdown\", \"During-Lockdown\", \"During-Lockdown\", \"During-Lockdown\", \"During-Lockdown\", \"During-Lockdown\", \"During-Lockdown\", \"During-Lockdown\", \"During-Lockdown\", \"During-Lockdown\", \"During-Lockdown\", \"During-Lockdown\", \"During-Lockdown\", \"During-Lockdown\", \"During-Lockdown\", \"During-Lockdown\", \"During-Lockdown\", \"During-Lockdown\", \"During-Lockdown\", \"During-Lockdown\", \"During-Lockdown\", \"During-Lockdown\", \"During-Lockdown\", \"During-Lockdown\", \"During-Lockdown\", \"During-Lockdown\", \"During-Lockdown\", \"During-Lockdown\", \"During-Lockdown\", \"During-Lockdown\", \"During-Lockdown\", \"During-Lockdown\", \"During-Lockdown\", \"During-Lockdown\", \"During-Lockdown\", \"During-Lockdown\", \"During-Lockdown\", \"During-Lockdown\", \"During-Lockdown\", \"During-Lockdown\", \"During-Lockdown\", \"During-Lockdown\", \"During-Lockdown\", \"During-Lockdown\", \"During-Lockdown\", \"During-Lockdown\", \"During-Lockdown\", \"During-Lockdown\", \"During-Lockdown\", \"During-Lockdown\", \"During-Lockdown\", \"During-Lockdown\", \"During-Lockdown\", \"During-Lockdown\", \"During-Lockdown\", \"During-Lockdown\", \"During-Lockdown\", \"During-Lockdown\", \"During-Lockdown\", \"During-Lockdown\", \"During-Lockdown\", \"During-Lockdown\", \"During-Lockdown\", \"During-Lockdown\", \"During-Lockdown\", \"During-Lockdown\", \"During-Lockdown\", \"During-Lockdown\", \"During-Lockdown\", \"During-Lockdown\", \"During-Lockdown\", \"During-Lockdown\", \"During-Lockdown\", \"During-Lockdown\", \"During-Lockdown\", \"During-Lockdown\", \"During-Lockdown\", \"During-Lockdown\", \"During-Lockdown\", \"During-Lockdown\", \"During-Lockdown\", \"During-Lockdown\", \"During-Lockdown\", \"During-Lockdown\", \"During-Lockdown\", \"During-Lockdown\", \"During-Lockdown\", \"During-Lockdown\", \"During-Lockdown\", \"During-Lockdown\", \"During-Lockdown\", \"During-Lockdown\"], \"x0\": \" \", \"xaxis\": \"x\", \"y\": [0.0, 1.0, 0.0, 0.0, 0.0, 0.0, 6.0, 2.0, 2.0, 0.0, 0.0, -1.0, 0.0, 1.0, 1.0, 1.0, 1.0, 0.0, 0.0, 1.0, 2.0, 1.0, 1.0, 1.0, 1.0, -1.0, 1.0, 1.0, 4.0, 2.0, 2.0, 2.0, 1.0, 2.0, 5.0, 6.0, 23.0, 17.0, 23.0, 29.0, 28.0, 29.0, 30.0, 21.0, 28.0, 25.0, 26.0, 29.0, 28.0, 27.0, 20.0, 28.0, 26.0, 26.0, 28.0, 30.0, 30.0, 22.0, 28.0, 27.0, 26.0, 27.0, 28.0, 28.0, 21.0, 28.0, 26.0, 27.0, 28.0, 29.0, 29.0, 22.0, 29.0, 25.0, 26.0, 28.0, 29.0, 27.0, 21.0, 25.0, 24.0, 24.0, 24.0, 25.0, 26.0, 18.0, 24.0, 23.0, 22.0, 22.0, 24.0, 23.0, 17.0, 22.0, 21.0, 21.0, 22.0, 22.0, 21.0, 15.0, 22.0, 17.0, 17.0, 18.0, 19.0, 17.0, 13.0, 16.0, 15.0, 14.0, 15.0, 16.0, 15.0, 12.0, 14.0, 14.0, 13.0, 15.0, 16.0, 16.0, 11.0, 13.0, 13.0, 13.0, 14.0, 16.0, 15.0, 18.0, 15.0, 14.0, 14.0, 15.0, 16.0, 16.0, 13.0, 15.0, 15.0, 14.0, 16.0, 17.0, 17.0, 14.0, 17.0, 15.0, 15.0, 17.0, 17.0, 18.0, 14.0, 17.0, 17.0, 20.0, 19.0, 20.0, 19.0, 18.0, 20.0, 18.0], \"y0\": \" \", \"yaxis\": \"y\"}, {\"alignmentgroup\": \"True\", \"hoverlabel\": {\"namelength\": 0}, \"hovertemplate\": \"State=Telangana<br>Lockdown=%{x}<br>Residential=%{y}\", \"legendgroup\": \"State=Telangana\", \"marker\": {\"color\": \"#EF553B\"}, \"name\": \"State=Telangana\", \"notched\": false, \"offsetgroup\": \"State=Telangana\", \"orientation\": \"v\", \"showlegend\": true, \"type\": \"box\", \"x\": [\"Pre-Lockdown\", \"Pre-Lockdown\", \"Pre-Lockdown\", \"Pre-Lockdown\", \"Pre-Lockdown\", \"Pre-Lockdown\", \"Pre-Lockdown\", \"Pre-Lockdown\", \"Pre-Lockdown\", \"Pre-Lockdown\", \"Pre-Lockdown\", \"Pre-Lockdown\", \"Pre-Lockdown\", \"Pre-Lockdown\", \"Pre-Lockdown\", \"Pre-Lockdown\", \"Pre-Lockdown\", \"Pre-Lockdown\", \"Pre-Lockdown\", \"Pre-Lockdown\", \"Pre-Lockdown\", \"Pre-Lockdown\", \"Pre-Lockdown\", \"Pre-Lockdown\", \"Pre-Lockdown\", \"Pre-Lockdown\", \"Pre-Lockdown\", \"Pre-Lockdown\", \"Pre-Lockdown\", \"Pre-Lockdown\", \"Pre-Lockdown\", \"Pre-Lockdown\", \"Pre-Lockdown\", \"Pre-Lockdown\", \"Pre-Lockdown\", \"Pre-Lockdown\", \"During-Lockdown\", \"During-Lockdown\", \"During-Lockdown\", \"During-Lockdown\", \"During-Lockdown\", \"During-Lockdown\", \"During-Lockdown\", \"During-Lockdown\", \"During-Lockdown\", \"During-Lockdown\", \"During-Lockdown\", \"During-Lockdown\", \"During-Lockdown\", \"During-Lockdown\", \"During-Lockdown\", \"During-Lockdown\", \"During-Lockdown\", \"During-Lockdown\", \"During-Lockdown\", \"During-Lockdown\", \"During-Lockdown\", \"During-Lockdown\", \"During-Lockdown\", \"During-Lockdown\", \"During-Lockdown\", \"During-Lockdown\", \"During-Lockdown\", \"During-Lockdown\", \"During-Lockdown\", \"During-Lockdown\", \"During-Lockdown\", \"During-Lockdown\", \"During-Lockdown\", \"During-Lockdown\", \"During-Lockdown\", \"During-Lockdown\", \"During-Lockdown\", \"During-Lockdown\", \"During-Lockdown\", \"During-Lockdown\", \"During-Lockdown\", \"During-Lockdown\", \"During-Lockdown\", \"During-Lockdown\", \"During-Lockdown\", \"During-Lockdown\", \"During-Lockdown\", \"During-Lockdown\", \"During-Lockdown\", \"During-Lockdown\", \"During-Lockdown\", \"During-Lockdown\", \"During-Lockdown\", \"During-Lockdown\", \"During-Lockdown\", \"During-Lockdown\", \"During-Lockdown\", \"During-Lockdown\", \"During-Lockdown\", \"During-Lockdown\", \"During-Lockdown\", \"During-Lockdown\", \"During-Lockdown\", \"During-Lockdown\", \"During-Lockdown\", \"During-Lockdown\", \"During-Lockdown\", \"During-Lockdown\", \"During-Lockdown\", \"During-Lockdown\", \"During-Lockdown\", \"During-Lockdown\", \"During-Lockdown\", \"During-Lockdown\", \"During-Lockdown\", \"During-Lockdown\", \"During-Lockdown\", \"During-Lockdown\", \"During-Lockdown\", \"During-Lockdown\", \"During-Lockdown\", \"During-Lockdown\", \"During-Lockdown\", \"During-Lockdown\", \"During-Lockdown\", \"During-Lockdown\", \"During-Lockdown\", \"During-Lockdown\", \"During-Lockdown\", \"During-Lockdown\", \"During-Lockdown\", \"During-Lockdown\", \"During-Lockdown\", \"During-Lockdown\", \"During-Lockdown\", \"During-Lockdown\", \"During-Lockdown\", \"During-Lockdown\", \"During-Lockdown\", \"During-Lockdown\", \"During-Lockdown\", \"During-Lockdown\", \"During-Lockdown\", \"During-Lockdown\", \"During-Lockdown\", \"During-Lockdown\", \"During-Lockdown\", \"During-Lockdown\", \"During-Lockdown\", \"During-Lockdown\", \"During-Lockdown\", \"During-Lockdown\", \"During-Lockdown\", \"During-Lockdown\", \"During-Lockdown\", \"During-Lockdown\", \"During-Lockdown\", \"During-Lockdown\", \"During-Lockdown\", \"During-Lockdown\", \"During-Lockdown\", \"During-Lockdown\"], \"x0\": \" \", \"xaxis\": \"x\", \"y\": [0.0, 1.0, 1.0, 1.0, 0.0, 0.0, 9.0, 5.0, 2.0, 1.0, 0.0, -1.0, 0.0, 0.0, 1.0, 0.0, 1.0, 1.0, 1.0, 2.0, 2.0, 2.0, 1.0, 9.0, 4.0, 0.0, 1.0, 1.0, 3.0, 1.0, 4.0, 4.0, 4.0, 6.0, 8.0, 7.0, 24.0, 26.0, 32.0, 35.0, 35.0, 37.0, 34.0, 24.0, 36.0, 33.0, 33.0, 35.0, 35.0, 31.0, 23.0, 35.0, 33.0, 32.0, 34.0, 36.0, 33.0, 23.0, 35.0, 33.0, 32.0, 34.0, 35.0, 31.0, 23.0, 35.0, 33.0, 34.0, 35.0, 35.0, 33.0, 24.0, 36.0, 32.0, 32.0, 33.0, 35.0, 30.0, 21.0, 32.0, 30.0, 28.0, 29.0, 29.0, 26.0, 18.0, 28.0, 26.0, 25.0, 26.0, 27.0, 24.0, 17.0, 26.0, 23.0, 22.0, 23.0, 25.0, 20.0, 14.0, 26.0, 21.0, 19.0, 21.0, 22.0, 17.0, 13.0, 18.0, 18.0, 17.0, 18.0, 19.0, 15.0, 11.0, 17.0, 16.0, 16.0, 16.0, 18.0, 15.0, 9.0, 16.0, 17.0, 16.0, 17.0, 17.0, 14.0, 16.0, 17.0, 17.0, 16.0, 17.0, 18.0, 16.0, 12.0, 19.0, 17.0, 18.0, 18.0, 20.0, 17.0, 13.0, 20.0, 18.0, 18.0, 19.0, 20.0, 17.0, 12.0, 20.0, 19.0, 20.0, 19.0, 20.0, 17.0, 13.0, 22.0, 19.0], \"y0\": \" \", \"yaxis\": \"y\"}],\n",
              "                        {\"boxmode\": \"group\", \"height\": 400, \"legend\": {\"tracegroupgap\": 0}, \"template\": {\"data\": {\"bar\": [{\"error_x\": {\"color\": \"#f2f5fa\"}, \"error_y\": {\"color\": \"#f2f5fa\"}, \"marker\": {\"line\": {\"color\": \"rgb(17,17,17)\", \"width\": 0.5}}, \"type\": \"bar\"}], \"barpolar\": [{\"marker\": {\"line\": {\"color\": \"rgb(17,17,17)\", \"width\": 0.5}}, \"type\": \"barpolar\"}], \"carpet\": [{\"aaxis\": {\"endlinecolor\": \"#A2B1C6\", \"gridcolor\": \"#506784\", \"linecolor\": \"#506784\", \"minorgridcolor\": \"#506784\", \"startlinecolor\": \"#A2B1C6\"}, \"baxis\": {\"endlinecolor\": \"#A2B1C6\", \"gridcolor\": \"#506784\", \"linecolor\": \"#506784\", \"minorgridcolor\": \"#506784\", \"startlinecolor\": \"#A2B1C6\"}, \"type\": \"carpet\"}], \"choropleth\": [{\"colorbar\": {\"outlinewidth\": 0, \"ticks\": \"\"}, \"type\": \"choropleth\"}], \"contour\": [{\"colorbar\": {\"outlinewidth\": 0, \"ticks\": \"\"}, \"colorscale\": [[0.0, \"#0d0887\"], [0.1111111111111111, \"#46039f\"], [0.2222222222222222, \"#7201a8\"], [0.3333333333333333, \"#9c179e\"], [0.4444444444444444, \"#bd3786\"], [0.5555555555555556, \"#d8576b\"], [0.6666666666666666, \"#ed7953\"], [0.7777777777777778, \"#fb9f3a\"], [0.8888888888888888, \"#fdca26\"], [1.0, \"#f0f921\"]], \"type\": \"contour\"}], \"contourcarpet\": [{\"colorbar\": {\"outlinewidth\": 0, \"ticks\": \"\"}, \"type\": \"contourcarpet\"}], \"heatmap\": [{\"colorbar\": {\"outlinewidth\": 0, \"ticks\": \"\"}, \"colorscale\": [[0.0, \"#0d0887\"], [0.1111111111111111, \"#46039f\"], [0.2222222222222222, \"#7201a8\"], [0.3333333333333333, \"#9c179e\"], [0.4444444444444444, \"#bd3786\"], [0.5555555555555556, \"#d8576b\"], [0.6666666666666666, \"#ed7953\"], [0.7777777777777778, \"#fb9f3a\"], [0.8888888888888888, \"#fdca26\"], [1.0, \"#f0f921\"]], \"type\": \"heatmap\"}], \"heatmapgl\": [{\"colorbar\": {\"outlinewidth\": 0, \"ticks\": \"\"}, \"colorscale\": [[0.0, \"#0d0887\"], [0.1111111111111111, \"#46039f\"], [0.2222222222222222, \"#7201a8\"], [0.3333333333333333, \"#9c179e\"], [0.4444444444444444, \"#bd3786\"], [0.5555555555555556, \"#d8576b\"], [0.6666666666666666, \"#ed7953\"], [0.7777777777777778, \"#fb9f3a\"], [0.8888888888888888, \"#fdca26\"], [1.0, \"#f0f921\"]], \"type\": \"heatmapgl\"}], \"histogram\": [{\"marker\": {\"colorbar\": {\"outlinewidth\": 0, \"ticks\": \"\"}}, \"type\": \"histogram\"}], \"histogram2d\": [{\"colorbar\": {\"outlinewidth\": 0, \"ticks\": \"\"}, \"colorscale\": [[0.0, \"#0d0887\"], [0.1111111111111111, \"#46039f\"], [0.2222222222222222, \"#7201a8\"], [0.3333333333333333, \"#9c179e\"], [0.4444444444444444, \"#bd3786\"], [0.5555555555555556, \"#d8576b\"], [0.6666666666666666, \"#ed7953\"], [0.7777777777777778, \"#fb9f3a\"], [0.8888888888888888, \"#fdca26\"], [1.0, \"#f0f921\"]], \"type\": \"histogram2d\"}], \"histogram2dcontour\": [{\"colorbar\": {\"outlinewidth\": 0, \"ticks\": \"\"}, \"colorscale\": [[0.0, \"#0d0887\"], [0.1111111111111111, \"#46039f\"], [0.2222222222222222, \"#7201a8\"], [0.3333333333333333, \"#9c179e\"], [0.4444444444444444, \"#bd3786\"], [0.5555555555555556, \"#d8576b\"], [0.6666666666666666, \"#ed7953\"], [0.7777777777777778, \"#fb9f3a\"], [0.8888888888888888, \"#fdca26\"], [1.0, \"#f0f921\"]], \"type\": \"histogram2dcontour\"}], \"mesh3d\": [{\"colorbar\": {\"outlinewidth\": 0, \"ticks\": \"\"}, \"type\": \"mesh3d\"}], \"parcoords\": [{\"line\": {\"colorbar\": {\"outlinewidth\": 0, \"ticks\": \"\"}}, \"type\": \"parcoords\"}], \"pie\": [{\"automargin\": true, \"type\": \"pie\"}], \"scatter\": [{\"marker\": {\"line\": {\"color\": \"#283442\"}}, \"type\": \"scatter\"}], \"scatter3d\": [{\"line\": {\"colorbar\": {\"outlinewidth\": 0, \"ticks\": \"\"}}, \"marker\": {\"colorbar\": {\"outlinewidth\": 0, \"ticks\": \"\"}}, \"type\": \"scatter3d\"}], \"scattercarpet\": [{\"marker\": {\"colorbar\": {\"outlinewidth\": 0, \"ticks\": \"\"}}, \"type\": \"scattercarpet\"}], \"scattergeo\": [{\"marker\": {\"colorbar\": {\"outlinewidth\": 0, \"ticks\": \"\"}}, \"type\": \"scattergeo\"}], \"scattergl\": [{\"marker\": {\"line\": {\"color\": \"#283442\"}}, \"type\": \"scattergl\"}], \"scattermapbox\": [{\"marker\": {\"colorbar\": {\"outlinewidth\": 0, \"ticks\": \"\"}}, \"type\": \"scattermapbox\"}], \"scatterpolar\": [{\"marker\": {\"colorbar\": {\"outlinewidth\": 0, \"ticks\": \"\"}}, \"type\": \"scatterpolar\"}], \"scatterpolargl\": [{\"marker\": {\"colorbar\": {\"outlinewidth\": 0, \"ticks\": \"\"}}, \"type\": \"scatterpolargl\"}], \"scatterternary\": [{\"marker\": {\"colorbar\": {\"outlinewidth\": 0, \"ticks\": \"\"}}, \"type\": \"scatterternary\"}], \"surface\": [{\"colorbar\": {\"outlinewidth\": 0, \"ticks\": \"\"}, \"colorscale\": [[0.0, \"#0d0887\"], [0.1111111111111111, \"#46039f\"], [0.2222222222222222, \"#7201a8\"], [0.3333333333333333, \"#9c179e\"], [0.4444444444444444, \"#bd3786\"], [0.5555555555555556, \"#d8576b\"], [0.6666666666666666, \"#ed7953\"], [0.7777777777777778, \"#fb9f3a\"], [0.8888888888888888, \"#fdca26\"], [1.0, \"#f0f921\"]], \"type\": \"surface\"}], \"table\": [{\"cells\": {\"fill\": {\"color\": \"#506784\"}, \"line\": {\"color\": \"rgb(17,17,17)\"}}, \"header\": {\"fill\": {\"color\": \"#2a3f5f\"}, \"line\": {\"color\": \"rgb(17,17,17)\"}}, \"type\": \"table\"}]}, \"layout\": {\"annotationdefaults\": {\"arrowcolor\": \"#f2f5fa\", \"arrowhead\": 0, \"arrowwidth\": 1}, \"coloraxis\": {\"colorbar\": {\"outlinewidth\": 0, \"ticks\": \"\"}}, \"colorscale\": {\"diverging\": [[0, \"#8e0152\"], [0.1, \"#c51b7d\"], [0.2, \"#de77ae\"], [0.3, \"#f1b6da\"], [0.4, \"#fde0ef\"], [0.5, \"#f7f7f7\"], [0.6, \"#e6f5d0\"], [0.7, \"#b8e186\"], [0.8, \"#7fbc41\"], [0.9, \"#4d9221\"], [1, \"#276419\"]], \"sequential\": [[0.0, \"#0d0887\"], [0.1111111111111111, \"#46039f\"], [0.2222222222222222, \"#7201a8\"], [0.3333333333333333, \"#9c179e\"], [0.4444444444444444, \"#bd3786\"], [0.5555555555555556, \"#d8576b\"], [0.6666666666666666, \"#ed7953\"], [0.7777777777777778, \"#fb9f3a\"], [0.8888888888888888, \"#fdca26\"], [1.0, \"#f0f921\"]], \"sequentialminus\": [[0.0, \"#0d0887\"], [0.1111111111111111, \"#46039f\"], [0.2222222222222222, \"#7201a8\"], [0.3333333333333333, \"#9c179e\"], [0.4444444444444444, \"#bd3786\"], [0.5555555555555556, \"#d8576b\"], [0.6666666666666666, \"#ed7953\"], [0.7777777777777778, \"#fb9f3a\"], [0.8888888888888888, \"#fdca26\"], [1.0, \"#f0f921\"]]}, \"colorway\": [\"#636efa\", \"#EF553B\", \"#00cc96\", \"#ab63fa\", \"#FFA15A\", \"#19d3f3\", \"#FF6692\", \"#B6E880\", \"#FF97FF\", \"#FECB52\"], \"font\": {\"color\": \"#f2f5fa\"}, \"geo\": {\"bgcolor\": \"rgb(17,17,17)\", \"lakecolor\": \"rgb(17,17,17)\", \"landcolor\": \"rgb(17,17,17)\", \"showlakes\": true, \"showland\": true, \"subunitcolor\": \"#506784\"}, \"hoverlabel\": {\"align\": \"left\"}, \"hovermode\": \"closest\", \"mapbox\": {\"style\": \"dark\"}, \"paper_bgcolor\": \"rgb(17,17,17)\", \"plot_bgcolor\": \"rgb(17,17,17)\", \"polar\": {\"angularaxis\": {\"gridcolor\": \"#506784\", \"linecolor\": \"#506784\", \"ticks\": \"\"}, \"bgcolor\": \"rgb(17,17,17)\", \"radialaxis\": {\"gridcolor\": \"#506784\", \"linecolor\": \"#506784\", \"ticks\": \"\"}}, \"scene\": {\"xaxis\": {\"backgroundcolor\": \"rgb(17,17,17)\", \"gridcolor\": \"#506784\", \"gridwidth\": 2, \"linecolor\": \"#506784\", \"showbackground\": true, \"ticks\": \"\", \"zerolinecolor\": \"#C8D4E3\"}, \"yaxis\": {\"backgroundcolor\": \"rgb(17,17,17)\", \"gridcolor\": \"#506784\", \"gridwidth\": 2, \"linecolor\": \"#506784\", \"showbackground\": true, \"ticks\": \"\", \"zerolinecolor\": \"#C8D4E3\"}, \"zaxis\": {\"backgroundcolor\": \"rgb(17,17,17)\", \"gridcolor\": \"#506784\", \"gridwidth\": 2, \"linecolor\": \"#506784\", \"showbackground\": true, \"ticks\": \"\", \"zerolinecolor\": \"#C8D4E3\"}}, \"shapedefaults\": {\"line\": {\"color\": \"#f2f5fa\"}}, \"sliderdefaults\": {\"bgcolor\": \"#C8D4E3\", \"bordercolor\": \"rgb(17,17,17)\", \"borderwidth\": 1, \"tickwidth\": 0}, \"ternary\": {\"aaxis\": {\"gridcolor\": \"#506784\", \"linecolor\": \"#506784\", \"ticks\": \"\"}, \"baxis\": {\"gridcolor\": \"#506784\", \"linecolor\": \"#506784\", \"ticks\": \"\"}, \"bgcolor\": \"rgb(17,17,17)\", \"caxis\": {\"gridcolor\": \"#506784\", \"linecolor\": \"#506784\", \"ticks\": \"\"}}, \"title\": {\"x\": 0.05}, \"updatemenudefaults\": {\"bgcolor\": \"#506784\", \"borderwidth\": 0}, \"xaxis\": {\"automargin\": true, \"gridcolor\": \"#283442\", \"linecolor\": \"#506784\", \"ticks\": \"\", \"title\": {\"standoff\": 15}, \"zerolinecolor\": \"#283442\", \"zerolinewidth\": 2}, \"yaxis\": {\"automargin\": true, \"gridcolor\": \"#283442\", \"linecolor\": \"#506784\", \"ticks\": \"\", \"title\": {\"standoff\": 15}, \"zerolinecolor\": \"#283442\", \"zerolinewidth\": 2}}}, \"title\": {\"text\": \"Residential\"}, \"width\": 600, \"xaxis\": {\"anchor\": \"y\", \"domain\": [0.0, 1.0], \"title\": {\"text\": \"Lockdown\"}}, \"yaxis\": {\"anchor\": \"x\", \"domain\": [0.0, 1.0], \"title\": {\"text\": \"Residential\"}}},\n",
              "                        {\"responsive\": true}\n",
              "                    ).then(function(){\n",
              "                            \n",
              "var gd = document.getElementById('f4b08df5-093e-4783-b80b-b21ddb110263');\n",
              "var x = new MutationObserver(function (mutations, observer) {{\n",
              "        var display = window.getComputedStyle(gd).display;\n",
              "        if (!display || display === 'none') {{\n",
              "            console.log([gd, 'removed!']);\n",
              "            Plotly.purge(gd);\n",
              "            observer.disconnect();\n",
              "        }}\n",
              "}});\n",
              "\n",
              "// Listen for the removal of the full notebook cells\n",
              "var notebookContainer = gd.closest('#notebook-container');\n",
              "if (notebookContainer) {{\n",
              "    x.observe(notebookContainer, {childList: true});\n",
              "}}\n",
              "\n",
              "// Listen for the clearing of the current output cell\n",
              "var outputEl = gd.closest('.output');\n",
              "if (outputEl) {{\n",
              "    x.observe(outputEl, {childList: true});\n",
              "}}\n",
              "\n",
              "                        })\n",
              "                };\n",
              "                \n",
              "            </script>\n",
              "        </div>\n",
              "</body>\n",
              "</html>"
            ]
          },
          "metadata": {
            "tags": []
          }
        }
      ]
    },
    {
      "cell_type": "code",
      "metadata": {
        "id": "GqhTvMpsNUPj",
        "colab_type": "code",
        "colab": {}
      },
      "source": [
        "averages_Telangana = df_india_Telangana_and_AP[df_india_Telangana_and_AP[\"State\"]==\"Telangana\"].mean()\n",
        "averages_AP = df_india_Telangana_and_AP[df_india_Telangana_and_AP[\"State\"]==\"Andhra Pradesh\"].mean()"
      ],
      "execution_count": 47,
      "outputs": []
    },
    {
      "cell_type": "code",
      "metadata": {
        "id": "4TIxKiX9UH9k",
        "colab_type": "code",
        "colab": {
          "base_uri": "https://localhost:8080/",
          "height": 136
        },
        "outputId": "931518ae-ab85-41e6-f947-82b2f5881980"
      },
      "source": [
        "averages_Telangana"
      ],
      "execution_count": 48,
      "outputs": [
        {
          "output_type": "execute_result",
          "data": {
            "text/plain": [
              "Recreation             -57.778481\n",
              "Grocery_and_Pharmacy   -21.018987\n",
              "Parks                  -46.867089\n",
              "Transit_stations       -40.715190\n",
              "Workplaces             -39.082278\n",
              "Residential             18.816456\n",
              "dtype: float64"
            ]
          },
          "metadata": {
            "tags": []
          },
          "execution_count": 48
        }
      ]
    },
    {
      "cell_type": "code",
      "metadata": {
        "id": "4qUWJK1EUJQp",
        "colab_type": "code",
        "colab": {
          "base_uri": "https://localhost:8080/",
          "height": 136
        },
        "outputId": "f6093c2e-0a69-4415-a490-006324f88f74"
      },
      "source": [
        "averages_AP"
      ],
      "execution_count": 49,
      "outputs": [
        {
          "output_type": "execute_result",
          "data": {
            "text/plain": [
              "Recreation             -53.607595\n",
              "Grocery_and_Pharmacy   -17.417722\n",
              "Parks                  -38.962025\n",
              "Transit_stations       -35.126582\n",
              "Workplaces             -25.753165\n",
              "Residential             16.215190\n",
              "dtype: float64"
            ]
          },
          "metadata": {
            "tags": []
          },
          "execution_count": 49
        }
      ]
    },
    {
      "cell_type": "code",
      "metadata": {
        "id": "Stti-zXyUOh5",
        "colab_type": "code",
        "colab": {
          "base_uri": "https://localhost:8080/",
          "height": 542
        },
        "outputId": "7bc782cc-4638-4462-8cbf-70014c78b4e9"
      },
      "source": [
        "fig = go.Figure()\n",
        "fig.add_trace(go.Bar(\n",
        "    x=columns,\n",
        "    y=averages_AP,\n",
        "    name=\"AP\",\n",
        "    marker_color='indianred'\n",
        "))\n",
        "fig.add_trace(go.Bar(\n",
        "    x=columns,\n",
        "    y=averages_Telangana,\n",
        "    name='Telangana',\n",
        "    marker_color='lightsalmon'\n",
        "))\n",
        "\n",
        "# Here we modify the tickangle of the xaxis, resulting in rotated labels.\n",
        "fig.update_layout(barmode='group', xaxis_tickangle=-45)\n",
        "fig.show()"
      ],
      "execution_count": 74,
      "outputs": [
        {
          "output_type": "display_data",
          "data": {
            "text/html": [
              "<html>\n",
              "<head><meta charset=\"utf-8\" /></head>\n",
              "<body>\n",
              "    <div>\n",
              "            <script src=\"https://cdnjs.cloudflare.com/ajax/libs/mathjax/2.7.5/MathJax.js?config=TeX-AMS-MML_SVG\"></script><script type=\"text/javascript\">if (window.MathJax) {MathJax.Hub.Config({SVG: {font: \"STIX-Web\"}});}</script>\n",
              "                <script type=\"text/javascript\">window.PlotlyConfig = {MathJaxConfig: 'local'};</script>\n",
              "        <script src=\"https://cdn.plot.ly/plotly-latest.min.js\"></script>    \n",
              "            <div id=\"7f2149c9-2532-4de8-a74b-796dce184adf\" class=\"plotly-graph-div\" style=\"height:525px; width:100%;\"></div>\n",
              "            <script type=\"text/javascript\">\n",
              "                \n",
              "                    window.PLOTLYENV=window.PLOTLYENV || {};\n",
              "                    \n",
              "                if (document.getElementById(\"7f2149c9-2532-4de8-a74b-796dce184adf\")) {\n",
              "                    Plotly.newPlot(\n",
              "                        '7f2149c9-2532-4de8-a74b-796dce184adf',\n",
              "                        [{\"marker\": {\"color\": \"indianred\"}, \"name\": \"AP\", \"type\": \"bar\", \"x\": [\"Recreation\", \"Grocery_and_Pharmacy\", \"Parks\", \"Transit_stations\", \"Workplaces\", \"Residential\"], \"y\": [-53.607594936708864, -17.417721518987342, -38.962025316455694, -35.12658227848101, -25.753164556962027, 16.21518987341772]}, {\"marker\": {\"color\": \"lightsalmon\"}, \"name\": \"Telangana\", \"type\": \"bar\", \"x\": [\"Recreation\", \"Grocery_and_Pharmacy\", \"Parks\", \"Transit_stations\", \"Workplaces\", \"Residential\"], \"y\": [-57.778481012658226, -21.018987341772153, -46.86708860759494, -40.71518987341772, -39.08227848101266, 18.81645569620253]}],\n",
              "                        {\"barmode\": \"group\", \"template\": {\"data\": {\"bar\": [{\"error_x\": {\"color\": \"#2a3f5f\"}, \"error_y\": {\"color\": \"#2a3f5f\"}, \"marker\": {\"line\": {\"color\": \"#E5ECF6\", \"width\": 0.5}}, \"type\": \"bar\"}], \"barpolar\": [{\"marker\": {\"line\": {\"color\": \"#E5ECF6\", \"width\": 0.5}}, \"type\": \"barpolar\"}], \"carpet\": [{\"aaxis\": {\"endlinecolor\": \"#2a3f5f\", \"gridcolor\": \"white\", \"linecolor\": \"white\", \"minorgridcolor\": \"white\", \"startlinecolor\": \"#2a3f5f\"}, \"baxis\": {\"endlinecolor\": \"#2a3f5f\", \"gridcolor\": \"white\", \"linecolor\": \"white\", \"minorgridcolor\": \"white\", \"startlinecolor\": \"#2a3f5f\"}, \"type\": \"carpet\"}], \"choropleth\": [{\"colorbar\": {\"outlinewidth\": 0, \"ticks\": \"\"}, \"type\": \"choropleth\"}], \"contour\": [{\"colorbar\": {\"outlinewidth\": 0, \"ticks\": \"\"}, \"colorscale\": [[0.0, \"#0d0887\"], [0.1111111111111111, \"#46039f\"], [0.2222222222222222, \"#7201a8\"], [0.3333333333333333, \"#9c179e\"], [0.4444444444444444, \"#bd3786\"], [0.5555555555555556, \"#d8576b\"], [0.6666666666666666, \"#ed7953\"], [0.7777777777777778, \"#fb9f3a\"], [0.8888888888888888, \"#fdca26\"], [1.0, \"#f0f921\"]], \"type\": \"contour\"}], \"contourcarpet\": [{\"colorbar\": {\"outlinewidth\": 0, \"ticks\": \"\"}, \"type\": \"contourcarpet\"}], \"heatmap\": [{\"colorbar\": {\"outlinewidth\": 0, \"ticks\": \"\"}, \"colorscale\": [[0.0, \"#0d0887\"], [0.1111111111111111, \"#46039f\"], [0.2222222222222222, \"#7201a8\"], [0.3333333333333333, \"#9c179e\"], [0.4444444444444444, \"#bd3786\"], [0.5555555555555556, \"#d8576b\"], [0.6666666666666666, \"#ed7953\"], [0.7777777777777778, \"#fb9f3a\"], [0.8888888888888888, \"#fdca26\"], [1.0, \"#f0f921\"]], \"type\": \"heatmap\"}], \"heatmapgl\": [{\"colorbar\": {\"outlinewidth\": 0, \"ticks\": \"\"}, \"colorscale\": [[0.0, \"#0d0887\"], [0.1111111111111111, \"#46039f\"], [0.2222222222222222, \"#7201a8\"], [0.3333333333333333, \"#9c179e\"], [0.4444444444444444, \"#bd3786\"], [0.5555555555555556, \"#d8576b\"], [0.6666666666666666, \"#ed7953\"], [0.7777777777777778, \"#fb9f3a\"], [0.8888888888888888, \"#fdca26\"], [1.0, \"#f0f921\"]], \"type\": \"heatmapgl\"}], \"histogram\": [{\"marker\": {\"colorbar\": {\"outlinewidth\": 0, \"ticks\": \"\"}}, \"type\": \"histogram\"}], \"histogram2d\": [{\"colorbar\": {\"outlinewidth\": 0, \"ticks\": \"\"}, \"colorscale\": [[0.0, \"#0d0887\"], [0.1111111111111111, \"#46039f\"], [0.2222222222222222, \"#7201a8\"], [0.3333333333333333, \"#9c179e\"], [0.4444444444444444, \"#bd3786\"], [0.5555555555555556, \"#d8576b\"], [0.6666666666666666, \"#ed7953\"], [0.7777777777777778, \"#fb9f3a\"], [0.8888888888888888, \"#fdca26\"], [1.0, \"#f0f921\"]], \"type\": \"histogram2d\"}], \"histogram2dcontour\": [{\"colorbar\": {\"outlinewidth\": 0, \"ticks\": \"\"}, \"colorscale\": [[0.0, \"#0d0887\"], [0.1111111111111111, \"#46039f\"], [0.2222222222222222, \"#7201a8\"], [0.3333333333333333, \"#9c179e\"], [0.4444444444444444, \"#bd3786\"], [0.5555555555555556, \"#d8576b\"], [0.6666666666666666, \"#ed7953\"], [0.7777777777777778, \"#fb9f3a\"], [0.8888888888888888, \"#fdca26\"], [1.0, \"#f0f921\"]], \"type\": \"histogram2dcontour\"}], \"mesh3d\": [{\"colorbar\": {\"outlinewidth\": 0, \"ticks\": \"\"}, \"type\": \"mesh3d\"}], \"parcoords\": [{\"line\": {\"colorbar\": {\"outlinewidth\": 0, \"ticks\": \"\"}}, \"type\": \"parcoords\"}], \"pie\": [{\"automargin\": true, \"type\": \"pie\"}], \"scatter\": [{\"marker\": {\"colorbar\": {\"outlinewidth\": 0, \"ticks\": \"\"}}, \"type\": \"scatter\"}], \"scatter3d\": [{\"line\": {\"colorbar\": {\"outlinewidth\": 0, \"ticks\": \"\"}}, \"marker\": {\"colorbar\": {\"outlinewidth\": 0, \"ticks\": \"\"}}, \"type\": \"scatter3d\"}], \"scattercarpet\": [{\"marker\": {\"colorbar\": {\"outlinewidth\": 0, \"ticks\": \"\"}}, \"type\": \"scattercarpet\"}], \"scattergeo\": [{\"marker\": {\"colorbar\": {\"outlinewidth\": 0, \"ticks\": \"\"}}, \"type\": \"scattergeo\"}], \"scattergl\": [{\"marker\": {\"colorbar\": {\"outlinewidth\": 0, \"ticks\": \"\"}}, \"type\": \"scattergl\"}], \"scattermapbox\": [{\"marker\": {\"colorbar\": {\"outlinewidth\": 0, \"ticks\": \"\"}}, \"type\": \"scattermapbox\"}], \"scatterpolar\": [{\"marker\": {\"colorbar\": {\"outlinewidth\": 0, \"ticks\": \"\"}}, \"type\": \"scatterpolar\"}], \"scatterpolargl\": [{\"marker\": {\"colorbar\": {\"outlinewidth\": 0, \"ticks\": \"\"}}, \"type\": \"scatterpolargl\"}], \"scatterternary\": [{\"marker\": {\"colorbar\": {\"outlinewidth\": 0, \"ticks\": \"\"}}, \"type\": \"scatterternary\"}], \"surface\": [{\"colorbar\": {\"outlinewidth\": 0, \"ticks\": \"\"}, \"colorscale\": [[0.0, \"#0d0887\"], [0.1111111111111111, \"#46039f\"], [0.2222222222222222, \"#7201a8\"], [0.3333333333333333, \"#9c179e\"], [0.4444444444444444, \"#bd3786\"], [0.5555555555555556, \"#d8576b\"], [0.6666666666666666, \"#ed7953\"], [0.7777777777777778, \"#fb9f3a\"], [0.8888888888888888, \"#fdca26\"], [1.0, \"#f0f921\"]], \"type\": \"surface\"}], \"table\": [{\"cells\": {\"fill\": {\"color\": \"#EBF0F8\"}, \"line\": {\"color\": \"white\"}}, \"header\": {\"fill\": {\"color\": \"#C8D4E3\"}, \"line\": {\"color\": \"white\"}}, \"type\": \"table\"}]}, \"layout\": {\"annotationdefaults\": {\"arrowcolor\": \"#2a3f5f\", \"arrowhead\": 0, \"arrowwidth\": 1}, \"coloraxis\": {\"colorbar\": {\"outlinewidth\": 0, \"ticks\": \"\"}}, \"colorscale\": {\"diverging\": [[0, \"#8e0152\"], [0.1, \"#c51b7d\"], [0.2, \"#de77ae\"], [0.3, \"#f1b6da\"], [0.4, \"#fde0ef\"], [0.5, \"#f7f7f7\"], [0.6, \"#e6f5d0\"], [0.7, \"#b8e186\"], [0.8, \"#7fbc41\"], [0.9, \"#4d9221\"], [1, \"#276419\"]], \"sequential\": [[0.0, \"#0d0887\"], [0.1111111111111111, \"#46039f\"], [0.2222222222222222, \"#7201a8\"], [0.3333333333333333, \"#9c179e\"], [0.4444444444444444, \"#bd3786\"], [0.5555555555555556, \"#d8576b\"], [0.6666666666666666, \"#ed7953\"], [0.7777777777777778, \"#fb9f3a\"], [0.8888888888888888, \"#fdca26\"], [1.0, \"#f0f921\"]], \"sequentialminus\": [[0.0, \"#0d0887\"], [0.1111111111111111, \"#46039f\"], [0.2222222222222222, \"#7201a8\"], [0.3333333333333333, \"#9c179e\"], [0.4444444444444444, \"#bd3786\"], [0.5555555555555556, \"#d8576b\"], [0.6666666666666666, \"#ed7953\"], [0.7777777777777778, \"#fb9f3a\"], [0.8888888888888888, \"#fdca26\"], [1.0, \"#f0f921\"]]}, \"colorway\": [\"#636efa\", \"#EF553B\", \"#00cc96\", \"#ab63fa\", \"#FFA15A\", \"#19d3f3\", \"#FF6692\", \"#B6E880\", \"#FF97FF\", \"#FECB52\"], \"font\": {\"color\": \"#2a3f5f\"}, \"geo\": {\"bgcolor\": \"white\", \"lakecolor\": \"white\", \"landcolor\": \"#E5ECF6\", \"showlakes\": true, \"showland\": true, \"subunitcolor\": \"white\"}, \"hoverlabel\": {\"align\": \"left\"}, \"hovermode\": \"closest\", \"mapbox\": {\"style\": \"light\"}, \"paper_bgcolor\": \"white\", \"plot_bgcolor\": \"#E5ECF6\", \"polar\": {\"angularaxis\": {\"gridcolor\": \"white\", \"linecolor\": \"white\", \"ticks\": \"\"}, \"bgcolor\": \"#E5ECF6\", \"radialaxis\": {\"gridcolor\": \"white\", \"linecolor\": \"white\", \"ticks\": \"\"}}, \"scene\": {\"xaxis\": {\"backgroundcolor\": \"#E5ECF6\", \"gridcolor\": \"white\", \"gridwidth\": 2, \"linecolor\": \"white\", \"showbackground\": true, \"ticks\": \"\", \"zerolinecolor\": \"white\"}, \"yaxis\": {\"backgroundcolor\": \"#E5ECF6\", \"gridcolor\": \"white\", \"gridwidth\": 2, \"linecolor\": \"white\", \"showbackground\": true, \"ticks\": \"\", \"zerolinecolor\": \"white\"}, \"zaxis\": {\"backgroundcolor\": \"#E5ECF6\", \"gridcolor\": \"white\", \"gridwidth\": 2, \"linecolor\": \"white\", \"showbackground\": true, \"ticks\": \"\", \"zerolinecolor\": \"white\"}}, \"shapedefaults\": {\"line\": {\"color\": \"#2a3f5f\"}}, \"ternary\": {\"aaxis\": {\"gridcolor\": \"white\", \"linecolor\": \"white\", \"ticks\": \"\"}, \"baxis\": {\"gridcolor\": \"white\", \"linecolor\": \"white\", \"ticks\": \"\"}, \"bgcolor\": \"#E5ECF6\", \"caxis\": {\"gridcolor\": \"white\", \"linecolor\": \"white\", \"ticks\": \"\"}}, \"title\": {\"x\": 0.05}, \"xaxis\": {\"automargin\": true, \"gridcolor\": \"white\", \"linecolor\": \"white\", \"ticks\": \"\", \"title\": {\"standoff\": 15}, \"zerolinecolor\": \"white\", \"zerolinewidth\": 2}, \"yaxis\": {\"automargin\": true, \"gridcolor\": \"white\", \"linecolor\": \"white\", \"ticks\": \"\", \"title\": {\"standoff\": 15}, \"zerolinecolor\": \"white\", \"zerolinewidth\": 2}}}, \"xaxis\": {\"tickangle\": -45}},\n",
              "                        {\"responsive\": true}\n",
              "                    ).then(function(){\n",
              "                            \n",
              "var gd = document.getElementById('7f2149c9-2532-4de8-a74b-796dce184adf');\n",
              "var x = new MutationObserver(function (mutations, observer) {{\n",
              "        var display = window.getComputedStyle(gd).display;\n",
              "        if (!display || display === 'none') {{\n",
              "            console.log([gd, 'removed!']);\n",
              "            Plotly.purge(gd);\n",
              "            observer.disconnect();\n",
              "        }}\n",
              "}});\n",
              "\n",
              "// Listen for the removal of the full notebook cells\n",
              "var notebookContainer = gd.closest('#notebook-container');\n",
              "if (notebookContainer) {{\n",
              "    x.observe(notebookContainer, {childList: true});\n",
              "}}\n",
              "\n",
              "// Listen for the clearing of the current output cell\n",
              "var outputEl = gd.closest('.output');\n",
              "if (outputEl) {{\n",
              "    x.observe(outputEl, {childList: true});\n",
              "}}\n",
              "\n",
              "                        })\n",
              "                };\n",
              "                \n",
              "            </script>\n",
              "        </div>\n",
              "</body>\n",
              "</html>"
            ]
          },
          "metadata": {
            "tags": []
          }
        }
      ]
    },
    {
      "cell_type": "markdown",
      "metadata": {
        "id": "3JjAxA-_UuDd",
        "colab_type": "text"
      },
      "source": [
        "## **How the world has changed**"
      ]
    },
    {
      "cell_type": "code",
      "metadata": {
        "id": "JpxkzaXM0FfG",
        "colab_type": "code",
        "colab": {}
      },
      "source": [
        "import geopandas as gpd\n"
      ],
      "execution_count": 51,
      "outputs": []
    },
    {
      "cell_type": "code",
      "metadata": {
        "id": "_Vg__dDJ0GIX",
        "colab_type": "code",
        "colab": {}
      },
      "source": [
        "fp = \"/content/drive/My Drive/Colab Notebooks/Igismap/Indian_States.shp\"\n",
        "map_df = gpd.read_file(fp)"
      ],
      "execution_count": 52,
      "outputs": []
    },
    {
      "cell_type": "code",
      "metadata": {
        "id": "ceZadZYf0RrF",
        "colab_type": "code",
        "colab": {}
      },
      "source": [
        "map_df.replace(to_replace =\"Andaman & Nicobar Island\", \n",
        "                 value =\"Andaman and Nicobar Islands\", inplace=True) \n",
        "map_df.replace(to_replace =\"Arunanchal Pradesh\", \n",
        "                 value =\"Arunachal Pradesh\", inplace=True)\n",
        "map_df.replace(to_replace =\"NCT of Delhi\", \n",
        "                 value =\"Delhi\", inplace=True) \n",
        "map_df.replace(to_replace =\"Chhattisgarh\", \n",
        "                 value =\"Chhattisgarh\", inplace=True) \n",
        "map_df.replace(to_replace =\"Jammu & Kashmir\", \n",
        "                 value =\"Jammu and Kashmir\",inplace=True) \n",
        "map_df.replace(to_replace =\"Daman & Diu\", \n",
        "                 value =\"Daman and Diu\",inplace=True) \n",
        "map_df.replace(to_replace =\"Dadra & Nagar Haveli\", \n",
        "                 value =\"Dadra and Nagar Haveli\",inplace=True) "
      ],
      "execution_count": 53,
      "outputs": []
    },
    {
      "cell_type": "code",
      "metadata": {
        "id": "3dwRswNUCCZ3",
        "colab_type": "code",
        "colab": {}
      },
      "source": [
        ""
      ],
      "execution_count": 53,
      "outputs": []
    },
    {
      "cell_type": "markdown",
      "metadata": {
        "id": "Lki2bWEZGDNh",
        "colab_type": "text"
      },
      "source": [
        ""
      ]
    },
    {
      "cell_type": "markdown",
      "metadata": {
        "id": "s6Lt8JCXHeTR",
        "colab_type": "text"
      },
      "source": [
        "## **COmparing phases**"
      ]
    },
    {
      "cell_type": "code",
      "metadata": {
        "id": "X7Tgya1BKkSU",
        "colab_type": "code",
        "colab": {}
      },
      "source": [
        "import datetime\n",
        "df_india_Telangana_and_AP[\"date\"] =pd.to_datetime(df_india_Telangana_and_AP[\"date\"]) \n",
        "df_india_Telangana_and_AP.set_index(\"date\",inplace=True)"
      ],
      "execution_count": 54,
      "outputs": []
    },
    {
      "cell_type": "code",
      "metadata": {
        "id": "dsD6fPMELmsy",
        "colab_type": "code",
        "colab": {}
      },
      "source": [
        "df_india_Telangana = df_india_Telangana_and_AP[df_india_Telangana_and_AP[\"State\"] == \"Telangana\"].resample('W').agg(\"mean\")"
      ],
      "execution_count": 55,
      "outputs": []
    },
    {
      "cell_type": "code",
      "metadata": {
        "id": "KNg72EXpMez0",
        "colab_type": "code",
        "colab": {}
      },
      "source": [
        "df_india_AP = df_india_Telangana_and_AP[df_india_Telangana_and_AP[\"State\"] == \"Andhra Pradesh\"].resample('W').agg(\"mean\")"
      ],
      "execution_count": 56,
      "outputs": []
    },
    {
      "cell_type": "code",
      "metadata": {
        "id": "kwyw92Wkkbo_",
        "colab_type": "code",
        "colab": {}
      },
      "source": [
        "mindate = df_india_Telangana.index.min()\n",
        "maxdate = df_india_Telangana.index.max()\n",
        "lockdown1 = df_india_Telangana_and_AP[\"LockdownPhase\"].where(df_india_Telangana_and_AP[\"LockdownPhase\"]==\"Lockdown Phase 1\").first_valid_index()\n",
        "lockdown2 = df_india_Telangana_and_AP[\"LockdownPhase\"].where(df_india_Telangana_and_AP[\"LockdownPhase\"]==\"Lockdown Phase 2\").first_valid_index()\n",
        "lockdown3 = df_india_Telangana_and_AP[\"LockdownPhase\"].where(df_india_Telangana_and_AP[\"LockdownPhase\"]==\"Lockdown Phase 3\").first_valid_index()\n",
        "lockdown4 = df_india_Telangana_and_AP[\"LockdownPhase\"].where(df_india_Telangana_and_AP[\"LockdownPhase\"]==\"Lockdown Phase 4\").first_valid_index()\n",
        "unlock1 = df_india_Telangana_and_AP[\"LockdownPhase\"].where(df_india_Telangana_and_AP[\"LockdownPhase\"]==\"Unlock Phase 1\").first_valid_index()\n",
        "unlock2 = df_india_Telangana_and_AP[\"LockdownPhase\"].where(df_india_Telangana_and_AP[\"LockdownPhase\"]==\"Unlock Phase 2\").first_valid_index()\n"
      ],
      "execution_count": 57,
      "outputs": []
    },
    {
      "cell_type": "code",
      "metadata": {
        "id": "RuCefacDMgc1",
        "colab_type": "code",
        "colab": {
          "base_uri": "https://localhost:8080/",
          "height": 637
        },
        "outputId": "81e02271-bdbd-4db1-c1e3-19e831cb2278"
      },
      "source": [
        "\n",
        "fig = go.Figure()\n",
        "fig.add_trace(go.Scatter(\n",
        "    x=[lockdown1,lockdown2,lockdown3,lockdown4,unlock1,unlock2],\n",
        "    y=[39,39,39,39,39,39],\n",
        "    text=[\"Lockdown 1\",\"Lockdown 2\",\"Lockdown 3\", \"Lockdown 4\", \"Unlock 1\", \"Unlock 2\"],\n",
        "    mode=\"text\",\n",
        "))\n",
        "\n",
        "l = df_india_Telangana.columns\n",
        "colors = ['rgba(152, 0, 0, .8)','green','red','orange','MediumPurple','DarkBlue']\n",
        "for i in range(len(l)):\n",
        "  fig.add_trace(go.Scatter(x=df_india_Telangana.index, y=df_india_Telangana[l[i]],\n",
        "                    mode='lines+markers',\n",
        "                    name=l[i],\n",
        "                     marker_color=colors[i],\n",
        "                     ))\n",
        "  fig.update_layout(xaxis=dict(range=[mindate,maxdate]),template=\"plotly_white\")\n",
        "  fig.update_layout(\n",
        "    title= \"Mobility Trends in Telangana\",\n",
        "    width=1400,\n",
        "    height=600,\n",
        "    shapes=[\n",
        "        dict(\n",
        "            type=\"line\",\n",
        "            x0=mindate,\n",
        "            y0=0,\n",
        "            x1=maxdate,\n",
        "            y1=0,\n",
        "            line_width=2,\n",
        "            line = dict(\n",
        "                dash = \"dot\"\n",
        "            )\n",
        "        ),\n",
        "        dict(\n",
        "            type=\"line\",\n",
        "            y0=-100,\n",
        "            x0= lockdown1,\n",
        "            y1=37,\n",
        "            x1=lockdown1,\n",
        "            line_width=2,\n",
        "            line = dict(\n",
        "                dash = \"dot\"\n",
        "            )\n",
        "        ),\n",
        "        dict(\n",
        "            type=\"line\",\n",
        "            y0=-100,\n",
        "            x0= lockdown2,\n",
        "            y1=37,\n",
        "            x1=lockdown2,\n",
        "            line_width=2,\n",
        "            line = dict(\n",
        "                dash = \"dot\"\n",
        "            )\n",
        "        ),\n",
        "        dict(\n",
        "            type=\"line\",\n",
        "            y0=-100,\n",
        "            x0= lockdown3,\n",
        "            y1=37,\n",
        "            x1=lockdown3,\n",
        "            line_width=2,\n",
        "            line = dict(\n",
        "                dash = \"dot\"\n",
        "            )\n",
        "        ),\n",
        "        dict(\n",
        "            type=\"line\",\n",
        "            y0=-100,\n",
        "            x0= lockdown4,\n",
        "            y1=37,\n",
        "            x1=lockdown4,\n",
        "            line_width=2,\n",
        "            line = dict(\n",
        "                dash = \"dot\"\n",
        "            )\n",
        "        ),\n",
        "        dict(\n",
        "            type=\"line\",\n",
        "            y0=-100,\n",
        "            x0= unlock1,\n",
        "            y1=37,\n",
        "            x1=unlock1,\n",
        "            line_width=2,\n",
        "            line = dict(\n",
        "                dash = \"dot\"\n",
        "            )\n",
        "        ),\n",
        "        dict(\n",
        "            type=\"line\",\n",
        "            y0=-100,\n",
        "            x0= unlock2,\n",
        "            y1=37,\n",
        "            x1=unlock2,\n",
        "            line_width=2,\n",
        "            line = dict(\n",
        "                dash = \"dot\"\n",
        "            )\n",
        "        )\n",
        "    ]\n",
        ")\n",
        "\n",
        "fig.show()\n"
      ],
      "execution_count": 79,
      "outputs": [
        {
          "output_type": "display_data",
          "data": {
            "text/html": [
              "<html>\n",
              "<head><meta charset=\"utf-8\" /></head>\n",
              "<body>\n",
              "    <div>\n",
              "            <script src=\"https://cdnjs.cloudflare.com/ajax/libs/mathjax/2.7.5/MathJax.js?config=TeX-AMS-MML_SVG\"></script><script type=\"text/javascript\">if (window.MathJax) {MathJax.Hub.Config({SVG: {font: \"STIX-Web\"}});}</script>\n",
              "                <script type=\"text/javascript\">window.PlotlyConfig = {MathJaxConfig: 'local'};</script>\n",
              "        <script src=\"https://cdn.plot.ly/plotly-latest.min.js\"></script>    \n",
              "            <div id=\"08defff1-819a-4a8a-bd51-1963b5d9151c\" class=\"plotly-graph-div\" style=\"height:600px; width:1400px;\"></div>\n",
              "            <script type=\"text/javascript\">\n",
              "                \n",
              "                    window.PLOTLYENV=window.PLOTLYENV || {};\n",
              "                    \n",
              "                if (document.getElementById(\"08defff1-819a-4a8a-bd51-1963b5d9151c\")) {\n",
              "                    Plotly.newPlot(\n",
              "                        '08defff1-819a-4a8a-bd51-1963b5d9151c',\n",
              "                        [{\"mode\": \"text\", \"text\": [\"Lockdown 1\", \"Lockdown 2\", \"Lockdown 3\", \"Lockdown 4\", \"Unlock 1\", \"Unlock 2\"], \"type\": \"scatter\", \"x\": [\"2020-03-22T00:00:00\", \"2020-04-15T00:00:00\", \"2020-05-04T00:00:00\", \"2020-05-18T00:00:00\", \"2020-06-01T00:00:00\", \"2020-07-01T00:00:00\"], \"y\": [39, 39, 39, 39, 39, 39]}, {\"marker\": {\"color\": \"rgba(152, 0, 0, .8)\"}, \"mode\": \"lines+markers\", \"name\": \"Recreation\", \"type\": \"scatter\", \"x\": [\"2020-02-16T00:00:00\", \"2020-02-23T00:00:00\", \"2020-03-01T00:00:00\", \"2020-03-08T00:00:00\", \"2020-03-15T00:00:00\", \"2020-03-22T00:00:00\", \"2020-03-29T00:00:00\", \"2020-04-05T00:00:00\", \"2020-04-12T00:00:00\", \"2020-04-19T00:00:00\", \"2020-04-26T00:00:00\", \"2020-05-03T00:00:00\", \"2020-05-10T00:00:00\", \"2020-05-17T00:00:00\", \"2020-05-24T00:00:00\", \"2020-05-31T00:00:00\", \"2020-06-07T00:00:00\", \"2020-06-14T00:00:00\", \"2020-06-21T00:00:00\", \"2020-06-28T00:00:00\", \"2020-07-05T00:00:00\", \"2020-07-12T00:00:00\", \"2020-07-19T00:00:00\", \"2020-07-26T00:00:00\"], \"y\": [1.5, -1.1428571428571428, 2.7142857142857144, -0.2857142857142857, -3.857142857142857, -25.0, -80.0, -81.57142857142857, -84.0, -87.0, -90.0, -89.0, -85.0, -82.71428571428571, -76.57142857142857, -73.28571428571429, -65.42857142857143, -59.57142857142857, -60.857142857142854, -59.857142857142854, -60.857142857142854, -61.57142857142857, -62.285714285714285, -61.0]}, {\"marker\": {\"color\": \"green\"}, \"mode\": \"lines+markers\", \"name\": \"Grocery_and_Pharmacy\", \"type\": \"scatter\", \"x\": [\"2020-02-16T00:00:00\", \"2020-02-23T00:00:00\", \"2020-03-01T00:00:00\", \"2020-03-08T00:00:00\", \"2020-03-15T00:00:00\", \"2020-03-22T00:00:00\", \"2020-03-29T00:00:00\", \"2020-04-05T00:00:00\", \"2020-04-12T00:00:00\", \"2020-04-19T00:00:00\", \"2020-04-26T00:00:00\", \"2020-05-03T00:00:00\", \"2020-05-10T00:00:00\", \"2020-05-17T00:00:00\", \"2020-05-24T00:00:00\", \"2020-05-31T00:00:00\", \"2020-06-07T00:00:00\", \"2020-06-14T00:00:00\", \"2020-06-21T00:00:00\", \"2020-06-28T00:00:00\", \"2020-07-05T00:00:00\", \"2020-07-12T00:00:00\", \"2020-07-19T00:00:00\", \"2020-07-26T00:00:00\"], \"y\": [2.0, 2.7142857142857144, 2.5714285714285716, 6.714285714285714, 3.0, -6.142857142857143, -51.857142857142854, -60.714285714285715, -54.0, -51.285714285714285, -52.285714285714285, -48.857142857142854, -36.285714285714285, -31.285714285714285, -21.428571428571427, -17.285714285714285, -3.4285714285714284, -2.2857142857142856, -8.857142857142858, -6.857142857142857, -8.571428571428571, -11.571428571428571, -13.285714285714286, -13.0]}, {\"marker\": {\"color\": \"red\"}, \"mode\": \"lines+markers\", \"name\": \"Parks\", \"type\": \"scatter\", \"x\": [\"2020-02-16T00:00:00\", \"2020-02-23T00:00:00\", \"2020-03-01T00:00:00\", \"2020-03-08T00:00:00\", \"2020-03-15T00:00:00\", \"2020-03-22T00:00:00\", \"2020-03-29T00:00:00\", \"2020-04-05T00:00:00\", \"2020-04-12T00:00:00\", \"2020-04-19T00:00:00\", \"2020-04-26T00:00:00\", \"2020-05-03T00:00:00\", \"2020-05-10T00:00:00\", \"2020-05-17T00:00:00\", \"2020-05-24T00:00:00\", \"2020-05-31T00:00:00\", \"2020-06-07T00:00:00\", \"2020-06-14T00:00:00\", \"2020-06-21T00:00:00\", \"2020-06-28T00:00:00\", \"2020-07-05T00:00:00\", \"2020-07-12T00:00:00\", \"2020-07-19T00:00:00\", \"2020-07-26T00:00:00\"], \"y\": [4.0, 4.571428571428571, 7.142857142857143, 3.142857142857143, 3.2857142857142856, -14.0, -54.0, -56.285714285714285, -54.42857142857143, -62.0, -69.28571428571429, -68.85714285714286, -66.57142857142857, -65.85714285714286, -64.85714285714286, -64.57142857142857, -62.57142857142857, -59.142857142857146, -59.57142857142857, -59.0, -59.57142857142857, -59.57142857142857, -60.142857142857146, -59.0]}, {\"marker\": {\"color\": \"orange\"}, \"mode\": \"lines+markers\", \"name\": \"Transit_stations\", \"type\": \"scatter\", \"x\": [\"2020-02-16T00:00:00\", \"2020-02-23T00:00:00\", \"2020-03-01T00:00:00\", \"2020-03-08T00:00:00\", \"2020-03-15T00:00:00\", \"2020-03-22T00:00:00\", \"2020-03-29T00:00:00\", \"2020-04-05T00:00:00\", \"2020-04-12T00:00:00\", \"2020-04-19T00:00:00\", \"2020-04-26T00:00:00\", \"2020-05-03T00:00:00\", \"2020-05-10T00:00:00\", \"2020-05-17T00:00:00\", \"2020-05-24T00:00:00\", \"2020-05-31T00:00:00\", \"2020-06-07T00:00:00\", \"2020-06-14T00:00:00\", \"2020-06-21T00:00:00\", \"2020-06-28T00:00:00\", \"2020-07-05T00:00:00\", \"2020-07-12T00:00:00\", \"2020-07-19T00:00:00\", \"2020-07-26T00:00:00\"], \"y\": [3.0, 0.7142857142857143, 5.714285714285714, 3.0, -1.0, -17.857142857142858, -72.0, -74.57142857142857, -70.28571428571429, -68.85714285714286, -70.28571428571429, -68.42857142857143, -59.142857142857146, -55.285714285714285, -48.285714285714285, -45.142857142857146, -36.714285714285715, -34.0, -37.714285714285715, -36.714285714285715, -39.42857142857143, -40.142857142857146, -41.285714285714285, -42.5]}, {\"marker\": {\"color\": \"MediumPurple\"}, \"mode\": \"lines+markers\", \"name\": \"Workplaces\", \"type\": \"scatter\", \"x\": [\"2020-02-16T00:00:00\", \"2020-02-23T00:00:00\", \"2020-03-01T00:00:00\", \"2020-03-08T00:00:00\", \"2020-03-15T00:00:00\", \"2020-03-22T00:00:00\", \"2020-03-29T00:00:00\", \"2020-04-05T00:00:00\", \"2020-04-12T00:00:00\", \"2020-04-19T00:00:00\", \"2020-04-26T00:00:00\", \"2020-05-03T00:00:00\", \"2020-05-10T00:00:00\", \"2020-05-17T00:00:00\", \"2020-05-24T00:00:00\", \"2020-05-31T00:00:00\", \"2020-06-07T00:00:00\", \"2020-06-14T00:00:00\", \"2020-06-21T00:00:00\", \"2020-06-28T00:00:00\", \"2020-07-05T00:00:00\", \"2020-07-12T00:00:00\", \"2020-07-19T00:00:00\", \"2020-07-26T00:00:00\"], \"y\": [0.5, -2.857142857142857, 3.5714285714285716, 4.857142857142857, -6.142857142857143, -20.571428571428573, -68.71428571428571, -67.57142857142857, -67.28571428571429, -65.85714285714286, -65.85714285714286, -64.0, -57.42857142857143, -51.857142857142854, -45.285714285714285, -41.857142857142854, -34.57142857142857, -34.857142857142854, -35.57142857142857, -35.42857142857143, -36.57142857142857, -37.714285714285715, -37.857142857142854, -45.0]}, {\"marker\": {\"color\": \"DarkBlue\"}, \"mode\": \"lines+markers\", \"name\": \"Residential\", \"type\": \"scatter\", \"x\": [\"2020-02-16T00:00:00\", \"2020-02-23T00:00:00\", \"2020-03-01T00:00:00\", \"2020-03-08T00:00:00\", \"2020-03-15T00:00:00\", \"2020-03-22T00:00:00\", \"2020-03-29T00:00:00\", \"2020-04-05T00:00:00\", \"2020-04-12T00:00:00\", \"2020-04-19T00:00:00\", \"2020-04-26T00:00:00\", \"2020-05-03T00:00:00\", \"2020-05-10T00:00:00\", \"2020-05-17T00:00:00\", \"2020-05-24T00:00:00\", \"2020-05-31T00:00:00\", \"2020-06-07T00:00:00\", \"2020-06-14T00:00:00\", \"2020-06-21T00:00:00\", \"2020-06-28T00:00:00\", \"2020-07-05T00:00:00\", \"2020-07-12T00:00:00\", \"2020-07-19T00:00:00\", \"2020-07-26T00:00:00\"], \"y\": [0.5, 2.5714285714285716, 0.14285714285714285, 1.4285714285714286, 2.7142857142857144, 8.142857142857142, 31.857142857142858, 32.285714285714285, 32.285714285714285, 31.857142857142858, 32.714285714285715, 31.285714285714285, 27.428571428571427, 24.714285714285715, 21.857142857142858, 19.857142857142858, 16.571428571428573, 15.285714285714286, 16.142857142857142, 16.142857142857142, 17.428571428571427, 17.714285714285715, 18.285714285714285, 20.5]}],\n",
              "                        {\"height\": 600, \"shapes\": [{\"line\": {\"dash\": \"dot\", \"width\": 2}, \"type\": \"line\", \"x0\": \"2020-02-16T00:00:00\", \"x1\": \"2020-07-26T00:00:00\", \"y0\": 0, \"y1\": 0}, {\"line\": {\"dash\": \"dot\", \"width\": 2}, \"type\": \"line\", \"x0\": \"2020-03-22T00:00:00\", \"x1\": \"2020-03-22T00:00:00\", \"y0\": -100, \"y1\": 37}, {\"line\": {\"dash\": \"dot\", \"width\": 2}, \"type\": \"line\", \"x0\": \"2020-04-15T00:00:00\", \"x1\": \"2020-04-15T00:00:00\", \"y0\": -100, \"y1\": 37}, {\"line\": {\"dash\": \"dot\", \"width\": 2}, \"type\": \"line\", \"x0\": \"2020-05-04T00:00:00\", \"x1\": \"2020-05-04T00:00:00\", \"y0\": -100, \"y1\": 37}, {\"line\": {\"dash\": \"dot\", \"width\": 2}, \"type\": \"line\", \"x0\": \"2020-05-18T00:00:00\", \"x1\": \"2020-05-18T00:00:00\", \"y0\": -100, \"y1\": 37}, {\"line\": {\"dash\": \"dot\", \"width\": 2}, \"type\": \"line\", \"x0\": \"2020-06-01T00:00:00\", \"x1\": \"2020-06-01T00:00:00\", \"y0\": -100, \"y1\": 37}, {\"line\": {\"dash\": \"dot\", \"width\": 2}, \"type\": \"line\", \"x0\": \"2020-07-01T00:00:00\", \"x1\": \"2020-07-01T00:00:00\", \"y0\": -100, \"y1\": 37}], \"template\": {\"data\": {\"bar\": [{\"error_x\": {\"color\": \"#2a3f5f\"}, \"error_y\": {\"color\": \"#2a3f5f\"}, \"marker\": {\"line\": {\"color\": \"white\", \"width\": 0.5}}, \"type\": \"bar\"}], \"barpolar\": [{\"marker\": {\"line\": {\"color\": \"white\", \"width\": 0.5}}, \"type\": \"barpolar\"}], \"carpet\": [{\"aaxis\": {\"endlinecolor\": \"#2a3f5f\", \"gridcolor\": \"#C8D4E3\", \"linecolor\": \"#C8D4E3\", \"minorgridcolor\": \"#C8D4E3\", \"startlinecolor\": \"#2a3f5f\"}, \"baxis\": {\"endlinecolor\": \"#2a3f5f\", \"gridcolor\": \"#C8D4E3\", \"linecolor\": \"#C8D4E3\", \"minorgridcolor\": \"#C8D4E3\", \"startlinecolor\": \"#2a3f5f\"}, \"type\": \"carpet\"}], \"choropleth\": [{\"colorbar\": {\"outlinewidth\": 0, \"ticks\": \"\"}, \"type\": \"choropleth\"}], \"contour\": [{\"colorbar\": {\"outlinewidth\": 0, \"ticks\": \"\"}, \"colorscale\": [[0.0, \"#0d0887\"], [0.1111111111111111, \"#46039f\"], [0.2222222222222222, \"#7201a8\"], [0.3333333333333333, \"#9c179e\"], [0.4444444444444444, \"#bd3786\"], [0.5555555555555556, \"#d8576b\"], [0.6666666666666666, \"#ed7953\"], [0.7777777777777778, \"#fb9f3a\"], [0.8888888888888888, \"#fdca26\"], [1.0, \"#f0f921\"]], \"type\": \"contour\"}], \"contourcarpet\": [{\"colorbar\": {\"outlinewidth\": 0, \"ticks\": \"\"}, \"type\": \"contourcarpet\"}], \"heatmap\": [{\"colorbar\": {\"outlinewidth\": 0, \"ticks\": \"\"}, \"colorscale\": [[0.0, \"#0d0887\"], [0.1111111111111111, \"#46039f\"], [0.2222222222222222, \"#7201a8\"], [0.3333333333333333, \"#9c179e\"], [0.4444444444444444, \"#bd3786\"], [0.5555555555555556, \"#d8576b\"], [0.6666666666666666, \"#ed7953\"], [0.7777777777777778, \"#fb9f3a\"], [0.8888888888888888, \"#fdca26\"], [1.0, \"#f0f921\"]], \"type\": \"heatmap\"}], \"heatmapgl\": [{\"colorbar\": {\"outlinewidth\": 0, \"ticks\": \"\"}, \"colorscale\": [[0.0, \"#0d0887\"], [0.1111111111111111, \"#46039f\"], [0.2222222222222222, \"#7201a8\"], [0.3333333333333333, \"#9c179e\"], [0.4444444444444444, \"#bd3786\"], [0.5555555555555556, \"#d8576b\"], [0.6666666666666666, \"#ed7953\"], [0.7777777777777778, \"#fb9f3a\"], [0.8888888888888888, \"#fdca26\"], [1.0, \"#f0f921\"]], \"type\": \"heatmapgl\"}], \"histogram\": [{\"marker\": {\"colorbar\": {\"outlinewidth\": 0, \"ticks\": \"\"}}, \"type\": \"histogram\"}], \"histogram2d\": [{\"colorbar\": {\"outlinewidth\": 0, \"ticks\": \"\"}, \"colorscale\": [[0.0, \"#0d0887\"], [0.1111111111111111, \"#46039f\"], [0.2222222222222222, \"#7201a8\"], [0.3333333333333333, \"#9c179e\"], [0.4444444444444444, \"#bd3786\"], [0.5555555555555556, \"#d8576b\"], [0.6666666666666666, \"#ed7953\"], [0.7777777777777778, \"#fb9f3a\"], [0.8888888888888888, \"#fdca26\"], [1.0, \"#f0f921\"]], \"type\": \"histogram2d\"}], \"histogram2dcontour\": [{\"colorbar\": {\"outlinewidth\": 0, \"ticks\": \"\"}, \"colorscale\": [[0.0, \"#0d0887\"], [0.1111111111111111, \"#46039f\"], [0.2222222222222222, \"#7201a8\"], [0.3333333333333333, \"#9c179e\"], [0.4444444444444444, \"#bd3786\"], [0.5555555555555556, \"#d8576b\"], [0.6666666666666666, \"#ed7953\"], [0.7777777777777778, \"#fb9f3a\"], [0.8888888888888888, \"#fdca26\"], [1.0, \"#f0f921\"]], \"type\": \"histogram2dcontour\"}], \"mesh3d\": [{\"colorbar\": {\"outlinewidth\": 0, \"ticks\": \"\"}, \"type\": \"mesh3d\"}], \"parcoords\": [{\"line\": {\"colorbar\": {\"outlinewidth\": 0, \"ticks\": \"\"}}, \"type\": \"parcoords\"}], \"pie\": [{\"automargin\": true, \"type\": \"pie\"}], \"scatter\": [{\"marker\": {\"colorbar\": {\"outlinewidth\": 0, \"ticks\": \"\"}}, \"type\": \"scatter\"}], \"scatter3d\": [{\"line\": {\"colorbar\": {\"outlinewidth\": 0, \"ticks\": \"\"}}, \"marker\": {\"colorbar\": {\"outlinewidth\": 0, \"ticks\": \"\"}}, \"type\": \"scatter3d\"}], \"scattercarpet\": [{\"marker\": {\"colorbar\": {\"outlinewidth\": 0, \"ticks\": \"\"}}, \"type\": \"scattercarpet\"}], \"scattergeo\": [{\"marker\": {\"colorbar\": {\"outlinewidth\": 0, \"ticks\": \"\"}}, \"type\": \"scattergeo\"}], \"scattergl\": [{\"marker\": {\"colorbar\": {\"outlinewidth\": 0, \"ticks\": \"\"}}, \"type\": \"scattergl\"}], \"scattermapbox\": [{\"marker\": {\"colorbar\": {\"outlinewidth\": 0, \"ticks\": \"\"}}, \"type\": \"scattermapbox\"}], \"scatterpolar\": [{\"marker\": {\"colorbar\": {\"outlinewidth\": 0, \"ticks\": \"\"}}, \"type\": \"scatterpolar\"}], \"scatterpolargl\": [{\"marker\": {\"colorbar\": {\"outlinewidth\": 0, \"ticks\": \"\"}}, \"type\": \"scatterpolargl\"}], \"scatterternary\": [{\"marker\": {\"colorbar\": {\"outlinewidth\": 0, \"ticks\": \"\"}}, \"type\": \"scatterternary\"}], \"surface\": [{\"colorbar\": {\"outlinewidth\": 0, \"ticks\": \"\"}, \"colorscale\": [[0.0, \"#0d0887\"], [0.1111111111111111, \"#46039f\"], [0.2222222222222222, \"#7201a8\"], [0.3333333333333333, \"#9c179e\"], [0.4444444444444444, \"#bd3786\"], [0.5555555555555556, \"#d8576b\"], [0.6666666666666666, \"#ed7953\"], [0.7777777777777778, \"#fb9f3a\"], [0.8888888888888888, \"#fdca26\"], [1.0, \"#f0f921\"]], \"type\": \"surface\"}], \"table\": [{\"cells\": {\"fill\": {\"color\": \"#EBF0F8\"}, \"line\": {\"color\": \"white\"}}, \"header\": {\"fill\": {\"color\": \"#C8D4E3\"}, \"line\": {\"color\": \"white\"}}, \"type\": \"table\"}]}, \"layout\": {\"annotationdefaults\": {\"arrowcolor\": \"#2a3f5f\", \"arrowhead\": 0, \"arrowwidth\": 1}, \"coloraxis\": {\"colorbar\": {\"outlinewidth\": 0, \"ticks\": \"\"}}, \"colorscale\": {\"diverging\": [[0, \"#8e0152\"], [0.1, \"#c51b7d\"], [0.2, \"#de77ae\"], [0.3, \"#f1b6da\"], [0.4, \"#fde0ef\"], [0.5, \"#f7f7f7\"], [0.6, \"#e6f5d0\"], [0.7, \"#b8e186\"], [0.8, \"#7fbc41\"], [0.9, \"#4d9221\"], [1, \"#276419\"]], \"sequential\": [[0.0, \"#0d0887\"], [0.1111111111111111, \"#46039f\"], [0.2222222222222222, \"#7201a8\"], [0.3333333333333333, \"#9c179e\"], [0.4444444444444444, \"#bd3786\"], [0.5555555555555556, \"#d8576b\"], [0.6666666666666666, \"#ed7953\"], [0.7777777777777778, \"#fb9f3a\"], [0.8888888888888888, \"#fdca26\"], [1.0, \"#f0f921\"]], \"sequentialminus\": [[0.0, \"#0d0887\"], [0.1111111111111111, \"#46039f\"], [0.2222222222222222, \"#7201a8\"], [0.3333333333333333, \"#9c179e\"], [0.4444444444444444, \"#bd3786\"], [0.5555555555555556, \"#d8576b\"], [0.6666666666666666, \"#ed7953\"], [0.7777777777777778, \"#fb9f3a\"], [0.8888888888888888, \"#fdca26\"], [1.0, \"#f0f921\"]]}, \"colorway\": [\"#636efa\", \"#EF553B\", \"#00cc96\", \"#ab63fa\", \"#FFA15A\", \"#19d3f3\", \"#FF6692\", \"#B6E880\", \"#FF97FF\", \"#FECB52\"], \"font\": {\"color\": \"#2a3f5f\"}, \"geo\": {\"bgcolor\": \"white\", \"lakecolor\": \"white\", \"landcolor\": \"white\", \"showlakes\": true, \"showland\": true, \"subunitcolor\": \"#C8D4E3\"}, \"hoverlabel\": {\"align\": \"left\"}, \"hovermode\": \"closest\", \"mapbox\": {\"style\": \"light\"}, \"paper_bgcolor\": \"white\", \"plot_bgcolor\": \"white\", \"polar\": {\"angularaxis\": {\"gridcolor\": \"#EBF0F8\", \"linecolor\": \"#EBF0F8\", \"ticks\": \"\"}, \"bgcolor\": \"white\", \"radialaxis\": {\"gridcolor\": \"#EBF0F8\", \"linecolor\": \"#EBF0F8\", \"ticks\": \"\"}}, \"scene\": {\"xaxis\": {\"backgroundcolor\": \"white\", \"gridcolor\": \"#DFE8F3\", \"gridwidth\": 2, \"linecolor\": \"#EBF0F8\", \"showbackground\": true, \"ticks\": \"\", \"zerolinecolor\": \"#EBF0F8\"}, \"yaxis\": {\"backgroundcolor\": \"white\", \"gridcolor\": \"#DFE8F3\", \"gridwidth\": 2, \"linecolor\": \"#EBF0F8\", \"showbackground\": true, \"ticks\": \"\", \"zerolinecolor\": \"#EBF0F8\"}, \"zaxis\": {\"backgroundcolor\": \"white\", \"gridcolor\": \"#DFE8F3\", \"gridwidth\": 2, \"linecolor\": \"#EBF0F8\", \"showbackground\": true, \"ticks\": \"\", \"zerolinecolor\": \"#EBF0F8\"}}, \"shapedefaults\": {\"line\": {\"color\": \"#2a3f5f\"}}, \"ternary\": {\"aaxis\": {\"gridcolor\": \"#DFE8F3\", \"linecolor\": \"#A2B1C6\", \"ticks\": \"\"}, \"baxis\": {\"gridcolor\": \"#DFE8F3\", \"linecolor\": \"#A2B1C6\", \"ticks\": \"\"}, \"bgcolor\": \"white\", \"caxis\": {\"gridcolor\": \"#DFE8F3\", \"linecolor\": \"#A2B1C6\", \"ticks\": \"\"}}, \"title\": {\"x\": 0.05}, \"xaxis\": {\"automargin\": true, \"gridcolor\": \"#EBF0F8\", \"linecolor\": \"#EBF0F8\", \"ticks\": \"\", \"title\": {\"standoff\": 15}, \"zerolinecolor\": \"#EBF0F8\", \"zerolinewidth\": 2}, \"yaxis\": {\"automargin\": true, \"gridcolor\": \"#EBF0F8\", \"linecolor\": \"#EBF0F8\", \"ticks\": \"\", \"title\": {\"standoff\": 15}, \"zerolinecolor\": \"#EBF0F8\", \"zerolinewidth\": 2}}}, \"title\": {\"text\": \"Mobility Trends in Telangana\"}, \"width\": 1400, \"xaxis\": {\"range\": [\"2020-02-16T00:00:00\", \"2020-07-26T00:00:00\"]}},\n",
              "                        {\"responsive\": true}\n",
              "                    ).then(function(){\n",
              "                            \n",
              "var gd = document.getElementById('08defff1-819a-4a8a-bd51-1963b5d9151c');\n",
              "var x = new MutationObserver(function (mutations, observer) {{\n",
              "        var display = window.getComputedStyle(gd).display;\n",
              "        if (!display || display === 'none') {{\n",
              "            console.log([gd, 'removed!']);\n",
              "            Plotly.purge(gd);\n",
              "            observer.disconnect();\n",
              "        }}\n",
              "}});\n",
              "\n",
              "// Listen for the removal of the full notebook cells\n",
              "var notebookContainer = gd.closest('#notebook-container');\n",
              "if (notebookContainer) {{\n",
              "    x.observe(notebookContainer, {childList: true});\n",
              "}}\n",
              "\n",
              "// Listen for the clearing of the current output cell\n",
              "var outputEl = gd.closest('.output');\n",
              "if (outputEl) {{\n",
              "    x.observe(outputEl, {childList: true});\n",
              "}}\n",
              "\n",
              "                        })\n",
              "                };\n",
              "                \n",
              "            </script>\n",
              "        </div>\n",
              "</body>\n",
              "</html>"
            ]
          },
          "metadata": {
            "tags": []
          }
        }
      ]
    },
    {
      "cell_type": "code",
      "metadata": {
        "id": "APBmGM72YG27",
        "colab_type": "code",
        "colab": {
          "base_uri": "https://localhost:8080/",
          "height": 637
        },
        "outputId": "24cc933f-bec3-4f9c-b2e2-00772d56c2e8"
      },
      "source": [
        "fig = go.Figure()\n",
        "fig.add_trace(go.Scatter(\n",
        "    x=[lockdown1,lockdown2,lockdown3,lockdown4,unlock1,unlock2],\n",
        "    y=[39,39,39,39,39,39],\n",
        "    text=[\"Lockdown 1\",\"Lockdown 2\",\"Lockdown 3\", \"Lockdown 4\", \"Unlock 1\", \"Unlock 2\"],\n",
        "    mode=\"text\",\n",
        "))\n",
        "\n",
        "l = df_india_AP.columns\n",
        "colors = ['rgba(152, 0, 0, .8)','green','red','orange','MediumPurple','DarkBlue']\n",
        "for i in range(len(l)):\n",
        "  fig.add_trace(go.Scatter(x=df_india_AP.index, y=df_india_AP[l[i]],\n",
        "                    mode='lines+markers',\n",
        "                    name=l[i],\n",
        "                    marker_color=colors[i],\n",
        "                    ))\n",
        "fig.update_layout(xaxis=dict(range=[mindate,maxdate]),template=\"plotly_white\")\n",
        "fig.update_layout(\n",
        "    title= \"Mobility Trends in Andhra Pradesh\",\n",
        "    width=1400,\n",
        "    height=600,\n",
        "    shapes=[\n",
        "        dict(\n",
        "            type=\"line\",\n",
        "            x0=mindate,\n",
        "            y0=0,\n",
        "            x1=maxdate,\n",
        "            y1=0,\n",
        "            line_width=2,\n",
        "            line = dict(\n",
        "                dash = \"dot\"\n",
        "            )\n",
        "        ),\n",
        "        dict(\n",
        "            type=\"line\",\n",
        "            y0=-100,\n",
        "            x0= lockdown1,\n",
        "            y1=37,\n",
        "            x1=lockdown1,\n",
        "            line_width=2,\n",
        "            line = dict(\n",
        "                dash = \"dot\"\n",
        "            )\n",
        "        ),\n",
        "        dict(\n",
        "            type=\"line\",\n",
        "            y0=-100,\n",
        "            x0= lockdown2,\n",
        "            y1=37,\n",
        "            x1=lockdown2,\n",
        "            line_width=2,\n",
        "            line = dict(\n",
        "                dash = \"dot\"\n",
        "            )\n",
        "        ),\n",
        "        dict(\n",
        "            type=\"line\",\n",
        "            y0=-100,\n",
        "            x0= lockdown3,\n",
        "            y1=37,\n",
        "            x1=lockdown3,\n",
        "            line_width=2,\n",
        "            line = dict(\n",
        "                dash = \"dot\"\n",
        "            )\n",
        "        ),\n",
        "        dict(\n",
        "            type=\"line\",\n",
        "            y0=-100,\n",
        "            x0= lockdown4,\n",
        "            y1=37,\n",
        "            x1=lockdown4,\n",
        "            line_width=2,\n",
        "            line = dict(\n",
        "                dash = \"dot\"\n",
        "            )\n",
        "        ),\n",
        "        dict(\n",
        "            type=\"line\",\n",
        "            y0=-100,\n",
        "            x0= unlock1,\n",
        "            y1=37,\n",
        "            x1=unlock1,\n",
        "            line_width=2,\n",
        "            line = dict(\n",
        "                dash = \"dot\"\n",
        "            )\n",
        "        ),\n",
        "        dict(\n",
        "            type=\"line\",\n",
        "            y0=-100,\n",
        "            x0= unlock2,\n",
        "            y1=37,\n",
        "            x1=unlock2,\n",
        "            line_width=2,\n",
        "            line = dict(\n",
        "                dash = \"dot\"\n",
        "            )\n",
        "        )\n",
        "    ]\n",
        ")\n",
        "\n",
        "fig.show()\n"
      ],
      "execution_count": 80,
      "outputs": [
        {
          "output_type": "display_data",
          "data": {
            "text/html": [
              "<html>\n",
              "<head><meta charset=\"utf-8\" /></head>\n",
              "<body>\n",
              "    <div>\n",
              "            <script src=\"https://cdnjs.cloudflare.com/ajax/libs/mathjax/2.7.5/MathJax.js?config=TeX-AMS-MML_SVG\"></script><script type=\"text/javascript\">if (window.MathJax) {MathJax.Hub.Config({SVG: {font: \"STIX-Web\"}});}</script>\n",
              "                <script type=\"text/javascript\">window.PlotlyConfig = {MathJaxConfig: 'local'};</script>\n",
              "        <script src=\"https://cdn.plot.ly/plotly-latest.min.js\"></script>    \n",
              "            <div id=\"1114a35a-ae64-4589-8bff-cabd1f8cf1ba\" class=\"plotly-graph-div\" style=\"height:600px; width:1400px;\"></div>\n",
              "            <script type=\"text/javascript\">\n",
              "                \n",
              "                    window.PLOTLYENV=window.PLOTLYENV || {};\n",
              "                    \n",
              "                if (document.getElementById(\"1114a35a-ae64-4589-8bff-cabd1f8cf1ba\")) {\n",
              "                    Plotly.newPlot(\n",
              "                        '1114a35a-ae64-4589-8bff-cabd1f8cf1ba',\n",
              "                        [{\"mode\": \"text\", \"text\": [\"Lockdown 1\", \"Lockdown 2\", \"Lockdown 3\", \"Lockdown 4\", \"Unlock 1\", \"Unlock 2\"], \"type\": \"scatter\", \"x\": [\"2020-03-22T00:00:00\", \"2020-04-15T00:00:00\", \"2020-05-04T00:00:00\", \"2020-05-18T00:00:00\", \"2020-06-01T00:00:00\", \"2020-07-01T00:00:00\"], \"y\": [39, 39, 39, 39, 39, 39]}, {\"marker\": {\"color\": \"rgba(152, 0, 0, .8)\"}, \"mode\": \"lines+markers\", \"name\": \"Recreation\", \"type\": \"scatter\", \"x\": [\"2020-02-16T00:00:00\", \"2020-02-23T00:00:00\", \"2020-03-01T00:00:00\", \"2020-03-08T00:00:00\", \"2020-03-15T00:00:00\", \"2020-03-22T00:00:00\", \"2020-03-29T00:00:00\", \"2020-04-05T00:00:00\", \"2020-04-12T00:00:00\", \"2020-04-19T00:00:00\", \"2020-04-26T00:00:00\", \"2020-05-03T00:00:00\", \"2020-05-10T00:00:00\", \"2020-05-17T00:00:00\", \"2020-05-24T00:00:00\", \"2020-05-31T00:00:00\", \"2020-06-07T00:00:00\", \"2020-06-14T00:00:00\", \"2020-06-21T00:00:00\", \"2020-06-28T00:00:00\", \"2020-07-05T00:00:00\", \"2020-07-12T00:00:00\", \"2020-07-19T00:00:00\", \"2020-07-26T00:00:00\"], \"y\": [-1.0, -1.7142857142857142, 0.2857142857142857, 0.0, -2.4285714285714284, -17.0, -69.85714285714286, -73.28571428571429, -77.28571428571429, -81.71428571428571, -85.42857142857143, -85.0, -79.57142857142857, -77.85714285714286, -73.42857142857143, -67.57142857142857, -60.57142857142857, -55.285714285714285, -55.285714285714285, -56.142857142857146, -55.857142857142854, -56.57142857142857, -60.57142857142857, -61.5]}, {\"marker\": {\"color\": \"green\"}, \"mode\": \"lines+markers\", \"name\": \"Grocery_and_Pharmacy\", \"type\": \"scatter\", \"x\": [\"2020-02-16T00:00:00\", \"2020-02-23T00:00:00\", \"2020-03-01T00:00:00\", \"2020-03-08T00:00:00\", \"2020-03-15T00:00:00\", \"2020-03-22T00:00:00\", \"2020-03-29T00:00:00\", \"2020-04-05T00:00:00\", \"2020-04-12T00:00:00\", \"2020-04-19T00:00:00\", \"2020-04-26T00:00:00\", \"2020-05-03T00:00:00\", \"2020-05-10T00:00:00\", \"2020-05-17T00:00:00\", \"2020-05-24T00:00:00\", \"2020-05-31T00:00:00\", \"2020-06-07T00:00:00\", \"2020-06-14T00:00:00\", \"2020-06-21T00:00:00\", \"2020-06-28T00:00:00\", \"2020-07-05T00:00:00\", \"2020-07-12T00:00:00\", \"2020-07-19T00:00:00\", \"2020-07-26T00:00:00\"], \"y\": [0.0, -1.2857142857142858, -0.42857142857142855, 3.4285714285714284, 1.0, -4.428571428571429, -48.714285714285715, -58.857142857142854, -51.42857142857143, -45.285714285714285, -45.0, -43.285714285714285, -30.0, -26.714285714285715, -18.857142857142858, -8.857142857142858, 3.142857142857143, 6.142857142857143, 1.5714285714285714, -0.7142857142857143, -3.142857142857143, -4.0, -13.285714285714286, -14.5]}, {\"marker\": {\"color\": \"red\"}, \"mode\": \"lines+markers\", \"name\": \"Parks\", \"type\": \"scatter\", \"x\": [\"2020-02-16T00:00:00\", \"2020-02-23T00:00:00\", \"2020-03-01T00:00:00\", \"2020-03-08T00:00:00\", \"2020-03-15T00:00:00\", \"2020-03-22T00:00:00\", \"2020-03-29T00:00:00\", \"2020-04-05T00:00:00\", \"2020-04-12T00:00:00\", \"2020-04-19T00:00:00\", \"2020-04-26T00:00:00\", \"2020-05-03T00:00:00\", \"2020-05-10T00:00:00\", \"2020-05-17T00:00:00\", \"2020-05-24T00:00:00\", \"2020-05-31T00:00:00\", \"2020-06-07T00:00:00\", \"2020-06-14T00:00:00\", \"2020-06-21T00:00:00\", \"2020-06-28T00:00:00\", \"2020-07-05T00:00:00\", \"2020-07-12T00:00:00\", \"2020-07-19T00:00:00\", \"2020-07-26T00:00:00\"], \"y\": [4.5, 7.0, 4.285714285714286, 5.0, 4.571428571428571, -7.857142857142857, -43.142857142857146, -45.42857142857143, -44.714285714285715, -53.142857142857146, -61.42857142857143, -61.57142857142857, -59.142857142857146, -58.285714285714285, -55.285714285714285, -53.0, -50.57142857142857, -47.857142857142854, -48.42857142857143, -48.57142857142857, -49.0, -49.0, -50.857142857142854, -50.0]}, {\"marker\": {\"color\": \"orange\"}, \"mode\": \"lines+markers\", \"name\": \"Transit_stations\", \"type\": \"scatter\", \"x\": [\"2020-02-16T00:00:00\", \"2020-02-23T00:00:00\", \"2020-03-01T00:00:00\", \"2020-03-08T00:00:00\", \"2020-03-15T00:00:00\", \"2020-03-22T00:00:00\", \"2020-03-29T00:00:00\", \"2020-04-05T00:00:00\", \"2020-04-12T00:00:00\", \"2020-04-19T00:00:00\", \"2020-04-26T00:00:00\", \"2020-05-03T00:00:00\", \"2020-05-10T00:00:00\", \"2020-05-17T00:00:00\", \"2020-05-24T00:00:00\", \"2020-05-31T00:00:00\", \"2020-06-07T00:00:00\", \"2020-06-14T00:00:00\", \"2020-06-21T00:00:00\", \"2020-06-28T00:00:00\", \"2020-07-05T00:00:00\", \"2020-07-12T00:00:00\", \"2020-07-19T00:00:00\", \"2020-07-26T00:00:00\"], \"y\": [4.5, 1.7142857142857142, 2.142857142857143, 1.0, -1.2857142857142858, -12.285714285714286, -62.142857142857146, -65.14285714285714, -60.42857142857143, -58.57142857142857, -59.142857142857146, -58.142857142857146, -50.714285714285715, -47.857142857142854, -43.0, -36.714285714285715, -30.285714285714285, -28.428571428571427, -31.142857142857142, -32.714285714285715, -34.42857142857143, -35.714285714285715, -39.285714285714285, -40.5]}, {\"marker\": {\"color\": \"MediumPurple\"}, \"mode\": \"lines+markers\", \"name\": \"Workplaces\", \"type\": \"scatter\", \"x\": [\"2020-02-16T00:00:00\", \"2020-02-23T00:00:00\", \"2020-03-01T00:00:00\", \"2020-03-08T00:00:00\", \"2020-03-15T00:00:00\", \"2020-03-22T00:00:00\", \"2020-03-29T00:00:00\", \"2020-04-05T00:00:00\", \"2020-04-12T00:00:00\", \"2020-04-19T00:00:00\", \"2020-04-26T00:00:00\", \"2020-05-03T00:00:00\", \"2020-05-10T00:00:00\", \"2020-05-17T00:00:00\", \"2020-05-24T00:00:00\", \"2020-05-31T00:00:00\", \"2020-06-07T00:00:00\", \"2020-06-14T00:00:00\", \"2020-06-21T00:00:00\", \"2020-06-28T00:00:00\", \"2020-07-05T00:00:00\", \"2020-07-12T00:00:00\", \"2020-07-19T00:00:00\", \"2020-07-26T00:00:00\"], \"y\": [1.5, -3.0, 5.0, 6.142857142857143, -0.14285714285714285, -10.285714285714286, -53.0, -52.57142857142857, -53.42857142857143, -50.57142857142857, -49.285714285714285, -47.42857142857143, -40.285714285714285, -35.285714285714285, -29.857142857142858, -24.857142857142858, -17.714285714285715, -18.571428571428573, -18.714285714285715, -18.285714285714285, -18.142857142857142, -20.714285714285715, -23.0, -27.0]}, {\"marker\": {\"color\": \"DarkBlue\"}, \"mode\": \"lines+markers\", \"name\": \"Residential\", \"type\": \"scatter\", \"x\": [\"2020-02-16T00:00:00\", \"2020-02-23T00:00:00\", \"2020-03-01T00:00:00\", \"2020-03-08T00:00:00\", \"2020-03-15T00:00:00\", \"2020-03-22T00:00:00\", \"2020-03-29T00:00:00\", \"2020-04-05T00:00:00\", \"2020-04-12T00:00:00\", \"2020-04-19T00:00:00\", \"2020-04-26T00:00:00\", \"2020-05-03T00:00:00\", \"2020-05-10T00:00:00\", \"2020-05-17T00:00:00\", \"2020-05-24T00:00:00\", \"2020-05-31T00:00:00\", \"2020-06-07T00:00:00\", \"2020-06-14T00:00:00\", \"2020-06-21T00:00:00\", \"2020-06-28T00:00:00\", \"2020-07-05T00:00:00\", \"2020-07-12T00:00:00\", \"2020-07-19T00:00:00\", \"2020-07-26T00:00:00\"], \"y\": [0.5, 1.4285714285714286, 0.2857142857142857, 0.8571428571428571, 1.2857142857142858, 5.857142857142857, 25.285714285714285, 26.142857142857142, 27.142857142857142, 26.428571428571427, 27.0, 26.428571428571427, 23.714285714285715, 22.142857142857142, 20.571428571428573, 17.571428571428573, 14.714285714285714, 14.142857142857142, 14.571428571428571, 14.714285714285714, 15.428571428571429, 16.142857142857142, 18.571428571428573, 19.0]}],\n",
              "                        {\"height\": 600, \"shapes\": [{\"line\": {\"dash\": \"dot\", \"width\": 2}, \"type\": \"line\", \"x0\": \"2020-02-16T00:00:00\", \"x1\": \"2020-07-26T00:00:00\", \"y0\": 0, \"y1\": 0}, {\"line\": {\"dash\": \"dot\", \"width\": 2}, \"type\": \"line\", \"x0\": \"2020-03-22T00:00:00\", \"x1\": \"2020-03-22T00:00:00\", \"y0\": -100, \"y1\": 37}, {\"line\": {\"dash\": \"dot\", \"width\": 2}, \"type\": \"line\", \"x0\": \"2020-04-15T00:00:00\", \"x1\": \"2020-04-15T00:00:00\", \"y0\": -100, \"y1\": 37}, {\"line\": {\"dash\": \"dot\", \"width\": 2}, \"type\": \"line\", \"x0\": \"2020-05-04T00:00:00\", \"x1\": \"2020-05-04T00:00:00\", \"y0\": -100, \"y1\": 37}, {\"line\": {\"dash\": \"dot\", \"width\": 2}, \"type\": \"line\", \"x0\": \"2020-05-18T00:00:00\", \"x1\": \"2020-05-18T00:00:00\", \"y0\": -100, \"y1\": 37}, {\"line\": {\"dash\": \"dot\", \"width\": 2}, \"type\": \"line\", \"x0\": \"2020-06-01T00:00:00\", \"x1\": \"2020-06-01T00:00:00\", \"y0\": -100, \"y1\": 37}, {\"line\": {\"dash\": \"dot\", \"width\": 2}, \"type\": \"line\", \"x0\": \"2020-07-01T00:00:00\", \"x1\": \"2020-07-01T00:00:00\", \"y0\": -100, \"y1\": 37}], \"template\": {\"data\": {\"bar\": [{\"error_x\": {\"color\": \"#2a3f5f\"}, \"error_y\": {\"color\": \"#2a3f5f\"}, \"marker\": {\"line\": {\"color\": \"white\", \"width\": 0.5}}, \"type\": \"bar\"}], \"barpolar\": [{\"marker\": {\"line\": {\"color\": \"white\", \"width\": 0.5}}, \"type\": \"barpolar\"}], \"carpet\": [{\"aaxis\": {\"endlinecolor\": \"#2a3f5f\", \"gridcolor\": \"#C8D4E3\", \"linecolor\": \"#C8D4E3\", \"minorgridcolor\": \"#C8D4E3\", \"startlinecolor\": \"#2a3f5f\"}, \"baxis\": {\"endlinecolor\": \"#2a3f5f\", \"gridcolor\": \"#C8D4E3\", \"linecolor\": \"#C8D4E3\", \"minorgridcolor\": \"#C8D4E3\", \"startlinecolor\": \"#2a3f5f\"}, \"type\": \"carpet\"}], \"choropleth\": [{\"colorbar\": {\"outlinewidth\": 0, \"ticks\": \"\"}, \"type\": \"choropleth\"}], \"contour\": [{\"colorbar\": {\"outlinewidth\": 0, \"ticks\": \"\"}, \"colorscale\": [[0.0, \"#0d0887\"], [0.1111111111111111, \"#46039f\"], [0.2222222222222222, \"#7201a8\"], [0.3333333333333333, \"#9c179e\"], [0.4444444444444444, \"#bd3786\"], [0.5555555555555556, \"#d8576b\"], [0.6666666666666666, \"#ed7953\"], [0.7777777777777778, \"#fb9f3a\"], [0.8888888888888888, \"#fdca26\"], [1.0, \"#f0f921\"]], \"type\": \"contour\"}], \"contourcarpet\": [{\"colorbar\": {\"outlinewidth\": 0, \"ticks\": \"\"}, \"type\": \"contourcarpet\"}], \"heatmap\": [{\"colorbar\": {\"outlinewidth\": 0, \"ticks\": \"\"}, \"colorscale\": [[0.0, \"#0d0887\"], [0.1111111111111111, \"#46039f\"], [0.2222222222222222, \"#7201a8\"], [0.3333333333333333, \"#9c179e\"], [0.4444444444444444, \"#bd3786\"], [0.5555555555555556, \"#d8576b\"], [0.6666666666666666, \"#ed7953\"], [0.7777777777777778, \"#fb9f3a\"], [0.8888888888888888, \"#fdca26\"], [1.0, \"#f0f921\"]], \"type\": \"heatmap\"}], \"heatmapgl\": [{\"colorbar\": {\"outlinewidth\": 0, \"ticks\": \"\"}, \"colorscale\": [[0.0, \"#0d0887\"], [0.1111111111111111, \"#46039f\"], [0.2222222222222222, \"#7201a8\"], [0.3333333333333333, \"#9c179e\"], [0.4444444444444444, \"#bd3786\"], [0.5555555555555556, \"#d8576b\"], [0.6666666666666666, \"#ed7953\"], [0.7777777777777778, \"#fb9f3a\"], [0.8888888888888888, \"#fdca26\"], [1.0, \"#f0f921\"]], \"type\": \"heatmapgl\"}], \"histogram\": [{\"marker\": {\"colorbar\": {\"outlinewidth\": 0, \"ticks\": \"\"}}, \"type\": \"histogram\"}], \"histogram2d\": [{\"colorbar\": {\"outlinewidth\": 0, \"ticks\": \"\"}, \"colorscale\": [[0.0, \"#0d0887\"], [0.1111111111111111, \"#46039f\"], [0.2222222222222222, \"#7201a8\"], [0.3333333333333333, \"#9c179e\"], [0.4444444444444444, \"#bd3786\"], [0.5555555555555556, \"#d8576b\"], [0.6666666666666666, \"#ed7953\"], [0.7777777777777778, \"#fb9f3a\"], [0.8888888888888888, \"#fdca26\"], [1.0, \"#f0f921\"]], \"type\": \"histogram2d\"}], \"histogram2dcontour\": [{\"colorbar\": {\"outlinewidth\": 0, \"ticks\": \"\"}, \"colorscale\": [[0.0, \"#0d0887\"], [0.1111111111111111, \"#46039f\"], [0.2222222222222222, \"#7201a8\"], [0.3333333333333333, \"#9c179e\"], [0.4444444444444444, \"#bd3786\"], [0.5555555555555556, \"#d8576b\"], [0.6666666666666666, \"#ed7953\"], [0.7777777777777778, \"#fb9f3a\"], [0.8888888888888888, \"#fdca26\"], [1.0, \"#f0f921\"]], \"type\": \"histogram2dcontour\"}], \"mesh3d\": [{\"colorbar\": {\"outlinewidth\": 0, \"ticks\": \"\"}, \"type\": \"mesh3d\"}], \"parcoords\": [{\"line\": {\"colorbar\": {\"outlinewidth\": 0, \"ticks\": \"\"}}, \"type\": \"parcoords\"}], \"pie\": [{\"automargin\": true, \"type\": \"pie\"}], \"scatter\": [{\"marker\": {\"colorbar\": {\"outlinewidth\": 0, \"ticks\": \"\"}}, \"type\": \"scatter\"}], \"scatter3d\": [{\"line\": {\"colorbar\": {\"outlinewidth\": 0, \"ticks\": \"\"}}, \"marker\": {\"colorbar\": {\"outlinewidth\": 0, \"ticks\": \"\"}}, \"type\": \"scatter3d\"}], \"scattercarpet\": [{\"marker\": {\"colorbar\": {\"outlinewidth\": 0, \"ticks\": \"\"}}, \"type\": \"scattercarpet\"}], \"scattergeo\": [{\"marker\": {\"colorbar\": {\"outlinewidth\": 0, \"ticks\": \"\"}}, \"type\": \"scattergeo\"}], \"scattergl\": [{\"marker\": {\"colorbar\": {\"outlinewidth\": 0, \"ticks\": \"\"}}, \"type\": \"scattergl\"}], \"scattermapbox\": [{\"marker\": {\"colorbar\": {\"outlinewidth\": 0, \"ticks\": \"\"}}, \"type\": \"scattermapbox\"}], \"scatterpolar\": [{\"marker\": {\"colorbar\": {\"outlinewidth\": 0, \"ticks\": \"\"}}, \"type\": \"scatterpolar\"}], \"scatterpolargl\": [{\"marker\": {\"colorbar\": {\"outlinewidth\": 0, \"ticks\": \"\"}}, \"type\": \"scatterpolargl\"}], \"scatterternary\": [{\"marker\": {\"colorbar\": {\"outlinewidth\": 0, \"ticks\": \"\"}}, \"type\": \"scatterternary\"}], \"surface\": [{\"colorbar\": {\"outlinewidth\": 0, \"ticks\": \"\"}, \"colorscale\": [[0.0, \"#0d0887\"], [0.1111111111111111, \"#46039f\"], [0.2222222222222222, \"#7201a8\"], [0.3333333333333333, \"#9c179e\"], [0.4444444444444444, \"#bd3786\"], [0.5555555555555556, \"#d8576b\"], [0.6666666666666666, \"#ed7953\"], [0.7777777777777778, \"#fb9f3a\"], [0.8888888888888888, \"#fdca26\"], [1.0, \"#f0f921\"]], \"type\": \"surface\"}], \"table\": [{\"cells\": {\"fill\": {\"color\": \"#EBF0F8\"}, \"line\": {\"color\": \"white\"}}, \"header\": {\"fill\": {\"color\": \"#C8D4E3\"}, \"line\": {\"color\": \"white\"}}, \"type\": \"table\"}]}, \"layout\": {\"annotationdefaults\": {\"arrowcolor\": \"#2a3f5f\", \"arrowhead\": 0, \"arrowwidth\": 1}, \"coloraxis\": {\"colorbar\": {\"outlinewidth\": 0, \"ticks\": \"\"}}, \"colorscale\": {\"diverging\": [[0, \"#8e0152\"], [0.1, \"#c51b7d\"], [0.2, \"#de77ae\"], [0.3, \"#f1b6da\"], [0.4, \"#fde0ef\"], [0.5, \"#f7f7f7\"], [0.6, \"#e6f5d0\"], [0.7, \"#b8e186\"], [0.8, \"#7fbc41\"], [0.9, \"#4d9221\"], [1, \"#276419\"]], \"sequential\": [[0.0, \"#0d0887\"], [0.1111111111111111, \"#46039f\"], [0.2222222222222222, \"#7201a8\"], [0.3333333333333333, \"#9c179e\"], [0.4444444444444444, \"#bd3786\"], [0.5555555555555556, \"#d8576b\"], [0.6666666666666666, \"#ed7953\"], [0.7777777777777778, \"#fb9f3a\"], [0.8888888888888888, \"#fdca26\"], [1.0, \"#f0f921\"]], \"sequentialminus\": [[0.0, \"#0d0887\"], [0.1111111111111111, \"#46039f\"], [0.2222222222222222, \"#7201a8\"], [0.3333333333333333, \"#9c179e\"], [0.4444444444444444, \"#bd3786\"], [0.5555555555555556, \"#d8576b\"], [0.6666666666666666, \"#ed7953\"], [0.7777777777777778, \"#fb9f3a\"], [0.8888888888888888, \"#fdca26\"], [1.0, \"#f0f921\"]]}, \"colorway\": [\"#636efa\", \"#EF553B\", \"#00cc96\", \"#ab63fa\", \"#FFA15A\", \"#19d3f3\", \"#FF6692\", \"#B6E880\", \"#FF97FF\", \"#FECB52\"], \"font\": {\"color\": \"#2a3f5f\"}, \"geo\": {\"bgcolor\": \"white\", \"lakecolor\": \"white\", \"landcolor\": \"white\", \"showlakes\": true, \"showland\": true, \"subunitcolor\": \"#C8D4E3\"}, \"hoverlabel\": {\"align\": \"left\"}, \"hovermode\": \"closest\", \"mapbox\": {\"style\": \"light\"}, \"paper_bgcolor\": \"white\", \"plot_bgcolor\": \"white\", \"polar\": {\"angularaxis\": {\"gridcolor\": \"#EBF0F8\", \"linecolor\": \"#EBF0F8\", \"ticks\": \"\"}, \"bgcolor\": \"white\", \"radialaxis\": {\"gridcolor\": \"#EBF0F8\", \"linecolor\": \"#EBF0F8\", \"ticks\": \"\"}}, \"scene\": {\"xaxis\": {\"backgroundcolor\": \"white\", \"gridcolor\": \"#DFE8F3\", \"gridwidth\": 2, \"linecolor\": \"#EBF0F8\", \"showbackground\": true, \"ticks\": \"\", \"zerolinecolor\": \"#EBF0F8\"}, \"yaxis\": {\"backgroundcolor\": \"white\", \"gridcolor\": \"#DFE8F3\", \"gridwidth\": 2, \"linecolor\": \"#EBF0F8\", \"showbackground\": true, \"ticks\": \"\", \"zerolinecolor\": \"#EBF0F8\"}, \"zaxis\": {\"backgroundcolor\": \"white\", \"gridcolor\": \"#DFE8F3\", \"gridwidth\": 2, \"linecolor\": \"#EBF0F8\", \"showbackground\": true, \"ticks\": \"\", \"zerolinecolor\": \"#EBF0F8\"}}, \"shapedefaults\": {\"line\": {\"color\": \"#2a3f5f\"}}, \"ternary\": {\"aaxis\": {\"gridcolor\": \"#DFE8F3\", \"linecolor\": \"#A2B1C6\", \"ticks\": \"\"}, \"baxis\": {\"gridcolor\": \"#DFE8F3\", \"linecolor\": \"#A2B1C6\", \"ticks\": \"\"}, \"bgcolor\": \"white\", \"caxis\": {\"gridcolor\": \"#DFE8F3\", \"linecolor\": \"#A2B1C6\", \"ticks\": \"\"}}, \"title\": {\"x\": 0.05}, \"xaxis\": {\"automargin\": true, \"gridcolor\": \"#EBF0F8\", \"linecolor\": \"#EBF0F8\", \"ticks\": \"\", \"title\": {\"standoff\": 15}, \"zerolinecolor\": \"#EBF0F8\", \"zerolinewidth\": 2}, \"yaxis\": {\"automargin\": true, \"gridcolor\": \"#EBF0F8\", \"linecolor\": \"#EBF0F8\", \"ticks\": \"\", \"title\": {\"standoff\": 15}, \"zerolinecolor\": \"#EBF0F8\", \"zerolinewidth\": 2}}}, \"title\": {\"text\": \"Mobility Trends in Andhra Pradesh\"}, \"width\": 1400, \"xaxis\": {\"range\": [\"2020-02-16T00:00:00\", \"2020-07-26T00:00:00\"]}},\n",
              "                        {\"responsive\": true}\n",
              "                    ).then(function(){\n",
              "                            \n",
              "var gd = document.getElementById('1114a35a-ae64-4589-8bff-cabd1f8cf1ba');\n",
              "var x = new MutationObserver(function (mutations, observer) {{\n",
              "        var display = window.getComputedStyle(gd).display;\n",
              "        if (!display || display === 'none') {{\n",
              "            console.log([gd, 'removed!']);\n",
              "            Plotly.purge(gd);\n",
              "            observer.disconnect();\n",
              "        }}\n",
              "}});\n",
              "\n",
              "// Listen for the removal of the full notebook cells\n",
              "var notebookContainer = gd.closest('#notebook-container');\n",
              "if (notebookContainer) {{\n",
              "    x.observe(notebookContainer, {childList: true});\n",
              "}}\n",
              "\n",
              "// Listen for the clearing of the current output cell\n",
              "var outputEl = gd.closest('.output');\n",
              "if (outputEl) {{\n",
              "    x.observe(outputEl, {childList: true});\n",
              "}}\n",
              "\n",
              "                        })\n",
              "                };\n",
              "                \n",
              "            </script>\n",
              "        </div>\n",
              "</body>\n",
              "</html>"
            ]
          },
          "metadata": {
            "tags": []
          }
        }
      ]
    },
    {
      "cell_type": "markdown",
      "metadata": {
        "id": "6yIL1LlEjr3X",
        "colab_type": "text"
      },
      "source": [
        "### **Is work back to normal?**"
      ]
    },
    {
      "cell_type": "code",
      "metadata": {
        "id": "ZSUbI-c9mYIJ",
        "colab_type": "code",
        "colab": {}
      },
      "source": [
        ""
      ],
      "execution_count": 59,
      "outputs": []
    },
    {
      "cell_type": "code",
      "metadata": {
        "id": "o92sjidMjzL4",
        "colab_type": "code",
        "colab": {
          "base_uri": "https://localhost:8080/",
          "height": 637
        },
        "outputId": "bcaa5f1e-19bc-47e1-f344-f49c709ef0e5"
      },
      "source": [
        "fig = go.Figure()\n",
        "fig.add_trace(go.Scatter(\n",
        "    x=[lockdown1,lockdown2,lockdown3,lockdown4,unlock1,unlock2],\n",
        "    y=[39,39,39,39,39,39],\n",
        "    text=[\"Lockdown 1\",\"Lockdown 2\",\"Lockdown 3\", \"Lockdown 4\", \"Unlock 1\", \"Unlock 2\"],\n",
        "    mode=\"text\",\n",
        "))\n",
        "fig.add_trace(go.Scatter(x=df_india_AP.index, y=df_india_AP[\"Workplaces\"],\n",
        "                    mode='lines+markers',\n",
        "                    name=\"AP\",\n",
        "                    ))\n",
        "fig.add_trace(go.Scatter(x=df_india_Telangana.index, y=df_india_Telangana[\"Workplaces\"],\n",
        "                    mode='lines+markers',\n",
        "                    name=\"Telangana\",\n",
        "                    ))\n",
        "fig.update_layout(xaxis=dict(range=[mindate,maxdate]),template=\"seaborn\")\n",
        "fig.update_layout(\n",
        "    title= \"Is work back to normal?\",\n",
        "    width=1300,\n",
        "    height=600,\n",
        "    shapes=[\n",
        "        dict(\n",
        "            type=\"line\",\n",
        "            x0=mindate,\n",
        "            y0=0,\n",
        "            x1=maxdate,\n",
        "            y1=0,\n",
        "            line_width=2,\n",
        "            line = dict(\n",
        "                dash = \"dot\"\n",
        "            )\n",
        "        ),\n",
        "        dict(\n",
        "            type=\"line\",\n",
        "            y0=-100,\n",
        "            x0= lockdown1,\n",
        "            y1=37,\n",
        "            x1=lockdown1,\n",
        "            line_width=2,\n",
        "            line = dict(\n",
        "                dash = \"dot\"\n",
        "            )\n",
        "        ),\n",
        "        dict(\n",
        "            type=\"line\",\n",
        "            y0=-100,\n",
        "            x0= lockdown2,\n",
        "            y1=37,\n",
        "            x1=lockdown2,\n",
        "            line_width=2,\n",
        "            line = dict(\n",
        "                dash = \"dot\"\n",
        "            )\n",
        "        ),\n",
        "        dict(\n",
        "            type=\"line\",\n",
        "            y0=-100,\n",
        "            x0= lockdown3,\n",
        "            y1=37,\n",
        "            x1=lockdown3,\n",
        "            line_width=2,\n",
        "            line = dict(\n",
        "                dash = \"dot\"\n",
        "            )\n",
        "        ),\n",
        "        dict(\n",
        "            type=\"line\",\n",
        "            y0=-100,\n",
        "            x0= lockdown4,\n",
        "            y1=37,\n",
        "            x1=lockdown4,\n",
        "            line_width=2,\n",
        "            line = dict(\n",
        "                dash = \"dot\"\n",
        "            )\n",
        "        ),\n",
        "        dict(\n",
        "            type=\"line\",\n",
        "            y0=-100,\n",
        "            x0= unlock1,\n",
        "            y1=37,\n",
        "            x1=unlock1,\n",
        "            line_width=2,\n",
        "            line = dict(\n",
        "                dash = \"dot\"\n",
        "            )\n",
        "        ),\n",
        "        dict(\n",
        "            type=\"line\",\n",
        "            y0=-100,\n",
        "            x0= unlock2,\n",
        "            y1=37,\n",
        "            x1=unlock2,\n",
        "            line_width=2,\n",
        "            line = dict(\n",
        "                dash = \"dot\"\n",
        "            ) \n",
        "        ),\n",
        "    ]\n",
        ")\n",
        "\n",
        "fig.show()\n"
      ],
      "execution_count": 85,
      "outputs": [
        {
          "output_type": "display_data",
          "data": {
            "text/html": [
              "<html>\n",
              "<head><meta charset=\"utf-8\" /></head>\n",
              "<body>\n",
              "    <div>\n",
              "            <script src=\"https://cdnjs.cloudflare.com/ajax/libs/mathjax/2.7.5/MathJax.js?config=TeX-AMS-MML_SVG\"></script><script type=\"text/javascript\">if (window.MathJax) {MathJax.Hub.Config({SVG: {font: \"STIX-Web\"}});}</script>\n",
              "                <script type=\"text/javascript\">window.PlotlyConfig = {MathJaxConfig: 'local'};</script>\n",
              "        <script src=\"https://cdn.plot.ly/plotly-latest.min.js\"></script>    \n",
              "            <div id=\"9126ca60-21d3-49d9-afb5-1e1250e98b21\" class=\"plotly-graph-div\" style=\"height:600px; width:1300px;\"></div>\n",
              "            <script type=\"text/javascript\">\n",
              "                \n",
              "                    window.PLOTLYENV=window.PLOTLYENV || {};\n",
              "                    \n",
              "                if (document.getElementById(\"9126ca60-21d3-49d9-afb5-1e1250e98b21\")) {\n",
              "                    Plotly.newPlot(\n",
              "                        '9126ca60-21d3-49d9-afb5-1e1250e98b21',\n",
              "                        [{\"mode\": \"text\", \"text\": [\"Lockdown 1\", \"Lockdown 2\", \"Lockdown 3\", \"Lockdown 4\", \"Unlock 1\", \"Unlock 2\"], \"type\": \"scatter\", \"x\": [\"2020-03-22T00:00:00\", \"2020-04-15T00:00:00\", \"2020-05-04T00:00:00\", \"2020-05-18T00:00:00\", \"2020-06-01T00:00:00\", \"2020-07-01T00:00:00\"], \"y\": [39, 39, 39, 39, 39, 39]}, {\"mode\": \"lines+markers\", \"name\": \"AP\", \"type\": \"scatter\", \"x\": [\"2020-02-16T00:00:00\", \"2020-02-23T00:00:00\", \"2020-03-01T00:00:00\", \"2020-03-08T00:00:00\", \"2020-03-15T00:00:00\", \"2020-03-22T00:00:00\", \"2020-03-29T00:00:00\", \"2020-04-05T00:00:00\", \"2020-04-12T00:00:00\", \"2020-04-19T00:00:00\", \"2020-04-26T00:00:00\", \"2020-05-03T00:00:00\", \"2020-05-10T00:00:00\", \"2020-05-17T00:00:00\", \"2020-05-24T00:00:00\", \"2020-05-31T00:00:00\", \"2020-06-07T00:00:00\", \"2020-06-14T00:00:00\", \"2020-06-21T00:00:00\", \"2020-06-28T00:00:00\", \"2020-07-05T00:00:00\", \"2020-07-12T00:00:00\", \"2020-07-19T00:00:00\", \"2020-07-26T00:00:00\"], \"y\": [1.5, -3.0, 5.0, 6.142857142857143, -0.14285714285714285, -10.285714285714286, -53.0, -52.57142857142857, -53.42857142857143, -50.57142857142857, -49.285714285714285, -47.42857142857143, -40.285714285714285, -35.285714285714285, -29.857142857142858, -24.857142857142858, -17.714285714285715, -18.571428571428573, -18.714285714285715, -18.285714285714285, -18.142857142857142, -20.714285714285715, -23.0, -27.0]}, {\"mode\": \"lines+markers\", \"name\": \"Telangana\", \"type\": \"scatter\", \"x\": [\"2020-02-16T00:00:00\", \"2020-02-23T00:00:00\", \"2020-03-01T00:00:00\", \"2020-03-08T00:00:00\", \"2020-03-15T00:00:00\", \"2020-03-22T00:00:00\", \"2020-03-29T00:00:00\", \"2020-04-05T00:00:00\", \"2020-04-12T00:00:00\", \"2020-04-19T00:00:00\", \"2020-04-26T00:00:00\", \"2020-05-03T00:00:00\", \"2020-05-10T00:00:00\", \"2020-05-17T00:00:00\", \"2020-05-24T00:00:00\", \"2020-05-31T00:00:00\", \"2020-06-07T00:00:00\", \"2020-06-14T00:00:00\", \"2020-06-21T00:00:00\", \"2020-06-28T00:00:00\", \"2020-07-05T00:00:00\", \"2020-07-12T00:00:00\", \"2020-07-19T00:00:00\", \"2020-07-26T00:00:00\"], \"y\": [0.5, -2.857142857142857, 3.5714285714285716, 4.857142857142857, -6.142857142857143, -20.571428571428573, -68.71428571428571, -67.57142857142857, -67.28571428571429, -65.85714285714286, -65.85714285714286, -64.0, -57.42857142857143, -51.857142857142854, -45.285714285714285, -41.857142857142854, -34.57142857142857, -34.857142857142854, -35.57142857142857, -35.42857142857143, -36.57142857142857, -37.714285714285715, -37.857142857142854, -45.0]}],\n",
              "                        {\"height\": 600, \"shapes\": [{\"line\": {\"dash\": \"dot\", \"width\": 2}, \"type\": \"line\", \"x0\": \"2020-02-16T00:00:00\", \"x1\": \"2020-07-26T00:00:00\", \"y0\": 0, \"y1\": 0}, {\"line\": {\"dash\": \"dot\", \"width\": 2}, \"type\": \"line\", \"x0\": \"2020-03-22T00:00:00\", \"x1\": \"2020-03-22T00:00:00\", \"y0\": -100, \"y1\": 37}, {\"line\": {\"dash\": \"dot\", \"width\": 2}, \"type\": \"line\", \"x0\": \"2020-04-15T00:00:00\", \"x1\": \"2020-04-15T00:00:00\", \"y0\": -100, \"y1\": 37}, {\"line\": {\"dash\": \"dot\", \"width\": 2}, \"type\": \"line\", \"x0\": \"2020-05-04T00:00:00\", \"x1\": \"2020-05-04T00:00:00\", \"y0\": -100, \"y1\": 37}, {\"line\": {\"dash\": \"dot\", \"width\": 2}, \"type\": \"line\", \"x0\": \"2020-05-18T00:00:00\", \"x1\": \"2020-05-18T00:00:00\", \"y0\": -100, \"y1\": 37}, {\"line\": {\"dash\": \"dot\", \"width\": 2}, \"type\": \"line\", \"x0\": \"2020-06-01T00:00:00\", \"x1\": \"2020-06-01T00:00:00\", \"y0\": -100, \"y1\": 37}, {\"line\": {\"dash\": \"dot\", \"width\": 2}, \"type\": \"line\", \"x0\": \"2020-07-01T00:00:00\", \"x1\": \"2020-07-01T00:00:00\", \"y0\": -100, \"y1\": 37}], \"template\": {\"data\": {\"bar\": [{\"error_x\": {\"color\": \"rgb(36,36,36)\"}, \"error_y\": {\"color\": \"rgb(36,36,36)\"}, \"marker\": {\"line\": {\"color\": \"rgb(234,234,242)\", \"width\": 0.5}}, \"type\": \"bar\"}], \"barpolar\": [{\"marker\": {\"line\": {\"color\": \"rgb(234,234,242)\", \"width\": 0.5}}, \"type\": \"barpolar\"}], \"carpet\": [{\"aaxis\": {\"endlinecolor\": \"rgb(36,36,36)\", \"gridcolor\": \"white\", \"linecolor\": \"white\", \"minorgridcolor\": \"white\", \"startlinecolor\": \"rgb(36,36,36)\"}, \"baxis\": {\"endlinecolor\": \"rgb(36,36,36)\", \"gridcolor\": \"white\", \"linecolor\": \"white\", \"minorgridcolor\": \"white\", \"startlinecolor\": \"rgb(36,36,36)\"}, \"type\": \"carpet\"}], \"choropleth\": [{\"colorbar\": {\"outlinewidth\": 0, \"tickcolor\": \"rgb(36,36,36)\", \"ticklen\": 8, \"ticks\": \"outside\", \"tickwidth\": 2}, \"type\": \"choropleth\"}], \"contour\": [{\"colorbar\": {\"outlinewidth\": 0, \"tickcolor\": \"rgb(36,36,36)\", \"ticklen\": 8, \"ticks\": \"outside\", \"tickwidth\": 2}, \"colorscale\": [[0.0, \"rgb(2,4,25)\"], [0.06274509803921569, \"rgb(24,15,41)\"], [0.12549019607843137, \"rgb(47,23,57)\"], [0.18823529411764706, \"rgb(71,28,72)\"], [0.25098039215686274, \"rgb(97,30,82)\"], [0.3137254901960784, \"rgb(123,30,89)\"], [0.3764705882352941, \"rgb(150,27,91)\"], [0.4392156862745098, \"rgb(177,22,88)\"], [0.5019607843137255, \"rgb(203,26,79)\"], [0.5647058823529412, \"rgb(223,47,67)\"], [0.6274509803921569, \"rgb(236,76,61)\"], [0.6901960784313725, \"rgb(242,107,73)\"], [0.7529411764705882, \"rgb(244,135,95)\"], [0.8156862745098039, \"rgb(245,162,122)\"], [0.8784313725490196, \"rgb(246,188,153)\"], [0.9411764705882353, \"rgb(247,212,187)\"], [1.0, \"rgb(250,234,220)\"]], \"type\": \"contour\"}], \"contourcarpet\": [{\"colorbar\": {\"outlinewidth\": 0, \"tickcolor\": \"rgb(36,36,36)\", \"ticklen\": 8, \"ticks\": \"outside\", \"tickwidth\": 2}, \"type\": \"contourcarpet\"}], \"heatmap\": [{\"colorbar\": {\"outlinewidth\": 0, \"tickcolor\": \"rgb(36,36,36)\", \"ticklen\": 8, \"ticks\": \"outside\", \"tickwidth\": 2}, \"colorscale\": [[0.0, \"rgb(2,4,25)\"], [0.06274509803921569, \"rgb(24,15,41)\"], [0.12549019607843137, \"rgb(47,23,57)\"], [0.18823529411764706, \"rgb(71,28,72)\"], [0.25098039215686274, \"rgb(97,30,82)\"], [0.3137254901960784, \"rgb(123,30,89)\"], [0.3764705882352941, \"rgb(150,27,91)\"], [0.4392156862745098, \"rgb(177,22,88)\"], [0.5019607843137255, \"rgb(203,26,79)\"], [0.5647058823529412, \"rgb(223,47,67)\"], [0.6274509803921569, \"rgb(236,76,61)\"], [0.6901960784313725, \"rgb(242,107,73)\"], [0.7529411764705882, \"rgb(244,135,95)\"], [0.8156862745098039, \"rgb(245,162,122)\"], [0.8784313725490196, \"rgb(246,188,153)\"], [0.9411764705882353, \"rgb(247,212,187)\"], [1.0, \"rgb(250,234,220)\"]], \"type\": \"heatmap\"}], \"heatmapgl\": [{\"colorbar\": {\"outlinewidth\": 0, \"tickcolor\": \"rgb(36,36,36)\", \"ticklen\": 8, \"ticks\": \"outside\", \"tickwidth\": 2}, \"colorscale\": [[0.0, \"rgb(2,4,25)\"], [0.06274509803921569, \"rgb(24,15,41)\"], [0.12549019607843137, \"rgb(47,23,57)\"], [0.18823529411764706, \"rgb(71,28,72)\"], [0.25098039215686274, \"rgb(97,30,82)\"], [0.3137254901960784, \"rgb(123,30,89)\"], [0.3764705882352941, \"rgb(150,27,91)\"], [0.4392156862745098, \"rgb(177,22,88)\"], [0.5019607843137255, \"rgb(203,26,79)\"], [0.5647058823529412, \"rgb(223,47,67)\"], [0.6274509803921569, \"rgb(236,76,61)\"], [0.6901960784313725, \"rgb(242,107,73)\"], [0.7529411764705882, \"rgb(244,135,95)\"], [0.8156862745098039, \"rgb(245,162,122)\"], [0.8784313725490196, \"rgb(246,188,153)\"], [0.9411764705882353, \"rgb(247,212,187)\"], [1.0, \"rgb(250,234,220)\"]], \"type\": \"heatmapgl\"}], \"histogram\": [{\"marker\": {\"colorbar\": {\"outlinewidth\": 0, \"tickcolor\": \"rgb(36,36,36)\", \"ticklen\": 8, \"ticks\": \"outside\", \"tickwidth\": 2}}, \"type\": \"histogram\"}], \"histogram2d\": [{\"colorbar\": {\"outlinewidth\": 0, \"tickcolor\": \"rgb(36,36,36)\", \"ticklen\": 8, \"ticks\": \"outside\", \"tickwidth\": 2}, \"colorscale\": [[0.0, \"rgb(2,4,25)\"], [0.06274509803921569, \"rgb(24,15,41)\"], [0.12549019607843137, \"rgb(47,23,57)\"], [0.18823529411764706, \"rgb(71,28,72)\"], [0.25098039215686274, \"rgb(97,30,82)\"], [0.3137254901960784, \"rgb(123,30,89)\"], [0.3764705882352941, \"rgb(150,27,91)\"], [0.4392156862745098, \"rgb(177,22,88)\"], [0.5019607843137255, \"rgb(203,26,79)\"], [0.5647058823529412, \"rgb(223,47,67)\"], [0.6274509803921569, \"rgb(236,76,61)\"], [0.6901960784313725, \"rgb(242,107,73)\"], [0.7529411764705882, \"rgb(244,135,95)\"], [0.8156862745098039, \"rgb(245,162,122)\"], [0.8784313725490196, \"rgb(246,188,153)\"], [0.9411764705882353, \"rgb(247,212,187)\"], [1.0, \"rgb(250,234,220)\"]], \"type\": \"histogram2d\"}], \"histogram2dcontour\": [{\"colorbar\": {\"outlinewidth\": 0, \"tickcolor\": \"rgb(36,36,36)\", \"ticklen\": 8, \"ticks\": \"outside\", \"tickwidth\": 2}, \"colorscale\": [[0.0, \"rgb(2,4,25)\"], [0.06274509803921569, \"rgb(24,15,41)\"], [0.12549019607843137, \"rgb(47,23,57)\"], [0.18823529411764706, \"rgb(71,28,72)\"], [0.25098039215686274, \"rgb(97,30,82)\"], [0.3137254901960784, \"rgb(123,30,89)\"], [0.3764705882352941, \"rgb(150,27,91)\"], [0.4392156862745098, \"rgb(177,22,88)\"], [0.5019607843137255, \"rgb(203,26,79)\"], [0.5647058823529412, \"rgb(223,47,67)\"], [0.6274509803921569, \"rgb(236,76,61)\"], [0.6901960784313725, \"rgb(242,107,73)\"], [0.7529411764705882, \"rgb(244,135,95)\"], [0.8156862745098039, \"rgb(245,162,122)\"], [0.8784313725490196, \"rgb(246,188,153)\"], [0.9411764705882353, \"rgb(247,212,187)\"], [1.0, \"rgb(250,234,220)\"]], \"type\": \"histogram2dcontour\"}], \"mesh3d\": [{\"colorbar\": {\"outlinewidth\": 0, \"tickcolor\": \"rgb(36,36,36)\", \"ticklen\": 8, \"ticks\": \"outside\", \"tickwidth\": 2}, \"type\": \"mesh3d\"}], \"parcoords\": [{\"line\": {\"colorbar\": {\"outlinewidth\": 0, \"tickcolor\": \"rgb(36,36,36)\", \"ticklen\": 8, \"ticks\": \"outside\", \"tickwidth\": 2}}, \"type\": \"parcoords\"}], \"pie\": [{\"automargin\": true, \"type\": \"pie\"}], \"scatter\": [{\"marker\": {\"colorbar\": {\"outlinewidth\": 0, \"tickcolor\": \"rgb(36,36,36)\", \"ticklen\": 8, \"ticks\": \"outside\", \"tickwidth\": 2}}, \"type\": \"scatter\"}], \"scatter3d\": [{\"line\": {\"colorbar\": {\"outlinewidth\": 0, \"tickcolor\": \"rgb(36,36,36)\", \"ticklen\": 8, \"ticks\": \"outside\", \"tickwidth\": 2}}, \"marker\": {\"colorbar\": {\"outlinewidth\": 0, \"tickcolor\": \"rgb(36,36,36)\", \"ticklen\": 8, \"ticks\": \"outside\", \"tickwidth\": 2}}, \"type\": \"scatter3d\"}], \"scattercarpet\": [{\"marker\": {\"colorbar\": {\"outlinewidth\": 0, \"tickcolor\": \"rgb(36,36,36)\", \"ticklen\": 8, \"ticks\": \"outside\", \"tickwidth\": 2}}, \"type\": \"scattercarpet\"}], \"scattergeo\": [{\"marker\": {\"colorbar\": {\"outlinewidth\": 0, \"tickcolor\": \"rgb(36,36,36)\", \"ticklen\": 8, \"ticks\": \"outside\", \"tickwidth\": 2}}, \"type\": \"scattergeo\"}], \"scattergl\": [{\"marker\": {\"colorbar\": {\"outlinewidth\": 0, \"tickcolor\": \"rgb(36,36,36)\", \"ticklen\": 8, \"ticks\": \"outside\", \"tickwidth\": 2}}, \"type\": \"scattergl\"}], \"scattermapbox\": [{\"marker\": {\"colorbar\": {\"outlinewidth\": 0, \"tickcolor\": \"rgb(36,36,36)\", \"ticklen\": 8, \"ticks\": \"outside\", \"tickwidth\": 2}}, \"type\": \"scattermapbox\"}], \"scatterpolar\": [{\"marker\": {\"colorbar\": {\"outlinewidth\": 0, \"tickcolor\": \"rgb(36,36,36)\", \"ticklen\": 8, \"ticks\": \"outside\", \"tickwidth\": 2}}, \"type\": \"scatterpolar\"}], \"scatterpolargl\": [{\"marker\": {\"colorbar\": {\"outlinewidth\": 0, \"tickcolor\": \"rgb(36,36,36)\", \"ticklen\": 8, \"ticks\": \"outside\", \"tickwidth\": 2}}, \"type\": \"scatterpolargl\"}], \"scatterternary\": [{\"marker\": {\"colorbar\": {\"outlinewidth\": 0, \"tickcolor\": \"rgb(36,36,36)\", \"ticklen\": 8, \"ticks\": \"outside\", \"tickwidth\": 2}}, \"type\": \"scatterternary\"}], \"surface\": [{\"colorbar\": {\"outlinewidth\": 0, \"tickcolor\": \"rgb(36,36,36)\", \"ticklen\": 8, \"ticks\": \"outside\", \"tickwidth\": 2}, \"colorscale\": [[0.0, \"rgb(2,4,25)\"], [0.06274509803921569, \"rgb(24,15,41)\"], [0.12549019607843137, \"rgb(47,23,57)\"], [0.18823529411764706, \"rgb(71,28,72)\"], [0.25098039215686274, \"rgb(97,30,82)\"], [0.3137254901960784, \"rgb(123,30,89)\"], [0.3764705882352941, \"rgb(150,27,91)\"], [0.4392156862745098, \"rgb(177,22,88)\"], [0.5019607843137255, \"rgb(203,26,79)\"], [0.5647058823529412, \"rgb(223,47,67)\"], [0.6274509803921569, \"rgb(236,76,61)\"], [0.6901960784313725, \"rgb(242,107,73)\"], [0.7529411764705882, \"rgb(244,135,95)\"], [0.8156862745098039, \"rgb(245,162,122)\"], [0.8784313725490196, \"rgb(246,188,153)\"], [0.9411764705882353, \"rgb(247,212,187)\"], [1.0, \"rgb(250,234,220)\"]], \"type\": \"surface\"}], \"table\": [{\"cells\": {\"fill\": {\"color\": \"rgb(231,231,240)\"}, \"line\": {\"color\": \"white\"}}, \"header\": {\"fill\": {\"color\": \"rgb(183,183,191)\"}, \"line\": {\"color\": \"white\"}}, \"type\": \"table\"}]}, \"layout\": {\"annotationdefaults\": {\"arrowcolor\": \"rgb(67,103,167)\"}, \"coloraxis\": {\"colorbar\": {\"outlinewidth\": 0, \"tickcolor\": \"rgb(36,36,36)\", \"ticklen\": 8, \"ticks\": \"outside\", \"tickwidth\": 2}}, \"colorscale\": {\"sequential\": [[0.0, \"rgb(2,4,25)\"], [0.06274509803921569, \"rgb(24,15,41)\"], [0.12549019607843137, \"rgb(47,23,57)\"], [0.18823529411764706, \"rgb(71,28,72)\"], [0.25098039215686274, \"rgb(97,30,82)\"], [0.3137254901960784, \"rgb(123,30,89)\"], [0.3764705882352941, \"rgb(150,27,91)\"], [0.4392156862745098, \"rgb(177,22,88)\"], [0.5019607843137255, \"rgb(203,26,79)\"], [0.5647058823529412, \"rgb(223,47,67)\"], [0.6274509803921569, \"rgb(236,76,61)\"], [0.6901960784313725, \"rgb(242,107,73)\"], [0.7529411764705882, \"rgb(244,135,95)\"], [0.8156862745098039, \"rgb(245,162,122)\"], [0.8784313725490196, \"rgb(246,188,153)\"], [0.9411764705882353, \"rgb(247,212,187)\"], [1.0, \"rgb(250,234,220)\"]], \"sequentialminus\": [[0.0, \"rgb(2,4,25)\"], [0.06274509803921569, \"rgb(24,15,41)\"], [0.12549019607843137, \"rgb(47,23,57)\"], [0.18823529411764706, \"rgb(71,28,72)\"], [0.25098039215686274, \"rgb(97,30,82)\"], [0.3137254901960784, \"rgb(123,30,89)\"], [0.3764705882352941, \"rgb(150,27,91)\"], [0.4392156862745098, \"rgb(177,22,88)\"], [0.5019607843137255, \"rgb(203,26,79)\"], [0.5647058823529412, \"rgb(223,47,67)\"], [0.6274509803921569, \"rgb(236,76,61)\"], [0.6901960784313725, \"rgb(242,107,73)\"], [0.7529411764705882, \"rgb(244,135,95)\"], [0.8156862745098039, \"rgb(245,162,122)\"], [0.8784313725490196, \"rgb(246,188,153)\"], [0.9411764705882353, \"rgb(247,212,187)\"], [1.0, \"rgb(250,234,220)\"]]}, \"colorway\": [\"rgb(76,114,176)\", \"rgb(221,132,82)\", \"rgb(85,168,104)\", \"rgb(196,78,82)\", \"rgb(129,114,179)\", \"rgb(147,120,96)\", \"rgb(218,139,195)\", \"rgb(140,140,140)\", \"rgb(204,185,116)\", \"rgb(100,181,205)\"], \"font\": {\"color\": \"rgb(36,36,36)\"}, \"geo\": {\"bgcolor\": \"white\", \"lakecolor\": \"white\", \"landcolor\": \"rgb(234,234,242)\", \"showlakes\": true, \"showland\": true, \"subunitcolor\": \"white\"}, \"hoverlabel\": {\"align\": \"left\"}, \"hovermode\": \"closest\", \"paper_bgcolor\": \"white\", \"plot_bgcolor\": \"rgb(234,234,242)\", \"polar\": {\"angularaxis\": {\"gridcolor\": \"white\", \"linecolor\": \"white\", \"showgrid\": true, \"ticks\": \"\"}, \"bgcolor\": \"rgb(234,234,242)\", \"radialaxis\": {\"gridcolor\": \"white\", \"linecolor\": \"white\", \"showgrid\": true, \"ticks\": \"\"}}, \"scene\": {\"xaxis\": {\"backgroundcolor\": \"rgb(234,234,242)\", \"gridcolor\": \"white\", \"gridwidth\": 2, \"linecolor\": \"white\", \"showbackground\": true, \"showgrid\": true, \"ticks\": \"\", \"zerolinecolor\": \"white\"}, \"yaxis\": {\"backgroundcolor\": \"rgb(234,234,242)\", \"gridcolor\": \"white\", \"gridwidth\": 2, \"linecolor\": \"white\", \"showbackground\": true, \"showgrid\": true, \"ticks\": \"\", \"zerolinecolor\": \"white\"}, \"zaxis\": {\"backgroundcolor\": \"rgb(234,234,242)\", \"gridcolor\": \"white\", \"gridwidth\": 2, \"linecolor\": \"white\", \"showbackground\": true, \"showgrid\": true, \"ticks\": \"\", \"zerolinecolor\": \"white\"}}, \"shapedefaults\": {\"fillcolor\": \"rgb(67,103,167)\", \"line\": {\"width\": 0}, \"opacity\": 0.5}, \"ternary\": {\"aaxis\": {\"gridcolor\": \"white\", \"linecolor\": \"white\", \"showgrid\": true, \"ticks\": \"\"}, \"baxis\": {\"gridcolor\": \"white\", \"linecolor\": \"white\", \"showgrid\": true, \"ticks\": \"\"}, \"bgcolor\": \"rgb(234,234,242)\", \"caxis\": {\"gridcolor\": \"white\", \"linecolor\": \"white\", \"showgrid\": true, \"ticks\": \"\"}}, \"xaxis\": {\"automargin\": true, \"gridcolor\": \"white\", \"linecolor\": \"white\", \"showgrid\": true, \"ticks\": \"\", \"title\": {\"standoff\": 15}, \"zerolinecolor\": \"white\"}, \"yaxis\": {\"automargin\": true, \"gridcolor\": \"white\", \"linecolor\": \"white\", \"showgrid\": true, \"ticks\": \"\", \"title\": {\"standoff\": 15}, \"zerolinecolor\": \"white\"}}}, \"title\": {\"text\": \"Is work back to normal?\"}, \"width\": 1300, \"xaxis\": {\"range\": [\"2020-02-16T00:00:00\", \"2020-07-26T00:00:00\"]}},\n",
              "                        {\"responsive\": true}\n",
              "                    ).then(function(){\n",
              "                            \n",
              "var gd = document.getElementById('9126ca60-21d3-49d9-afb5-1e1250e98b21');\n",
              "var x = new MutationObserver(function (mutations, observer) {{\n",
              "        var display = window.getComputedStyle(gd).display;\n",
              "        if (!display || display === 'none') {{\n",
              "            console.log([gd, 'removed!']);\n",
              "            Plotly.purge(gd);\n",
              "            observer.disconnect();\n",
              "        }}\n",
              "}});\n",
              "\n",
              "// Listen for the removal of the full notebook cells\n",
              "var notebookContainer = gd.closest('#notebook-container');\n",
              "if (notebookContainer) {{\n",
              "    x.observe(notebookContainer, {childList: true});\n",
              "}}\n",
              "\n",
              "// Listen for the clearing of the current output cell\n",
              "var outputEl = gd.closest('.output');\n",
              "if (outputEl) {{\n",
              "    x.observe(outputEl, {childList: true});\n",
              "}}\n",
              "\n",
              "                        })\n",
              "                };\n",
              "                \n",
              "            </script>\n",
              "        </div>\n",
              "</body>\n",
              "</html>"
            ]
          },
          "metadata": {
            "tags": []
          }
        }
      ]
    },
    {
      "cell_type": "code",
      "metadata": {
        "id": "nAwCsdZSoC2C",
        "colab_type": "code",
        "colab": {}
      },
      "source": [
        ""
      ],
      "execution_count": null,
      "outputs": []
    },
    {
      "cell_type": "code",
      "metadata": {
        "id": "rTeuKuOPP3yK",
        "colab_type": "code",
        "colab": {}
      },
      "source": [
        ""
      ],
      "execution_count": 60,
      "outputs": []
    },
    {
      "cell_type": "markdown",
      "metadata": {
        "id": "YFX9DX7Jj_-9",
        "colab_type": "text"
      },
      "source": [
        "### **Are people still going to recreational facilities**"
      ]
    },
    {
      "cell_type": "code",
      "metadata": {
        "id": "hpc-18A3kHli",
        "colab_type": "code",
        "colab": {
          "base_uri": "https://localhost:8080/",
          "height": 637
        },
        "outputId": "5d587594-0919-4fc4-df1d-5ab90ed0c3f0"
      },
      "source": [
        "fig = go.Figure()\n",
        "fig.add_trace(go.Scatter(\n",
        "    x=[lockdown1,lockdown2,lockdown3,lockdown4,unlock1,unlock2],\n",
        "    y=[39,39,39,39,39,39],\n",
        "    text=[\"Lockdown 1\",\"Lockdown 2\",\"Lockdown 3\", \"Lockdown 4\", \"Unlock 1\", \"Unlock 2\"],\n",
        "    mode=\"text\",\n",
        "))\n",
        "fig.add_trace(go.Scatter(x=df_india_AP.index, y=df_india_AP[\"Recreation\"],\n",
        "                    mode='lines+markers',\n",
        "                    name=\"AP\",\n",
        "                    ))\n",
        "fig.add_trace(go.Scatter(x=df_india_Telangana.index, y=df_india_Telangana[\"Recreation\"],\n",
        "                    mode='lines+markers',\n",
        "                    name=\"Telangana\",\n",
        "                    ))\n",
        "fig.update_layout(xaxis=dict(range=[mindate,maxdate]))\n",
        "fig.update_layout(\n",
        "    title= \"Are people still going to Recreational Facilities?\",\n",
        "    width=1300,\n",
        "    height=600,\n",
        "    shapes=[\n",
        "        dict(\n",
        "            type=\"line\",\n",
        "            x0=mindate,\n",
        "            y0=0,\n",
        "            x1=maxdate,\n",
        "            y1=0,\n",
        "            line_width=2,\n",
        "            line = dict(\n",
        "                dash = \"dot\"\n",
        "            )\n",
        "        ),\n",
        "        dict(\n",
        "            type=\"line\",\n",
        "            y0=-100,\n",
        "            x0= lockdown1,\n",
        "            y1=37,\n",
        "            x1=lockdown1,\n",
        "            line_width=2,\n",
        "            line = dict(\n",
        "                dash = \"dot\"\n",
        "            )\n",
        "        ),\n",
        "        dict(\n",
        "            type=\"line\",\n",
        "            y0=-100,\n",
        "            x0= lockdown2,\n",
        "            y1=37,\n",
        "            x1=lockdown2,\n",
        "            line_width=2,\n",
        "            line = dict(\n",
        "                dash = \"dot\"\n",
        "            )\n",
        "        ),\n",
        "        dict(\n",
        "            type=\"line\",\n",
        "            y0=-100,\n",
        "            x0= lockdown3,\n",
        "            y1=37,\n",
        "            x1=lockdown3,\n",
        "            line_width=2,\n",
        "            line = dict(\n",
        "                dash = \"dot\"\n",
        "            )\n",
        "        ),\n",
        "        dict(\n",
        "            type=\"line\",\n",
        "            y0=-100,\n",
        "            x0= lockdown4,\n",
        "            y1=37,\n",
        "            x1=lockdown4,\n",
        "            line_width=2,\n",
        "            line = dict(\n",
        "                dash = \"dot\"\n",
        "            )\n",
        "        ),\n",
        "        dict(\n",
        "            type=\"line\",\n",
        "            y0=-100,\n",
        "            x0= unlock1,\n",
        "            y1=37,\n",
        "            x1=unlock1,\n",
        "            line_width=2,\n",
        "            line = dict(\n",
        "                dash = \"dot\"\n",
        "            )\n",
        "        ),\n",
        "        dict(\n",
        "            type=\"line\",\n",
        "            y0=-100,\n",
        "            x0= unlock2,\n",
        "            y1=37,\n",
        "            x1=unlock2,\n",
        "            line_width=2,\n",
        "            line = dict(\n",
        "                dash = \"dot\"\n",
        "            )\n",
        "        )\n",
        "    ]\n",
        ")\n",
        "\n",
        "fig.show()\n"
      ],
      "execution_count": 61,
      "outputs": [
        {
          "output_type": "display_data",
          "data": {
            "text/html": [
              "<html>\n",
              "<head><meta charset=\"utf-8\" /></head>\n",
              "<body>\n",
              "    <div>\n",
              "            <script src=\"https://cdnjs.cloudflare.com/ajax/libs/mathjax/2.7.5/MathJax.js?config=TeX-AMS-MML_SVG\"></script><script type=\"text/javascript\">if (window.MathJax) {MathJax.Hub.Config({SVG: {font: \"STIX-Web\"}});}</script>\n",
              "                <script type=\"text/javascript\">window.PlotlyConfig = {MathJaxConfig: 'local'};</script>\n",
              "        <script src=\"https://cdn.plot.ly/plotly-latest.min.js\"></script>    \n",
              "            <div id=\"b6240bea-30ed-4cb6-9985-a23166f42709\" class=\"plotly-graph-div\" style=\"height:600px; width:1300px;\"></div>\n",
              "            <script type=\"text/javascript\">\n",
              "                \n",
              "                    window.PLOTLYENV=window.PLOTLYENV || {};\n",
              "                    \n",
              "                if (document.getElementById(\"b6240bea-30ed-4cb6-9985-a23166f42709\")) {\n",
              "                    Plotly.newPlot(\n",
              "                        'b6240bea-30ed-4cb6-9985-a23166f42709',\n",
              "                        [{\"mode\": \"text\", \"text\": [\"Lockdown 1\", \"Lockdown 2\", \"Lockdown 3\", \"Lockdown 4\", \"Unlock 1\", \"Unlock 2\"], \"type\": \"scatter\", \"x\": [\"2020-03-22T00:00:00\", \"2020-04-15T00:00:00\", \"2020-05-04T00:00:00\", \"2020-05-18T00:00:00\", \"2020-06-01T00:00:00\", \"2020-07-01T00:00:00\"], \"y\": [39, 39, 39, 39, 39, 39]}, {\"mode\": \"lines+markers\", \"name\": \"AP\", \"type\": \"scatter\", \"x\": [\"2020-02-16T00:00:00\", \"2020-02-23T00:00:00\", \"2020-03-01T00:00:00\", \"2020-03-08T00:00:00\", \"2020-03-15T00:00:00\", \"2020-03-22T00:00:00\", \"2020-03-29T00:00:00\", \"2020-04-05T00:00:00\", \"2020-04-12T00:00:00\", \"2020-04-19T00:00:00\", \"2020-04-26T00:00:00\", \"2020-05-03T00:00:00\", \"2020-05-10T00:00:00\", \"2020-05-17T00:00:00\", \"2020-05-24T00:00:00\", \"2020-05-31T00:00:00\", \"2020-06-07T00:00:00\", \"2020-06-14T00:00:00\", \"2020-06-21T00:00:00\", \"2020-06-28T00:00:00\", \"2020-07-05T00:00:00\", \"2020-07-12T00:00:00\", \"2020-07-19T00:00:00\", \"2020-07-26T00:00:00\"], \"y\": [-1.0, -1.7142857142857142, 0.2857142857142857, 0.0, -2.4285714285714284, -17.0, -69.85714285714286, -73.28571428571429, -77.28571428571429, -81.71428571428571, -85.42857142857143, -85.0, -79.57142857142857, -77.85714285714286, -73.42857142857143, -67.57142857142857, -60.57142857142857, -55.285714285714285, -55.285714285714285, -56.142857142857146, -55.857142857142854, -56.57142857142857, -60.57142857142857, -61.5]}, {\"mode\": \"lines+markers\", \"name\": \"Telangana\", \"type\": \"scatter\", \"x\": [\"2020-02-16T00:00:00\", \"2020-02-23T00:00:00\", \"2020-03-01T00:00:00\", \"2020-03-08T00:00:00\", \"2020-03-15T00:00:00\", \"2020-03-22T00:00:00\", \"2020-03-29T00:00:00\", \"2020-04-05T00:00:00\", \"2020-04-12T00:00:00\", \"2020-04-19T00:00:00\", \"2020-04-26T00:00:00\", \"2020-05-03T00:00:00\", \"2020-05-10T00:00:00\", \"2020-05-17T00:00:00\", \"2020-05-24T00:00:00\", \"2020-05-31T00:00:00\", \"2020-06-07T00:00:00\", \"2020-06-14T00:00:00\", \"2020-06-21T00:00:00\", \"2020-06-28T00:00:00\", \"2020-07-05T00:00:00\", \"2020-07-12T00:00:00\", \"2020-07-19T00:00:00\", \"2020-07-26T00:00:00\"], \"y\": [1.5, -1.1428571428571428, 2.7142857142857144, -0.2857142857142857, -3.857142857142857, -25.0, -80.0, -81.57142857142857, -84.0, -87.0, -90.0, -89.0, -85.0, -82.71428571428571, -76.57142857142857, -73.28571428571429, -65.42857142857143, -59.57142857142857, -60.857142857142854, -59.857142857142854, -60.857142857142854, -61.57142857142857, -62.285714285714285, -61.0]}],\n",
              "                        {\"height\": 600, \"shapes\": [{\"line\": {\"dash\": \"dot\", \"width\": 2}, \"type\": \"line\", \"x0\": \"2020-02-16T00:00:00\", \"x1\": \"2020-07-26T00:00:00\", \"y0\": 0, \"y1\": 0}, {\"line\": {\"dash\": \"dot\", \"width\": 2}, \"type\": \"line\", \"x0\": \"2020-03-22T00:00:00\", \"x1\": \"2020-03-22T00:00:00\", \"y0\": -100, \"y1\": 37}, {\"line\": {\"dash\": \"dot\", \"width\": 2}, \"type\": \"line\", \"x0\": \"2020-04-15T00:00:00\", \"x1\": \"2020-04-15T00:00:00\", \"y0\": -100, \"y1\": 37}, {\"line\": {\"dash\": \"dot\", \"width\": 2}, \"type\": \"line\", \"x0\": \"2020-05-04T00:00:00\", \"x1\": \"2020-05-04T00:00:00\", \"y0\": -100, \"y1\": 37}, {\"line\": {\"dash\": \"dot\", \"width\": 2}, \"type\": \"line\", \"x0\": \"2020-05-18T00:00:00\", \"x1\": \"2020-05-18T00:00:00\", \"y0\": -100, \"y1\": 37}, {\"line\": {\"dash\": \"dot\", \"width\": 2}, \"type\": \"line\", \"x0\": \"2020-06-01T00:00:00\", \"x1\": \"2020-06-01T00:00:00\", \"y0\": -100, \"y1\": 37}, {\"line\": {\"dash\": \"dot\", \"width\": 2}, \"type\": \"line\", \"x0\": \"2020-07-01T00:00:00\", \"x1\": \"2020-07-01T00:00:00\", \"y0\": -100, \"y1\": 37}], \"template\": {\"data\": {\"bar\": [{\"error_x\": {\"color\": \"#2a3f5f\"}, \"error_y\": {\"color\": \"#2a3f5f\"}, \"marker\": {\"line\": {\"color\": \"#E5ECF6\", \"width\": 0.5}}, \"type\": \"bar\"}], \"barpolar\": [{\"marker\": {\"line\": {\"color\": \"#E5ECF6\", \"width\": 0.5}}, \"type\": \"barpolar\"}], \"carpet\": [{\"aaxis\": {\"endlinecolor\": \"#2a3f5f\", \"gridcolor\": \"white\", \"linecolor\": \"white\", \"minorgridcolor\": \"white\", \"startlinecolor\": \"#2a3f5f\"}, \"baxis\": {\"endlinecolor\": \"#2a3f5f\", \"gridcolor\": \"white\", \"linecolor\": \"white\", \"minorgridcolor\": \"white\", \"startlinecolor\": \"#2a3f5f\"}, \"type\": \"carpet\"}], \"choropleth\": [{\"colorbar\": {\"outlinewidth\": 0, \"ticks\": \"\"}, \"type\": \"choropleth\"}], \"contour\": [{\"colorbar\": {\"outlinewidth\": 0, \"ticks\": \"\"}, \"colorscale\": [[0.0, \"#0d0887\"], [0.1111111111111111, \"#46039f\"], [0.2222222222222222, \"#7201a8\"], [0.3333333333333333, \"#9c179e\"], [0.4444444444444444, \"#bd3786\"], [0.5555555555555556, \"#d8576b\"], [0.6666666666666666, \"#ed7953\"], [0.7777777777777778, \"#fb9f3a\"], [0.8888888888888888, \"#fdca26\"], [1.0, \"#f0f921\"]], \"type\": \"contour\"}], \"contourcarpet\": [{\"colorbar\": {\"outlinewidth\": 0, \"ticks\": \"\"}, \"type\": \"contourcarpet\"}], \"heatmap\": [{\"colorbar\": {\"outlinewidth\": 0, \"ticks\": \"\"}, \"colorscale\": [[0.0, \"#0d0887\"], [0.1111111111111111, \"#46039f\"], [0.2222222222222222, \"#7201a8\"], [0.3333333333333333, \"#9c179e\"], [0.4444444444444444, \"#bd3786\"], [0.5555555555555556, \"#d8576b\"], [0.6666666666666666, \"#ed7953\"], [0.7777777777777778, \"#fb9f3a\"], [0.8888888888888888, \"#fdca26\"], [1.0, \"#f0f921\"]], \"type\": \"heatmap\"}], \"heatmapgl\": [{\"colorbar\": {\"outlinewidth\": 0, \"ticks\": \"\"}, \"colorscale\": [[0.0, \"#0d0887\"], [0.1111111111111111, \"#46039f\"], [0.2222222222222222, \"#7201a8\"], [0.3333333333333333, \"#9c179e\"], [0.4444444444444444, \"#bd3786\"], [0.5555555555555556, \"#d8576b\"], [0.6666666666666666, \"#ed7953\"], [0.7777777777777778, \"#fb9f3a\"], [0.8888888888888888, \"#fdca26\"], [1.0, \"#f0f921\"]], \"type\": \"heatmapgl\"}], \"histogram\": [{\"marker\": {\"colorbar\": {\"outlinewidth\": 0, \"ticks\": \"\"}}, \"type\": \"histogram\"}], \"histogram2d\": [{\"colorbar\": {\"outlinewidth\": 0, \"ticks\": \"\"}, \"colorscale\": [[0.0, \"#0d0887\"], [0.1111111111111111, \"#46039f\"], [0.2222222222222222, \"#7201a8\"], [0.3333333333333333, \"#9c179e\"], [0.4444444444444444, \"#bd3786\"], [0.5555555555555556, \"#d8576b\"], [0.6666666666666666, \"#ed7953\"], [0.7777777777777778, \"#fb9f3a\"], [0.8888888888888888, \"#fdca26\"], [1.0, \"#f0f921\"]], \"type\": \"histogram2d\"}], \"histogram2dcontour\": [{\"colorbar\": {\"outlinewidth\": 0, \"ticks\": \"\"}, \"colorscale\": [[0.0, \"#0d0887\"], [0.1111111111111111, \"#46039f\"], [0.2222222222222222, \"#7201a8\"], [0.3333333333333333, \"#9c179e\"], [0.4444444444444444, \"#bd3786\"], [0.5555555555555556, \"#d8576b\"], [0.6666666666666666, \"#ed7953\"], [0.7777777777777778, \"#fb9f3a\"], [0.8888888888888888, \"#fdca26\"], [1.0, \"#f0f921\"]], \"type\": \"histogram2dcontour\"}], \"mesh3d\": [{\"colorbar\": {\"outlinewidth\": 0, \"ticks\": \"\"}, \"type\": \"mesh3d\"}], \"parcoords\": [{\"line\": {\"colorbar\": {\"outlinewidth\": 0, \"ticks\": \"\"}}, \"type\": \"parcoords\"}], \"pie\": [{\"automargin\": true, \"type\": \"pie\"}], \"scatter\": [{\"marker\": {\"colorbar\": {\"outlinewidth\": 0, \"ticks\": \"\"}}, \"type\": \"scatter\"}], \"scatter3d\": [{\"line\": {\"colorbar\": {\"outlinewidth\": 0, \"ticks\": \"\"}}, \"marker\": {\"colorbar\": {\"outlinewidth\": 0, \"ticks\": \"\"}}, \"type\": \"scatter3d\"}], \"scattercarpet\": [{\"marker\": {\"colorbar\": {\"outlinewidth\": 0, \"ticks\": \"\"}}, \"type\": \"scattercarpet\"}], \"scattergeo\": [{\"marker\": {\"colorbar\": {\"outlinewidth\": 0, \"ticks\": \"\"}}, \"type\": \"scattergeo\"}], \"scattergl\": [{\"marker\": {\"colorbar\": {\"outlinewidth\": 0, \"ticks\": \"\"}}, \"type\": \"scattergl\"}], \"scattermapbox\": [{\"marker\": {\"colorbar\": {\"outlinewidth\": 0, \"ticks\": \"\"}}, \"type\": \"scattermapbox\"}], \"scatterpolar\": [{\"marker\": {\"colorbar\": {\"outlinewidth\": 0, \"ticks\": \"\"}}, \"type\": \"scatterpolar\"}], \"scatterpolargl\": [{\"marker\": {\"colorbar\": {\"outlinewidth\": 0, \"ticks\": \"\"}}, \"type\": \"scatterpolargl\"}], \"scatterternary\": [{\"marker\": {\"colorbar\": {\"outlinewidth\": 0, \"ticks\": \"\"}}, \"type\": \"scatterternary\"}], \"surface\": [{\"colorbar\": {\"outlinewidth\": 0, \"ticks\": \"\"}, \"colorscale\": [[0.0, \"#0d0887\"], [0.1111111111111111, \"#46039f\"], [0.2222222222222222, \"#7201a8\"], [0.3333333333333333, \"#9c179e\"], [0.4444444444444444, \"#bd3786\"], [0.5555555555555556, \"#d8576b\"], [0.6666666666666666, \"#ed7953\"], [0.7777777777777778, \"#fb9f3a\"], [0.8888888888888888, \"#fdca26\"], [1.0, \"#f0f921\"]], \"type\": \"surface\"}], \"table\": [{\"cells\": {\"fill\": {\"color\": \"#EBF0F8\"}, \"line\": {\"color\": \"white\"}}, \"header\": {\"fill\": {\"color\": \"#C8D4E3\"}, \"line\": {\"color\": \"white\"}}, \"type\": \"table\"}]}, \"layout\": {\"annotationdefaults\": {\"arrowcolor\": \"#2a3f5f\", \"arrowhead\": 0, \"arrowwidth\": 1}, \"coloraxis\": {\"colorbar\": {\"outlinewidth\": 0, \"ticks\": \"\"}}, \"colorscale\": {\"diverging\": [[0, \"#8e0152\"], [0.1, \"#c51b7d\"], [0.2, \"#de77ae\"], [0.3, \"#f1b6da\"], [0.4, \"#fde0ef\"], [0.5, \"#f7f7f7\"], [0.6, \"#e6f5d0\"], [0.7, \"#b8e186\"], [0.8, \"#7fbc41\"], [0.9, \"#4d9221\"], [1, \"#276419\"]], \"sequential\": [[0.0, \"#0d0887\"], [0.1111111111111111, \"#46039f\"], [0.2222222222222222, \"#7201a8\"], [0.3333333333333333, \"#9c179e\"], [0.4444444444444444, \"#bd3786\"], [0.5555555555555556, \"#d8576b\"], [0.6666666666666666, \"#ed7953\"], [0.7777777777777778, \"#fb9f3a\"], [0.8888888888888888, \"#fdca26\"], [1.0, \"#f0f921\"]], \"sequentialminus\": [[0.0, \"#0d0887\"], [0.1111111111111111, \"#46039f\"], [0.2222222222222222, \"#7201a8\"], [0.3333333333333333, \"#9c179e\"], [0.4444444444444444, \"#bd3786\"], [0.5555555555555556, \"#d8576b\"], [0.6666666666666666, \"#ed7953\"], [0.7777777777777778, \"#fb9f3a\"], [0.8888888888888888, \"#fdca26\"], [1.0, \"#f0f921\"]]}, \"colorway\": [\"#636efa\", \"#EF553B\", \"#00cc96\", \"#ab63fa\", \"#FFA15A\", \"#19d3f3\", \"#FF6692\", \"#B6E880\", \"#FF97FF\", \"#FECB52\"], \"font\": {\"color\": \"#2a3f5f\"}, \"geo\": {\"bgcolor\": \"white\", \"lakecolor\": \"white\", \"landcolor\": \"#E5ECF6\", \"showlakes\": true, \"showland\": true, \"subunitcolor\": \"white\"}, \"hoverlabel\": {\"align\": \"left\"}, \"hovermode\": \"closest\", \"mapbox\": {\"style\": \"light\"}, \"paper_bgcolor\": \"white\", \"plot_bgcolor\": \"#E5ECF6\", \"polar\": {\"angularaxis\": {\"gridcolor\": \"white\", \"linecolor\": \"white\", \"ticks\": \"\"}, \"bgcolor\": \"#E5ECF6\", \"radialaxis\": {\"gridcolor\": \"white\", \"linecolor\": \"white\", \"ticks\": \"\"}}, \"scene\": {\"xaxis\": {\"backgroundcolor\": \"#E5ECF6\", \"gridcolor\": \"white\", \"gridwidth\": 2, \"linecolor\": \"white\", \"showbackground\": true, \"ticks\": \"\", \"zerolinecolor\": \"white\"}, \"yaxis\": {\"backgroundcolor\": \"#E5ECF6\", \"gridcolor\": \"white\", \"gridwidth\": 2, \"linecolor\": \"white\", \"showbackground\": true, \"ticks\": \"\", \"zerolinecolor\": \"white\"}, \"zaxis\": {\"backgroundcolor\": \"#E5ECF6\", \"gridcolor\": \"white\", \"gridwidth\": 2, \"linecolor\": \"white\", \"showbackground\": true, \"ticks\": \"\", \"zerolinecolor\": \"white\"}}, \"shapedefaults\": {\"line\": {\"color\": \"#2a3f5f\"}}, \"ternary\": {\"aaxis\": {\"gridcolor\": \"white\", \"linecolor\": \"white\", \"ticks\": \"\"}, \"baxis\": {\"gridcolor\": \"white\", \"linecolor\": \"white\", \"ticks\": \"\"}, \"bgcolor\": \"#E5ECF6\", \"caxis\": {\"gridcolor\": \"white\", \"linecolor\": \"white\", \"ticks\": \"\"}}, \"title\": {\"x\": 0.05}, \"xaxis\": {\"automargin\": true, \"gridcolor\": \"white\", \"linecolor\": \"white\", \"ticks\": \"\", \"title\": {\"standoff\": 15}, \"zerolinecolor\": \"white\", \"zerolinewidth\": 2}, \"yaxis\": {\"automargin\": true, \"gridcolor\": \"white\", \"linecolor\": \"white\", \"ticks\": \"\", \"title\": {\"standoff\": 15}, \"zerolinecolor\": \"white\", \"zerolinewidth\": 2}}}, \"title\": {\"text\": \"Are people still going to Recreational Facilities?\"}, \"width\": 1300, \"xaxis\": {\"range\": [\"2020-02-16T00:00:00\", \"2020-07-26T00:00:00\"]}},\n",
              "                        {\"responsive\": true}\n",
              "                    ).then(function(){\n",
              "                            \n",
              "var gd = document.getElementById('b6240bea-30ed-4cb6-9985-a23166f42709');\n",
              "var x = new MutationObserver(function (mutations, observer) {{\n",
              "        var display = window.getComputedStyle(gd).display;\n",
              "        if (!display || display === 'none') {{\n",
              "            console.log([gd, 'removed!']);\n",
              "            Plotly.purge(gd);\n",
              "            observer.disconnect();\n",
              "        }}\n",
              "}});\n",
              "\n",
              "// Listen for the removal of the full notebook cells\n",
              "var notebookContainer = gd.closest('#notebook-container');\n",
              "if (notebookContainer) {{\n",
              "    x.observe(notebookContainer, {childList: true});\n",
              "}}\n",
              "\n",
              "// Listen for the clearing of the current output cell\n",
              "var outputEl = gd.closest('.output');\n",
              "if (outputEl) {{\n",
              "    x.observe(outputEl, {childList: true});\n",
              "}}\n",
              "\n",
              "                        })\n",
              "                };\n",
              "                \n",
              "            </script>\n",
              "        </div>\n",
              "</body>\n",
              "</html>"
            ]
          },
          "metadata": {
            "tags": []
          }
        }
      ]
    },
    {
      "cell_type": "markdown",
      "metadata": {
        "id": "QDtrOK0QkLzJ",
        "colab_type": "text"
      },
      "source": [
        "### **How about Parks?**"
      ]
    },
    {
      "cell_type": "code",
      "metadata": {
        "id": "O7LljMtWkN_D",
        "colab_type": "code",
        "colab": {
          "base_uri": "https://localhost:8080/",
          "height": 637
        },
        "outputId": "e7687d4f-7259-47a4-f86d-673242bb24d0"
      },
      "source": [
        "fig = go.Figure()\n",
        "fig.add_trace(go.Scatter(\n",
        "    x=[lockdown1,lockdown2,lockdown3,lockdown4,unlock1,unlock2],\n",
        "    y=[39,39,39,39,39,39],\n",
        "    text=[\"Lockdown 1\",\"Lockdown 2\",\"Lockdown 3\", \"Lockdown 4\", \"Unlock 1\", \"Unlock 2\"],\n",
        "    mode=\"text\",\n",
        "))\n",
        "fig.add_trace(go.Scatter(x=df_india_AP.index, y=df_india_AP[\"Parks\"],\n",
        "                    mode='lines+markers',\n",
        "                    name=\"AP\",\n",
        "                    ))\n",
        "fig.add_trace(go.Scatter(x=df_india_Telangana.index, y=df_india_Telangana[\"Parks\"],\n",
        "                    mode='lines+markers',\n",
        "                    name=\"Telangana\",\n",
        "                    ))\n",
        "fig.update_layout(xaxis=dict(range=[mindate,maxdate]))\n",
        "fig.update_layout(\n",
        "    title= \"How about Parks?\",\n",
        "    width=1300,\n",
        "    height=600,\n",
        "    shapes=[\n",
        "        dict(\n",
        "            type=\"line\",\n",
        "            x0=mindate,\n",
        "            y0=0,\n",
        "            x1=maxdate,\n",
        "            y1=0,\n",
        "            line_width=2,\n",
        "            line = dict(\n",
        "                dash = \"dot\"\n",
        "            )\n",
        "        ),\n",
        "        dict(\n",
        "            type=\"line\",\n",
        "            y0=-100,\n",
        "            x0= lockdown1,\n",
        "            y1=37,\n",
        "            x1=lockdown1,\n",
        "            line_width=2,\n",
        "            line = dict(\n",
        "                dash = \"dot\"\n",
        "            )\n",
        "        ),\n",
        "        dict(\n",
        "            type=\"line\",\n",
        "            y0=-100,\n",
        "            x0= lockdown2,\n",
        "            y1=37,\n",
        "            x1=lockdown2,\n",
        "            line_width=2,\n",
        "            line = dict(\n",
        "                dash = \"dot\"\n",
        "            )\n",
        "        ),\n",
        "        dict(\n",
        "            type=\"line\",\n",
        "            y0=-100,\n",
        "            x0= lockdown3,\n",
        "            y1=37,\n",
        "            x1=lockdown3,\n",
        "            line_width=2,\n",
        "            line = dict(\n",
        "                dash = \"dot\"\n",
        "            )\n",
        "        ),\n",
        "        dict(\n",
        "            type=\"line\",\n",
        "            y0=-100,\n",
        "            x0= lockdown4,\n",
        "            y1=37,\n",
        "            x1=lockdown4,\n",
        "            line_width=2,\n",
        "            line = dict(\n",
        "                dash = \"dot\"\n",
        "            )\n",
        "        ),\n",
        "        dict(\n",
        "            type=\"line\",\n",
        "            y0=-100,\n",
        "            x0= unlock1,\n",
        "            y1=37,\n",
        "            x1=unlock1,\n",
        "            line_width=2,\n",
        "            line = dict(\n",
        "                dash = \"dot\"\n",
        "            )\n",
        "        ),\n",
        "        dict(\n",
        "            type=\"line\",\n",
        "            y0=-100,\n",
        "            x0= unlock2,\n",
        "            y1=37,\n",
        "            x1=unlock2,\n",
        "            line_width=2,\n",
        "            line = dict(\n",
        "                dash = \"dot\"\n",
        "            )\n",
        "        )\n",
        "    ]\n",
        ")\n",
        "\n",
        "fig.show()\n"
      ],
      "execution_count": 62,
      "outputs": [
        {
          "output_type": "display_data",
          "data": {
            "text/html": [
              "<html>\n",
              "<head><meta charset=\"utf-8\" /></head>\n",
              "<body>\n",
              "    <div>\n",
              "            <script src=\"https://cdnjs.cloudflare.com/ajax/libs/mathjax/2.7.5/MathJax.js?config=TeX-AMS-MML_SVG\"></script><script type=\"text/javascript\">if (window.MathJax) {MathJax.Hub.Config({SVG: {font: \"STIX-Web\"}});}</script>\n",
              "                <script type=\"text/javascript\">window.PlotlyConfig = {MathJaxConfig: 'local'};</script>\n",
              "        <script src=\"https://cdn.plot.ly/plotly-latest.min.js\"></script>    \n",
              "            <div id=\"cad040f0-cdde-4810-8236-02f96f4e7eb6\" class=\"plotly-graph-div\" style=\"height:600px; width:1300px;\"></div>\n",
              "            <script type=\"text/javascript\">\n",
              "                \n",
              "                    window.PLOTLYENV=window.PLOTLYENV || {};\n",
              "                    \n",
              "                if (document.getElementById(\"cad040f0-cdde-4810-8236-02f96f4e7eb6\")) {\n",
              "                    Plotly.newPlot(\n",
              "                        'cad040f0-cdde-4810-8236-02f96f4e7eb6',\n",
              "                        [{\"mode\": \"text\", \"text\": [\"Lockdown 1\", \"Lockdown 2\", \"Lockdown 3\", \"Lockdown 4\", \"Unlock 1\", \"Unlock 2\"], \"type\": \"scatter\", \"x\": [\"2020-03-22T00:00:00\", \"2020-04-15T00:00:00\", \"2020-05-04T00:00:00\", \"2020-05-18T00:00:00\", \"2020-06-01T00:00:00\", \"2020-07-01T00:00:00\"], \"y\": [39, 39, 39, 39, 39, 39]}, {\"mode\": \"lines+markers\", \"name\": \"AP\", \"type\": \"scatter\", \"x\": [\"2020-02-16T00:00:00\", \"2020-02-23T00:00:00\", \"2020-03-01T00:00:00\", \"2020-03-08T00:00:00\", \"2020-03-15T00:00:00\", \"2020-03-22T00:00:00\", \"2020-03-29T00:00:00\", \"2020-04-05T00:00:00\", \"2020-04-12T00:00:00\", \"2020-04-19T00:00:00\", \"2020-04-26T00:00:00\", \"2020-05-03T00:00:00\", \"2020-05-10T00:00:00\", \"2020-05-17T00:00:00\", \"2020-05-24T00:00:00\", \"2020-05-31T00:00:00\", \"2020-06-07T00:00:00\", \"2020-06-14T00:00:00\", \"2020-06-21T00:00:00\", \"2020-06-28T00:00:00\", \"2020-07-05T00:00:00\", \"2020-07-12T00:00:00\", \"2020-07-19T00:00:00\", \"2020-07-26T00:00:00\"], \"y\": [4.5, 7.0, 4.285714285714286, 5.0, 4.571428571428571, -7.857142857142857, -43.142857142857146, -45.42857142857143, -44.714285714285715, -53.142857142857146, -61.42857142857143, -61.57142857142857, -59.142857142857146, -58.285714285714285, -55.285714285714285, -53.0, -50.57142857142857, -47.857142857142854, -48.42857142857143, -48.57142857142857, -49.0, -49.0, -50.857142857142854, -50.0]}, {\"mode\": \"lines+markers\", \"name\": \"Telangana\", \"type\": \"scatter\", \"x\": [\"2020-02-16T00:00:00\", \"2020-02-23T00:00:00\", \"2020-03-01T00:00:00\", \"2020-03-08T00:00:00\", \"2020-03-15T00:00:00\", \"2020-03-22T00:00:00\", \"2020-03-29T00:00:00\", \"2020-04-05T00:00:00\", \"2020-04-12T00:00:00\", \"2020-04-19T00:00:00\", \"2020-04-26T00:00:00\", \"2020-05-03T00:00:00\", \"2020-05-10T00:00:00\", \"2020-05-17T00:00:00\", \"2020-05-24T00:00:00\", \"2020-05-31T00:00:00\", \"2020-06-07T00:00:00\", \"2020-06-14T00:00:00\", \"2020-06-21T00:00:00\", \"2020-06-28T00:00:00\", \"2020-07-05T00:00:00\", \"2020-07-12T00:00:00\", \"2020-07-19T00:00:00\", \"2020-07-26T00:00:00\"], \"y\": [4.0, 4.571428571428571, 7.142857142857143, 3.142857142857143, 3.2857142857142856, -14.0, -54.0, -56.285714285714285, -54.42857142857143, -62.0, -69.28571428571429, -68.85714285714286, -66.57142857142857, -65.85714285714286, -64.85714285714286, -64.57142857142857, -62.57142857142857, -59.142857142857146, -59.57142857142857, -59.0, -59.57142857142857, -59.57142857142857, -60.142857142857146, -59.0]}],\n",
              "                        {\"height\": 600, \"shapes\": [{\"line\": {\"dash\": \"dot\", \"width\": 2}, \"type\": \"line\", \"x0\": \"2020-02-16T00:00:00\", \"x1\": \"2020-07-26T00:00:00\", \"y0\": 0, \"y1\": 0}, {\"line\": {\"dash\": \"dot\", \"width\": 2}, \"type\": \"line\", \"x0\": \"2020-03-22T00:00:00\", \"x1\": \"2020-03-22T00:00:00\", \"y0\": -100, \"y1\": 37}, {\"line\": {\"dash\": \"dot\", \"width\": 2}, \"type\": \"line\", \"x0\": \"2020-04-15T00:00:00\", \"x1\": \"2020-04-15T00:00:00\", \"y0\": -100, \"y1\": 37}, {\"line\": {\"dash\": \"dot\", \"width\": 2}, \"type\": \"line\", \"x0\": \"2020-05-04T00:00:00\", \"x1\": \"2020-05-04T00:00:00\", \"y0\": -100, \"y1\": 37}, {\"line\": {\"dash\": \"dot\", \"width\": 2}, \"type\": \"line\", \"x0\": \"2020-05-18T00:00:00\", \"x1\": \"2020-05-18T00:00:00\", \"y0\": -100, \"y1\": 37}, {\"line\": {\"dash\": \"dot\", \"width\": 2}, \"type\": \"line\", \"x0\": \"2020-06-01T00:00:00\", \"x1\": \"2020-06-01T00:00:00\", \"y0\": -100, \"y1\": 37}, {\"line\": {\"dash\": \"dot\", \"width\": 2}, \"type\": \"line\", \"x0\": \"2020-07-01T00:00:00\", \"x1\": \"2020-07-01T00:00:00\", \"y0\": -100, \"y1\": 37}], \"template\": {\"data\": {\"bar\": [{\"error_x\": {\"color\": \"#2a3f5f\"}, \"error_y\": {\"color\": \"#2a3f5f\"}, \"marker\": {\"line\": {\"color\": \"#E5ECF6\", \"width\": 0.5}}, \"type\": \"bar\"}], \"barpolar\": [{\"marker\": {\"line\": {\"color\": \"#E5ECF6\", \"width\": 0.5}}, \"type\": \"barpolar\"}], \"carpet\": [{\"aaxis\": {\"endlinecolor\": \"#2a3f5f\", \"gridcolor\": \"white\", \"linecolor\": \"white\", \"minorgridcolor\": \"white\", \"startlinecolor\": \"#2a3f5f\"}, \"baxis\": {\"endlinecolor\": \"#2a3f5f\", \"gridcolor\": \"white\", \"linecolor\": \"white\", \"minorgridcolor\": \"white\", \"startlinecolor\": \"#2a3f5f\"}, \"type\": \"carpet\"}], \"choropleth\": [{\"colorbar\": {\"outlinewidth\": 0, \"ticks\": \"\"}, \"type\": \"choropleth\"}], \"contour\": [{\"colorbar\": {\"outlinewidth\": 0, \"ticks\": \"\"}, \"colorscale\": [[0.0, \"#0d0887\"], [0.1111111111111111, \"#46039f\"], [0.2222222222222222, \"#7201a8\"], [0.3333333333333333, \"#9c179e\"], [0.4444444444444444, \"#bd3786\"], [0.5555555555555556, \"#d8576b\"], [0.6666666666666666, \"#ed7953\"], [0.7777777777777778, \"#fb9f3a\"], [0.8888888888888888, \"#fdca26\"], [1.0, \"#f0f921\"]], \"type\": \"contour\"}], \"contourcarpet\": [{\"colorbar\": {\"outlinewidth\": 0, \"ticks\": \"\"}, \"type\": \"contourcarpet\"}], \"heatmap\": [{\"colorbar\": {\"outlinewidth\": 0, \"ticks\": \"\"}, \"colorscale\": [[0.0, \"#0d0887\"], [0.1111111111111111, \"#46039f\"], [0.2222222222222222, \"#7201a8\"], [0.3333333333333333, \"#9c179e\"], [0.4444444444444444, \"#bd3786\"], [0.5555555555555556, \"#d8576b\"], [0.6666666666666666, \"#ed7953\"], [0.7777777777777778, \"#fb9f3a\"], [0.8888888888888888, \"#fdca26\"], [1.0, \"#f0f921\"]], \"type\": \"heatmap\"}], \"heatmapgl\": [{\"colorbar\": {\"outlinewidth\": 0, \"ticks\": \"\"}, \"colorscale\": [[0.0, \"#0d0887\"], [0.1111111111111111, \"#46039f\"], [0.2222222222222222, \"#7201a8\"], [0.3333333333333333, \"#9c179e\"], [0.4444444444444444, \"#bd3786\"], [0.5555555555555556, \"#d8576b\"], [0.6666666666666666, \"#ed7953\"], [0.7777777777777778, \"#fb9f3a\"], [0.8888888888888888, \"#fdca26\"], [1.0, \"#f0f921\"]], \"type\": \"heatmapgl\"}], \"histogram\": [{\"marker\": {\"colorbar\": {\"outlinewidth\": 0, \"ticks\": \"\"}}, \"type\": \"histogram\"}], \"histogram2d\": [{\"colorbar\": {\"outlinewidth\": 0, \"ticks\": \"\"}, \"colorscale\": [[0.0, \"#0d0887\"], [0.1111111111111111, \"#46039f\"], [0.2222222222222222, \"#7201a8\"], [0.3333333333333333, \"#9c179e\"], [0.4444444444444444, \"#bd3786\"], [0.5555555555555556, \"#d8576b\"], [0.6666666666666666, \"#ed7953\"], [0.7777777777777778, \"#fb9f3a\"], [0.8888888888888888, \"#fdca26\"], [1.0, \"#f0f921\"]], \"type\": \"histogram2d\"}], \"histogram2dcontour\": [{\"colorbar\": {\"outlinewidth\": 0, \"ticks\": \"\"}, \"colorscale\": [[0.0, \"#0d0887\"], [0.1111111111111111, \"#46039f\"], [0.2222222222222222, \"#7201a8\"], [0.3333333333333333, \"#9c179e\"], [0.4444444444444444, \"#bd3786\"], [0.5555555555555556, \"#d8576b\"], [0.6666666666666666, \"#ed7953\"], [0.7777777777777778, \"#fb9f3a\"], [0.8888888888888888, \"#fdca26\"], [1.0, \"#f0f921\"]], \"type\": \"histogram2dcontour\"}], \"mesh3d\": [{\"colorbar\": {\"outlinewidth\": 0, \"ticks\": \"\"}, \"type\": \"mesh3d\"}], \"parcoords\": [{\"line\": {\"colorbar\": {\"outlinewidth\": 0, \"ticks\": \"\"}}, \"type\": \"parcoords\"}], \"pie\": [{\"automargin\": true, \"type\": \"pie\"}], \"scatter\": [{\"marker\": {\"colorbar\": {\"outlinewidth\": 0, \"ticks\": \"\"}}, \"type\": \"scatter\"}], \"scatter3d\": [{\"line\": {\"colorbar\": {\"outlinewidth\": 0, \"ticks\": \"\"}}, \"marker\": {\"colorbar\": {\"outlinewidth\": 0, \"ticks\": \"\"}}, \"type\": \"scatter3d\"}], \"scattercarpet\": [{\"marker\": {\"colorbar\": {\"outlinewidth\": 0, \"ticks\": \"\"}}, \"type\": \"scattercarpet\"}], \"scattergeo\": [{\"marker\": {\"colorbar\": {\"outlinewidth\": 0, \"ticks\": \"\"}}, \"type\": \"scattergeo\"}], \"scattergl\": [{\"marker\": {\"colorbar\": {\"outlinewidth\": 0, \"ticks\": \"\"}}, \"type\": \"scattergl\"}], \"scattermapbox\": [{\"marker\": {\"colorbar\": {\"outlinewidth\": 0, \"ticks\": \"\"}}, \"type\": \"scattermapbox\"}], \"scatterpolar\": [{\"marker\": {\"colorbar\": {\"outlinewidth\": 0, \"ticks\": \"\"}}, \"type\": \"scatterpolar\"}], \"scatterpolargl\": [{\"marker\": {\"colorbar\": {\"outlinewidth\": 0, \"ticks\": \"\"}}, \"type\": \"scatterpolargl\"}], \"scatterternary\": [{\"marker\": {\"colorbar\": {\"outlinewidth\": 0, \"ticks\": \"\"}}, \"type\": \"scatterternary\"}], \"surface\": [{\"colorbar\": {\"outlinewidth\": 0, \"ticks\": \"\"}, \"colorscale\": [[0.0, \"#0d0887\"], [0.1111111111111111, \"#46039f\"], [0.2222222222222222, \"#7201a8\"], [0.3333333333333333, \"#9c179e\"], [0.4444444444444444, \"#bd3786\"], [0.5555555555555556, \"#d8576b\"], [0.6666666666666666, \"#ed7953\"], [0.7777777777777778, \"#fb9f3a\"], [0.8888888888888888, \"#fdca26\"], [1.0, \"#f0f921\"]], \"type\": \"surface\"}], \"table\": [{\"cells\": {\"fill\": {\"color\": \"#EBF0F8\"}, \"line\": {\"color\": \"white\"}}, \"header\": {\"fill\": {\"color\": \"#C8D4E3\"}, \"line\": {\"color\": \"white\"}}, \"type\": \"table\"}]}, \"layout\": {\"annotationdefaults\": {\"arrowcolor\": \"#2a3f5f\", \"arrowhead\": 0, \"arrowwidth\": 1}, \"coloraxis\": {\"colorbar\": {\"outlinewidth\": 0, \"ticks\": \"\"}}, \"colorscale\": {\"diverging\": [[0, \"#8e0152\"], [0.1, \"#c51b7d\"], [0.2, \"#de77ae\"], [0.3, \"#f1b6da\"], [0.4, \"#fde0ef\"], [0.5, \"#f7f7f7\"], [0.6, \"#e6f5d0\"], [0.7, \"#b8e186\"], [0.8, \"#7fbc41\"], [0.9, \"#4d9221\"], [1, \"#276419\"]], \"sequential\": [[0.0, \"#0d0887\"], [0.1111111111111111, \"#46039f\"], [0.2222222222222222, \"#7201a8\"], [0.3333333333333333, \"#9c179e\"], [0.4444444444444444, \"#bd3786\"], [0.5555555555555556, \"#d8576b\"], [0.6666666666666666, \"#ed7953\"], [0.7777777777777778, \"#fb9f3a\"], [0.8888888888888888, \"#fdca26\"], [1.0, \"#f0f921\"]], \"sequentialminus\": [[0.0, \"#0d0887\"], [0.1111111111111111, \"#46039f\"], [0.2222222222222222, \"#7201a8\"], [0.3333333333333333, \"#9c179e\"], [0.4444444444444444, \"#bd3786\"], [0.5555555555555556, \"#d8576b\"], [0.6666666666666666, \"#ed7953\"], [0.7777777777777778, \"#fb9f3a\"], [0.8888888888888888, \"#fdca26\"], [1.0, \"#f0f921\"]]}, \"colorway\": [\"#636efa\", \"#EF553B\", \"#00cc96\", \"#ab63fa\", \"#FFA15A\", \"#19d3f3\", \"#FF6692\", \"#B6E880\", \"#FF97FF\", \"#FECB52\"], \"font\": {\"color\": \"#2a3f5f\"}, \"geo\": {\"bgcolor\": \"white\", \"lakecolor\": \"white\", \"landcolor\": \"#E5ECF6\", \"showlakes\": true, \"showland\": true, \"subunitcolor\": \"white\"}, \"hoverlabel\": {\"align\": \"left\"}, \"hovermode\": \"closest\", \"mapbox\": {\"style\": \"light\"}, \"paper_bgcolor\": \"white\", \"plot_bgcolor\": \"#E5ECF6\", \"polar\": {\"angularaxis\": {\"gridcolor\": \"white\", \"linecolor\": \"white\", \"ticks\": \"\"}, \"bgcolor\": \"#E5ECF6\", \"radialaxis\": {\"gridcolor\": \"white\", \"linecolor\": \"white\", \"ticks\": \"\"}}, \"scene\": {\"xaxis\": {\"backgroundcolor\": \"#E5ECF6\", \"gridcolor\": \"white\", \"gridwidth\": 2, \"linecolor\": \"white\", \"showbackground\": true, \"ticks\": \"\", \"zerolinecolor\": \"white\"}, \"yaxis\": {\"backgroundcolor\": \"#E5ECF6\", \"gridcolor\": \"white\", \"gridwidth\": 2, \"linecolor\": \"white\", \"showbackground\": true, \"ticks\": \"\", \"zerolinecolor\": \"white\"}, \"zaxis\": {\"backgroundcolor\": \"#E5ECF6\", \"gridcolor\": \"white\", \"gridwidth\": 2, \"linecolor\": \"white\", \"showbackground\": true, \"ticks\": \"\", \"zerolinecolor\": \"white\"}}, \"shapedefaults\": {\"line\": {\"color\": \"#2a3f5f\"}}, \"ternary\": {\"aaxis\": {\"gridcolor\": \"white\", \"linecolor\": \"white\", \"ticks\": \"\"}, \"baxis\": {\"gridcolor\": \"white\", \"linecolor\": \"white\", \"ticks\": \"\"}, \"bgcolor\": \"#E5ECF6\", \"caxis\": {\"gridcolor\": \"white\", \"linecolor\": \"white\", \"ticks\": \"\"}}, \"title\": {\"x\": 0.05}, \"xaxis\": {\"automargin\": true, \"gridcolor\": \"white\", \"linecolor\": \"white\", \"ticks\": \"\", \"title\": {\"standoff\": 15}, \"zerolinecolor\": \"white\", \"zerolinewidth\": 2}, \"yaxis\": {\"automargin\": true, \"gridcolor\": \"white\", \"linecolor\": \"white\", \"ticks\": \"\", \"title\": {\"standoff\": 15}, \"zerolinecolor\": \"white\", \"zerolinewidth\": 2}}}, \"title\": {\"text\": \"How about Parks?\"}, \"width\": 1300, \"xaxis\": {\"range\": [\"2020-02-16T00:00:00\", \"2020-07-26T00:00:00\"]}},\n",
              "                        {\"responsive\": true}\n",
              "                    ).then(function(){\n",
              "                            \n",
              "var gd = document.getElementById('cad040f0-cdde-4810-8236-02f96f4e7eb6');\n",
              "var x = new MutationObserver(function (mutations, observer) {{\n",
              "        var display = window.getComputedStyle(gd).display;\n",
              "        if (!display || display === 'none') {{\n",
              "            console.log([gd, 'removed!']);\n",
              "            Plotly.purge(gd);\n",
              "            observer.disconnect();\n",
              "        }}\n",
              "}});\n",
              "\n",
              "// Listen for the removal of the full notebook cells\n",
              "var notebookContainer = gd.closest('#notebook-container');\n",
              "if (notebookContainer) {{\n",
              "    x.observe(notebookContainer, {childList: true});\n",
              "}}\n",
              "\n",
              "// Listen for the clearing of the current output cell\n",
              "var outputEl = gd.closest('.output');\n",
              "if (outputEl) {{\n",
              "    x.observe(outputEl, {childList: true});\n",
              "}}\n",
              "\n",
              "                        })\n",
              "                };\n",
              "                \n",
              "            </script>\n",
              "        </div>\n",
              "</body>\n",
              "</html>"
            ]
          },
          "metadata": {
            "tags": []
          }
        }
      ]
    },
    {
      "cell_type": "markdown",
      "metadata": {
        "id": "RKF-UYEjlriZ",
        "colab_type": "text"
      },
      "source": [
        "### **Are people staying in their homes?**"
      ]
    },
    {
      "cell_type": "code",
      "metadata": {
        "id": "AFGfoZlrlw2l",
        "colab_type": "code",
        "colab": {
          "base_uri": "https://localhost:8080/",
          "height": 637
        },
        "outputId": "2a418faa-4d81-4bee-fac0-65e7e4335633"
      },
      "source": [
        "fig = go.Figure()\n",
        "fig.add_trace(go.Scatter(\n",
        "    x=[lockdown1,lockdown2,lockdown3,lockdown4,unlock1,unlock2],\n",
        "    y=[39,39,39,39,39,39],\n",
        "    text=[\"Lockdown 1\",\"Lockdown 2\",\"Lockdown 3\", \"Lockdown 4\", \"Unlock 1\", \"Unlock 2\"],\n",
        "    mode=\"text\",\n",
        "))\n",
        "fig.add_trace(go.Scatter(x=df_india_AP.index, y=df_india_AP[\"Residential\"],\n",
        "                    mode='lines+markers',\n",
        "                    name=\"AP\",\n",
        "                    ))\n",
        "fig.add_trace(go.Scatter(x=df_india_Telangana.index, y=df_india_Telangana[\"Residential\"],\n",
        "                    mode='lines+markers',\n",
        "                    name=\"Telangana\",\n",
        "                    ))\n",
        "fig.update_layout(xaxis=dict(range=[mindate,maxdate]))\n",
        "fig.update_layout(\n",
        "    title= \"Are people staying in their homes?\",\n",
        "    width=1300,\n",
        "    height=600,\n",
        "    shapes=[\n",
        "        dict(\n",
        "            type=\"line\",\n",
        "            x0=mindate,\n",
        "            y0=0,\n",
        "            x1=maxdate,\n",
        "            y1=0,\n",
        "            line_width=2,\n",
        "            line = dict(\n",
        "                dash = \"dot\"\n",
        "            )\n",
        "        ),\n",
        "        dict(\n",
        "            type=\"line\",\n",
        "            y0=-100,\n",
        "            x0= lockdown1,\n",
        "            y1=37,\n",
        "            x1=lockdown1,\n",
        "            line_width=2,\n",
        "            line = dict(\n",
        "                dash = \"dot\"\n",
        "            )\n",
        "        ),\n",
        "        dict(\n",
        "            type=\"line\",\n",
        "            y0=-100,\n",
        "            x0= lockdown2,\n",
        "            y1=37,\n",
        "            x1=lockdown2,\n",
        "            line_width=2,\n",
        "            line = dict(\n",
        "                dash = \"dot\"\n",
        "            )\n",
        "        ),\n",
        "        dict(\n",
        "            type=\"line\",\n",
        "            y0=-100,\n",
        "            x0= lockdown3,\n",
        "            y1=37,\n",
        "            x1=lockdown3,\n",
        "            line_width=2,\n",
        "            line = dict(\n",
        "                dash = \"dot\"\n",
        "            )\n",
        "        ),\n",
        "        dict(\n",
        "            type=\"line\",\n",
        "            y0=-100,\n",
        "            x0= lockdown4,\n",
        "            y1=37,\n",
        "            x1=lockdown4,\n",
        "            line_width=2,\n",
        "            line = dict(\n",
        "                dash = \"dot\"\n",
        "            )\n",
        "        ),\n",
        "        dict(\n",
        "            type=\"line\",\n",
        "            y0=-100,\n",
        "            x0= unlock1,\n",
        "            y1=37,\n",
        "            x1=unlock1,\n",
        "            line_width=2,\n",
        "            line = dict(\n",
        "                dash = \"dot\"\n",
        "            )\n",
        "        ),\n",
        "        dict(\n",
        "            type=\"line\",\n",
        "            y0=-100,\n",
        "            x0= unlock2,\n",
        "            y1=37,\n",
        "            x1=unlock2,\n",
        "            line_width=2,\n",
        "            line = dict(\n",
        "                dash = \"dot\"\n",
        "            )\n",
        "        )\n",
        "    ]\n",
        ")\n",
        "\n",
        "fig.show()\n"
      ],
      "execution_count": 63,
      "outputs": [
        {
          "output_type": "display_data",
          "data": {
            "text/html": [
              "<html>\n",
              "<head><meta charset=\"utf-8\" /></head>\n",
              "<body>\n",
              "    <div>\n",
              "            <script src=\"https://cdnjs.cloudflare.com/ajax/libs/mathjax/2.7.5/MathJax.js?config=TeX-AMS-MML_SVG\"></script><script type=\"text/javascript\">if (window.MathJax) {MathJax.Hub.Config({SVG: {font: \"STIX-Web\"}});}</script>\n",
              "                <script type=\"text/javascript\">window.PlotlyConfig = {MathJaxConfig: 'local'};</script>\n",
              "        <script src=\"https://cdn.plot.ly/plotly-latest.min.js\"></script>    \n",
              "            <div id=\"6c4bac1f-adc9-47eb-8ae9-5a476acb4aa3\" class=\"plotly-graph-div\" style=\"height:600px; width:1300px;\"></div>\n",
              "            <script type=\"text/javascript\">\n",
              "                \n",
              "                    window.PLOTLYENV=window.PLOTLYENV || {};\n",
              "                    \n",
              "                if (document.getElementById(\"6c4bac1f-adc9-47eb-8ae9-5a476acb4aa3\")) {\n",
              "                    Plotly.newPlot(\n",
              "                        '6c4bac1f-adc9-47eb-8ae9-5a476acb4aa3',\n",
              "                        [{\"mode\": \"text\", \"text\": [\"Lockdown 1\", \"Lockdown 2\", \"Lockdown 3\", \"Lockdown 4\", \"Unlock 1\", \"Unlock 2\"], \"type\": \"scatter\", \"x\": [\"2020-03-22T00:00:00\", \"2020-04-15T00:00:00\", \"2020-05-04T00:00:00\", \"2020-05-18T00:00:00\", \"2020-06-01T00:00:00\", \"2020-07-01T00:00:00\"], \"y\": [39, 39, 39, 39, 39, 39]}, {\"mode\": \"lines+markers\", \"name\": \"AP\", \"type\": \"scatter\", \"x\": [\"2020-02-16T00:00:00\", \"2020-02-23T00:00:00\", \"2020-03-01T00:00:00\", \"2020-03-08T00:00:00\", \"2020-03-15T00:00:00\", \"2020-03-22T00:00:00\", \"2020-03-29T00:00:00\", \"2020-04-05T00:00:00\", \"2020-04-12T00:00:00\", \"2020-04-19T00:00:00\", \"2020-04-26T00:00:00\", \"2020-05-03T00:00:00\", \"2020-05-10T00:00:00\", \"2020-05-17T00:00:00\", \"2020-05-24T00:00:00\", \"2020-05-31T00:00:00\", \"2020-06-07T00:00:00\", \"2020-06-14T00:00:00\", \"2020-06-21T00:00:00\", \"2020-06-28T00:00:00\", \"2020-07-05T00:00:00\", \"2020-07-12T00:00:00\", \"2020-07-19T00:00:00\", \"2020-07-26T00:00:00\"], \"y\": [0.5, 1.4285714285714286, 0.2857142857142857, 0.8571428571428571, 1.2857142857142858, 5.857142857142857, 25.285714285714285, 26.142857142857142, 27.142857142857142, 26.428571428571427, 27.0, 26.428571428571427, 23.714285714285715, 22.142857142857142, 20.571428571428573, 17.571428571428573, 14.714285714285714, 14.142857142857142, 14.571428571428571, 14.714285714285714, 15.428571428571429, 16.142857142857142, 18.571428571428573, 19.0]}, {\"mode\": \"lines+markers\", \"name\": \"Telangana\", \"type\": \"scatter\", \"x\": [\"2020-02-16T00:00:00\", \"2020-02-23T00:00:00\", \"2020-03-01T00:00:00\", \"2020-03-08T00:00:00\", \"2020-03-15T00:00:00\", \"2020-03-22T00:00:00\", \"2020-03-29T00:00:00\", \"2020-04-05T00:00:00\", \"2020-04-12T00:00:00\", \"2020-04-19T00:00:00\", \"2020-04-26T00:00:00\", \"2020-05-03T00:00:00\", \"2020-05-10T00:00:00\", \"2020-05-17T00:00:00\", \"2020-05-24T00:00:00\", \"2020-05-31T00:00:00\", \"2020-06-07T00:00:00\", \"2020-06-14T00:00:00\", \"2020-06-21T00:00:00\", \"2020-06-28T00:00:00\", \"2020-07-05T00:00:00\", \"2020-07-12T00:00:00\", \"2020-07-19T00:00:00\", \"2020-07-26T00:00:00\"], \"y\": [0.5, 2.5714285714285716, 0.14285714285714285, 1.4285714285714286, 2.7142857142857144, 8.142857142857142, 31.857142857142858, 32.285714285714285, 32.285714285714285, 31.857142857142858, 32.714285714285715, 31.285714285714285, 27.428571428571427, 24.714285714285715, 21.857142857142858, 19.857142857142858, 16.571428571428573, 15.285714285714286, 16.142857142857142, 16.142857142857142, 17.428571428571427, 17.714285714285715, 18.285714285714285, 20.5]}],\n",
              "                        {\"height\": 600, \"shapes\": [{\"line\": {\"dash\": \"dot\", \"width\": 2}, \"type\": \"line\", \"x0\": \"2020-02-16T00:00:00\", \"x1\": \"2020-07-26T00:00:00\", \"y0\": 0, \"y1\": 0}, {\"line\": {\"dash\": \"dot\", \"width\": 2}, \"type\": \"line\", \"x0\": \"2020-03-22T00:00:00\", \"x1\": \"2020-03-22T00:00:00\", \"y0\": -100, \"y1\": 37}, {\"line\": {\"dash\": \"dot\", \"width\": 2}, \"type\": \"line\", \"x0\": \"2020-04-15T00:00:00\", \"x1\": \"2020-04-15T00:00:00\", \"y0\": -100, \"y1\": 37}, {\"line\": {\"dash\": \"dot\", \"width\": 2}, \"type\": \"line\", \"x0\": \"2020-05-04T00:00:00\", \"x1\": \"2020-05-04T00:00:00\", \"y0\": -100, \"y1\": 37}, {\"line\": {\"dash\": \"dot\", \"width\": 2}, \"type\": \"line\", \"x0\": \"2020-05-18T00:00:00\", \"x1\": \"2020-05-18T00:00:00\", \"y0\": -100, \"y1\": 37}, {\"line\": {\"dash\": \"dot\", \"width\": 2}, \"type\": \"line\", \"x0\": \"2020-06-01T00:00:00\", \"x1\": \"2020-06-01T00:00:00\", \"y0\": -100, \"y1\": 37}, {\"line\": {\"dash\": \"dot\", \"width\": 2}, \"type\": \"line\", \"x0\": \"2020-07-01T00:00:00\", \"x1\": \"2020-07-01T00:00:00\", \"y0\": -100, \"y1\": 37}], \"template\": {\"data\": {\"bar\": [{\"error_x\": {\"color\": \"#2a3f5f\"}, \"error_y\": {\"color\": \"#2a3f5f\"}, \"marker\": {\"line\": {\"color\": \"#E5ECF6\", \"width\": 0.5}}, \"type\": \"bar\"}], \"barpolar\": [{\"marker\": {\"line\": {\"color\": \"#E5ECF6\", \"width\": 0.5}}, \"type\": \"barpolar\"}], \"carpet\": [{\"aaxis\": {\"endlinecolor\": \"#2a3f5f\", \"gridcolor\": \"white\", \"linecolor\": \"white\", \"minorgridcolor\": \"white\", \"startlinecolor\": \"#2a3f5f\"}, \"baxis\": {\"endlinecolor\": \"#2a3f5f\", \"gridcolor\": \"white\", \"linecolor\": \"white\", \"minorgridcolor\": \"white\", \"startlinecolor\": \"#2a3f5f\"}, \"type\": \"carpet\"}], \"choropleth\": [{\"colorbar\": {\"outlinewidth\": 0, \"ticks\": \"\"}, \"type\": \"choropleth\"}], \"contour\": [{\"colorbar\": {\"outlinewidth\": 0, \"ticks\": \"\"}, \"colorscale\": [[0.0, \"#0d0887\"], [0.1111111111111111, \"#46039f\"], [0.2222222222222222, \"#7201a8\"], [0.3333333333333333, \"#9c179e\"], [0.4444444444444444, \"#bd3786\"], [0.5555555555555556, \"#d8576b\"], [0.6666666666666666, \"#ed7953\"], [0.7777777777777778, \"#fb9f3a\"], [0.8888888888888888, \"#fdca26\"], [1.0, \"#f0f921\"]], \"type\": \"contour\"}], \"contourcarpet\": [{\"colorbar\": {\"outlinewidth\": 0, \"ticks\": \"\"}, \"type\": \"contourcarpet\"}], \"heatmap\": [{\"colorbar\": {\"outlinewidth\": 0, \"ticks\": \"\"}, \"colorscale\": [[0.0, \"#0d0887\"], [0.1111111111111111, \"#46039f\"], [0.2222222222222222, \"#7201a8\"], [0.3333333333333333, \"#9c179e\"], [0.4444444444444444, \"#bd3786\"], [0.5555555555555556, \"#d8576b\"], [0.6666666666666666, \"#ed7953\"], [0.7777777777777778, \"#fb9f3a\"], [0.8888888888888888, \"#fdca26\"], [1.0, \"#f0f921\"]], \"type\": \"heatmap\"}], \"heatmapgl\": [{\"colorbar\": {\"outlinewidth\": 0, \"ticks\": \"\"}, \"colorscale\": [[0.0, \"#0d0887\"], [0.1111111111111111, \"#46039f\"], [0.2222222222222222, \"#7201a8\"], [0.3333333333333333, \"#9c179e\"], [0.4444444444444444, \"#bd3786\"], [0.5555555555555556, \"#d8576b\"], [0.6666666666666666, \"#ed7953\"], [0.7777777777777778, \"#fb9f3a\"], [0.8888888888888888, \"#fdca26\"], [1.0, \"#f0f921\"]], \"type\": \"heatmapgl\"}], \"histogram\": [{\"marker\": {\"colorbar\": {\"outlinewidth\": 0, \"ticks\": \"\"}}, \"type\": \"histogram\"}], \"histogram2d\": [{\"colorbar\": {\"outlinewidth\": 0, \"ticks\": \"\"}, \"colorscale\": [[0.0, \"#0d0887\"], [0.1111111111111111, \"#46039f\"], [0.2222222222222222, \"#7201a8\"], [0.3333333333333333, \"#9c179e\"], [0.4444444444444444, \"#bd3786\"], [0.5555555555555556, \"#d8576b\"], [0.6666666666666666, \"#ed7953\"], [0.7777777777777778, \"#fb9f3a\"], [0.8888888888888888, \"#fdca26\"], [1.0, \"#f0f921\"]], \"type\": \"histogram2d\"}], \"histogram2dcontour\": [{\"colorbar\": {\"outlinewidth\": 0, \"ticks\": \"\"}, \"colorscale\": [[0.0, \"#0d0887\"], [0.1111111111111111, \"#46039f\"], [0.2222222222222222, \"#7201a8\"], [0.3333333333333333, \"#9c179e\"], [0.4444444444444444, \"#bd3786\"], [0.5555555555555556, \"#d8576b\"], [0.6666666666666666, \"#ed7953\"], [0.7777777777777778, \"#fb9f3a\"], [0.8888888888888888, \"#fdca26\"], [1.0, \"#f0f921\"]], \"type\": \"histogram2dcontour\"}], \"mesh3d\": [{\"colorbar\": {\"outlinewidth\": 0, \"ticks\": \"\"}, \"type\": \"mesh3d\"}], \"parcoords\": [{\"line\": {\"colorbar\": {\"outlinewidth\": 0, \"ticks\": \"\"}}, \"type\": \"parcoords\"}], \"pie\": [{\"automargin\": true, \"type\": \"pie\"}], \"scatter\": [{\"marker\": {\"colorbar\": {\"outlinewidth\": 0, \"ticks\": \"\"}}, \"type\": \"scatter\"}], \"scatter3d\": [{\"line\": {\"colorbar\": {\"outlinewidth\": 0, \"ticks\": \"\"}}, \"marker\": {\"colorbar\": {\"outlinewidth\": 0, \"ticks\": \"\"}}, \"type\": \"scatter3d\"}], \"scattercarpet\": [{\"marker\": {\"colorbar\": {\"outlinewidth\": 0, \"ticks\": \"\"}}, \"type\": \"scattercarpet\"}], \"scattergeo\": [{\"marker\": {\"colorbar\": {\"outlinewidth\": 0, \"ticks\": \"\"}}, \"type\": \"scattergeo\"}], \"scattergl\": [{\"marker\": {\"colorbar\": {\"outlinewidth\": 0, \"ticks\": \"\"}}, \"type\": \"scattergl\"}], \"scattermapbox\": [{\"marker\": {\"colorbar\": {\"outlinewidth\": 0, \"ticks\": \"\"}}, \"type\": \"scattermapbox\"}], \"scatterpolar\": [{\"marker\": {\"colorbar\": {\"outlinewidth\": 0, \"ticks\": \"\"}}, \"type\": \"scatterpolar\"}], \"scatterpolargl\": [{\"marker\": {\"colorbar\": {\"outlinewidth\": 0, \"ticks\": \"\"}}, \"type\": \"scatterpolargl\"}], \"scatterternary\": [{\"marker\": {\"colorbar\": {\"outlinewidth\": 0, \"ticks\": \"\"}}, \"type\": \"scatterternary\"}], \"surface\": [{\"colorbar\": {\"outlinewidth\": 0, \"ticks\": \"\"}, \"colorscale\": [[0.0, \"#0d0887\"], [0.1111111111111111, \"#46039f\"], [0.2222222222222222, \"#7201a8\"], [0.3333333333333333, \"#9c179e\"], [0.4444444444444444, \"#bd3786\"], [0.5555555555555556, \"#d8576b\"], [0.6666666666666666, \"#ed7953\"], [0.7777777777777778, \"#fb9f3a\"], [0.8888888888888888, \"#fdca26\"], [1.0, \"#f0f921\"]], \"type\": \"surface\"}], \"table\": [{\"cells\": {\"fill\": {\"color\": \"#EBF0F8\"}, \"line\": {\"color\": \"white\"}}, \"header\": {\"fill\": {\"color\": \"#C8D4E3\"}, \"line\": {\"color\": \"white\"}}, \"type\": \"table\"}]}, \"layout\": {\"annotationdefaults\": {\"arrowcolor\": \"#2a3f5f\", \"arrowhead\": 0, \"arrowwidth\": 1}, \"coloraxis\": {\"colorbar\": {\"outlinewidth\": 0, \"ticks\": \"\"}}, \"colorscale\": {\"diverging\": [[0, \"#8e0152\"], [0.1, \"#c51b7d\"], [0.2, \"#de77ae\"], [0.3, \"#f1b6da\"], [0.4, \"#fde0ef\"], [0.5, \"#f7f7f7\"], [0.6, \"#e6f5d0\"], [0.7, \"#b8e186\"], [0.8, \"#7fbc41\"], [0.9, \"#4d9221\"], [1, \"#276419\"]], \"sequential\": [[0.0, \"#0d0887\"], [0.1111111111111111, \"#46039f\"], [0.2222222222222222, \"#7201a8\"], [0.3333333333333333, \"#9c179e\"], [0.4444444444444444, \"#bd3786\"], [0.5555555555555556, \"#d8576b\"], [0.6666666666666666, \"#ed7953\"], [0.7777777777777778, \"#fb9f3a\"], [0.8888888888888888, \"#fdca26\"], [1.0, \"#f0f921\"]], \"sequentialminus\": [[0.0, \"#0d0887\"], [0.1111111111111111, \"#46039f\"], [0.2222222222222222, \"#7201a8\"], [0.3333333333333333, \"#9c179e\"], [0.4444444444444444, \"#bd3786\"], [0.5555555555555556, \"#d8576b\"], [0.6666666666666666, \"#ed7953\"], [0.7777777777777778, \"#fb9f3a\"], [0.8888888888888888, \"#fdca26\"], [1.0, \"#f0f921\"]]}, \"colorway\": [\"#636efa\", \"#EF553B\", \"#00cc96\", \"#ab63fa\", \"#FFA15A\", \"#19d3f3\", \"#FF6692\", \"#B6E880\", \"#FF97FF\", \"#FECB52\"], \"font\": {\"color\": \"#2a3f5f\"}, \"geo\": {\"bgcolor\": \"white\", \"lakecolor\": \"white\", \"landcolor\": \"#E5ECF6\", \"showlakes\": true, \"showland\": true, \"subunitcolor\": \"white\"}, \"hoverlabel\": {\"align\": \"left\"}, \"hovermode\": \"closest\", \"mapbox\": {\"style\": \"light\"}, \"paper_bgcolor\": \"white\", \"plot_bgcolor\": \"#E5ECF6\", \"polar\": {\"angularaxis\": {\"gridcolor\": \"white\", \"linecolor\": \"white\", \"ticks\": \"\"}, \"bgcolor\": \"#E5ECF6\", \"radialaxis\": {\"gridcolor\": \"white\", \"linecolor\": \"white\", \"ticks\": \"\"}}, \"scene\": {\"xaxis\": {\"backgroundcolor\": \"#E5ECF6\", \"gridcolor\": \"white\", \"gridwidth\": 2, \"linecolor\": \"white\", \"showbackground\": true, \"ticks\": \"\", \"zerolinecolor\": \"white\"}, \"yaxis\": {\"backgroundcolor\": \"#E5ECF6\", \"gridcolor\": \"white\", \"gridwidth\": 2, \"linecolor\": \"white\", \"showbackground\": true, \"ticks\": \"\", \"zerolinecolor\": \"white\"}, \"zaxis\": {\"backgroundcolor\": \"#E5ECF6\", \"gridcolor\": \"white\", \"gridwidth\": 2, \"linecolor\": \"white\", \"showbackground\": true, \"ticks\": \"\", \"zerolinecolor\": \"white\"}}, \"shapedefaults\": {\"line\": {\"color\": \"#2a3f5f\"}}, \"ternary\": {\"aaxis\": {\"gridcolor\": \"white\", \"linecolor\": \"white\", \"ticks\": \"\"}, \"baxis\": {\"gridcolor\": \"white\", \"linecolor\": \"white\", \"ticks\": \"\"}, \"bgcolor\": \"#E5ECF6\", \"caxis\": {\"gridcolor\": \"white\", \"linecolor\": \"white\", \"ticks\": \"\"}}, \"title\": {\"x\": 0.05}, \"xaxis\": {\"automargin\": true, \"gridcolor\": \"white\", \"linecolor\": \"white\", \"ticks\": \"\", \"title\": {\"standoff\": 15}, \"zerolinecolor\": \"white\", \"zerolinewidth\": 2}, \"yaxis\": {\"automargin\": true, \"gridcolor\": \"white\", \"linecolor\": \"white\", \"ticks\": \"\", \"title\": {\"standoff\": 15}, \"zerolinecolor\": \"white\", \"zerolinewidth\": 2}}}, \"title\": {\"text\": \"Are people staying in their homes?\"}, \"width\": 1300, \"xaxis\": {\"range\": [\"2020-02-16T00:00:00\", \"2020-07-26T00:00:00\"]}},\n",
              "                        {\"responsive\": true}\n",
              "                    ).then(function(){\n",
              "                            \n",
              "var gd = document.getElementById('6c4bac1f-adc9-47eb-8ae9-5a476acb4aa3');\n",
              "var x = new MutationObserver(function (mutations, observer) {{\n",
              "        var display = window.getComputedStyle(gd).display;\n",
              "        if (!display || display === 'none') {{\n",
              "            console.log([gd, 'removed!']);\n",
              "            Plotly.purge(gd);\n",
              "            observer.disconnect();\n",
              "        }}\n",
              "}});\n",
              "\n",
              "// Listen for the removal of the full notebook cells\n",
              "var notebookContainer = gd.closest('#notebook-container');\n",
              "if (notebookContainer) {{\n",
              "    x.observe(notebookContainer, {childList: true});\n",
              "}}\n",
              "\n",
              "// Listen for the clearing of the current output cell\n",
              "var outputEl = gd.closest('.output');\n",
              "if (outputEl) {{\n",
              "    x.observe(outputEl, {childList: true});\n",
              "}}\n",
              "\n",
              "                        })\n",
              "                };\n",
              "                \n",
              "            </script>\n",
              "        </div>\n",
              "</body>\n",
              "</html>"
            ]
          },
          "metadata": {
            "tags": []
          }
        }
      ]
    },
    {
      "cell_type": "code",
      "metadata": {
        "id": "KhO_jZqbHUwf",
        "colab_type": "code",
        "colab": {}
      },
      "source": [
        "covid_data=pd.read_csv('cindia.csv')"
      ],
      "execution_count": 86,
      "outputs": []
    },
    {
      "cell_type": "code",
      "metadata": {
        "id": "jIH90DVzHY3I",
        "colab_type": "code",
        "colab": {
          "base_uri": "https://localhost:8080/",
          "height": 204
        },
        "outputId": "a6467986-2d90-4252-d376-33d85808e12e"
      },
      "source": [
        "covid_data.head()"
      ],
      "execution_count": 87,
      "outputs": [
        {
          "output_type": "execute_result",
          "data": {
            "text/html": [
              "<div>\n",
              "<style scoped>\n",
              "    .dataframe tbody tr th:only-of-type {\n",
              "        vertical-align: middle;\n",
              "    }\n",
              "\n",
              "    .dataframe tbody tr th {\n",
              "        vertical-align: top;\n",
              "    }\n",
              "\n",
              "    .dataframe thead th {\n",
              "        text-align: right;\n",
              "    }\n",
              "</style>\n",
              "<table border=\"1\" class=\"dataframe\">\n",
              "  <thead>\n",
              "    <tr style=\"text-align: right;\">\n",
              "      <th></th>\n",
              "      <th>Sno</th>\n",
              "      <th>Date</th>\n",
              "      <th>Time</th>\n",
              "      <th>State/UnionTerritory</th>\n",
              "      <th>ConfirmedIndianNational</th>\n",
              "      <th>ConfirmedForeignNational</th>\n",
              "      <th>Cured</th>\n",
              "      <th>Deaths</th>\n",
              "      <th>Confirmed</th>\n",
              "    </tr>\n",
              "  </thead>\n",
              "  <tbody>\n",
              "    <tr>\n",
              "      <th>0</th>\n",
              "      <td>1</td>\n",
              "      <td>30/01/20</td>\n",
              "      <td>6:00 PM</td>\n",
              "      <td>Kerala</td>\n",
              "      <td>1</td>\n",
              "      <td>0</td>\n",
              "      <td>0</td>\n",
              "      <td>0</td>\n",
              "      <td>1</td>\n",
              "    </tr>\n",
              "    <tr>\n",
              "      <th>1</th>\n",
              "      <td>2</td>\n",
              "      <td>31/01/20</td>\n",
              "      <td>6:00 PM</td>\n",
              "      <td>Kerala</td>\n",
              "      <td>1</td>\n",
              "      <td>0</td>\n",
              "      <td>0</td>\n",
              "      <td>0</td>\n",
              "      <td>1</td>\n",
              "    </tr>\n",
              "    <tr>\n",
              "      <th>2</th>\n",
              "      <td>3</td>\n",
              "      <td>01/02/20</td>\n",
              "      <td>6:00 PM</td>\n",
              "      <td>Kerala</td>\n",
              "      <td>2</td>\n",
              "      <td>0</td>\n",
              "      <td>0</td>\n",
              "      <td>0</td>\n",
              "      <td>2</td>\n",
              "    </tr>\n",
              "    <tr>\n",
              "      <th>3</th>\n",
              "      <td>4</td>\n",
              "      <td>02/02/20</td>\n",
              "      <td>6:00 PM</td>\n",
              "      <td>Kerala</td>\n",
              "      <td>3</td>\n",
              "      <td>0</td>\n",
              "      <td>0</td>\n",
              "      <td>0</td>\n",
              "      <td>3</td>\n",
              "    </tr>\n",
              "    <tr>\n",
              "      <th>4</th>\n",
              "      <td>5</td>\n",
              "      <td>03/02/20</td>\n",
              "      <td>6:00 PM</td>\n",
              "      <td>Kerala</td>\n",
              "      <td>3</td>\n",
              "      <td>0</td>\n",
              "      <td>0</td>\n",
              "      <td>0</td>\n",
              "      <td>3</td>\n",
              "    </tr>\n",
              "  </tbody>\n",
              "</table>\n",
              "</div>"
            ],
            "text/plain": [
              "   Sno      Date     Time  ... Cured Deaths Confirmed\n",
              "0    1  30/01/20  6:00 PM  ...     0      0         1\n",
              "1    2  31/01/20  6:00 PM  ...     0      0         1\n",
              "2    3  01/02/20  6:00 PM  ...     0      0         2\n",
              "3    4  02/02/20  6:00 PM  ...     0      0         3\n",
              "4    5  03/02/20  6:00 PM  ...     0      0         3\n",
              "\n",
              "[5 rows x 9 columns]"
            ]
          },
          "metadata": {
            "tags": []
          },
          "execution_count": 87
        }
      ]
    },
    {
      "cell_type": "code",
      "metadata": {
        "id": "-QRwFWk4H9eF",
        "colab_type": "code",
        "colab": {}
      },
      "source": [
        "covid_data_telengana = covid_data[covid_data[\"State/UnionTerritory\"] ==\"Telangana\"]"
      ],
      "execution_count": 88,
      "outputs": []
    },
    {
      "cell_type": "code",
      "metadata": {
        "id": "uBduPZ1_IOsH",
        "colab_type": "code",
        "colab": {}
      },
      "source": [
        "covid_data_AP = covid_data[covid_data[\"State/UnionTerritory\"] ==\"Andhra Pradesh\"]"
      ],
      "execution_count": 89,
      "outputs": []
    },
    {
      "cell_type": "code",
      "metadata": {
        "id": "YufWxOXSITDb",
        "colab_type": "code",
        "colab": {
          "base_uri": "https://localhost:8080/",
          "height": 289
        },
        "outputId": "22c2b759-a464-4795-87ce-425c56c446ae"
      },
      "source": [
        "covid_data_telengana.head()"
      ],
      "execution_count": 90,
      "outputs": [
        {
          "output_type": "execute_result",
          "data": {
            "text/html": [
              "<div>\n",
              "<style scoped>\n",
              "    .dataframe tbody tr th:only-of-type {\n",
              "        vertical-align: middle;\n",
              "    }\n",
              "\n",
              "    .dataframe tbody tr th {\n",
              "        vertical-align: top;\n",
              "    }\n",
              "\n",
              "    .dataframe thead th {\n",
              "        text-align: right;\n",
              "    }\n",
              "</style>\n",
              "<table border=\"1\" class=\"dataframe\">\n",
              "  <thead>\n",
              "    <tr style=\"text-align: right;\">\n",
              "      <th></th>\n",
              "      <th>Sno</th>\n",
              "      <th>Date</th>\n",
              "      <th>Time</th>\n",
              "      <th>State/UnionTerritory</th>\n",
              "      <th>ConfirmedIndianNational</th>\n",
              "      <th>ConfirmedForeignNational</th>\n",
              "      <th>Cured</th>\n",
              "      <th>Deaths</th>\n",
              "      <th>Confirmed</th>\n",
              "    </tr>\n",
              "  </thead>\n",
              "  <tbody>\n",
              "    <tr>\n",
              "      <th>32</th>\n",
              "      <td>33</td>\n",
              "      <td>02/03/20</td>\n",
              "      <td>6:00 PM</td>\n",
              "      <td>Telangana</td>\n",
              "      <td>1</td>\n",
              "      <td>0</td>\n",
              "      <td>0</td>\n",
              "      <td>0</td>\n",
              "      <td>1</td>\n",
              "    </tr>\n",
              "    <tr>\n",
              "      <th>35</th>\n",
              "      <td>36</td>\n",
              "      <td>03/03/20</td>\n",
              "      <td>6:00 PM</td>\n",
              "      <td>Telangana</td>\n",
              "      <td>1</td>\n",
              "      <td>0</td>\n",
              "      <td>0</td>\n",
              "      <td>0</td>\n",
              "      <td>1</td>\n",
              "    </tr>\n",
              "    <tr>\n",
              "      <th>43</th>\n",
              "      <td>44</td>\n",
              "      <td>04/03/20</td>\n",
              "      <td>6:00 PM</td>\n",
              "      <td>Telangana</td>\n",
              "      <td>1</td>\n",
              "      <td>0</td>\n",
              "      <td>0</td>\n",
              "      <td>0</td>\n",
              "      <td>1</td>\n",
              "    </tr>\n",
              "    <tr>\n",
              "      <th>49</th>\n",
              "      <td>50</td>\n",
              "      <td>05/03/20</td>\n",
              "      <td>6:00 PM</td>\n",
              "      <td>Telangana</td>\n",
              "      <td>1</td>\n",
              "      <td>0</td>\n",
              "      <td>0</td>\n",
              "      <td>0</td>\n",
              "      <td>1</td>\n",
              "    </tr>\n",
              "    <tr>\n",
              "      <th>56</th>\n",
              "      <td>57</td>\n",
              "      <td>06/03/20</td>\n",
              "      <td>6:00 PM</td>\n",
              "      <td>Telangana</td>\n",
              "      <td>1</td>\n",
              "      <td>0</td>\n",
              "      <td>0</td>\n",
              "      <td>0</td>\n",
              "      <td>1</td>\n",
              "    </tr>\n",
              "  </tbody>\n",
              "</table>\n",
              "</div>"
            ],
            "text/plain": [
              "    Sno      Date     Time  ... Cured Deaths Confirmed\n",
              "32   33  02/03/20  6:00 PM  ...     0      0         1\n",
              "35   36  03/03/20  6:00 PM  ...     0      0         1\n",
              "43   44  04/03/20  6:00 PM  ...     0      0         1\n",
              "49   50  05/03/20  6:00 PM  ...     0      0         1\n",
              "56   57  06/03/20  6:00 PM  ...     0      0         1\n",
              "\n",
              "[5 rows x 9 columns]"
            ]
          },
          "metadata": {
            "tags": []
          },
          "execution_count": 90
        }
      ]
    },
    {
      "cell_type": "code",
      "metadata": {
        "id": "M0-Lf-_EKrU3",
        "colab_type": "code",
        "colab": {}
      },
      "source": [
        "covid_data_telengana = covid_data_telengana[[\"Date\",\"Confirmed\"]]\n",
        "covid_data_AP = covid_data_AP[[\"Date\",\"Confirmed\"]]\n"
      ],
      "execution_count": 91,
      "outputs": []
    },
    {
      "cell_type": "code",
      "metadata": {
        "id": "zIlTXT4rIXVb",
        "colab_type": "code",
        "colab": {
          "base_uri": "https://localhost:8080/",
          "height": 204
        },
        "outputId": "51a7190e-6e49-43c9-c39c-b9a6e08c50ae"
      },
      "source": [
        "covid_data_AP.tail()"
      ],
      "execution_count": 92,
      "outputs": [
        {
          "output_type": "execute_result",
          "data": {
            "text/html": [
              "<div>\n",
              "<style scoped>\n",
              "    .dataframe tbody tr th:only-of-type {\n",
              "        vertical-align: middle;\n",
              "    }\n",
              "\n",
              "    .dataframe tbody tr th {\n",
              "        vertical-align: top;\n",
              "    }\n",
              "\n",
              "    .dataframe thead th {\n",
              "        text-align: right;\n",
              "    }\n",
              "</style>\n",
              "<table border=\"1\" class=\"dataframe\">\n",
              "  <thead>\n",
              "    <tr style=\"text-align: right;\">\n",
              "      <th></th>\n",
              "      <th>Date</th>\n",
              "      <th>Confirmed</th>\n",
              "    </tr>\n",
              "  </thead>\n",
              "  <tbody>\n",
              "    <tr>\n",
              "      <th>4287</th>\n",
              "      <td>20/07/20</td>\n",
              "      <td>49650</td>\n",
              "    </tr>\n",
              "    <tr>\n",
              "      <th>4322</th>\n",
              "      <td>21/07/20</td>\n",
              "      <td>53724</td>\n",
              "    </tr>\n",
              "    <tr>\n",
              "      <th>4357</th>\n",
              "      <td>22/07/20</td>\n",
              "      <td>58668</td>\n",
              "    </tr>\n",
              "    <tr>\n",
              "      <th>4392</th>\n",
              "      <td>23/07/20</td>\n",
              "      <td>64713</td>\n",
              "    </tr>\n",
              "    <tr>\n",
              "      <th>4427</th>\n",
              "      <td>24/07/20</td>\n",
              "      <td>72711</td>\n",
              "    </tr>\n",
              "  </tbody>\n",
              "</table>\n",
              "</div>"
            ],
            "text/plain": [
              "          Date  Confirmed\n",
              "4287  20/07/20      49650\n",
              "4322  21/07/20      53724\n",
              "4357  22/07/20      58668\n",
              "4392  23/07/20      64713\n",
              "4427  24/07/20      72711"
            ]
          },
          "metadata": {
            "tags": []
          },
          "execution_count": 92
        }
      ]
    },
    {
      "cell_type": "code",
      "metadata": {
        "id": "tCqjZsRO2DTn",
        "colab_type": "code",
        "colab": {
          "base_uri": "https://localhost:8080/",
          "height": 204
        },
        "outputId": "4512941c-bc8c-4e27-b531-3724ae8698ae"
      },
      "source": [
        "covid_data_telengana.tail()"
      ],
      "execution_count": 93,
      "outputs": [
        {
          "output_type": "execute_result",
          "data": {
            "text/html": [
              "<div>\n",
              "<style scoped>\n",
              "    .dataframe tbody tr th:only-of-type {\n",
              "        vertical-align: middle;\n",
              "    }\n",
              "\n",
              "    .dataframe tbody tr th {\n",
              "        vertical-align: top;\n",
              "    }\n",
              "\n",
              "    .dataframe thead th {\n",
              "        text-align: right;\n",
              "    }\n",
              "</style>\n",
              "<table border=\"1\" class=\"dataframe\">\n",
              "  <thead>\n",
              "    <tr style=\"text-align: right;\">\n",
              "      <th></th>\n",
              "      <th>Date</th>\n",
              "      <th>Confirmed</th>\n",
              "    </tr>\n",
              "  </thead>\n",
              "  <tbody>\n",
              "    <tr>\n",
              "      <th>4316</th>\n",
              "      <td>20/07/20</td>\n",
              "      <td>45076</td>\n",
              "    </tr>\n",
              "    <tr>\n",
              "      <th>4351</th>\n",
              "      <td>21/07/20</td>\n",
              "      <td>46274</td>\n",
              "    </tr>\n",
              "    <tr>\n",
              "      <th>4386</th>\n",
              "      <td>22/07/20</td>\n",
              "      <td>47705</td>\n",
              "    </tr>\n",
              "    <tr>\n",
              "      <th>4421</th>\n",
              "      <td>23/07/20</td>\n",
              "      <td>49259</td>\n",
              "    </tr>\n",
              "    <tr>\n",
              "      <th>4456</th>\n",
              "      <td>24/07/20</td>\n",
              "      <td>50826</td>\n",
              "    </tr>\n",
              "  </tbody>\n",
              "</table>\n",
              "</div>"
            ],
            "text/plain": [
              "          Date  Confirmed\n",
              "4316  20/07/20      45076\n",
              "4351  21/07/20      46274\n",
              "4386  22/07/20      47705\n",
              "4421  23/07/20      49259\n",
              "4456  24/07/20      50826"
            ]
          },
          "metadata": {
            "tags": []
          },
          "execution_count": 93
        }
      ]
    },
    {
      "cell_type": "code",
      "metadata": {
        "id": "Y7vQKnnGIZRr",
        "colab_type": "code",
        "colab": {}
      },
      "source": [
        "covid_data_telengana[\"Confirmed\"] = covid_data_telengana[\"Confirmed\"].diff()\n",
        "covid_data_AP[\"Confirmed\"] = covid_data_AP[\"Confirmed\"].diff()"
      ],
      "execution_count": 94,
      "outputs": []
    },
    {
      "cell_type": "code",
      "metadata": {
        "id": "a2dgSBDfJVyj",
        "colab_type": "code",
        "colab": {}
      },
      "source": [
        "covid_data_telengana.dropna(inplace=True)\n",
        "covid_data_AP.dropna(inplace=True)"
      ],
      "execution_count": 95,
      "outputs": []
    },
    {
      "cell_type": "code",
      "metadata": {
        "id": "j8lIDF0TJu11",
        "colab_type": "code",
        "colab": {
          "base_uri": "https://localhost:8080/",
          "height": 204
        },
        "outputId": "9711d9a1-fb68-439c-ed09-69b033e14b62"
      },
      "source": [
        "covid_data_telengana.head()"
      ],
      "execution_count": 96,
      "outputs": [
        {
          "output_type": "execute_result",
          "data": {
            "text/html": [
              "<div>\n",
              "<style scoped>\n",
              "    .dataframe tbody tr th:only-of-type {\n",
              "        vertical-align: middle;\n",
              "    }\n",
              "\n",
              "    .dataframe tbody tr th {\n",
              "        vertical-align: top;\n",
              "    }\n",
              "\n",
              "    .dataframe thead th {\n",
              "        text-align: right;\n",
              "    }\n",
              "</style>\n",
              "<table border=\"1\" class=\"dataframe\">\n",
              "  <thead>\n",
              "    <tr style=\"text-align: right;\">\n",
              "      <th></th>\n",
              "      <th>Date</th>\n",
              "      <th>Confirmed</th>\n",
              "    </tr>\n",
              "  </thead>\n",
              "  <tbody>\n",
              "    <tr>\n",
              "      <th>35</th>\n",
              "      <td>03/03/20</td>\n",
              "      <td>0.0</td>\n",
              "    </tr>\n",
              "    <tr>\n",
              "      <th>43</th>\n",
              "      <td>04/03/20</td>\n",
              "      <td>0.0</td>\n",
              "    </tr>\n",
              "    <tr>\n",
              "      <th>49</th>\n",
              "      <td>05/03/20</td>\n",
              "      <td>0.0</td>\n",
              "    </tr>\n",
              "    <tr>\n",
              "      <th>56</th>\n",
              "      <td>06/03/20</td>\n",
              "      <td>0.0</td>\n",
              "    </tr>\n",
              "    <tr>\n",
              "      <th>60</th>\n",
              "      <td>07/03/20</td>\n",
              "      <td>0.0</td>\n",
              "    </tr>\n",
              "  </tbody>\n",
              "</table>\n",
              "</div>"
            ],
            "text/plain": [
              "        Date  Confirmed\n",
              "35  03/03/20        0.0\n",
              "43  04/03/20        0.0\n",
              "49  05/03/20        0.0\n",
              "56  06/03/20        0.0\n",
              "60  07/03/20        0.0"
            ]
          },
          "metadata": {
            "tags": []
          },
          "execution_count": 96
        }
      ]
    },
    {
      "cell_type": "code",
      "metadata": {
        "id": "2cEdydT4qXxc",
        "colab_type": "code",
        "colab": {}
      },
      "source": [
        "def dateconversion(date):\n",
        "  return datetime.datetime.strptime(date, \"%d/%m/%y\").strftime(\"%Y-%m-%d\")"
      ],
      "execution_count": 97,
      "outputs": []
    },
    {
      "cell_type": "code",
      "metadata": {
        "id": "FvaUmOJIrfTX",
        "colab_type": "code",
        "colab": {}
      },
      "source": [
        "covid_data_telengana[\"Date\"] = covid_data_telengana[\"Date\"].apply(dateconversion)\n",
        "covid_data_AP[\"Date\"] = covid_data_AP[\"Date\"].apply(dateconversion)"
      ],
      "execution_count": 98,
      "outputs": []
    },
    {
      "cell_type": "code",
      "metadata": {
        "id": "_LxMTqK-Jy4j",
        "colab_type": "code",
        "colab": {}
      },
      "source": [
        "covid_data_telengana[\"Date\"] =pd.to_datetime(covid_data_telengana[\"Date\"]) \n",
        "covid_data_telengana.set_index(\"Date\",inplace=True)\n",
        "covid_data_AP[\"Date\"] =pd.to_datetime(covid_data_AP[\"Date\"]) \n",
        "covid_data_AP.set_index(\"Date\",inplace=True)"
      ],
      "execution_count": 99,
      "outputs": []
    },
    {
      "cell_type": "code",
      "metadata": {
        "id": "AAQcEtz9KL2y",
        "colab_type": "code",
        "colab": {}
      },
      "source": [
        "covid_data_telengana = covid_data_telengana.resample('W').agg(\"mean\")\n",
        "covid_data_AP = covid_data_AP.resample('W').agg(\"mean\")"
      ],
      "execution_count": 100,
      "outputs": []
    },
    {
      "cell_type": "code",
      "metadata": {
        "id": "grXAvl_DJxPO",
        "colab_type": "code",
        "colab": {
          "base_uri": "https://localhost:8080/",
          "height": 235
        },
        "outputId": "994009b1-d776-413b-e57a-f16ac25a5ae6"
      },
      "source": [
        "covid_data_AP.tail()"
      ],
      "execution_count": 101,
      "outputs": [
        {
          "output_type": "execute_result",
          "data": {
            "text/html": [
              "<div>\n",
              "<style scoped>\n",
              "    .dataframe tbody tr th:only-of-type {\n",
              "        vertical-align: middle;\n",
              "    }\n",
              "\n",
              "    .dataframe tbody tr th {\n",
              "        vertical-align: top;\n",
              "    }\n",
              "\n",
              "    .dataframe thead th {\n",
              "        text-align: right;\n",
              "    }\n",
              "</style>\n",
              "<table border=\"1\" class=\"dataframe\">\n",
              "  <thead>\n",
              "    <tr style=\"text-align: right;\">\n",
              "      <th></th>\n",
              "      <th>Confirmed</th>\n",
              "    </tr>\n",
              "    <tr>\n",
              "      <th>Date</th>\n",
              "      <th></th>\n",
              "    </tr>\n",
              "  </thead>\n",
              "  <tbody>\n",
              "    <tr>\n",
              "      <th>2020-06-28</th>\n",
              "      <td>547.571429</td>\n",
              "    </tr>\n",
              "    <tr>\n",
              "      <th>2020-07-05</th>\n",
              "      <td>773.428571</td>\n",
              "    </tr>\n",
              "    <tr>\n",
              "      <th>2020-07-12</th>\n",
              "      <td>1362.285714</td>\n",
              "    </tr>\n",
              "    <tr>\n",
              "      <th>2020-07-19</th>\n",
              "      <td>2482.000000</td>\n",
              "    </tr>\n",
              "    <tr>\n",
              "      <th>2020-07-26</th>\n",
              "      <td>5620.400000</td>\n",
              "    </tr>\n",
              "  </tbody>\n",
              "</table>\n",
              "</div>"
            ],
            "text/plain": [
              "              Confirmed\n",
              "Date                   \n",
              "2020-06-28   547.571429\n",
              "2020-07-05   773.428571\n",
              "2020-07-12  1362.285714\n",
              "2020-07-19  2482.000000\n",
              "2020-07-26  5620.400000"
            ]
          },
          "metadata": {
            "tags": []
          },
          "execution_count": 101
        }
      ]
    },
    {
      "cell_type": "code",
      "metadata": {
        "id": "JwhIb8_u14UO",
        "colab_type": "code",
        "colab": {
          "base_uri": "https://localhost:8080/",
          "height": 235
        },
        "outputId": "3717aff3-0b74-4b9b-a91c-3a96eed3a7fb"
      },
      "source": [
        "covid_data_telengana.tail()"
      ],
      "execution_count": 102,
      "outputs": [
        {
          "output_type": "execute_result",
          "data": {
            "text/html": [
              "<div>\n",
              "<style scoped>\n",
              "    .dataframe tbody tr th:only-of-type {\n",
              "        vertical-align: middle;\n",
              "    }\n",
              "\n",
              "    .dataframe tbody tr th {\n",
              "        vertical-align: top;\n",
              "    }\n",
              "\n",
              "    .dataframe thead th {\n",
              "        text-align: right;\n",
              "    }\n",
              "</style>\n",
              "<table border=\"1\" class=\"dataframe\">\n",
              "  <thead>\n",
              "    <tr style=\"text-align: right;\">\n",
              "      <th></th>\n",
              "      <th>Confirmed</th>\n",
              "    </tr>\n",
              "    <tr>\n",
              "      <th>Date</th>\n",
              "      <th></th>\n",
              "    </tr>\n",
              "  </thead>\n",
              "  <tbody>\n",
              "    <tr>\n",
              "      <th>2020-06-28</th>\n",
              "      <td>909.142857</td>\n",
              "    </tr>\n",
              "    <tr>\n",
              "      <th>2020-07-05</th>\n",
              "      <td>1268.000000</td>\n",
              "    </tr>\n",
              "    <tr>\n",
              "      <th>2020-07-12</th>\n",
              "      <td>1584.285714</td>\n",
              "    </tr>\n",
              "    <tr>\n",
              "      <th>2020-07-19</th>\n",
              "      <td>1482.571429</td>\n",
              "    </tr>\n",
              "    <tr>\n",
              "      <th>2020-07-26</th>\n",
              "      <td>1409.200000</td>\n",
              "    </tr>\n",
              "  </tbody>\n",
              "</table>\n",
              "</div>"
            ],
            "text/plain": [
              "              Confirmed\n",
              "Date                   \n",
              "2020-06-28   909.142857\n",
              "2020-07-05  1268.000000\n",
              "2020-07-12  1584.285714\n",
              "2020-07-19  1482.571429\n",
              "2020-07-26  1409.200000"
            ]
          },
          "metadata": {
            "tags": []
          },
          "execution_count": 102
        }
      ]
    },
    {
      "cell_type": "code",
      "metadata": {
        "id": "3zOimFUkJbbt",
        "colab_type": "code",
        "colab": {
          "base_uri": "https://localhost:8080/",
          "height": 637
        },
        "outputId": "cb42764c-4936-402c-8667-acca6ac4eb55"
      },
      "source": [
        "from plotly.subplots import make_subplots\n",
        "fig = go.Figure()\n",
        "fig.add_trace(go.Scatter(\n",
        "    x=[lockdown1,lockdown2,lockdown3,lockdown4,unlock1,unlock2],\n",
        "    y=[5620,5620,5620,5620,5620,5620],\n",
        "    text=[\"Lockdown 1\",\"Lockdown 2\",\"Lockdown 3\", \"Lockdown 4\", \"Unlock 1\", \"Unlock 2\"],\n",
        "    mode=\"text\",\n",
        "))\n",
        "fig.add_trace(go.Scatter(x=covid_data_telengana.index, y=covid_data_telengana[\"Confirmed\"],\n",
        "                    mode='lines+markers',\n",
        "                    name=\"Telangana Cases\",\n",
        "                    ),\n",
        ")\n",
        "fig.add_trace(go.Scatter(x=covid_data_AP.index, y=covid_data_AP[\"Confirmed\"],\n",
        "                    mode='lines+markers',\n",
        "                    name=\"AP Cases\",\n",
        "                    ),\n",
        ")\n",
        "fig.update_layout(xaxis=dict(range=[mindate,maxdate]))\n",
        "fig.update_layout(\n",
        "    title= \"COVID-19 Cases\",\n",
        "    width=1300,\n",
        "    height=600,\n",
        "    shapes=[\n",
        "        dict(\n",
        "            type=\"line\",\n",
        "            x0=mindate,\n",
        "            y0=0,\n",
        "            x1=maxdate,\n",
        "            y1=0,\n",
        "            line_width=2,\n",
        "            line = dict(\n",
        "                dash = \"dot\"\n",
        "            )\n",
        "        ),\n",
        "        dict(\n",
        "            type=\"line\",\n",
        "            y0=0,\n",
        "            x0= lockdown1,\n",
        "            y1=5620,\n",
        "            x1=lockdown1,\n",
        "            line_width=2,\n",
        "            line = dict(\n",
        "                dash = \"dot\"\n",
        "            )\n",
        "        ),\n",
        "        dict(\n",
        "            type=\"line\",\n",
        "            y0=0,\n",
        "            x0= lockdown2,\n",
        "            y1=5620,\n",
        "            x1=lockdown2,\n",
        "            line_width=2,\n",
        "            line = dict(\n",
        "                dash = \"dot\"\n",
        "            )\n",
        "        ),\n",
        "        dict(\n",
        "            type=\"line\",\n",
        "            y0=0,\n",
        "            x0= lockdown3,\n",
        "            y1=5620,\n",
        "            x1=lockdown3,\n",
        "            line_width=2,\n",
        "            line = dict(\n",
        "                dash = \"dot\"\n",
        "            )\n",
        "        ),\n",
        "        dict(\n",
        "            type=\"line\",\n",
        "            y0=0,\n",
        "            x0= lockdown4,\n",
        "            y1=5620,\n",
        "            x1=lockdown4,\n",
        "            line_width=2,\n",
        "            line = dict(\n",
        "                dash = \"dot\"\n",
        "            )\n",
        "        ),\n",
        "        dict(\n",
        "            type=\"line\",\n",
        "            y0=0,\n",
        "            x0= unlock1,\n",
        "            y1=5620,\n",
        "            x1=unlock1,\n",
        "            line_width=2,\n",
        "            line = dict(\n",
        "                dash = \"dot\"\n",
        "            )\n",
        "        ),\n",
        "        dict(\n",
        "            type=\"line\",\n",
        "            y0=0,\n",
        "            x0= unlock2,\n",
        "            y1=5620,\n",
        "            x1=unlock2,\n",
        "            line_width=2,\n",
        "            line = dict(\n",
        "                dash = \"dot\"\n",
        "            ) \n",
        "        ),\n",
        "    ]\n",
        ")\n",
        "\n",
        "fig.show()\n"
      ],
      "execution_count": 104,
      "outputs": [
        {
          "output_type": "display_data",
          "data": {
            "text/html": [
              "<html>\n",
              "<head><meta charset=\"utf-8\" /></head>\n",
              "<body>\n",
              "    <div>\n",
              "            <script src=\"https://cdnjs.cloudflare.com/ajax/libs/mathjax/2.7.5/MathJax.js?config=TeX-AMS-MML_SVG\"></script><script type=\"text/javascript\">if (window.MathJax) {MathJax.Hub.Config({SVG: {font: \"STIX-Web\"}});}</script>\n",
              "                <script type=\"text/javascript\">window.PlotlyConfig = {MathJaxConfig: 'local'};</script>\n",
              "        <script src=\"https://cdn.plot.ly/plotly-latest.min.js\"></script>    \n",
              "            <div id=\"63ad30fa-3060-4b2b-928e-4e74c63143e6\" class=\"plotly-graph-div\" style=\"height:600px; width:1300px;\"></div>\n",
              "            <script type=\"text/javascript\">\n",
              "                \n",
              "                    window.PLOTLYENV=window.PLOTLYENV || {};\n",
              "                    \n",
              "                if (document.getElementById(\"63ad30fa-3060-4b2b-928e-4e74c63143e6\")) {\n",
              "                    Plotly.newPlot(\n",
              "                        '63ad30fa-3060-4b2b-928e-4e74c63143e6',\n",
              "                        [{\"mode\": \"text\", \"text\": [\"Lockdown 1\", \"Lockdown 2\", \"Lockdown 3\", \"Lockdown 4\", \"Unlock 1\", \"Unlock 2\"], \"type\": \"scatter\", \"x\": [\"2020-03-22T00:00:00\", \"2020-04-15T00:00:00\", \"2020-05-04T00:00:00\", \"2020-05-18T00:00:00\", \"2020-06-01T00:00:00\", \"2020-07-01T00:00:00\"], \"y\": [5620, 5620, 5620, 5620, 5620, 5620]}, {\"mode\": \"lines+markers\", \"name\": \"Telangana Cases\", \"type\": \"scatter\", \"x\": [\"2020-03-08T00:00:00\", \"2020-03-15T00:00:00\", \"2020-03-22T00:00:00\", \"2020-03-29T00:00:00\", \"2020-04-05T00:00:00\", \"2020-04-12T00:00:00\", \"2020-04-19T00:00:00\", \"2020-04-26T00:00:00\", \"2020-05-03T00:00:00\", \"2020-05-10T00:00:00\", \"2020-05-17T00:00:00\", \"2020-05-24T00:00:00\", \"2020-05-31T00:00:00\", \"2020-06-07T00:00:00\", \"2020-06-14T00:00:00\", \"2020-06-21T00:00:00\", \"2020-06-28T00:00:00\", \"2020-07-05T00:00:00\", \"2020-07-12T00:00:00\", \"2020-07-19T00:00:00\", \"2020-07-26T00:00:00\"], \"y\": [0.0, 0.2857142857142857, 2.7142857142857144, 6.285714285714286, 29.0, 33.57142857142857, 48.57142857142857, 21.0, 10.285714285714286, 14.285714285714286, 49.42857142857143, 43.42857142857143, 98.0, 142.42857142857142, 177.28571428571428, 333.57142857142856, 909.1428571428571, 1268.0, 1584.2857142857142, 1482.5714285714287, 1409.2]}, {\"mode\": \"lines+markers\", \"name\": \"AP Cases\", \"type\": \"scatter\", \"x\": [\"2020-03-15T00:00:00\", \"2020-03-22T00:00:00\", \"2020-03-29T00:00:00\", \"2020-04-05T00:00:00\", \"2020-04-12T00:00:00\", \"2020-04-19T00:00:00\", \"2020-04-26T00:00:00\", \"2020-05-03T00:00:00\", \"2020-05-10T00:00:00\", \"2020-05-17T00:00:00\", \"2020-05-24T00:00:00\", \"2020-05-31T00:00:00\", \"2020-06-07T00:00:00\", \"2020-06-14T00:00:00\", \"2020-06-21T00:00:00\", \"2020-06-28T00:00:00\", \"2020-07-05T00:00:00\", \"2020-07-12T00:00:00\", \"2020-07-19T00:00:00\", \"2020-07-26T00:00:00\"], \"y\": [0.0, 0.5714285714285714, 2.0, 24.428571428571427, 27.285714285714285, 31.714285714285715, 70.57142857142857, 69.42857142857143, 49.57142857142857, 60.714285714285715, 57.42857142857143, 116.0, 134.42857142857142, 207.85714285714286, 355.2857142857143, 547.5714285714286, 773.4285714285714, 1362.2857142857142, 2482.0, 5620.4]}],\n",
              "                        {\"height\": 600, \"shapes\": [{\"line\": {\"dash\": \"dot\", \"width\": 2}, \"type\": \"line\", \"x0\": \"2020-02-16T00:00:00\", \"x1\": \"2020-07-26T00:00:00\", \"y0\": 0, \"y1\": 0}, {\"line\": {\"dash\": \"dot\", \"width\": 2}, \"type\": \"line\", \"x0\": \"2020-03-22T00:00:00\", \"x1\": \"2020-03-22T00:00:00\", \"y0\": 0, \"y1\": 5620}, {\"line\": {\"dash\": \"dot\", \"width\": 2}, \"type\": \"line\", \"x0\": \"2020-04-15T00:00:00\", \"x1\": \"2020-04-15T00:00:00\", \"y0\": 0, \"y1\": 5620}, {\"line\": {\"dash\": \"dot\", \"width\": 2}, \"type\": \"line\", \"x0\": \"2020-05-04T00:00:00\", \"x1\": \"2020-05-04T00:00:00\", \"y0\": 0, \"y1\": 5620}, {\"line\": {\"dash\": \"dot\", \"width\": 2}, \"type\": \"line\", \"x0\": \"2020-05-18T00:00:00\", \"x1\": \"2020-05-18T00:00:00\", \"y0\": 0, \"y1\": 5620}, {\"line\": {\"dash\": \"dot\", \"width\": 2}, \"type\": \"line\", \"x0\": \"2020-06-01T00:00:00\", \"x1\": \"2020-06-01T00:00:00\", \"y0\": 0, \"y1\": 5620}, {\"line\": {\"dash\": \"dot\", \"width\": 2}, \"type\": \"line\", \"x0\": \"2020-07-01T00:00:00\", \"x1\": \"2020-07-01T00:00:00\", \"y0\": 0, \"y1\": 5620}], \"template\": {\"data\": {\"bar\": [{\"error_x\": {\"color\": \"#2a3f5f\"}, \"error_y\": {\"color\": \"#2a3f5f\"}, \"marker\": {\"line\": {\"color\": \"#E5ECF6\", \"width\": 0.5}}, \"type\": \"bar\"}], \"barpolar\": [{\"marker\": {\"line\": {\"color\": \"#E5ECF6\", \"width\": 0.5}}, \"type\": \"barpolar\"}], \"carpet\": [{\"aaxis\": {\"endlinecolor\": \"#2a3f5f\", \"gridcolor\": \"white\", \"linecolor\": \"white\", \"minorgridcolor\": \"white\", \"startlinecolor\": \"#2a3f5f\"}, \"baxis\": {\"endlinecolor\": \"#2a3f5f\", \"gridcolor\": \"white\", \"linecolor\": \"white\", \"minorgridcolor\": \"white\", \"startlinecolor\": \"#2a3f5f\"}, \"type\": \"carpet\"}], \"choropleth\": [{\"colorbar\": {\"outlinewidth\": 0, \"ticks\": \"\"}, \"type\": \"choropleth\"}], \"contour\": [{\"colorbar\": {\"outlinewidth\": 0, \"ticks\": \"\"}, \"colorscale\": [[0.0, \"#0d0887\"], [0.1111111111111111, \"#46039f\"], [0.2222222222222222, \"#7201a8\"], [0.3333333333333333, \"#9c179e\"], [0.4444444444444444, \"#bd3786\"], [0.5555555555555556, \"#d8576b\"], [0.6666666666666666, \"#ed7953\"], [0.7777777777777778, \"#fb9f3a\"], [0.8888888888888888, \"#fdca26\"], [1.0, \"#f0f921\"]], \"type\": \"contour\"}], \"contourcarpet\": [{\"colorbar\": {\"outlinewidth\": 0, \"ticks\": \"\"}, \"type\": \"contourcarpet\"}], \"heatmap\": [{\"colorbar\": {\"outlinewidth\": 0, \"ticks\": \"\"}, \"colorscale\": [[0.0, \"#0d0887\"], [0.1111111111111111, \"#46039f\"], [0.2222222222222222, \"#7201a8\"], [0.3333333333333333, \"#9c179e\"], [0.4444444444444444, \"#bd3786\"], [0.5555555555555556, \"#d8576b\"], [0.6666666666666666, \"#ed7953\"], [0.7777777777777778, \"#fb9f3a\"], [0.8888888888888888, \"#fdca26\"], [1.0, \"#f0f921\"]], \"type\": \"heatmap\"}], \"heatmapgl\": [{\"colorbar\": {\"outlinewidth\": 0, \"ticks\": \"\"}, \"colorscale\": [[0.0, \"#0d0887\"], [0.1111111111111111, \"#46039f\"], [0.2222222222222222, \"#7201a8\"], [0.3333333333333333, \"#9c179e\"], [0.4444444444444444, \"#bd3786\"], [0.5555555555555556, \"#d8576b\"], [0.6666666666666666, \"#ed7953\"], [0.7777777777777778, \"#fb9f3a\"], [0.8888888888888888, \"#fdca26\"], [1.0, \"#f0f921\"]], \"type\": \"heatmapgl\"}], \"histogram\": [{\"marker\": {\"colorbar\": {\"outlinewidth\": 0, \"ticks\": \"\"}}, \"type\": \"histogram\"}], \"histogram2d\": [{\"colorbar\": {\"outlinewidth\": 0, \"ticks\": \"\"}, \"colorscale\": [[0.0, \"#0d0887\"], [0.1111111111111111, \"#46039f\"], [0.2222222222222222, \"#7201a8\"], [0.3333333333333333, \"#9c179e\"], [0.4444444444444444, \"#bd3786\"], [0.5555555555555556, \"#d8576b\"], [0.6666666666666666, \"#ed7953\"], [0.7777777777777778, \"#fb9f3a\"], [0.8888888888888888, \"#fdca26\"], [1.0, \"#f0f921\"]], \"type\": \"histogram2d\"}], \"histogram2dcontour\": [{\"colorbar\": {\"outlinewidth\": 0, \"ticks\": \"\"}, \"colorscale\": [[0.0, \"#0d0887\"], [0.1111111111111111, \"#46039f\"], [0.2222222222222222, \"#7201a8\"], [0.3333333333333333, \"#9c179e\"], [0.4444444444444444, \"#bd3786\"], [0.5555555555555556, \"#d8576b\"], [0.6666666666666666, \"#ed7953\"], [0.7777777777777778, \"#fb9f3a\"], [0.8888888888888888, \"#fdca26\"], [1.0, \"#f0f921\"]], \"type\": \"histogram2dcontour\"}], \"mesh3d\": [{\"colorbar\": {\"outlinewidth\": 0, \"ticks\": \"\"}, \"type\": \"mesh3d\"}], \"parcoords\": [{\"line\": {\"colorbar\": {\"outlinewidth\": 0, \"ticks\": \"\"}}, \"type\": \"parcoords\"}], \"pie\": [{\"automargin\": true, \"type\": \"pie\"}], \"scatter\": [{\"marker\": {\"colorbar\": {\"outlinewidth\": 0, \"ticks\": \"\"}}, \"type\": \"scatter\"}], \"scatter3d\": [{\"line\": {\"colorbar\": {\"outlinewidth\": 0, \"ticks\": \"\"}}, \"marker\": {\"colorbar\": {\"outlinewidth\": 0, \"ticks\": \"\"}}, \"type\": \"scatter3d\"}], \"scattercarpet\": [{\"marker\": {\"colorbar\": {\"outlinewidth\": 0, \"ticks\": \"\"}}, \"type\": \"scattercarpet\"}], \"scattergeo\": [{\"marker\": {\"colorbar\": {\"outlinewidth\": 0, \"ticks\": \"\"}}, \"type\": \"scattergeo\"}], \"scattergl\": [{\"marker\": {\"colorbar\": {\"outlinewidth\": 0, \"ticks\": \"\"}}, \"type\": \"scattergl\"}], \"scattermapbox\": [{\"marker\": {\"colorbar\": {\"outlinewidth\": 0, \"ticks\": \"\"}}, \"type\": \"scattermapbox\"}], \"scatterpolar\": [{\"marker\": {\"colorbar\": {\"outlinewidth\": 0, \"ticks\": \"\"}}, \"type\": \"scatterpolar\"}], \"scatterpolargl\": [{\"marker\": {\"colorbar\": {\"outlinewidth\": 0, \"ticks\": \"\"}}, \"type\": \"scatterpolargl\"}], \"scatterternary\": [{\"marker\": {\"colorbar\": {\"outlinewidth\": 0, \"ticks\": \"\"}}, \"type\": \"scatterternary\"}], \"surface\": [{\"colorbar\": {\"outlinewidth\": 0, \"ticks\": \"\"}, \"colorscale\": [[0.0, \"#0d0887\"], [0.1111111111111111, \"#46039f\"], [0.2222222222222222, \"#7201a8\"], [0.3333333333333333, \"#9c179e\"], [0.4444444444444444, \"#bd3786\"], [0.5555555555555556, \"#d8576b\"], [0.6666666666666666, \"#ed7953\"], [0.7777777777777778, \"#fb9f3a\"], [0.8888888888888888, \"#fdca26\"], [1.0, \"#f0f921\"]], \"type\": \"surface\"}], \"table\": [{\"cells\": {\"fill\": {\"color\": \"#EBF0F8\"}, \"line\": {\"color\": \"white\"}}, \"header\": {\"fill\": {\"color\": \"#C8D4E3\"}, \"line\": {\"color\": \"white\"}}, \"type\": \"table\"}]}, \"layout\": {\"annotationdefaults\": {\"arrowcolor\": \"#2a3f5f\", \"arrowhead\": 0, \"arrowwidth\": 1}, \"coloraxis\": {\"colorbar\": {\"outlinewidth\": 0, \"ticks\": \"\"}}, \"colorscale\": {\"diverging\": [[0, \"#8e0152\"], [0.1, \"#c51b7d\"], [0.2, \"#de77ae\"], [0.3, \"#f1b6da\"], [0.4, \"#fde0ef\"], [0.5, \"#f7f7f7\"], [0.6, \"#e6f5d0\"], [0.7, \"#b8e186\"], [0.8, \"#7fbc41\"], [0.9, \"#4d9221\"], [1, \"#276419\"]], \"sequential\": [[0.0, \"#0d0887\"], [0.1111111111111111, \"#46039f\"], [0.2222222222222222, \"#7201a8\"], [0.3333333333333333, \"#9c179e\"], [0.4444444444444444, \"#bd3786\"], [0.5555555555555556, \"#d8576b\"], [0.6666666666666666, \"#ed7953\"], [0.7777777777777778, \"#fb9f3a\"], [0.8888888888888888, \"#fdca26\"], [1.0, \"#f0f921\"]], \"sequentialminus\": [[0.0, \"#0d0887\"], [0.1111111111111111, \"#46039f\"], [0.2222222222222222, \"#7201a8\"], [0.3333333333333333, \"#9c179e\"], [0.4444444444444444, \"#bd3786\"], [0.5555555555555556, \"#d8576b\"], [0.6666666666666666, \"#ed7953\"], [0.7777777777777778, \"#fb9f3a\"], [0.8888888888888888, \"#fdca26\"], [1.0, \"#f0f921\"]]}, \"colorway\": [\"#636efa\", \"#EF553B\", \"#00cc96\", \"#ab63fa\", \"#FFA15A\", \"#19d3f3\", \"#FF6692\", \"#B6E880\", \"#FF97FF\", \"#FECB52\"], \"font\": {\"color\": \"#2a3f5f\"}, \"geo\": {\"bgcolor\": \"white\", \"lakecolor\": \"white\", \"landcolor\": \"#E5ECF6\", \"showlakes\": true, \"showland\": true, \"subunitcolor\": \"white\"}, \"hoverlabel\": {\"align\": \"left\"}, \"hovermode\": \"closest\", \"mapbox\": {\"style\": \"light\"}, \"paper_bgcolor\": \"white\", \"plot_bgcolor\": \"#E5ECF6\", \"polar\": {\"angularaxis\": {\"gridcolor\": \"white\", \"linecolor\": \"white\", \"ticks\": \"\"}, \"bgcolor\": \"#E5ECF6\", \"radialaxis\": {\"gridcolor\": \"white\", \"linecolor\": \"white\", \"ticks\": \"\"}}, \"scene\": {\"xaxis\": {\"backgroundcolor\": \"#E5ECF6\", \"gridcolor\": \"white\", \"gridwidth\": 2, \"linecolor\": \"white\", \"showbackground\": true, \"ticks\": \"\", \"zerolinecolor\": \"white\"}, \"yaxis\": {\"backgroundcolor\": \"#E5ECF6\", \"gridcolor\": \"white\", \"gridwidth\": 2, \"linecolor\": \"white\", \"showbackground\": true, \"ticks\": \"\", \"zerolinecolor\": \"white\"}, \"zaxis\": {\"backgroundcolor\": \"#E5ECF6\", \"gridcolor\": \"white\", \"gridwidth\": 2, \"linecolor\": \"white\", \"showbackground\": true, \"ticks\": \"\", \"zerolinecolor\": \"white\"}}, \"shapedefaults\": {\"line\": {\"color\": \"#2a3f5f\"}}, \"ternary\": {\"aaxis\": {\"gridcolor\": \"white\", \"linecolor\": \"white\", \"ticks\": \"\"}, \"baxis\": {\"gridcolor\": \"white\", \"linecolor\": \"white\", \"ticks\": \"\"}, \"bgcolor\": \"#E5ECF6\", \"caxis\": {\"gridcolor\": \"white\", \"linecolor\": \"white\", \"ticks\": \"\"}}, \"title\": {\"x\": 0.05}, \"xaxis\": {\"automargin\": true, \"gridcolor\": \"white\", \"linecolor\": \"white\", \"ticks\": \"\", \"title\": {\"standoff\": 15}, \"zerolinecolor\": \"white\", \"zerolinewidth\": 2}, \"yaxis\": {\"automargin\": true, \"gridcolor\": \"white\", \"linecolor\": \"white\", \"ticks\": \"\", \"title\": {\"standoff\": 15}, \"zerolinecolor\": \"white\", \"zerolinewidth\": 2}}}, \"title\": {\"text\": \"COVID-19 Cases\"}, \"width\": 1300, \"xaxis\": {\"range\": [\"2020-02-16T00:00:00\", \"2020-07-26T00:00:00\"]}},\n",
              "                        {\"responsive\": true}\n",
              "                    ).then(function(){\n",
              "                            \n",
              "var gd = document.getElementById('63ad30fa-3060-4b2b-928e-4e74c63143e6');\n",
              "var x = new MutationObserver(function (mutations, observer) {{\n",
              "        var display = window.getComputedStyle(gd).display;\n",
              "        if (!display || display === 'none') {{\n",
              "            console.log([gd, 'removed!']);\n",
              "            Plotly.purge(gd);\n",
              "            observer.disconnect();\n",
              "        }}\n",
              "}});\n",
              "\n",
              "// Listen for the removal of the full notebook cells\n",
              "var notebookContainer = gd.closest('#notebook-container');\n",
              "if (notebookContainer) {{\n",
              "    x.observe(notebookContainer, {childList: true});\n",
              "}}\n",
              "\n",
              "// Listen for the clearing of the current output cell\n",
              "var outputEl = gd.closest('.output');\n",
              "if (outputEl) {{\n",
              "    x.observe(outputEl, {childList: true});\n",
              "}}\n",
              "\n",
              "                        })\n",
              "                };\n",
              "                \n",
              "            </script>\n",
              "        </div>\n",
              "</body>\n",
              "</html>"
            ]
          },
          "metadata": {
            "tags": []
          }
        }
      ]
    }
  ]
}